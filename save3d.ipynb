{
 "cells": [
  {
   "cell_type": "code",
   "execution_count": null,
   "metadata": {},
   "outputs": [],
   "source": [
    "\"\"\" File for stitching together 2d images (.png) and saving as 3d volumes (.npy) \"\"\""
   ]
  },
  {
   "cell_type": "code",
   "execution_count": 2,
   "metadata": {},
   "outputs": [],
   "source": [
    "import os\n",
    "import cv2\n",
    "import matplotlib.pyplot as plt\n",
    "import numpy as np\n",
    "import re\n",
    "import tqdm\n",
    "\n",
    "# img_dir = \"data/small_data_2d/original\"\n",
    "img_dir=\"/Volumes/LaCie/bigdata/imgs\"\n",
    "# mask_dir = \"data/small_data_2d/ground_truth\"\n",
    "mask_dir=\"/Volumes/LaCie/bigdata/gts\"\n",
    "# subdirs = [\"train\", \"valid\", \"test\"]\n",
    "cell_mask_dir=\"/Volumes/LaCie/bigdata/masks\""
   ]
  },
  {
   "cell_type": "code",
   "execution_count": 3,
   "metadata": {},
   "outputs": [],
   "source": [
    "def get_z_y_x(file_name, pattern):\n",
    "    \"\"\" get z, y, x from file name (uses basename of file_name)\"\"\"\n",
    "    file_name = os.path.basename(file_name)\n",
    "    match = re.match(pattern, file_name)\n",
    "    if match:\n",
    "        if len(match.groups()) != 3:\n",
    "            return None\n",
    "        z, y, x = match.groups()\n",
    "        return int(z), int(y), int(x)\n",
    "    else:\n",
    "        return None\n",
    "    \n",
    "def get_img_by_coords(z, y, x, img_files, img_pattern):\n",
    "    \"\"\" get path of image by z, y, x \"\"\"\n",
    "    for i in range(len(img_files)):\n",
    "        img_file = img_files[i]\n",
    "        try:\n",
    "            z_, y_, x_ = get_z_y_x(img_file, img_pattern)\n",
    "        except:\n",
    "            continue\n",
    "        if z == z_ and y == y_ and x == x_:\n",
    "            return cv2.imread(img_file, cv2.IMREAD_GRAYSCALE)\n",
    "    return None\n",
    "\n",
    "def get_3d_slice_single_img(z,y,x, img_files, img_pattern, depth=1, width=512, height=512):\n",
    "    img_3d = np.zeros((2*depth+1, width, height))\n",
    "    for i in range(-depth, depth+1):\n",
    "        z_coord = z+i\n",
    "        img = get_img_by_coords(z_coord, y, x, img_files, img_pattern)\n",
    "        if img is not None:\n",
    "            img_3d[i+depth] = img\n",
    "    return img_3d\n",
    "\n",
    "def get_3d_slice(z,y,x, img_files, mask_files, img_pattern, mask_pattern, depth=1, width=512, height=512):\n",
    "    \"\"\" get 3d slice by z, y, x \n",
    "    \n",
    "    -think of the original image as 3d volume, and each slice is a pixel\n",
    "    -so we want a column of pixels, with the center pixel being the pixel at z, y, x, and sliding up and down along the z axis\n",
    "    \n",
    "    Args:\n",
    "        z: int, z coordinate\n",
    "        y: int, y coordinate\n",
    "        x: int, x coordinate\n",
    "        img_files: list of str, paths to images\n",
    "        mask_files: list of str, paths to masks\n",
    "        img_pattern: str, pattern to extract z, y, x from image file name\n",
    "        mask_pattern: str, pattern to extract z, y, x from mask file name\n",
    "        depth: int, how many slices to include above and below the center slice\n",
    "        width: int, width of each slice\n",
    "        height: int, height of each slice\n",
    "    \"\"\"\n",
    "    img_3d = np.zeros((2*depth+1, width, height))\n",
    "    mask_3d = np.zeros((2*depth+1, width, height))\n",
    "    for i in range(-depth, depth+1):\n",
    "        z_coord = z+i\n",
    "        img = get_img_by_coords(z_coord, y, x, img_files, img_pattern)\n",
    "        mask = get_img_by_coords(z_coord, y, x, mask_files, mask_pattern)\n",
    "        if img is not None and mask is not None:\n",
    "            img_3d[i+depth] = img\n",
    "            mask_3d[i+depth] = mask\n",
    "    return img_3d, mask_3d\n",
    "\n",
    "def get_3d_slice_forward(z,y,x, img_files, mask_files, img_pattern, mask_pattern, depth=3, width=512, height=512):\n",
    "    \"\"\" get 3d slice by z, y, x \n",
    "    \n",
    "    -think of the original image as 3d volume, and each slice is a pixel\n",
    "    -so we want a column of pixels, with the center pixel being the pixel at z, y, x, and sliding up and down along the z axis\n",
    "    \n",
    "    Args:\n",
    "        z: int, z coordinate\n",
    "        y: int, y coordinate\n",
    "        x: int, x coordinate\n",
    "        img_files: list of str, paths to images\n",
    "        mask_files: list of str, paths to masks\n",
    "        img_pattern: str, pattern to extract z, y, x from image file name\n",
    "        mask_pattern: str, pattern to extract z, y, x from mask file name\n",
    "        depth: int, how many slices to include above and below the center slice\n",
    "        width: int, width of each slice\n",
    "        height: int, height of each slice\n",
    "    \"\"\"\n",
    "    img_3d = np.zeros((depth, width, height))\n",
    "    mask_3d = np.zeros((depth, width, height))\n",
    "    for i in range(depth):\n",
    "        z_coord = z+i\n",
    "        img = get_img_by_coords(z_coord, y, x, img_files, img_pattern)\n",
    "        mask = get_img_by_coords(z_coord, y, x, mask_files, mask_pattern)\n",
    "        if img is not None and mask is not None:\n",
    "            img_3d[i] = img\n",
    "            mask_3d[i] = mask\n",
    "    return img_3d, mask_3d"
   ]
  },
  {
   "cell_type": "code",
   "execution_count": 3,
   "metadata": {},
   "outputs": [
    {
     "name": "stdout",
     "output_type": "stream",
     "text": [
      "['/Volumes/LaCie/bigdata/imgs/SEM_dauer_2_image_export_s001_Y8_X13.png.png', '/Volumes/LaCie/bigdata/imgs/._SEM_dauer_2_image_export_s001_Y8_X13.png.png', '/Volumes/LaCie/bigdata/imgs/SEM_dauer_2_image_export_s014_Y8_X13.png.png', '/Volumes/LaCie/bigdata/imgs/._SEM_dauer_2_image_export_s014_Y8_X13.png.png', '/Volumes/LaCie/bigdata/imgs/SEM_dauer_2_image_export_s034_Y3_X9.png.png', '/Volumes/LaCie/bigdata/imgs/._SEM_dauer_2_image_export_s034_Y3_X9.png.png', '/Volumes/LaCie/bigdata/imgs/SEM_dauer_2_image_export_s010_Y7_X5.png.png', '/Volumes/LaCie/bigdata/imgs/._SEM_dauer_2_image_export_s010_Y7_X5.png.png', '/Volumes/LaCie/bigdata/imgs/SEM_dauer_2_image_export_s006_Y7_X9.png.png', '/Volumes/LaCie/bigdata/imgs/._SEM_dauer_2_image_export_s006_Y7_X9.png.png']\n",
      "['/Volumes/LaCie/bigdata/gts/sem2dauer_gj_2d_training.vsseg_export_s043_Y14_X9.png.png', '/Volumes/LaCie/bigdata/gts/._sem2dauer_gj_2d_training.vsseg_export_s043_Y14_X9.png.png', '/Volumes/LaCie/bigdata/gts/sem2dauer_gj_2d_training.vsseg_export_s006_Y6_X6.png.png', '/Volumes/LaCie/bigdata/gts/._sem2dauer_gj_2d_training.vsseg_export_s006_Y6_X6.png.png', '/Volumes/LaCie/bigdata/gts/sem2dauer_gj_2d_training.vsseg_export_s043_Y6_X9.png.png', '/Volumes/LaCie/bigdata/gts/._sem2dauer_gj_2d_training.vsseg_export_s043_Y6_X9.png.png', '/Volumes/LaCie/bigdata/gts/sem2dauer_gj_2d_training.vsseg_export_s042_Y7_X14.png.png', '/Volumes/LaCie/bigdata/gts/._sem2dauer_gj_2d_training.vsseg_export_s042_Y7_X14.png.png', '/Volumes/LaCie/bigdata/gts/sem2dauer_gj_2d_training.vsseg_export_s011_Y8_X3.png.png', '/Volumes/LaCie/bigdata/gts/._sem2dauer_gj_2d_training.vsseg_export_s011_Y8_X3.png.png']\n",
      "['/Volumes/LaCie/bigdata/masks/20240325_SEM_dauer_2_nr_vnc_neurons_head_muscles.vsseg_export_s003_Y9_X14.png', '/Volumes/LaCie/bigdata/masks/._20240325_SEM_dauer_2_nr_vnc_neurons_head_muscles.vsseg_export_s003_Y9_X14.png', '/Volumes/LaCie/bigdata/masks/20240325_SEM_dauer_2_nr_vnc_neurons_head_muscles.vsseg_export_s012_Y9_X16.png', '/Volumes/LaCie/bigdata/masks/._20240325_SEM_dauer_2_nr_vnc_neurons_head_muscles.vsseg_export_s012_Y9_X16.png', '/Volumes/LaCie/bigdata/masks/20240325_SEM_dauer_2_nr_vnc_neurons_head_muscles.vsseg_export_s044_Y2_X9.png', '/Volumes/LaCie/bigdata/masks/._20240325_SEM_dauer_2_nr_vnc_neurons_head_muscles.vsseg_export_s044_Y2_X9.png', '/Volumes/LaCie/bigdata/masks/20240325_SEM_dauer_2_nr_vnc_neurons_head_muscles.vsseg_export_s013_Y4_X9.png', '/Volumes/LaCie/bigdata/masks/._20240325_SEM_dauer_2_nr_vnc_neurons_head_muscles.vsseg_export_s013_Y4_X9.png', '/Volumes/LaCie/bigdata/masks/20240325_SEM_dauer_2_nr_vnc_neurons_head_muscles.vsseg_export_s035_Y9_X4.png', '/Volumes/LaCie/bigdata/masks/._20240325_SEM_dauer_2_nr_vnc_neurons_head_muscles.vsseg_export_s035_Y9_X4.png']\n"
     ]
    }
   ],
   "source": [
    "# sort the files by z, y, x (ensure that img and mask files are in the same order)\n",
    "img_files = os.listdir(img_dir)\n",
    "mask_files = os.listdir(mask_dir)\n",
    "cell_mask_files = os.listdir(cell_mask_dir)\n",
    "mask_pattern=r\"sem2dauer_gj_2d_training.vsseg_export_s(\\d+)_Y(\\d+)_X(\\d+).png.png\"\n",
    "img_pattern=r\"SEM_dauer_2_image_export_s(\\d+)_Y(\\d+)_X(\\d+).png.png\"\n",
    "cell_mask_pattern=r\"20240325_SEM_dauer_2_nr_vnc_neurons_head_muscles.vsseg_export_s(\\d+)_Y(\\d+)_X(\\d+).png\"\n",
    "img_files = [os.path.join(img_dir, f) for f in img_files if f.endswith(\".png\")]\n",
    "mask_files = [os.path.join(mask_dir, f) for f in mask_files if f.endswith(\".png\")]\n",
    "cell_mask_files = [os.path.join(cell_mask_dir, f) for f in cell_mask_files if f.endswith(\".png\")]\n",
    "print(img_files[:10])\n",
    "print(mask_files[:10])\n",
    "print(cell_mask_files[:10])"
   ]
  },
  {
   "cell_type": "code",
   "execution_count": 12,
   "metadata": {},
   "outputs": [
    {
     "name": "stdout",
     "output_type": "stream",
     "text": [
      "(5, 512, 512)\n"
     ]
    },
    {
     "data": {
      "image/png": "[encoded data removed]",
      "text/plain": [
       "<Figure size 2000x1000 with 10 Axes>"
      ]
     },
     "metadata": {},
     "output_type": "display_data"
    }
   ],
   "source": [
    "# sanity check: test that image and mask actually match\n",
    "depth=2\n",
    "img_3d = get_3d_slice_single_img(z, y, x, img_files, img_pattern, depth=depth)\n",
    "mask_3d = get_3d_slice_single_img(z, y, x, mask_files, mask_pattern, depth=depth)\n",
    "cell_mask_3d = get_3d_slice_single_img(z, y, x, cell_mask_files, cell_mask_pattern, depth=depth)\n",
    "filtered_cell_mask_3d = cell_mask_3d.copy()\n",
    "filtered_cell_mask_3d[filtered_cell_mask_3d!=0]=1\n",
    "img_3d= img_3d.astype(np.uint8)\n",
    "print(filtered_cell_mask_3d.shape)\n",
    "depth = 2*depth+1\n",
    "fig, ax = plt.subplots(2, depth, figsize=(20, 10))\n",
    "for i in range(depth):\n",
    "    ax[0, i].imshow(img_3d[i], cmap='gray')\n",
    "    ax[1, i].imshow(filtered_cell_mask_3d[i], cmap='gray')\n",
    "plt.show()"
   ]
  },
  {
   "cell_type": "code",
   "execution_count": 13,
   "metadata": {},
   "outputs": [
    {
     "name": "stdout",
     "output_type": "stream",
     "text": [
      "5390 5390\n"
     ]
    }
   ],
   "source": [
    "print(len(img_files), len(mask_files))"
   ]
  },
  {
   "cell_type": "code",
   "execution_count": 14,
   "metadata": {},
   "outputs": [],
   "source": [
    "save_dir = \"/Volumes/LaCie/512_depth_5\"\n",
    "if not os.path.exists(save_dir):\n",
    "    os.makedirs(save_dir)\n",
    "if not os.path.exists(os.path.join(save_dir, \"original\")):\n",
    "    os.makedirs(os.path.join(save_dir, \"original\"))\n",
    "if not os.path.exists(os.path.join(save_dir, \"ground_truth\")):\n",
    "    os.makedirs(os.path.join(save_dir, \"ground_truth\"))\n",
    "if not os.path.exists(os.path.join(save_dir, \"cell_mask\")):\n",
    "    os.makedirs(os.path.join(save_dir, \"cell_mask\"))"
   ]
  },
  {
   "cell_type": "code",
   "execution_count": 15,
   "metadata": {},
   "outputs": [
    {
     "name": "stdout",
     "output_type": "stream",
     "text": [
      "(5, 512, 512) (5, 512, 512) (5, 512, 512)\n",
      "saved 5389/5390\r"
     ]
    }
   ],
   "source": [
    "# save 3d slices\n",
    "depth = 2 # (5, 512, 512)\n",
    "total = len(img_files)\n",
    "# total=2\n",
    "alternate=True\n",
    "for i in range(total):\n",
    "    print(f\"saved {i}/{total}\", end=\"\\r\")\n",
    "    try:\n",
    "        z, y, x = get_z_y_x(img_files[i], img_pattern)\n",
    "    except:\n",
    "        continue\n",
    "    try:\n",
    "        img_3d = get_3d_slice_single_img(z, y, x, img_files, img_pattern, depth=depth)\n",
    "        mask_3d = get_3d_slice_single_img(z, y, x, mask_files, mask_pattern, depth=depth)\n",
    "        cell_mask_3d = get_3d_slice_single_img(z, y, x, cell_mask_files, cell_mask_pattern, depth=depth)\n",
    "        filtered_cell_mask_3d = cell_mask_3d.copy()\n",
    "        filtered_cell_mask_3d[filtered_cell_mask_3d!=0]=1\n",
    "    except:\n",
    "        print(f\"no 3d slice available for {z}{y}{x}\")\n",
    "        continue\n",
    "    img_3d = img_3d.astype(np.uint8)\n",
    "    mask_3d = mask_3d.astype(np.uint8)\n",
    "    filtered_cell_mask_3d = filtered_cell_mask_3d.astype(np.uint8)\n",
    "    if i == 0:\n",
    "        print(img_3d.shape, mask_3d.shape, filtered_cell_mask_3d.shape)\n",
    "    np.save(os.path.join(save_dir, \"original\", f\"z{z}_y{y}_x{x}.npy\"), img_3d)\n",
    "    np.save(os.path.join(save_dir, \"ground_truth\", f\"z{z}_y{y}_x{x}.npy\"), mask_3d)\n",
    "    np.save(os.path.join(save_dir, \"cell_mask\", f\"z{z}_y{y}_x{x}.npy\"), filtered_cell_mask_3d)"
   ]
  },
  {
   "cell_type": "code",
   "execution_count": 16,
   "metadata": {},
   "outputs": [
    {
     "name": "stdout",
     "output_type": "stream",
     "text": [
      "2695\n"
     ]
    }
   ],
   "source": [
    "files = os.listdir(os.path.join(save_dir, \"original\"))\n",
    "print(len(files)) # 243 training samples (some may overlap a bit, fine for now)"
   ]
  },
  {
   "cell_type": "markdown",
   "metadata": {},
   "source": [
    "# Train Test Split"
   ]
  },
  {
   "cell_type": "code",
   "execution_count": 4,
   "metadata": {},
   "outputs": [],
   "source": [
    "# data_dir = \"data/small_data_512\" # CHANGE ME\n",
    "data_dir = \"/Volumes/LaCie/512_depth_5\"\n",
    "\n",
    "# load data\n",
    "img_dir = os.path.join(data_dir, \"original\")\n",
    "mask_dir = os.path.join(data_dir, \"ground_truth\")\n",
    "cell_mask_dir = os.path.join(data_dir, \"cell_mask\")\n",
    "img_paths = os.listdir(img_dir)\n",
    "mask_paths = os.listdir(mask_dir)\n",
    "cell_mask_paths = os.listdir(cell_mask_dir)\n",
    "imgs = [np.load(os.path.join(img_dir, img_path)) for img_path in img_paths if img_path.endswith(\".npy\")]\n",
    "masks = [np.load(os.path.join(mask_dir, mask_path)) for mask_path in mask_paths if mask_path.endswith(\".npy\")]\n",
    "cell_masks = [np.load(os.path.join(cell_mask_dir, cell_mask_path)) for cell_mask_path in cell_mask_paths if cell_mask_path.endswith(\".npy\")]"
   ]
  },
  {
   "cell_type": "code",
   "execution_count": 5,
   "metadata": {},
   "outputs": [],
   "source": [
    "# create subdirectories for train, valid, test\n",
    "if not os.path.exists(os.path.join(img_dir, \"train\")):\n",
    "    os.makedirs(os.path.join(img_dir, \"train\"))\n",
    "if not os.path.exists(os.path.join(img_dir, \"valid\")):\n",
    "    os.makedirs(os.path.join(img_dir, \"valid\"))\n",
    "if not os.path.exists(os.path.join(img_dir, \"test\")):\n",
    "    os.makedirs(os.path.join(img_dir, \"test\"))   \n",
    "if not os.path.exists(os.path.join(mask_dir, \"train\")):\n",
    "    os.makedirs(os.path.join(mask_dir, \"train\"))\n",
    "if not os.path.exists(os.path.join(mask_dir, \"valid\")):\n",
    "    os.makedirs(os.path.join(mask_dir, \"valid\"))\n",
    "if not os.path.exists(os.path.join(mask_dir, \"test\")):\n",
    "    os.makedirs(os.path.join(mask_dir, \"test\"))"
   ]
  },
  {
   "cell_type": "code",
   "execution_count": 6,
   "metadata": {},
   "outputs": [
    {
     "name": "stdout",
     "output_type": "stream",
     "text": [
      "2156 269 270\n",
      "imgs shape:  (2695, 5, 512, 512)\n"
     ]
    }
   ],
   "source": [
    "# split data into train, valid, test\n",
    "num_imgs = len(imgs)\n",
    "indices = np.arange(num_imgs)\n",
    "np.random.shuffle(indices)\n",
    "train_indices = indices[:int(0.8*num_imgs)]\n",
    "valid_indices = indices[int(0.8*num_imgs):int(0.9*num_imgs)]\n",
    "test_indices = indices[int(0.9*num_imgs):]\n",
    "print(len(train_indices), len(valid_indices), len(test_indices))\n",
    "imgs = np.array(imgs)\n",
    "masks = np.array(masks)\n",
    "print(\"imgs shape: \", imgs.shape)"
   ]
  },
  {
   "cell_type": "code",
   "execution_count": 7,
   "metadata": {},
   "outputs": [
    {
     "name": "stdout",
     "output_type": "stream",
     "text": [
      "Train: (2156, 5, 512, 512), (2156, 5, 512, 512)\n",
      "Valid: (269, 5, 512, 512), (269, 5, 512, 512)\n",
      "Test: (270, 5, 512, 512), (270, 5, 512, 512)\n"
     ]
    }
   ],
   "source": [
    "train_imgs = imgs[train_indices]\n",
    "valid_imgs = imgs[valid_indices]\n",
    "test_imgs = imgs[test_indices]\n",
    "\n",
    "train_masks = masks[train_indices]\n",
    "valid_masks = masks[valid_indices]\n",
    "test_masks = masks[test_indices]\n",
    "print(f\"Train: {train_masks.shape}, {train_imgs.shape}\") # (num_imgs, 512, 512, 3)\n",
    "print(f\"Valid: {valid_masks.shape}, {valid_imgs.shape}\")\n",
    "print(f\"Test: {test_masks.shape}, {test_imgs.shape}\")"
   ]
  },
  {
   "cell_type": "code",
   "execution_count": 8,
   "metadata": {},
   "outputs": [
    {
     "name": "stderr",
     "output_type": "stream",
     "text": [
      "1it [00:00,  9.50it/s]"
     ]
    },
    {
     "name": "stdout",
     "output_type": "stream",
     "text": [
      "Saved train 0\n",
      "Saved train 1\n"
     ]
    },
    {
     "name": "stderr",
     "output_type": "stream",
     "text": [
      "6it [00:00, 15.22it/s]"
     ]
    },
    {
     "name": "stdout",
     "output_type": "stream",
     "text": [
      "Saved train 2\n",
      "Saved train 3\n",
      "Saved train 4\n",
      "Saved train 5\n",
      "Saved train 6\n",
      "Saved train 7\n",
      "Saved train 8\n",
      "Saved train 9\n",
      "Saved train 10\n"
     ]
    },
    {
     "name": "stderr",
     "output_type": "stream",
     "text": [
      "18it [00:00, 36.27it/s]"
     ]
    },
    {
     "name": "stdout",
     "output_type": "stream",
     "text": [
      "Saved train 11\n",
      "Saved train 12\n",
      "Saved train 13\n",
      "Saved train 14\n",
      "Saved train 15\n",
      "Saved train 16\n",
      "Saved train 17\n",
      "Saved train 18\n"
     ]
    },
    {
     "name": "stderr",
     "output_type": "stream",
     "text": [
      "31it [00:01, 38.07it/s]"
     ]
    },
    {
     "name": "stdout",
     "output_type": "stream",
     "text": [
      "Saved train 19\n",
      "Saved train 20\n",
      "Saved train 21\n",
      "Saved train 22\n",
      "Saved train 23\n",
      "Saved train 24\n",
      "Saved train 25\n",
      "Saved train 26\n",
      "Saved train 27\n",
      "Saved train 28\n",
      "Saved train 29\n",
      "Saved train 30\n"
     ]
    },
    {
     "name": "stderr",
     "output_type": "stream",
     "text": [
      "36it [00:01, 32.93it/s]"
     ]
    },
    {
     "name": "stdout",
     "output_type": "stream",
     "text": [
      "Saved train 31\n",
      "Saved train 32\n",
      "Saved train 33\n",
      "Saved train 34\n",
      "Saved train 35\n",
      "Saved train 36\n",
      "Saved train 37\n",
      "Saved train 38\n",
      "Saved train 39\n",
      "Saved train 40\n",
      "Saved train 41\n"
     ]
    },
    {
     "name": "stderr",
     "output_type": "stream",
     "text": [
      "43it [00:01, 38.55it/s]"
     ]
    },
    {
     "name": "stdout",
     "output_type": "stream",
     "text": [
      "Saved train 42\n",
      "Saved train 43\n",
      "Saved train 44\n",
      "Saved train 45\n",
      "Saved train 46\n"
     ]
    },
    {
     "name": "stderr",
     "output_type": "stream",
     "text": [
      "54it [00:01, 36.72it/s]"
     ]
    },
    {
     "name": "stdout",
     "output_type": "stream",
     "text": [
      "Saved train 47\n",
      "Saved train 48\n",
      "Saved train 49\n",
      "Saved train 50\n",
      "Saved train 51\n",
      "Saved train 52\n",
      "Saved train 53\n",
      "Saved train 54\n",
      "Saved train 55\n",
      "Saved train 56\n",
      "Saved train 57\n"
     ]
    },
    {
     "name": "stderr",
     "output_type": "stream",
     "text": [
      "66it [00:01, 43.58it/s]"
     ]
    },
    {
     "name": "stdout",
     "output_type": "stream",
     "text": [
      "Saved train 58\n",
      "Saved train 59\n",
      "Saved train 60\n",
      "Saved train 61\n",
      "Saved train 62\n",
      "Saved train 63\n",
      "Saved train 64\n",
      "Saved train 65\n",
      "Saved train 66\n",
      "Saved train 67\n",
      "Saved train 68\n"
     ]
    },
    {
     "name": "stderr",
     "output_type": "stream",
     "text": [
      "73it [00:02, 49.71it/s]"
     ]
    },
    {
     "name": "stdout",
     "output_type": "stream",
     "text": [
      "Saved train 69\n",
      "Saved train 70\n",
      "Saved train 71\n",
      "Saved train 72\n",
      "Saved train 73\n"
     ]
    },
    {
     "name": "stderr",
     "output_type": "stream",
     "text": [
      "79it [00:02, 35.59it/s]"
     ]
    },
    {
     "name": "stdout",
     "output_type": "stream",
     "text": [
      "Saved train 74\n",
      "Saved train 75\n",
      "Saved train 76\n",
      "Saved train 77\n",
      "Saved train 78\n",
      "Saved train 79\n",
      "Saved train 80\n",
      "Saved train 81\n",
      "Saved train 82\n",
      "Saved train 83\n",
      "Saved train 84\n"
     ]
    },
    {
     "name": "stderr",
     "output_type": "stream",
     "text": [
      "91it [00:02, 39.40it/s]"
     ]
    },
    {
     "name": "stdout",
     "output_type": "stream",
     "text": [
      "Saved train 85\n",
      "Saved train 86\n",
      "Saved train 87\n",
      "Saved train 88\n",
      "Saved train 89\n",
      "Saved train 90\n",
      "Saved train 91\n",
      "Saved train 92\n",
      "Saved train 93\n"
     ]
    },
    {
     "name": "stderr",
     "output_type": "stream",
     "text": [
      "102it [00:02, 38.59it/s]"
     ]
    },
    {
     "name": "stdout",
     "output_type": "stream",
     "text": [
      "Saved train 94\n",
      "Saved train 95\n",
      "Saved train 96\n",
      "Saved train 97\n",
      "Saved train 98\n",
      "Saved train 99\n",
      "Saved train 100\n",
      "Saved train 101\n",
      "Saved train 102\n"
     ]
    },
    {
     "name": "stderr",
     "output_type": "stream",
     "text": [
      "107it [00:03, 37.43it/s]"
     ]
    },
    {
     "name": "stdout",
     "output_type": "stream",
     "text": [
      "Saved train 103\n",
      "Saved train 104\n",
      "Saved train 105\n",
      "Saved train 106\n",
      "Saved train 107\n"
     ]
    },
    {
     "name": "stderr",
     "output_type": "stream",
     "text": [
      "120it [00:03, 40.64it/s]"
     ]
    },
    {
     "name": "stdout",
     "output_type": "stream",
     "text": [
      "Saved train 108\n",
      "Saved train 109\n",
      "Saved train 110\n",
      "Saved train 111\n",
      "Saved train 112\n",
      "Saved train 113\n",
      "Saved train 114\n",
      "Saved train 115\n",
      "Saved train 116\n",
      "Saved train 117\n",
      "Saved train 118\n",
      "Saved train 119\n",
      "Saved train 120\n",
      "Saved train 121\n",
      "Saved train 122\n",
      "Saved train 123\n"
     ]
    },
    {
     "name": "stderr",
     "output_type": "stream",
     "text": [
      "126it [00:03, 43.56it/s]"
     ]
    },
    {
     "name": "stdout",
     "output_type": "stream",
     "text": [
      "Saved train 124\n",
      "Saved train 125\n"
     ]
    },
    {
     "name": "stderr",
     "output_type": "stream",
     "text": [
      "131it [00:03, 24.90it/s]"
     ]
    },
    {
     "name": "stdout",
     "output_type": "stream",
     "text": [
      "Saved train 126\n",
      "Saved train 127\n",
      "Saved train 128\n",
      "Saved train 129\n",
      "Saved train 130\n",
      "Saved train 131\n",
      "Saved train 132\n",
      "Saved train 133\n",
      "Saved train 134\n",
      "Saved train 135\n",
      "Saved train 136\n",
      "Saved train 137\n",
      "Saved train 138\n"
     ]
    },
    {
     "name": "stderr",
     "output_type": "stream",
     "text": [
      "140it [00:04, 34.42it/s]"
     ]
    },
    {
     "name": "stdout",
     "output_type": "stream",
     "text": [
      "Saved train 139\n",
      "Saved train 140\n",
      "Saved train 141\n",
      "Saved train 142\n",
      "Saved train 143\n"
     ]
    },
    {
     "name": "stderr",
     "output_type": "stream",
     "text": [
      "155it [00:04, 35.12it/s]"
     ]
    },
    {
     "name": "stdout",
     "output_type": "stream",
     "text": [
      "Saved train 144\n",
      "Saved train 145\n",
      "Saved train 146\n",
      "Saved train 147\n",
      "Saved train 148\n",
      "Saved train 149\n",
      "Saved train 150\n",
      "Saved train 151\n",
      "Saved train 152\n",
      "Saved train 153\n",
      "Saved train 154\n",
      "Saved train 155\n",
      "Saved train 156\n",
      "Saved train 157\n",
      "Saved train 158\n",
      "Saved train 159\n"
     ]
    },
    {
     "name": "stderr",
     "output_type": "stream",
     "text": [
      "163it [00:04, 42.44it/s]"
     ]
    },
    {
     "name": "stdout",
     "output_type": "stream",
     "text": [
      "Saved train 160\n",
      "Saved train 161\n",
      "Saved train 162\n",
      "Saved train 163\n",
      "Saved train 164\n",
      "Saved train 165\n",
      "Saved train 166\n"
     ]
    },
    {
     "name": "stderr",
     "output_type": "stream",
     "text": [
      "174it [00:05, 34.94it/s]"
     ]
    },
    {
     "name": "stdout",
     "output_type": "stream",
     "text": [
      "Saved train 167\n",
      "Saved train 168\n",
      "Saved train 169\n",
      "Saved train 170\n",
      "Saved train 171\n",
      "Saved train 172\n",
      "Saved train 173\n",
      "Saved train 174\n",
      "Saved train 175\n",
      "Saved train 176\n",
      "Saved train 177\n",
      "Saved train 178\n",
      "Saved train 179\n"
     ]
    },
    {
     "name": "stderr",
     "output_type": "stream",
     "text": [
      "183it [00:05, 44.36it/s]"
     ]
    },
    {
     "name": "stdout",
     "output_type": "stream",
     "text": [
      "Saved train 180\n",
      "Saved train 181\n",
      "Saved train 182\n",
      "Saved train 183\n",
      "Saved train 184\n",
      "Saved train 185\n",
      "Saved train 186\n",
      "Saved train 187\n"
     ]
    },
    {
     "name": "stderr",
     "output_type": "stream",
     "text": [
      "194it [00:05, 30.55it/s]"
     ]
    },
    {
     "name": "stdout",
     "output_type": "stream",
     "text": [
      "Saved train 188\n",
      "Saved train 189\n",
      "Saved train 190\n",
      "Saved train 191\n",
      "Saved train 192\n",
      "Saved train 193\n",
      "Saved train 194\n",
      "Saved train 195\n",
      "Saved train 196\n",
      "Saved train 197\n",
      "Saved train 198\n",
      "Saved train 199\n"
     ]
    },
    {
     "name": "stderr",
     "output_type": "stream",
     "text": [
      "203it [00:05, 39.83it/s]"
     ]
    },
    {
     "name": "stdout",
     "output_type": "stream",
     "text": [
      "Saved train 200\n",
      "Saved train 201\n",
      "Saved train 202\n",
      "Saved train 203\n",
      "Saved train 204\n",
      "Saved train 205\n"
     ]
    },
    {
     "name": "stderr",
     "output_type": "stream",
     "text": [
      "216it [00:06, 35.25it/s]"
     ]
    },
    {
     "name": "stdout",
     "output_type": "stream",
     "text": [
      "Saved train 206\n",
      "Saved train 207\n",
      "Saved train 208\n",
      "Saved train 209\n",
      "Saved train 210\n",
      "Saved train 211\n",
      "Saved train 212\n",
      "Saved train 213\n",
      "Saved train 214\n",
      "Saved train 215\n",
      "Saved train 216\n",
      "Saved train 217\n",
      "Saved train 218\n",
      "Saved train 219\n",
      "Saved train 220\n"
     ]
    },
    {
     "name": "stderr",
     "output_type": "stream",
     "text": [
      "231it [00:06, 46.21it/s]"
     ]
    },
    {
     "name": "stdout",
     "output_type": "stream",
     "text": [
      "Saved train 221\n",
      "Saved train 222\n",
      "Saved train 223\n",
      "Saved train 224\n",
      "Saved train 225\n",
      "Saved train 226\n",
      "Saved train 227\n",
      "Saved train 228\n",
      "Saved train 229\n",
      "Saved train 230\n",
      "Saved train 231\n"
     ]
    },
    {
     "name": "stderr",
     "output_type": "stream",
     "text": [
      "246it [00:07, 39.73it/s]"
     ]
    },
    {
     "name": "stdout",
     "output_type": "stream",
     "text": [
      "Saved train 232\n",
      "Saved train 233\n",
      "Saved train 234\n",
      "Saved train 235\n",
      "Saved train 236\n",
      "Saved train 237\n",
      "Saved train 238\n",
      "Saved train 239\n",
      "Saved train 240\n",
      "Saved train 241\n",
      "Saved train 242\n",
      "Saved train 243\n",
      "Saved train 244\n",
      "Saved train 245\n",
      "Saved train 246\n"
     ]
    },
    {
     "name": "stderr",
     "output_type": "stream",
     "text": [
      "252it [00:07, 38.44it/s]"
     ]
    },
    {
     "name": "stdout",
     "output_type": "stream",
     "text": [
      "Saved train 247\n",
      "Saved train 248\n",
      "Saved train 249\n",
      "Saved train 250\n",
      "Saved train 251\n",
      "Saved train 252\n",
      "Saved train 253\n"
     ]
    },
    {
     "name": "stderr",
     "output_type": "stream",
     "text": [
      "266it [00:07, 42.17it/s]"
     ]
    },
    {
     "name": "stdout",
     "output_type": "stream",
     "text": [
      "Saved train 254\n",
      "Saved train 255\n",
      "Saved train 256\n",
      "Saved train 257\n",
      "Saved train 258\n",
      "Saved train 259\n",
      "Saved train 260\n",
      "Saved train 261\n",
      "Saved train 262\n",
      "Saved train 263\n",
      "Saved train 264\n",
      "Saved train 265\n",
      "Saved train 266\n",
      "Saved train 267\n",
      "Saved train 268\n"
     ]
    },
    {
     "name": "stderr",
     "output_type": "stream",
     "text": [
      "280it [00:07, 47.07it/s]"
     ]
    },
    {
     "name": "stdout",
     "output_type": "stream",
     "text": [
      "Saved train 269\n",
      "Saved train 270\n",
      "Saved train 271\n",
      "Saved train 272\n",
      "Saved train 273\n",
      "Saved train 274\n",
      "Saved train 275\n",
      "Saved train 276\n",
      "Saved train 277\n",
      "Saved train 278\n",
      "Saved train 279\n"
     ]
    },
    {
     "name": "stderr",
     "output_type": "stream",
     "text": [
      "286it [00:07, 40.87it/s]"
     ]
    },
    {
     "name": "stdout",
     "output_type": "stream",
     "text": [
      "Saved train 280\n",
      "Saved train 281\n",
      "Saved train 282\n",
      "Saved train 283\n",
      "Saved train 284\n",
      "Saved train 285\n"
     ]
    },
    {
     "name": "stderr",
     "output_type": "stream",
     "text": [
      "291it [00:08, 37.75it/s]"
     ]
    },
    {
     "name": "stdout",
     "output_type": "stream",
     "text": [
      "Saved train 286\n",
      "Saved train 287\n",
      "Saved train 288\n",
      "Saved train 289\n",
      "Saved train 290\n",
      "Saved train 291\n",
      "Saved train 292\n",
      "Saved train 293\n",
      "Saved train 294\n"
     ]
    },
    {
     "name": "stderr",
     "output_type": "stream",
     "text": [
      "303it [00:08, 37.39it/s]"
     ]
    },
    {
     "name": "stdout",
     "output_type": "stream",
     "text": [
      "Saved train 295\n",
      "Saved train 296\n",
      "Saved train 297\n",
      "Saved train 298\n",
      "Saved train 299\n",
      "Saved train 300\n",
      "Saved train 301\n",
      "Saved train 302\n",
      "Saved train 303\n",
      "Saved train 304\n",
      "Saved train 305\n",
      "Saved train 306\n",
      "Saved train 307\n"
     ]
    },
    {
     "name": "stderr",
     "output_type": "stream",
     "text": [
      "318it [00:08, 42.78it/s]"
     ]
    },
    {
     "name": "stdout",
     "output_type": "stream",
     "text": [
      "Saved train 308\n",
      "Saved train 309\n",
      "Saved train 310\n",
      "Saved train 311\n",
      "Saved train 312\n",
      "Saved train 313\n",
      "Saved train 314\n",
      "Saved train 315\n",
      "Saved train 316\n",
      "Saved train 317\n",
      "Saved train 318\n",
      "Saved train 319\n"
     ]
    },
    {
     "name": "stderr",
     "output_type": "stream",
     "text": [
      "329it [00:09, 43.41it/s]"
     ]
    },
    {
     "name": "stdout",
     "output_type": "stream",
     "text": [
      "Saved train 320\n",
      "Saved train 321\n",
      "Saved train 322\n",
      "Saved train 323\n",
      "Saved train 324\n",
      "Saved train 325\n",
      "Saved train 326\n",
      "Saved train 327\n",
      "Saved train 328\n",
      "Saved train 329\n",
      "Saved train 330\n",
      "Saved train 331\n"
     ]
    },
    {
     "name": "stderr",
     "output_type": "stream",
     "text": [
      "339it [00:09, 37.65it/s]"
     ]
    },
    {
     "name": "stdout",
     "output_type": "stream",
     "text": [
      "Saved train 332\n",
      "Saved train 333\n",
      "Saved train 334\n",
      "Saved train 335\n",
      "Saved train 336\n",
      "Saved train 337\n",
      "Saved train 338\n",
      "Saved train 339\n"
     ]
    },
    {
     "name": "stderr",
     "output_type": "stream",
     "text": [
      "345it [00:09, 34.10it/s]"
     ]
    },
    {
     "name": "stdout",
     "output_type": "stream",
     "text": [
      "Saved train 340\n",
      "Saved train 341\n",
      "Saved train 342\n",
      "Saved train 343\n",
      "Saved train 344\n",
      "Saved train 345\n"
     ]
    },
    {
     "name": "stderr",
     "output_type": "stream",
     "text": [
      "353it [00:09, 43.18it/s]"
     ]
    },
    {
     "name": "stdout",
     "output_type": "stream",
     "text": [
      "Saved train 346\n",
      "Saved train 347\n",
      "Saved train 348\n",
      "Saved train 349\n",
      "Saved train 350\n",
      "Saved train 351\n",
      "Saved train 352\n",
      "Saved train 353\n"
     ]
    },
    {
     "name": "stderr",
     "output_type": "stream",
     "text": [
      "358it [00:09, 35.70it/s]"
     ]
    },
    {
     "name": "stdout",
     "output_type": "stream",
     "text": [
      "Saved train 354\n",
      "Saved train 355\n",
      "Saved train 356\n",
      "Saved train 357\n",
      "Saved train 358\n",
      "Saved train 359\n",
      "Saved train 360\n",
      "Saved train 361\n",
      "Saved train 362\n",
      "Saved train 363\n"
     ]
    },
    {
     "name": "stderr",
     "output_type": "stream",
     "text": [
      "373it [00:10, 46.12it/s]"
     ]
    },
    {
     "name": "stdout",
     "output_type": "stream",
     "text": [
      "Saved train 364\n",
      "Saved train 365\n",
      "Saved train 366\n",
      "Saved train 367\n",
      "Saved train 368\n",
      "Saved train 369\n",
      "Saved train 370\n",
      "Saved train 371\n",
      "Saved train 372\n",
      "Saved train 373\n"
     ]
    },
    {
     "name": "stderr",
     "output_type": "stream",
     "text": [
      "379it [00:10, 39.96it/s]"
     ]
    },
    {
     "name": "stdout",
     "output_type": "stream",
     "text": [
      "Saved train 374\n",
      "Saved train 375\n",
      "Saved train 376\n",
      "Saved train 377\n",
      "Saved train 378\n",
      "Saved train 379\n",
      "Saved train 380\n",
      "Saved train 381\n",
      "Saved train 382\n",
      "Saved train 383\n"
     ]
    },
    {
     "name": "stderr",
     "output_type": "stream",
     "text": [
      "389it [00:10, 28.39it/s]"
     ]
    },
    {
     "name": "stdout",
     "output_type": "stream",
     "text": [
      "Saved train 384\n",
      "Saved train 385\n",
      "Saved train 386\n",
      "Saved train 387\n",
      "Saved train 388\n",
      "Saved train 389\n",
      "Saved train 390\n",
      "Saved train 391\n",
      "Saved train 392\n",
      "Saved train 393\n"
     ]
    },
    {
     "name": "stderr",
     "output_type": "stream",
     "text": [
      "398it [00:11, 38.50it/s]"
     ]
    },
    {
     "name": "stdout",
     "output_type": "stream",
     "text": [
      "Saved train 394\n",
      "Saved train 395\n",
      "Saved train 396\n",
      "Saved train 397\n",
      "Saved train 398\n",
      "Saved train 399\n",
      "Saved train 400\n",
      "Saved train 401\n",
      "Saved train 402\n"
     ]
    },
    {
     "name": "stderr",
     "output_type": "stream",
     "text": [
      "412it [00:11, 35.29it/s]"
     ]
    },
    {
     "name": "stdout",
     "output_type": "stream",
     "text": [
      "Saved train 403\n",
      "Saved train 404\n",
      "Saved train 405\n",
      "Saved train 406\n",
      "Saved train 407\n",
      "Saved train 408\n",
      "Saved train 409\n",
      "Saved train 410\n",
      "Saved train 411\n",
      "Saved train 412\n",
      "Saved train 413\n",
      "Saved train 414\n",
      "Saved train 415\n",
      "Saved train 416\n",
      "Saved train 417\n",
      "Saved train 418\n"
     ]
    },
    {
     "name": "stderr",
     "output_type": "stream",
     "text": [
      "420it [00:11, 42.67it/s]"
     ]
    },
    {
     "name": "stdout",
     "output_type": "stream",
     "text": [
      "Saved train 419\n",
      "Saved train 420\n",
      "Saved train 421\n",
      "Saved train 422\n",
      "Saved train 423\n"
     ]
    },
    {
     "name": "stderr",
     "output_type": "stream",
     "text": [
      "431it [00:12, 31.19it/s]"
     ]
    },
    {
     "name": "stdout",
     "output_type": "stream",
     "text": [
      "Saved train 424\n",
      "Saved train 425\n",
      "Saved train 426\n",
      "Saved train 427\n",
      "Saved train 428\n",
      "Saved train 429\n",
      "Saved train 430\n",
      "Saved train 431\n",
      "Saved train 432\n"
     ]
    },
    {
     "name": "stderr",
     "output_type": "stream",
     "text": [
      "444it [00:12, 39.20it/s]"
     ]
    },
    {
     "name": "stdout",
     "output_type": "stream",
     "text": [
      "Saved train 433\n",
      "Saved train 434\n",
      "Saved train 435\n",
      "Saved train 436\n",
      "Saved train 437\n",
      "Saved train 438\n",
      "Saved train 439\n",
      "Saved train 440\n",
      "Saved train 441\n",
      "Saved train 442\n",
      "Saved train 443\n",
      "Saved train 444\n",
      "Saved train 445\n",
      "Saved train 446\n",
      "Saved train 447\n"
     ]
    },
    {
     "name": "stderr",
     "output_type": "stream",
     "text": [
      "452it [00:12, 47.03it/s]"
     ]
    },
    {
     "name": "stdout",
     "output_type": "stream",
     "text": [
      "Saved train 448\n",
      "Saved train 449\n",
      "Saved train 450\n",
      "Saved train 451\n",
      "Saved train 452\n",
      "Saved train 453\n"
     ]
    },
    {
     "name": "stderr",
     "output_type": "stream",
     "text": [
      "458it [00:12, 37.68it/s]"
     ]
    },
    {
     "name": "stdout",
     "output_type": "stream",
     "text": [
      "Saved train 454\n",
      "Saved train 455\n",
      "Saved train 456\n",
      "Saved train 457\n",
      "Saved train 458\n"
     ]
    },
    {
     "name": "stderr",
     "output_type": "stream",
     "text": [
      "470it [00:13, 38.94it/s]"
     ]
    },
    {
     "name": "stdout",
     "output_type": "stream",
     "text": [
      "Saved train 459\n",
      "Saved train 460\n",
      "Saved train 461\n",
      "Saved train 462\n",
      "Saved train 463\n",
      "Saved train 464\n",
      "Saved train 465\n",
      "Saved train 466\n",
      "Saved train 467\n",
      "Saved train 468\n",
      "Saved train 469\n",
      "Saved train 470\n",
      "Saved train 471\n",
      "Saved train 472\n"
     ]
    },
    {
     "name": "stderr",
     "output_type": "stream",
     "text": [
      "477it [00:13, 34.83it/s]"
     ]
    },
    {
     "name": "stdout",
     "output_type": "stream",
     "text": [
      "Saved train 473\n",
      "Saved train 474\n",
      "Saved train 475\n",
      "Saved train 476\n"
     ]
    },
    {
     "name": "stderr",
     "output_type": "stream",
     "text": [
      "485it [00:13, 42.32it/s]"
     ]
    },
    {
     "name": "stdout",
     "output_type": "stream",
     "text": [
      "Saved train 477\n",
      "Saved train 478\n",
      "Saved train 479\n",
      "Saved train 480\n",
      "Saved train 481\n",
      "Saved train 482\n",
      "Saved train 483\n",
      "Saved train 484\n",
      "Saved train 485\n",
      "Saved train 486\n",
      "Saved train 487\n",
      "Saved train 488\n",
      "Saved train 489\n",
      "Saved train 490\n"
     ]
    },
    {
     "name": "stderr",
     "output_type": "stream",
     "text": [
      "499it [00:13, 46.95it/s]"
     ]
    },
    {
     "name": "stdout",
     "output_type": "stream",
     "text": [
      "Saved train 491\n",
      "Saved train 492\n",
      "Saved train 493\n",
      "Saved train 494\n",
      "Saved train 495\n",
      "Saved train 496\n",
      "Saved train 497\n",
      "Saved train 498\n",
      "Saved train 499\n",
      "Saved train 500\n",
      "Saved train 501\n",
      "Saved train 502\n",
      "Saved train 503\n"
     ]
    },
    {
     "name": "stderr",
     "output_type": "stream",
     "text": [
      "505it [00:13, 46.82it/s]"
     ]
    },
    {
     "name": "stdout",
     "output_type": "stream",
     "text": [
      "Saved train 504\n",
      "Saved train 505\n",
      "Saved train 506\n",
      "Saved train 507\n",
      "Saved train 508\n",
      "Saved train 509\n",
      "Saved train 510\n"
     ]
    },
    {
     "name": "stderr",
     "output_type": "stream",
     "text": [
      "521it [00:14, 43.52it/s]"
     ]
    },
    {
     "name": "stdout",
     "output_type": "stream",
     "text": [
      "Saved train 511\n",
      "Saved train 512\n",
      "Saved train 513\n",
      "Saved train 514\n",
      "Saved train 515\n",
      "Saved train 516\n",
      "Saved train 517\n",
      "Saved train 518\n",
      "Saved train 519\n",
      "Saved train 520\n",
      "Saved train 521\n",
      "Saved train 522\n",
      "Saved train 523\n",
      "Saved train 524\n",
      "Saved train 525\n",
      "Saved train 526\n"
     ]
    },
    {
     "name": "stderr",
     "output_type": "stream",
     "text": [
      "529it [00:14, 50.46it/s]"
     ]
    },
    {
     "name": "stdout",
     "output_type": "stream",
     "text": [
      "Saved train 527\n",
      "Saved train 528\n",
      "Saved train 529\n"
     ]
    },
    {
     "name": "stderr",
     "output_type": "stream",
     "text": [
      "544it [00:14, 47.22it/s]"
     ]
    },
    {
     "name": "stdout",
     "output_type": "stream",
     "text": [
      "Saved train 530\n",
      "Saved train 531\n",
      "Saved train 532\n",
      "Saved train 533\n",
      "Saved train 534\n",
      "Saved train 535\n",
      "Saved train 536\n",
      "Saved train 537\n",
      "Saved train 538\n",
      "Saved train 539\n",
      "Saved train 540\n",
      "Saved train 541\n",
      "Saved train 542\n",
      "Saved train 543\n"
     ]
    },
    {
     "name": "stderr",
     "output_type": "stream",
     "text": [
      "556it [00:15, 37.93it/s]"
     ]
    },
    {
     "name": "stdout",
     "output_type": "stream",
     "text": [
      "Saved train 544\n",
      "Saved train 545\n",
      "Saved train 546\n",
      "Saved train 547\n",
      "Saved train 548\n",
      "Saved train 549\n",
      "Saved train 550\n",
      "Saved train 551\n",
      "Saved train 552\n",
      "Saved train 553\n",
      "Saved train 554\n",
      "Saved train 555\n",
      "Saved train 556\n",
      "Saved train 557\n"
     ]
    },
    {
     "name": "stderr",
     "output_type": "stream",
     "text": [
      "561it [00:15, 34.28it/s]"
     ]
    },
    {
     "name": "stdout",
     "output_type": "stream",
     "text": [
      "Saved train 558\n",
      "Saved train 559\n",
      "Saved train 560\n",
      "Saved train 561\n",
      "Saved train 562\n",
      "Saved train 563\n"
     ]
    },
    {
     "name": "stderr",
     "output_type": "stream",
     "text": [
      "574it [00:15, 44.36it/s]"
     ]
    },
    {
     "name": "stdout",
     "output_type": "stream",
     "text": [
      "Saved train 564\n",
      "Saved train 565\n",
      "Saved train 566\n",
      "Saved train 567\n",
      "Saved train 568\n",
      "Saved train 569\n",
      "Saved train 570\n",
      "Saved train 571\n",
      "Saved train 572\n",
      "Saved train 573\n",
      "Saved train 574\n",
      "Saved train 575\n",
      "Saved train 576\n"
     ]
    },
    {
     "name": "stderr",
     "output_type": "stream",
     "text": [
      "580it [00:15, 47.87it/s]"
     ]
    },
    {
     "name": "stdout",
     "output_type": "stream",
     "text": [
      "Saved train 577\n",
      "Saved train 578\n",
      "Saved train 579\n",
      "Saved train 580\n",
      "Saved train 581\n"
     ]
    },
    {
     "name": "stderr",
     "output_type": "stream",
     "text": [
      "594it [00:16, 38.89it/s]"
     ]
    },
    {
     "name": "stdout",
     "output_type": "stream",
     "text": [
      "Saved train 582\n",
      "Saved train 583\n",
      "Saved train 584\n",
      "Saved train 585\n",
      "Saved train 586\n",
      "Saved train 587\n",
      "Saved train 588\n",
      "Saved train 589\n",
      "Saved train 590\n",
      "Saved train 591\n",
      "Saved train 592\n",
      "Saved train 593\n",
      "Saved train 594\n",
      "Saved train 595\n",
      "Saved train 596\n"
     ]
    },
    {
     "name": "stderr",
     "output_type": "stream",
     "text": [
      "601it [00:16, 43.99it/s]"
     ]
    },
    {
     "name": "stdout",
     "output_type": "stream",
     "text": [
      "Saved train 597\n",
      "Saved train 598\n",
      "Saved train 599\n",
      "Saved train 600\n",
      "Saved train 601\n"
     ]
    },
    {
     "name": "stderr",
     "output_type": "stream",
     "text": [
      "607it [00:16, 27.89it/s]"
     ]
    },
    {
     "name": "stdout",
     "output_type": "stream",
     "text": [
      "Saved train 602\n",
      "Saved train 603\n",
      "Saved train 604\n",
      "Saved train 605\n",
      "Saved train 606\n",
      "Saved train 607\n",
      "Saved train 608\n",
      "Saved train 609\n",
      "Saved train 610\n"
     ]
    },
    {
     "name": "stderr",
     "output_type": "stream",
     "text": [
      "615it [00:16, 35.89it/s]"
     ]
    },
    {
     "name": "stdout",
     "output_type": "stream",
     "text": [
      "Saved train 611\n",
      "Saved train 612\n",
      "Saved train 613\n",
      "Saved train 614\n",
      "Saved train 615\n",
      "Saved train 616\n",
      "Saved train 617\n",
      "Saved train 618\n",
      "Saved train 619\n",
      "Saved train 620\n"
     ]
    },
    {
     "name": "stderr",
     "output_type": "stream",
     "text": [
      "630it [00:17, 39.54it/s]"
     ]
    },
    {
     "name": "stdout",
     "output_type": "stream",
     "text": [
      "Saved train 621\n",
      "Saved train 622\n",
      "Saved train 623\n",
      "Saved train 624\n",
      "Saved train 625\n",
      "Saved train 626\n",
      "Saved train 627\n",
      "Saved train 628\n",
      "Saved train 629\n",
      "Saved train 630\n",
      "Saved train 631\n",
      "Saved train 632\n"
     ]
    },
    {
     "name": "stderr",
     "output_type": "stream",
     "text": [
      "642it [00:17, 41.63it/s]"
     ]
    },
    {
     "name": "stdout",
     "output_type": "stream",
     "text": [
      "Saved train 633\n",
      "Saved train 634\n",
      "Saved train 635\n",
      "Saved train 636\n",
      "Saved train 637\n",
      "Saved train 638\n",
      "Saved train 639\n",
      "Saved train 640\n",
      "Saved train 641\n",
      "Saved train 642\n",
      "Saved train 643\n"
     ]
    },
    {
     "name": "stderr",
     "output_type": "stream",
     "text": [
      "650it [00:17, 48.92it/s]"
     ]
    },
    {
     "name": "stdout",
     "output_type": "stream",
     "text": [
      "Saved train 644\n",
      "Saved train 645\n",
      "Saved train 646\n",
      "Saved train 647\n",
      "Saved train 648\n",
      "Saved train 649\n"
     ]
    },
    {
     "name": "stderr",
     "output_type": "stream",
     "text": [
      "664it [00:17, 44.20it/s]"
     ]
    },
    {
     "name": "stdout",
     "output_type": "stream",
     "text": [
      "Saved train 650\n",
      "Saved train 651\n",
      "Saved train 652\n",
      "Saved train 653\n",
      "Saved train 654\n",
      "Saved train 655\n",
      "Saved train 656\n",
      "Saved train 657\n",
      "Saved train 658\n",
      "Saved train 659\n",
      "Saved train 660\n",
      "Saved train 661\n",
      "Saved train 662\n",
      "Saved train 663\n",
      "Saved train 664\n",
      "Saved train 665\n"
     ]
    },
    {
     "name": "stderr",
     "output_type": "stream",
     "text": [
      "671it [00:18, 44.36it/s]"
     ]
    },
    {
     "name": "stdout",
     "output_type": "stream",
     "text": [
      "Saved train 666\n",
      "Saved train 667\n",
      "Saved train 668\n",
      "Saved train 669\n",
      "Saved train 670\n",
      "Saved train 671\n",
      "Saved train 672\n"
     ]
    },
    {
     "name": "stderr",
     "output_type": "stream",
     "text": [
      "677it [00:18, 31.72it/s]"
     ]
    },
    {
     "name": "stdout",
     "output_type": "stream",
     "text": [
      "Saved train 673\n",
      "Saved train 674\n",
      "Saved train 675\n",
      "Saved train 676\n",
      "Saved train 677\n",
      "Saved train 678\n",
      "Saved train 679\n"
     ]
    },
    {
     "name": "stderr",
     "output_type": "stream",
     "text": [
      "686it [00:18, 31.91it/s]"
     ]
    },
    {
     "name": "stdout",
     "output_type": "stream",
     "text": [
      "Saved train 680\n",
      "Saved train 681\n",
      "Saved train 682\n",
      "Saved train 683\n",
      "Saved train 684\n",
      "Saved train 685\n",
      "Saved train 686\n",
      "Saved train 687\n"
     ]
    },
    {
     "name": "stderr",
     "output_type": "stream",
     "text": [
      "698it [00:19, 35.31it/s]"
     ]
    },
    {
     "name": "stdout",
     "output_type": "stream",
     "text": [
      "Saved train 688\n",
      "Saved train 689\n",
      "Saved train 690\n",
      "Saved train 691\n",
      "Saved train 692\n",
      "Saved train 693\n",
      "Saved train 694\n",
      "Saved train 695\n",
      "Saved train 696\n",
      "Saved train 697\n",
      "Saved train 698\n",
      "Saved train 699\n",
      "Saved train 700\n",
      "Saved train 701\n",
      "Saved train 702\n",
      "Saved train 703\n"
     ]
    },
    {
     "name": "stderr",
     "output_type": "stream",
     "text": [
      "715it [00:19, 52.13it/s]"
     ]
    },
    {
     "name": "stdout",
     "output_type": "stream",
     "text": [
      "Saved train 704\n",
      "Saved train 705\n",
      "Saved train 706\n",
      "Saved train 707\n",
      "Saved train 708\n",
      "Saved train 709\n",
      "Saved train 710\n",
      "Saved train 711\n",
      "Saved train 712\n",
      "Saved train 713\n",
      "Saved train 714\n",
      "Saved train 715\n",
      "Saved train 716\n",
      "Saved train 717\n",
      "Saved train 718\n",
      "Saved train 719\n"
     ]
    },
    {
     "name": "stderr",
     "output_type": "stream",
     "text": [
      "731it [00:19, 62.76it/s]"
     ]
    },
    {
     "name": "stdout",
     "output_type": "stream",
     "text": [
      "Saved train 720\n",
      "Saved train 721\n",
      "Saved train 722\n",
      "Saved train 723\n",
      "Saved train 724\n",
      "Saved train 725\n",
      "Saved train 726\n",
      "Saved train 727\n",
      "Saved train 728\n",
      "Saved train 729\n",
      "Saved train 730\n",
      "Saved train 731\n"
     ]
    },
    {
     "name": "stderr",
     "output_type": "stream",
     "text": [
      "746it [00:19, 61.13it/s]"
     ]
    },
    {
     "name": "stdout",
     "output_type": "stream",
     "text": [
      "Saved train 732\n",
      "Saved train 733\n",
      "Saved train 734\n",
      "Saved train 735\n",
      "Saved train 736\n",
      "Saved train 737\n",
      "Saved train 738\n",
      "Saved train 739\n",
      "Saved train 740\n",
      "Saved train 741\n",
      "Saved train 742\n",
      "Saved train 743\n",
      "Saved train 744\n",
      "Saved train 745\n"
     ]
    },
    {
     "name": "stderr",
     "output_type": "stream",
     "text": [
      "753it [00:20, 39.60it/s]"
     ]
    },
    {
     "name": "stdout",
     "output_type": "stream",
     "text": [
      "Saved train 746\n",
      "Saved train 747\n",
      "Saved train 748\n",
      "Saved train 749\n",
      "Saved train 750\n",
      "Saved train 751\n",
      "Saved train 752\n",
      "Saved train 753\n",
      "Saved train 754\n",
      "Saved train 755\n",
      "Saved train 756\n",
      "Saved train 757\n",
      "Saved train 758\n"
     ]
    },
    {
     "name": "stderr",
     "output_type": "stream",
     "text": [
      "768it [00:20, 48.06it/s]"
     ]
    },
    {
     "name": "stdout",
     "output_type": "stream",
     "text": [
      "Saved train 759\n",
      "Saved train 760\n",
      "Saved train 761\n",
      "Saved train 762\n",
      "Saved train 763\n",
      "Saved train 764\n",
      "Saved train 765\n",
      "Saved train 766\n",
      "Saved train 767\n",
      "Saved train 768\n",
      "Saved train 769\n",
      "Saved train 770\n",
      "Saved train 771\n",
      "Saved train 772\n",
      "Saved train 773\n"
     ]
    },
    {
     "name": "stderr",
     "output_type": "stream",
     "text": [
      "775it [00:20, 52.52it/s]"
     ]
    },
    {
     "name": "stdout",
     "output_type": "stream",
     "text": [
      "Saved train 774\n",
      "Saved train 775\n",
      "Saved train 776\n",
      "Saved train 777\n",
      "Saved train 778\n",
      "Saved train 779\n"
     ]
    },
    {
     "name": "stderr",
     "output_type": "stream",
     "text": [
      "790it [00:20, 48.62it/s]"
     ]
    },
    {
     "name": "stdout",
     "output_type": "stream",
     "text": [
      "Saved train 780\n",
      "Saved train 781\n",
      "Saved train 782\n",
      "Saved train 783\n",
      "Saved train 784\n",
      "Saved train 785\n",
      "Saved train 786\n",
      "Saved train 787\n",
      "Saved train 788\n",
      "Saved train 789\n",
      "Saved train 790\n"
     ]
    },
    {
     "name": "stderr",
     "output_type": "stream",
     "text": [
      "804it [00:21, 50.41it/s]"
     ]
    },
    {
     "name": "stdout",
     "output_type": "stream",
     "text": [
      "Saved train 791\n",
      "Saved train 792\n",
      "Saved train 793\n",
      "Saved train 794\n",
      "Saved train 795\n",
      "Saved train 796\n",
      "Saved train 797\n",
      "Saved train 798\n",
      "Saved train 799\n",
      "Saved train 800\n",
      "Saved train 801\n",
      "Saved train 802\n",
      "Saved train 803\n",
      "Saved train 804\n",
      "Saved train 805\n",
      "Saved train 806\n"
     ]
    },
    {
     "name": "stderr",
     "output_type": "stream",
     "text": [
      "811it [00:21, 49.17it/s]"
     ]
    },
    {
     "name": "stdout",
     "output_type": "stream",
     "text": [
      "Saved train 807\n",
      "Saved train 808\n",
      "Saved train 809\n",
      "Saved train 810\n",
      "Saved train 811\n",
      "Saved train 812\n",
      "Saved train 813\n",
      "Saved train 814\n",
      "Saved train 815\n",
      "Saved train 816\n",
      "Saved train 817\n"
     ]
    },
    {
     "name": "stderr",
     "output_type": "stream",
     "text": [
      "819it [00:21, 55.00it/s]"
     ]
    },
    {
     "name": "stdout",
     "output_type": "stream",
     "text": [
      "Saved train 818\n",
      "Saved train 819\n",
      "Saved train 820\n",
      "Saved train 821\n"
     ]
    },
    {
     "name": "stderr",
     "output_type": "stream",
     "text": [
      "833it [00:22, 34.01it/s]"
     ]
    },
    {
     "name": "stdout",
     "output_type": "stream",
     "text": [
      "Saved train 822\n",
      "Saved train 823\n",
      "Saved train 824\n",
      "Saved train 825\n",
      "Saved train 826\n",
      "Saved train 827\n",
      "Saved train 828\n",
      "Saved train 829\n",
      "Saved train 830\n",
      "Saved train 831\n",
      "Saved train 832\n",
      "Saved train 833\n",
      "Saved train 834\n",
      "Saved train 835\n",
      "Saved train 836\n",
      "Saved train 837\n"
     ]
    },
    {
     "name": "stderr",
     "output_type": "stream",
     "text": [
      "850it [00:22, 49.40it/s]"
     ]
    },
    {
     "name": "stdout",
     "output_type": "stream",
     "text": [
      "Saved train 838\n",
      "Saved train 839\n",
      "Saved train 840\n",
      "Saved train 841\n",
      "Saved train 842\n",
      "Saved train 843\n",
      "Saved train 844\n",
      "Saved train 845\n",
      "Saved train 846\n",
      "Saved train 847\n",
      "Saved train 848\n",
      "Saved train 849\n",
      "Saved train 850\n",
      "Saved train 851\n",
      "Saved train 852\n"
     ]
    },
    {
     "name": "stderr",
     "output_type": "stream",
     "text": [
      "865it [00:22, 58.23it/s]"
     ]
    },
    {
     "name": "stdout",
     "output_type": "stream",
     "text": [
      "Saved train 853\n",
      "Saved train 854\n",
      "Saved train 855\n",
      "Saved train 856\n",
      "Saved train 857\n",
      "Saved train 858\n",
      "Saved train 859\n",
      "Saved train 860\n",
      "Saved train 861\n",
      "Saved train 862\n",
      "Saved train 863\n",
      "Saved train 864\n",
      "Saved train 865\n",
      "Saved train 866\n",
      "Saved train 867\n",
      "Saved train 868\n"
     ]
    },
    {
     "name": "stderr",
     "output_type": "stream",
     "text": [
      "872it [00:22, 56.26it/s]"
     ]
    },
    {
     "name": "stdout",
     "output_type": "stream",
     "text": [
      "Saved train 869\n",
      "Saved train 870\n",
      "Saved train 871\n",
      "Saved train 872\n"
     ]
    },
    {
     "name": "stderr",
     "output_type": "stream",
     "text": [
      "887it [00:23, 46.30it/s]"
     ]
    },
    {
     "name": "stdout",
     "output_type": "stream",
     "text": [
      "Saved train 873\n",
      "Saved train 874\n",
      "Saved train 875\n",
      "Saved train 876\n",
      "Saved train 877\n",
      "Saved train 878\n",
      "Saved train 879\n",
      "Saved train 880\n",
      "Saved train 881\n",
      "Saved train 882\n",
      "Saved train 883\n",
      "Saved train 884\n",
      "Saved train 885\n",
      "Saved train 886\n",
      "Saved train 887\n",
      "Saved train 888\n",
      "Saved train 889\n"
     ]
    },
    {
     "name": "stderr",
     "output_type": "stream",
     "text": [
      "895it [00:23, 52.72it/s]"
     ]
    },
    {
     "name": "stdout",
     "output_type": "stream",
     "text": [
      "Saved train 890\n",
      "Saved train 891\n",
      "Saved train 892\n",
      "Saved train 893\n",
      "Saved train 894\n"
     ]
    },
    {
     "name": "stderr",
     "output_type": "stream",
     "text": [
      "910it [00:23, 45.08it/s]"
     ]
    },
    {
     "name": "stdout",
     "output_type": "stream",
     "text": [
      "Saved train 895\n",
      "Saved train 896\n",
      "Saved train 897\n",
      "Saved train 898\n",
      "Saved train 899\n",
      "Saved train 900\n",
      "Saved train 901\n",
      "Saved train 902\n",
      "Saved train 903\n",
      "Saved train 904\n",
      "Saved train 905\n",
      "Saved train 906\n",
      "Saved train 907\n",
      "Saved train 908\n",
      "Saved train 909\n",
      "Saved train 910\n",
      "Saved train 911\n",
      "Saved train 912\n",
      "Saved train 913\n",
      "Saved train 914\n",
      "Saved train 915\n"
     ]
    },
    {
     "name": "stderr",
     "output_type": "stream",
     "text": [
      "925it [00:24, 38.09it/s]"
     ]
    },
    {
     "name": "stdout",
     "output_type": "stream",
     "text": [
      "Saved train 916\n",
      "Saved train 917\n",
      "Saved train 918\n",
      "Saved train 919\n",
      "Saved train 920\n",
      "Saved train 921\n",
      "Saved train 922\n",
      "Saved train 923\n",
      "Saved train 924\n"
     ]
    },
    {
     "name": "stderr",
     "output_type": "stream",
     "text": [
      "933it [00:24, 44.65it/s]"
     ]
    },
    {
     "name": "stdout",
     "output_type": "stream",
     "text": [
      "Saved train 925\n",
      "Saved train 926\n",
      "Saved train 927\n",
      "Saved train 928\n",
      "Saved train 929\n",
      "Saved train 930\n",
      "Saved train 931\n",
      "Saved train 932\n",
      "Saved train 933\n",
      "Saved train 934\n"
     ]
    },
    {
     "name": "stderr",
     "output_type": "stream",
     "text": [
      "947it [00:24, 46.96it/s]"
     ]
    },
    {
     "name": "stdout",
     "output_type": "stream",
     "text": [
      "Saved train 935\n",
      "Saved train 936\n",
      "Saved train 937\n",
      "Saved train 938\n",
      "Saved train 939\n",
      "Saved train 940\n",
      "Saved train 941\n",
      "Saved train 942\n",
      "Saved train 943\n",
      "Saved train 944\n",
      "Saved train 945\n",
      "Saved train 946\n",
      "Saved train 947\n"
     ]
    },
    {
     "name": "stderr",
     "output_type": "stream",
     "text": [
      "955it [00:24, 50.11it/s]"
     ]
    },
    {
     "name": "stdout",
     "output_type": "stream",
     "text": [
      "Saved train 948\n",
      "Saved train 949\n",
      "Saved train 950\n",
      "Saved train 951\n",
      "Saved train 952\n",
      "Saved train 953\n",
      "Saved train 954\n",
      "Saved train 955\n",
      "Saved train 956\n",
      "Saved train 957\n",
      "Saved train 958\n",
      "Saved train 959\n",
      "Saved train 960\n"
     ]
    },
    {
     "name": "stderr",
     "output_type": "stream",
     "text": [
      "962it [00:24, 48.83it/s]"
     ]
    },
    {
     "name": "stdout",
     "output_type": "stream",
     "text": [
      "Saved train 961\n"
     ]
    },
    {
     "name": "stderr",
     "output_type": "stream",
     "text": [
      "976it [00:25, 41.08it/s]"
     ]
    },
    {
     "name": "stdout",
     "output_type": "stream",
     "text": [
      "Saved train 962\n",
      "Saved train 963\n",
      "Saved train 964\n",
      "Saved train 965\n",
      "Saved train 966\n",
      "Saved train 967\n",
      "Saved train 968\n",
      "Saved train 969\n",
      "Saved train 970\n",
      "Saved train 971\n",
      "Saved train 972\n",
      "Saved train 973\n",
      "Saved train 974\n",
      "Saved train 975\n",
      "Saved train 976\n",
      "Saved train 977\n"
     ]
    },
    {
     "name": "stderr",
     "output_type": "stream",
     "text": [
      "990it [00:25, 49.45it/s]"
     ]
    },
    {
     "name": "stdout",
     "output_type": "stream",
     "text": [
      "Saved train 978\n",
      "Saved train 979\n",
      "Saved train 980\n",
      "Saved train 981\n",
      "Saved train 982\n",
      "Saved train 983\n",
      "Saved train 984\n",
      "Saved train 985\n",
      "Saved train 986\n",
      "Saved train 987\n",
      "Saved train 988\n",
      "Saved train 989\n",
      "Saved train 990\n",
      "Saved train 991\n",
      "Saved train 992\n",
      "Saved train 993\n",
      "Saved train 994\n"
     ]
    },
    {
     "name": "stderr",
     "output_type": "stream",
     "text": [
      "1004it [00:25, 42.90it/s]"
     ]
    },
    {
     "name": "stdout",
     "output_type": "stream",
     "text": [
      "Saved train 995\n",
      "Saved train 996\n",
      "Saved train 997\n",
      "Saved train 998\n",
      "Saved train 999\n",
      "Saved train 1000\n",
      "Saved train 1001\n",
      "Saved train 1002\n",
      "Saved train 1003\n",
      "Saved train 1004\n",
      "Saved train 1005\n",
      "Saved train 1006\n",
      "Saved train 1007\n",
      "Saved train 1008\n",
      "Saved train 1009\n",
      "Saved train 1010\n"
     ]
    },
    {
     "name": "stderr",
     "output_type": "stream",
     "text": [
      "1020it [00:26, 54.86it/s]"
     ]
    },
    {
     "name": "stdout",
     "output_type": "stream",
     "text": [
      "Saved train 1011\n",
      "Saved train 1012\n",
      "Saved train 1013\n",
      "Saved train 1014\n",
      "Saved train 1015\n",
      "Saved train 1016\n",
      "Saved train 1017\n",
      "Saved train 1018\n",
      "Saved train 1019\n",
      "Saved train 1020\n",
      "Saved train 1021\n",
      "Saved train 1022\n"
     ]
    },
    {
     "name": "stderr",
     "output_type": "stream",
     "text": [
      "1027it [00:26, 42.46it/s]"
     ]
    },
    {
     "name": "stdout",
     "output_type": "stream",
     "text": [
      "Saved train 1023\n",
      "Saved train 1024\n",
      "Saved train 1025\n",
      "Saved train 1026\n",
      "Saved train 1027\n",
      "Saved train 1028\n",
      "Saved train 1029\n",
      "Saved train 1030\n"
     ]
    },
    {
     "name": "stderr",
     "output_type": "stream",
     "text": [
      "1043it [00:26, 54.99it/s]"
     ]
    },
    {
     "name": "stdout",
     "output_type": "stream",
     "text": [
      "Saved train 1031\n",
      "Saved train 1032\n",
      "Saved train 1033\n",
      "Saved train 1034\n",
      "Saved train 1035\n",
      "Saved train 1036\n",
      "Saved train 1037\n",
      "Saved train 1038\n",
      "Saved train 1039\n",
      "Saved train 1040\n",
      "Saved train 1041\n",
      "Saved train 1042\n",
      "Saved train 1043\n",
      "Saved train 1044\n",
      "Saved train 1045\n",
      "Saved train 1046\n",
      "Saved train 1047\n",
      "Saved train 1048\n"
     ]
    },
    {
     "name": "stderr",
     "output_type": "stream",
     "text": [
      "1058it [00:27, 37.79it/s]"
     ]
    },
    {
     "name": "stdout",
     "output_type": "stream",
     "text": [
      "Saved train 1049\n",
      "Saved train 1050\n",
      "Saved train 1051\n",
      "Saved train 1052\n",
      "Saved train 1053\n",
      "Saved train 1054\n",
      "Saved train 1055\n",
      "Saved train 1056\n",
      "Saved train 1057\n",
      "Saved train 1058\n",
      "Saved train 1059\n",
      "Saved train 1060\n",
      "Saved train 1061\n",
      "Saved train 1062\n",
      "Saved train 1063\n",
      "Saved train 1064\n",
      "Saved train 1065\n"
     ]
    },
    {
     "name": "stderr",
     "output_type": "stream",
     "text": [
      "1075it [00:27, 49.05it/s]"
     ]
    },
    {
     "name": "stdout",
     "output_type": "stream",
     "text": [
      "Saved train 1066\n",
      "Saved train 1067\n",
      "Saved train 1068\n",
      "Saved train 1069\n",
      "Saved train 1070\n",
      "Saved train 1071\n",
      "Saved train 1072\n",
      "Saved train 1073\n",
      "Saved train 1074\n",
      "Saved train 1075\n",
      "Saved train 1076\n",
      "Saved train 1077\n",
      "Saved train 1078\n",
      "Saved train 1079\n",
      "Saved train 1080\n",
      "Saved train 1081\n"
     ]
    },
    {
     "name": "stderr",
     "output_type": "stream",
     "text": [
      "1090it [00:27, 49.44it/s]"
     ]
    },
    {
     "name": "stdout",
     "output_type": "stream",
     "text": [
      "Saved train 1082\n",
      "Saved train 1083\n",
      "Saved train 1084\n",
      "Saved train 1085\n",
      "Saved train 1086\n",
      "Saved train 1087\n",
      "Saved train 1088\n",
      "Saved train 1089\n",
      "Saved train 1090\n"
     ]
    },
    {
     "name": "stderr",
     "output_type": "stream",
     "text": [
      "1097it [00:27, 43.29it/s]"
     ]
    },
    {
     "name": "stdout",
     "output_type": "stream",
     "text": [
      "Saved train 1091\n",
      "Saved train 1092\n",
      "Saved train 1093\n",
      "Saved train 1094\n",
      "Saved train 1095\n",
      "Saved train 1096\n",
      "Saved train 1097\n"
     ]
    },
    {
     "name": "stderr",
     "output_type": "stream",
     "text": [
      "1103it [00:28, 39.84it/s]"
     ]
    },
    {
     "name": "stdout",
     "output_type": "stream",
     "text": [
      "Saved train 1098\n",
      "Saved train 1099\n",
      "Saved train 1100\n",
      "Saved train 1101\n",
      "Saved train 1102\n",
      "Saved train 1103\n",
      "Saved train 1104\n",
      "Saved train 1105\n",
      "Saved train 1106\n",
      "Saved train 1107\n",
      "Saved train 1108\n"
     ]
    },
    {
     "name": "stderr",
     "output_type": "stream",
     "text": [
      "1118it [00:28, 41.92it/s]"
     ]
    },
    {
     "name": "stdout",
     "output_type": "stream",
     "text": [
      "Saved train 1109\n",
      "Saved train 1110\n",
      "Saved train 1111\n",
      "Saved train 1112\n",
      "Saved train 1113\n",
      "Saved train 1114\n",
      "Saved train 1115\n",
      "Saved train 1116\n",
      "Saved train 1117\n",
      "Saved train 1118\n",
      "Saved train 1119\n",
      "Saved train 1120\n",
      "Saved train 1121\n",
      "Saved train 1122\n",
      "Saved train 1123\n",
      "Saved train 1124\n"
     ]
    },
    {
     "name": "stderr",
     "output_type": "stream",
     "text": [
      "1134it [00:28, 54.55it/s]"
     ]
    },
    {
     "name": "stdout",
     "output_type": "stream",
     "text": [
      "Saved train 1125\n",
      "Saved train 1126\n",
      "Saved train 1127\n",
      "Saved train 1128\n",
      "Saved train 1129\n",
      "Saved train 1130\n",
      "Saved train 1131\n",
      "Saved train 1132\n",
      "Saved train 1133\n",
      "Saved train 1134\n"
     ]
    },
    {
     "name": "stderr",
     "output_type": "stream",
     "text": [
      "1149it [00:28, 53.35it/s]"
     ]
    },
    {
     "name": "stdout",
     "output_type": "stream",
     "text": [
      "Saved train 1135\n",
      "Saved train 1136\n",
      "Saved train 1137\n",
      "Saved train 1138\n",
      "Saved train 1139\n",
      "Saved train 1140\n",
      "Saved train 1141\n",
      "Saved train 1142\n",
      "Saved train 1143\n",
      "Saved train 1144\n",
      "Saved train 1145\n",
      "Saved train 1146\n",
      "Saved train 1147\n",
      "Saved train 1148\n",
      "Saved train 1149\n",
      "Saved train 1150\n"
     ]
    },
    {
     "name": "stderr",
     "output_type": "stream",
     "text": [
      "1164it [00:29, 45.64it/s]"
     ]
    },
    {
     "name": "stdout",
     "output_type": "stream",
     "text": [
      "Saved train 1151\n",
      "Saved train 1152\n",
      "Saved train 1153\n",
      "Saved train 1154\n",
      "Saved train 1155\n",
      "Saved train 1156\n",
      "Saved train 1157\n",
      "Saved train 1158\n",
      "Saved train 1159\n",
      "Saved train 1160\n",
      "Saved train 1161\n",
      "Saved train 1162\n",
      "Saved train 1163\n",
      "Saved train 1164\n",
      "Saved train 1165\n"
     ]
    },
    {
     "name": "stderr",
     "output_type": "stream",
     "text": [
      "1170it [00:29, 35.62it/s]"
     ]
    },
    {
     "name": "stdout",
     "output_type": "stream",
     "text": [
      "Saved train 1166\n",
      "Saved train 1167\n",
      "Saved train 1168\n",
      "Saved train 1169\n",
      "Saved train 1170\n",
      "Saved train 1171\n"
     ]
    },
    {
     "name": "stderr",
     "output_type": "stream",
     "text": [
      "1178it [00:29, 43.14it/s]"
     ]
    },
    {
     "name": "stdout",
     "output_type": "stream",
     "text": [
      "Saved train 1172\n",
      "Saved train 1173\n",
      "Saved train 1174\n",
      "Saved train 1175\n",
      "Saved train 1176\n",
      "Saved train 1177\n",
      "Saved train 1178\n",
      "Saved train 1179\n",
      "Saved train 1180\n",
      "Saved train 1181\n",
      "Saved train 1182\n",
      "Saved train 1183\n",
      "Saved train 1184\n"
     ]
    },
    {
     "name": "stderr",
     "output_type": "stream",
     "text": [
      "1194it [00:30, 39.11it/s]"
     ]
    },
    {
     "name": "stdout",
     "output_type": "stream",
     "text": [
      "Saved train 1185\n",
      "Saved train 1186\n",
      "Saved train 1187\n",
      "Saved train 1188\n",
      "Saved train 1189\n",
      "Saved train 1190\n",
      "Saved train 1191\n",
      "Saved train 1192\n",
      "Saved train 1193\n",
      "Saved train 1194\n",
      "Saved train 1195\n",
      "Saved train 1196\n"
     ]
    },
    {
     "name": "stderr",
     "output_type": "stream",
     "text": [
      "1206it [00:30, 41.52it/s]"
     ]
    },
    {
     "name": "stdout",
     "output_type": "stream",
     "text": [
      "Saved train 1197\n",
      "Saved train 1198\n",
      "Saved train 1199\n",
      "Saved train 1200\n",
      "Saved train 1201\n",
      "Saved train 1202\n",
      "Saved train 1203\n",
      "Saved train 1204\n",
      "Saved train 1205\n",
      "Saved train 1206\n",
      "Saved train 1207\n",
      "Saved train 1208\n"
     ]
    },
    {
     "name": "stderr",
     "output_type": "stream",
     "text": [
      "1215it [00:30, 44.71it/s]"
     ]
    },
    {
     "name": "stdout",
     "output_type": "stream",
     "text": [
      "Saved train 1209\n",
      "Saved train 1210\n",
      "Saved train 1211\n",
      "Saved train 1212\n",
      "Saved train 1213\n",
      "Saved train 1214\n",
      "Saved train 1215\n",
      "Saved train 1216\n",
      "Saved train 1217\n",
      "Saved train 1218\n",
      "Saved train 1219\n",
      "Saved train 1220\n"
     ]
    },
    {
     "name": "stderr",
     "output_type": "stream",
     "text": [
      "1222it [00:30, 44.58it/s]"
     ]
    },
    {
     "name": "stdout",
     "output_type": "stream",
     "text": [
      "Saved train 1221\n",
      "Saved train 1222\n",
      "Saved train 1223\n",
      "Saved train 1224\n",
      "Saved train 1225\n"
     ]
    },
    {
     "name": "stderr",
     "output_type": "stream",
     "text": [
      "1232it [00:31, 34.04it/s]"
     ]
    },
    {
     "name": "stdout",
     "output_type": "stream",
     "text": [
      "Saved train 1226\n",
      "Saved train 1227\n",
      "Saved train 1228\n",
      "Saved train 1229\n",
      "Saved train 1230\n",
      "Saved train 1231\n"
     ]
    },
    {
     "name": "stderr",
     "output_type": "stream",
     "text": [
      "1236it [00:31, 28.93it/s]"
     ]
    },
    {
     "name": "stdout",
     "output_type": "stream",
     "text": [
      "Saved train 1232\n",
      "Saved train 1233\n",
      "Saved train 1234\n",
      "Saved train 1235\n",
      "Saved train 1236\n",
      "Saved train 1237\n",
      "Saved train 1238\n",
      "Saved train 1239\n"
     ]
    },
    {
     "name": "stderr",
     "output_type": "stream",
     "text": [
      "1241it [00:31, 26.39it/s]"
     ]
    },
    {
     "name": "stdout",
     "output_type": "stream",
     "text": [
      "Saved train 1240\n",
      "Saved train 1241\n",
      "Saved train 1242\n",
      "Saved train 1243\n",
      "Saved train 1244\n",
      "Saved train 1245\n",
      "Saved train 1246\n",
      "Saved train 1247\n"
     ]
    },
    {
     "name": "stderr",
     "output_type": "stream",
     "text": [
      "1249it [00:31, 29.55it/s]"
     ]
    },
    {
     "name": "stdout",
     "output_type": "stream",
     "text": [
      "Saved train 1248\n",
      "Saved train 1249\n",
      "Saved train 1250\n",
      "Saved train 1251\n"
     ]
    },
    {
     "name": "stderr",
     "output_type": "stream",
     "text": [
      "1261it [00:32, 35.08it/s]"
     ]
    },
    {
     "name": "stdout",
     "output_type": "stream",
     "text": [
      "Saved train 1252\n",
      "Saved train 1253\n",
      "Saved train 1254\n",
      "Saved train 1255\n",
      "Saved train 1256\n",
      "Saved train 1257\n",
      "Saved train 1258\n",
      "Saved train 1259\n",
      "Saved train 1260\n",
      "Saved train 1261\n",
      "Saved train 1262\n",
      "Saved train 1263\n",
      "Saved train 1264\n",
      "Saved train 1265\n",
      "Saved train 1266\n",
      "Saved train 1267\n"
     ]
    },
    {
     "name": "stderr",
     "output_type": "stream",
     "text": [
      "1269it [00:32, 43.67it/s]"
     ]
    },
    {
     "name": "stdout",
     "output_type": "stream",
     "text": [
      "Saved train 1268\n",
      "Saved train 1269\n",
      "Saved train 1270\n",
      "Saved train 1271\n",
      "Saved train 1272\n",
      "Saved train 1273\n"
     ]
    },
    {
     "name": "stderr",
     "output_type": "stream",
     "text": [
      "1282it [00:32, 35.14it/s]"
     ]
    },
    {
     "name": "stdout",
     "output_type": "stream",
     "text": [
      "Saved train 1274\n",
      "Saved train 1275\n",
      "Saved train 1276\n",
      "Saved train 1277\n",
      "Saved train 1278\n",
      "Saved train 1279\n",
      "Saved train 1280\n",
      "Saved train 1281\n",
      "Saved train 1282\n",
      "Saved train 1283\n",
      "Saved train 1284\n",
      "Saved train 1285\n",
      "Saved train 1286\n",
      "Saved train 1287\n",
      "Saved train 1288\n"
     ]
    },
    {
     "name": "stderr",
     "output_type": "stream",
     "text": [
      "1298it [00:33, 50.46it/s]"
     ]
    },
    {
     "name": "stdout",
     "output_type": "stream",
     "text": [
      "Saved train 1289\n",
      "Saved train 1290\n",
      "Saved train 1291\n",
      "Saved train 1292\n",
      "Saved train 1293\n",
      "Saved train 1294\n",
      "Saved train 1295\n",
      "Saved train 1296\n",
      "Saved train 1297\n",
      "Saved train 1298\n",
      "Saved train 1299\n",
      "Saved train 1300\n"
     ]
    },
    {
     "name": "stderr",
     "output_type": "stream",
     "text": [
      "1310it [00:33, 31.22it/s]"
     ]
    },
    {
     "name": "stdout",
     "output_type": "stream",
     "text": [
      "Saved train 1301\n",
      "Saved train 1302\n",
      "Saved train 1303\n",
      "Saved train 1304\n",
      "Saved train 1305\n",
      "Saved train 1306\n",
      "Saved train 1307\n",
      "Saved train 1308\n",
      "Saved train 1309\n"
     ]
    },
    {
     "name": "stderr",
     "output_type": "stream",
     "text": [
      "1324it [00:33, 42.33it/s]"
     ]
    },
    {
     "name": "stdout",
     "output_type": "stream",
     "text": [
      "Saved train 1310\n",
      "Saved train 1311\n",
      "Saved train 1312\n",
      "Saved train 1313\n",
      "Saved train 1314\n",
      "Saved train 1315\n",
      "Saved train 1316\n",
      "Saved train 1317\n",
      "Saved train 1318\n",
      "Saved train 1319\n",
      "Saved train 1320\n",
      "Saved train 1321\n",
      "Saved train 1322\n",
      "Saved train 1323\n"
     ]
    },
    {
     "name": "stderr",
     "output_type": "stream",
     "text": [
      "1330it [00:34, 39.75it/s]"
     ]
    },
    {
     "name": "stdout",
     "output_type": "stream",
     "text": [
      "Saved train 1324\n",
      "Saved train 1325\n",
      "Saved train 1326\n",
      "Saved train 1327\n",
      "Saved train 1328\n",
      "Saved train 1329\n"
     ]
    },
    {
     "name": "stderr",
     "output_type": "stream",
     "text": [
      "1343it [00:34, 39.02it/s]"
     ]
    },
    {
     "name": "stdout",
     "output_type": "stream",
     "text": [
      "Saved train 1330\n",
      "Saved train 1331\n",
      "Saved train 1332\n",
      "Saved train 1333\n",
      "Saved train 1334\n",
      "Saved train 1335\n",
      "Saved train 1336\n",
      "Saved train 1337\n",
      "Saved train 1338\n",
      "Saved train 1339\n",
      "Saved train 1340\n",
      "Saved train 1341\n",
      "Saved train 1342\n",
      "Saved train 1343\n",
      "Saved train 1344\n",
      "Saved train 1345\n",
      "Saved train 1346\n"
     ]
    },
    {
     "name": "stderr",
     "output_type": "stream",
     "text": [
      "1351it [00:34, 46.98it/s]"
     ]
    },
    {
     "name": "stdout",
     "output_type": "stream",
     "text": [
      "Saved train 1347\n",
      "Saved train 1348\n",
      "Saved train 1349\n",
      "Saved train 1350\n",
      "Saved train 1351\n",
      "Saved train 1352\n"
     ]
    },
    {
     "name": "stderr",
     "output_type": "stream",
     "text": [
      "1357it [00:34, 39.82it/s]"
     ]
    },
    {
     "name": "stdout",
     "output_type": "stream",
     "text": [
      "Saved train 1353\n",
      "Saved train 1354\n",
      "Saved train 1355\n",
      "Saved train 1356\n",
      "Saved train 1357\n",
      "Saved train 1358\n"
     ]
    },
    {
     "name": "stderr",
     "output_type": "stream",
     "text": [
      "1362it [00:34, 34.62it/s]"
     ]
    },
    {
     "name": "stdout",
     "output_type": "stream",
     "text": [
      "Saved train 1359\n",
      "Saved train 1360\n",
      "Saved train 1361\n",
      "Saved train 1362\n",
      "Saved train 1363\n",
      "Saved train 1364\n"
     ]
    },
    {
     "name": "stderr",
     "output_type": "stream",
     "text": [
      "1375it [00:35, 33.44it/s]"
     ]
    },
    {
     "name": "stdout",
     "output_type": "stream",
     "text": [
      "Saved train 1365\n",
      "Saved train 1366\n",
      "Saved train 1367\n",
      "Saved train 1368\n",
      "Saved train 1369\n",
      "Saved train 1370\n",
      "Saved train 1371\n",
      "Saved train 1372\n",
      "Saved train 1373\n",
      "Saved train 1374\n",
      "Saved train 1375\n",
      "Saved train 1376\n",
      "Saved train 1377\n",
      "Saved train 1378\n",
      "Saved train 1379\n",
      "Saved train 1380\n"
     ]
    },
    {
     "name": "stderr",
     "output_type": "stream",
     "text": [
      "1389it [00:35, 44.58it/s]"
     ]
    },
    {
     "name": "stdout",
     "output_type": "stream",
     "text": [
      "Saved train 1381\n",
      "Saved train 1382\n",
      "Saved train 1383\n",
      "Saved train 1384\n",
      "Saved train 1385\n",
      "Saved train 1386\n",
      "Saved train 1387\n",
      "Saved train 1388\n",
      "Saved train 1389\n",
      "Saved train 1390\n",
      "Saved train 1391\n",
      "Saved train 1392\n",
      "Saved train 1393\n",
      "Saved train 1394\n"
     ]
    },
    {
     "name": "stderr",
     "output_type": "stream",
     "text": [
      "1397it [00:35, 52.13it/s]"
     ]
    },
    {
     "name": "stdout",
     "output_type": "stream",
     "text": [
      "Saved train 1395\n",
      "Saved train 1396\n",
      "Saved train 1397\n",
      "Saved train 1398\n"
     ]
    },
    {
     "name": "stderr",
     "output_type": "stream",
     "text": [
      "1412it [00:36, 40.23it/s]"
     ]
    },
    {
     "name": "stdout",
     "output_type": "stream",
     "text": [
      "Saved train 1399\n",
      "Saved train 1400\n",
      "Saved train 1401\n",
      "Saved train 1402\n",
      "Saved train 1403\n",
      "Saved train 1404\n",
      "Saved train 1405\n",
      "Saved train 1406\n",
      "Saved train 1407\n",
      "Saved train 1408\n",
      "Saved train 1409\n",
      "Saved train 1410\n",
      "Saved train 1411\n",
      "Saved train 1412\n",
      "Saved train 1413\n"
     ]
    },
    {
     "name": "stderr",
     "output_type": "stream",
     "text": [
      "1426it [00:36, 48.91it/s]"
     ]
    },
    {
     "name": "stdout",
     "output_type": "stream",
     "text": [
      "Saved train 1414\n",
      "Saved train 1415\n",
      "Saved train 1416\n",
      "Saved train 1417\n",
      "Saved train 1418\n",
      "Saved train 1419\n",
      "Saved train 1420\n",
      "Saved train 1421\n",
      "Saved train 1422\n",
      "Saved train 1423\n",
      "Saved train 1424\n",
      "Saved train 1425\n"
     ]
    },
    {
     "name": "stderr",
     "output_type": "stream",
     "text": [
      "1432it [00:36, 47.49it/s]"
     ]
    },
    {
     "name": "stdout",
     "output_type": "stream",
     "text": [
      "Saved train 1426\n",
      "Saved train 1427\n",
      "Saved train 1428\n",
      "Saved train 1429\n",
      "Saved train 1430\n",
      "Saved train 1431\n"
     ]
    },
    {
     "name": "stderr",
     "output_type": "stream",
     "text": [
      "1438it [00:36, 37.65it/s]"
     ]
    },
    {
     "name": "stdout",
     "output_type": "stream",
     "text": [
      "Saved train 1432\n",
      "Saved train 1433\n",
      "Saved train 1434\n",
      "Saved train 1435\n",
      "Saved train 1436\n",
      "Saved train 1437\n",
      "Saved train 1438\n",
      "Saved train 1439\n",
      "Saved train 1440\n",
      "Saved train 1441\n"
     ]
    },
    {
     "name": "stderr",
     "output_type": "stream",
     "text": [
      "1450it [00:37, 45.20it/s]"
     ]
    },
    {
     "name": "stdout",
     "output_type": "stream",
     "text": [
      "Saved train 1442\n",
      "Saved train 1443\n",
      "Saved train 1444\n",
      "Saved train 1445\n",
      "Saved train 1446\n",
      "Saved train 1447\n",
      "Saved train 1448\n",
      "Saved train 1449\n",
      "Saved train 1450\n",
      "Saved train 1451\n",
      "Saved train 1452\n",
      "Saved train 1453\n"
     ]
    },
    {
     "name": "stderr",
     "output_type": "stream",
     "text": [
      "1464it [00:37, 51.47it/s]"
     ]
    },
    {
     "name": "stdout",
     "output_type": "stream",
     "text": [
      "Saved train 1454\n",
      "Saved train 1455\n",
      "Saved train 1456\n",
      "Saved train 1457\n",
      "Saved train 1458\n",
      "Saved train 1459\n",
      "Saved train 1460\n",
      "Saved train 1461\n",
      "Saved train 1462\n",
      "Saved train 1463\n",
      "Saved train 1464\n",
      "Saved train 1465\n"
     ]
    },
    {
     "name": "stderr",
     "output_type": "stream",
     "text": [
      "1470it [00:37, 48.34it/s]"
     ]
    },
    {
     "name": "stdout",
     "output_type": "stream",
     "text": [
      "Saved train 1466\n",
      "Saved train 1467\n",
      "Saved train 1468\n",
      "Saved train 1469\n",
      "Saved train 1470\n",
      "Saved train 1471\n",
      "Saved train 1472\n",
      "Saved train 1473\n",
      "Saved train 1474\n"
     ]
    },
    {
     "name": "stderr",
     "output_type": "stream",
     "text": [
      "1476it [00:37, 50.54it/s]"
     ]
    },
    {
     "name": "stdout",
     "output_type": "stream",
     "text": [
      "Saved train 1475\n",
      "Saved train 1476\n"
     ]
    },
    {
     "name": "stderr",
     "output_type": "stream",
     "text": [
      "1488it [00:37, 40.65it/s]"
     ]
    },
    {
     "name": "stdout",
     "output_type": "stream",
     "text": [
      "Saved train 1477\n",
      "Saved train 1478\n",
      "Saved train 1479\n",
      "Saved train 1480\n",
      "Saved train 1481\n",
      "Saved train 1482\n",
      "Saved train 1483\n",
      "Saved train 1484\n",
      "Saved train 1485\n",
      "Saved train 1486\n",
      "Saved train 1487\n",
      "Saved train 1488\n"
     ]
    },
    {
     "name": "stderr",
     "output_type": "stream",
     "text": [
      "1498it [00:38, 44.26it/s]"
     ]
    },
    {
     "name": "stdout",
     "output_type": "stream",
     "text": [
      "Saved train 1489\n",
      "Saved train 1490\n",
      "Saved train 1491\n",
      "Saved train 1492\n",
      "Saved train 1493\n",
      "Saved train 1494\n",
      "Saved train 1495\n",
      "Saved train 1496\n",
      "Saved train 1497\n"
     ]
    },
    {
     "name": "stderr",
     "output_type": "stream",
     "text": [
      "1509it [00:38, 45.03it/s]"
     ]
    },
    {
     "name": "stdout",
     "output_type": "stream",
     "text": [
      "Saved train 1498\n",
      "Saved train 1499\n",
      "Saved train 1500\n",
      "Saved train 1501\n",
      "Saved train 1502\n",
      "Saved train 1503\n",
      "Saved train 1504\n",
      "Saved train 1505\n",
      "Saved train 1506\n",
      "Saved train 1507\n",
      "Saved train 1508\n",
      "Saved train 1509\n"
     ]
    },
    {
     "name": "stderr",
     "output_type": "stream",
     "text": [
      "1515it [00:38, 46.98it/s]"
     ]
    },
    {
     "name": "stdout",
     "output_type": "stream",
     "text": [
      "Saved train 1510\n",
      "Saved train 1511\n",
      "Saved train 1512\n",
      "Saved train 1513\n",
      "Saved train 1514\n",
      "Saved train 1515\n",
      "Saved train 1516\n",
      "Saved train 1517\n",
      "Saved train 1518\n"
     ]
    },
    {
     "name": "stderr",
     "output_type": "stream",
     "text": [
      "1525it [00:38, 38.20it/s]"
     ]
    },
    {
     "name": "stdout",
     "output_type": "stream",
     "text": [
      "Saved train 1519\n",
      "Saved train 1520\n",
      "Saved train 1521\n",
      "Saved train 1522\n",
      "Saved train 1523\n",
      "Saved train 1524\n",
      "Saved train 1525\n"
     ]
    },
    {
     "name": "stderr",
     "output_type": "stream",
     "text": [
      "1530it [00:38, 38.43it/s]"
     ]
    },
    {
     "name": "stdout",
     "output_type": "stream",
     "text": [
      "Saved train 1526\n",
      "Saved train 1527\n",
      "Saved train 1528\n",
      "Saved train 1529\n",
      "Saved train 1530\n",
      "Saved train 1531\n",
      "Saved train 1532\n",
      "Saved train 1533\n",
      "Saved train 1534\n"
     ]
    },
    {
     "name": "stderr",
     "output_type": "stream",
     "text": [
      "1541it [00:39, 42.48it/s]"
     ]
    },
    {
     "name": "stdout",
     "output_type": "stream",
     "text": [
      "Saved train 1535\n",
      "Saved train 1536\n",
      "Saved train 1537\n",
      "Saved train 1538\n",
      "Saved train 1539\n",
      "Saved train 1540\n",
      "Saved train 1541\n",
      "Saved train 1542\n",
      "Saved train 1543\n"
     ]
    },
    {
     "name": "stderr",
     "output_type": "stream",
     "text": [
      "1551it [00:39, 38.29it/s]"
     ]
    },
    {
     "name": "stdout",
     "output_type": "stream",
     "text": [
      "Saved train 1544\n",
      "Saved train 1545\n",
      "Saved train 1546\n",
      "Saved train 1547\n",
      "Saved train 1548\n",
      "Saved train 1549\n",
      "Saved train 1550\n"
     ]
    },
    {
     "name": "stderr",
     "output_type": "stream",
     "text": [
      "1563it [00:39, 46.13it/s]"
     ]
    },
    {
     "name": "stdout",
     "output_type": "stream",
     "text": [
      "Saved train 1551\n",
      "Saved train 1552\n",
      "Saved train 1553\n",
      "Saved train 1554\n",
      "Saved train 1555\n",
      "Saved train 1556\n",
      "Saved train 1557\n",
      "Saved train 1558\n",
      "Saved train 1559\n",
      "Saved train 1560\n",
      "Saved train 1561\n",
      "Saved train 1562\n"
     ]
    },
    {
     "name": "stderr",
     "output_type": "stream",
     "text": [
      "1569it [00:39, 47.52it/s]"
     ]
    },
    {
     "name": "stdout",
     "output_type": "stream",
     "text": [
      "Saved train 1563\n",
      "Saved train 1564\n",
      "Saved train 1565\n",
      "Saved train 1566\n",
      "Saved train 1567\n",
      "Saved train 1568\n",
      "Saved train 1569\n",
      "Saved train 1570\n",
      "Saved train 1571\n",
      "Saved train 1572\n"
     ]
    },
    {
     "name": "stderr",
     "output_type": "stream",
     "text": [
      "1580it [00:39, 47.64it/s]"
     ]
    },
    {
     "name": "stdout",
     "output_type": "stream",
     "text": [
      "Saved train 1573\n",
      "Saved train 1574\n",
      "Saved train 1575\n",
      "Saved train 1576\n",
      "Saved train 1577\n",
      "Saved train 1578\n",
      "Saved train 1579\n",
      "Saved train 1580\n",
      "Saved train 1581\n"
     ]
    },
    {
     "name": "stderr",
     "output_type": "stream",
     "text": [
      "1590it [00:40, 39.36it/s]"
     ]
    },
    {
     "name": "stdout",
     "output_type": "stream",
     "text": [
      "Saved train 1582\n",
      "Saved train 1583\n",
      "Saved train 1584\n",
      "Saved train 1585\n",
      "Saved train 1586\n",
      "Saved train 1587\n",
      "Saved train 1588\n",
      "Saved train 1589\n"
     ]
    },
    {
     "name": "stderr",
     "output_type": "stream",
     "text": [
      "1602it [00:40, 47.88it/s]"
     ]
    },
    {
     "name": "stdout",
     "output_type": "stream",
     "text": [
      "Saved train 1590\n",
      "Saved train 1591\n",
      "Saved train 1592\n",
      "Saved train 1593\n",
      "Saved train 1594\n",
      "Saved train 1595\n",
      "Saved train 1596\n",
      "Saved train 1597\n",
      "Saved train 1598\n",
      "Saved train 1599\n",
      "Saved train 1600\n",
      "Saved train 1601\n",
      "Saved train 1602\n"
     ]
    },
    {
     "name": "stderr",
     "output_type": "stream",
     "text": [
      "1608it [00:40, 49.16it/s]"
     ]
    },
    {
     "name": "stdout",
     "output_type": "stream",
     "text": [
      "Saved train 1603\n",
      "Saved train 1604\n",
      "Saved train 1605\n",
      "Saved train 1606\n",
      "Saved train 1607\n",
      "Saved train 1608\n"
     ]
    },
    {
     "name": "stderr",
     "output_type": "stream",
     "text": [
      "1614it [00:40, 39.40it/s]"
     ]
    },
    {
     "name": "stdout",
     "output_type": "stream",
     "text": [
      "Saved train 1609\n",
      "Saved train 1610\n",
      "Saved train 1611\n",
      "Saved train 1612\n",
      "Saved train 1613\n",
      "Saved train 1614\n",
      "Saved train 1615\n"
     ]
    },
    {
     "name": "stderr",
     "output_type": "stream",
     "text": [
      "1625it [00:41, 40.73it/s]"
     ]
    },
    {
     "name": "stdout",
     "output_type": "stream",
     "text": [
      "Saved train 1616\n",
      "Saved train 1617\n",
      "Saved train 1618\n",
      "Saved train 1619\n",
      "Saved train 1620\n",
      "Saved train 1621\n",
      "Saved train 1622\n",
      "Saved train 1623\n",
      "Saved train 1624\n",
      "Saved train 1625\n",
      "Saved train 1626\n",
      "Saved train 1627\n"
     ]
    },
    {
     "name": "stderr",
     "output_type": "stream",
     "text": [
      "1637it [00:41, 48.13it/s]"
     ]
    },
    {
     "name": "stdout",
     "output_type": "stream",
     "text": [
      "Saved train 1628\n",
      "Saved train 1629\n",
      "Saved train 1630\n",
      "Saved train 1631\n",
      "Saved train 1632\n",
      "Saved train 1633\n",
      "Saved train 1634\n",
      "Saved train 1635\n",
      "Saved train 1636\n",
      "Saved train 1637\n",
      "Saved train 1638\n",
      "Saved train 1639\n"
     ]
    },
    {
     "name": "stderr",
     "output_type": "stream",
     "text": [
      "1643it [00:41, 39.93it/s]"
     ]
    },
    {
     "name": "stdout",
     "output_type": "stream",
     "text": [
      "Saved train 1640\n",
      "Saved train 1641\n",
      "Saved train 1642\n",
      "Saved train 1643\n",
      "Saved train 1644\n",
      "Saved train 1645\n",
      "Saved train 1646\n"
     ]
    },
    {
     "name": "stderr",
     "output_type": "stream",
     "text": [
      "1650it [00:41, 45.57it/s]"
     ]
    },
    {
     "name": "stdout",
     "output_type": "stream",
     "text": [
      "Saved train 1647\n",
      "Saved train 1648\n",
      "Saved train 1649\n",
      "Saved train 1650\n",
      "Saved train 1651\n",
      "Saved train 1652\n",
      "Saved train 1653\n",
      "Saved train 1654\n"
     ]
    },
    {
     "name": "stderr",
     "output_type": "stream",
     "text": [
      "1662it [00:42, 34.83it/s]"
     ]
    },
    {
     "name": "stdout",
     "output_type": "stream",
     "text": [
      "Saved train 1655\n",
      "Saved train 1656\n",
      "Saved train 1657\n",
      "Saved train 1658\n",
      "Saved train 1659\n",
      "Saved train 1660\n",
      "Saved train 1661\n",
      "Saved train 1662\n",
      "Saved train 1663\n",
      "Saved train 1664\n",
      "Saved train 1665\n"
     ]
    },
    {
     "name": "stderr",
     "output_type": "stream",
     "text": [
      "1672it [00:42, 39.33it/s]"
     ]
    },
    {
     "name": "stdout",
     "output_type": "stream",
     "text": [
      "Saved train 1666\n",
      "Saved train 1667\n",
      "Saved train 1668\n",
      "Saved train 1669\n",
      "Saved train 1670\n",
      "Saved train 1671\n",
      "Saved train 1672\n",
      "Saved train 1673\n",
      "Saved train 1674\n",
      "Saved train 1675\n"
     ]
    },
    {
     "name": "stderr",
     "output_type": "stream",
     "text": [
      "1682it [00:42, 36.94it/s]"
     ]
    },
    {
     "name": "stdout",
     "output_type": "stream",
     "text": [
      "Saved train 1676\n",
      "Saved train 1677\n",
      "Saved train 1678\n",
      "Saved train 1679\n",
      "Saved train 1680\n",
      "Saved train 1681\n",
      "Saved train 1682\n"
     ]
    },
    {
     "name": "stderr",
     "output_type": "stream",
     "text": [
      "1691it [00:42, 31.57it/s]"
     ]
    },
    {
     "name": "stdout",
     "output_type": "stream",
     "text": [
      "Saved train 1683\n",
      "Saved train 1684\n",
      "Saved train 1685\n",
      "Saved train 1686\n",
      "Saved train 1687\n",
      "Saved train 1688\n",
      "Saved train 1689\n",
      "Saved train 1690\n"
     ]
    },
    {
     "name": "stderr",
     "output_type": "stream",
     "text": [
      "1696it [00:43, 34.55it/s]"
     ]
    },
    {
     "name": "stdout",
     "output_type": "stream",
     "text": [
      "Saved train 1691\n",
      "Saved train 1692\n",
      "Saved train 1693\n",
      "Saved train 1694\n",
      "Saved train 1695\n",
      "Saved train 1696\n",
      "Saved train 1697\n",
      "Saved train 1698\n",
      "Saved train 1699\n"
     ]
    },
    {
     "name": "stderr",
     "output_type": "stream",
     "text": [
      "1706it [00:43, 39.27it/s]"
     ]
    },
    {
     "name": "stdout",
     "output_type": "stream",
     "text": [
      "Saved train 1700\n",
      "Saved train 1701\n",
      "Saved train 1702\n",
      "Saved train 1703\n",
      "Saved train 1704\n",
      "Saved train 1705\n",
      "Saved train 1706\n",
      "Saved train 1707\n",
      "Saved train 1708\n"
     ]
    },
    {
     "name": "stderr",
     "output_type": "stream",
     "text": [
      "1716it [00:43, 42.13it/s]"
     ]
    },
    {
     "name": "stdout",
     "output_type": "stream",
     "text": [
      "Saved train 1709\n",
      "Saved train 1710\n",
      "Saved train 1711\n",
      "Saved train 1712\n",
      "Saved train 1713\n",
      "Saved train 1714\n",
      "Saved train 1715\n",
      "Saved train 1716\n",
      "Saved train 1717\n",
      "Saved train 1718\n"
     ]
    },
    {
     "name": "stderr",
     "output_type": "stream",
     "text": [
      "1726it [00:43, 43.31it/s]"
     ]
    },
    {
     "name": "stdout",
     "output_type": "stream",
     "text": [
      "Saved train 1719\n",
      "Saved train 1720\n",
      "Saved train 1721\n",
      "Saved train 1722\n",
      "Saved train 1723\n",
      "Saved train 1724\n",
      "Saved train 1725\n",
      "Saved train 1726\n",
      "Saved train 1727\n"
     ]
    },
    {
     "name": "stderr",
     "output_type": "stream",
     "text": [
      "1736it [00:43, 44.28it/s]"
     ]
    },
    {
     "name": "stdout",
     "output_type": "stream",
     "text": [
      "Saved train 1728\n",
      "Saved train 1729\n",
      "Saved train 1730\n",
      "Saved train 1731\n",
      "Saved train 1732\n",
      "Saved train 1733\n",
      "Saved train 1734\n",
      "Saved train 1735\n",
      "Saved train 1736\n",
      "Saved train 1737\n"
     ]
    },
    {
     "name": "stderr",
     "output_type": "stream",
     "text": [
      "1746it [00:44, 40.78it/s]"
     ]
    },
    {
     "name": "stdout",
     "output_type": "stream",
     "text": [
      "Saved train 1738\n",
      "Saved train 1739\n",
      "Saved train 1740\n",
      "Saved train 1741\n",
      "Saved train 1742\n",
      "Saved train 1743\n",
      "Saved train 1744\n",
      "Saved train 1745\n"
     ]
    },
    {
     "name": "stderr",
     "output_type": "stream",
     "text": [
      "1751it [00:44, 31.57it/s]"
     ]
    },
    {
     "name": "stdout",
     "output_type": "stream",
     "text": [
      "Saved train 1746\n",
      "Saved train 1747\n",
      "Saved train 1748\n",
      "Saved train 1749\n",
      "Saved train 1750\n",
      "Saved train 1751\n",
      "Saved train 1752\n"
     ]
    },
    {
     "name": "stderr",
     "output_type": "stream",
     "text": [
      "1755it [00:44, 28.98it/s]"
     ]
    },
    {
     "name": "stdout",
     "output_type": "stream",
     "text": [
      "Saved train 1753\n",
      "Saved train 1754\n",
      "Saved train 1755\n",
      "Saved train 1756\n",
      "Saved train 1757\n",
      "Saved train 1758\n"
     ]
    },
    {
     "name": "stderr",
     "output_type": "stream",
     "text": [
      "1764it [00:44, 32.26it/s]"
     ]
    },
    {
     "name": "stdout",
     "output_type": "stream",
     "text": [
      "Saved train 1759\n",
      "Saved train 1760\n",
      "Saved train 1761\n",
      "Saved train 1762\n",
      "Saved train 1763\n",
      "Saved train 1764\n",
      "Saved train 1765\n"
     ]
    },
    {
     "name": "stderr",
     "output_type": "stream",
     "text": [
      "1773it [00:45, 32.48it/s]"
     ]
    },
    {
     "name": "stdout",
     "output_type": "stream",
     "text": [
      "Saved train 1766\n",
      "Saved train 1767\n",
      "Saved train 1768\n",
      "Saved train 1769\n",
      "Saved train 1770\n",
      "Saved train 1771\n",
      "Saved train 1772\n"
     ]
    },
    {
     "name": "stderr",
     "output_type": "stream",
     "text": [
      "1777it [00:45, 33.35it/s]"
     ]
    },
    {
     "name": "stdout",
     "output_type": "stream",
     "text": [
      "Saved train 1773\n",
      "Saved train 1774\n",
      "Saved train 1775\n",
      "Saved train 1776\n",
      "Saved train 1777\n"
     ]
    },
    {
     "name": "stderr",
     "output_type": "stream",
     "text": [
      "1781it [00:45, 21.82it/s]"
     ]
    },
    {
     "name": "stdout",
     "output_type": "stream",
     "text": [
      "Saved train 1778\n",
      "Saved train 1779\n",
      "Saved train 1780\n",
      "Saved train 1781\n"
     ]
    },
    {
     "name": "stderr",
     "output_type": "stream",
     "text": [
      "1791it [00:45, 30.01it/s]"
     ]
    },
    {
     "name": "stdout",
     "output_type": "stream",
     "text": [
      "Saved train 1782\n",
      "Saved train 1783\n",
      "Saved train 1784\n",
      "Saved train 1785\n",
      "Saved train 1786\n",
      "Saved train 1787\n",
      "Saved train 1788\n",
      "Saved train 1789\n",
      "Saved train 1790\n"
     ]
    },
    {
     "name": "stderr",
     "output_type": "stream",
     "text": [
      "1796it [00:45, 33.28it/s]"
     ]
    },
    {
     "name": "stdout",
     "output_type": "stream",
     "text": [
      "Saved train 1791\n",
      "Saved train 1792\n",
      "Saved train 1793\n",
      "Saved train 1794\n",
      "Saved train 1795\n",
      "Saved train 1796\n",
      "Saved train 1797\n",
      "Saved train 1798\n",
      "Saved train 1799\n"
     ]
    },
    {
     "name": "stderr",
     "output_type": "stream",
     "text": [
      "1806it [00:46, 38.70it/s]"
     ]
    },
    {
     "name": "stdout",
     "output_type": "stream",
     "text": [
      "Saved train 1800\n",
      "Saved train 1801\n",
      "Saved train 1802\n",
      "Saved train 1803\n",
      "Saved train 1804\n",
      "Saved train 1805\n",
      "Saved train 1806\n",
      "Saved train 1807\n",
      "Saved train 1808\n"
     ]
    },
    {
     "name": "stderr",
     "output_type": "stream",
     "text": [
      "1816it [00:46, 40.85it/s]"
     ]
    },
    {
     "name": "stdout",
     "output_type": "stream",
     "text": [
      "Saved train 1809\n",
      "Saved train 1810\n",
      "Saved train 1811\n",
      "Saved train 1812\n",
      "Saved train 1813\n",
      "Saved train 1814\n",
      "Saved train 1815\n"
     ]
    },
    {
     "name": "stderr",
     "output_type": "stream",
     "text": [
      "1826it [00:46, 36.83it/s]"
     ]
    },
    {
     "name": "stdout",
     "output_type": "stream",
     "text": [
      "Saved train 1816\n",
      "Saved train 1817\n",
      "Saved train 1818\n",
      "Saved train 1819\n",
      "Saved train 1820\n",
      "Saved train 1821\n",
      "Saved train 1822\n",
      "Saved train 1823\n",
      "Saved train 1824\n",
      "Saved train 1825\n",
      "Saved train 1826\n",
      "Saved train 1827\n",
      "Saved train 1828\n",
      "Saved train 1829\n"
     ]
    },
    {
     "name": "stderr",
     "output_type": "stream",
     "text": [
      "1837it [00:47, 35.29it/s]"
     ]
    },
    {
     "name": "stdout",
     "output_type": "stream",
     "text": [
      "Saved train 1830\n",
      "Saved train 1831\n",
      "Saved train 1832\n",
      "Saved train 1833\n",
      "Saved train 1834\n",
      "Saved train 1835\n",
      "Saved train 1836\n",
      "Saved train 1837\n",
      "Saved train 1838\n",
      "Saved train 1839\n",
      "Saved train 1840\n"
     ]
    },
    {
     "name": "stderr",
     "output_type": "stream",
     "text": [
      "1847it [00:47, 40.46it/s]"
     ]
    },
    {
     "name": "stdout",
     "output_type": "stream",
     "text": [
      "Saved train 1841\n",
      "Saved train 1842\n",
      "Saved train 1843\n",
      "Saved train 1844\n",
      "Saved train 1845\n",
      "Saved train 1846\n",
      "Saved train 1847\n"
     ]
    },
    {
     "name": "stderr",
     "output_type": "stream",
     "text": [
      "1857it [00:47, 39.86it/s]"
     ]
    },
    {
     "name": "stdout",
     "output_type": "stream",
     "text": [
      "Saved train 1848\n",
      "Saved train 1849\n",
      "Saved train 1850\n",
      "Saved train 1851\n",
      "Saved train 1852\n",
      "Saved train 1853\n",
      "Saved train 1854\n",
      "Saved train 1855\n",
      "Saved train 1856\n"
     ]
    },
    {
     "name": "stderr",
     "output_type": "stream",
     "text": [
      "1862it [00:47, 37.94it/s]"
     ]
    },
    {
     "name": "stdout",
     "output_type": "stream",
     "text": [
      "Saved train 1857\n",
      "Saved train 1858\n",
      "Saved train 1859\n",
      "Saved train 1860\n",
      "Saved train 1861\n",
      "Saved train 1862\n",
      "Saved train 1863\n",
      "Saved train 1864\n"
     ]
    },
    {
     "name": "stderr",
     "output_type": "stream",
     "text": [
      "1871it [00:47, 34.62it/s]"
     ]
    },
    {
     "name": "stdout",
     "output_type": "stream",
     "text": [
      "Saved train 1865\n",
      "Saved train 1866\n",
      "Saved train 1867\n",
      "Saved train 1868\n",
      "Saved train 1869\n",
      "Saved train 1870\n",
      "Saved train 1871\n",
      "Saved train 1872\n",
      "Saved train 1873\n",
      "Saved train 1874\n"
     ]
    },
    {
     "name": "stderr",
     "output_type": "stream",
     "text": [
      "1881it [00:48, 33.78it/s]"
     ]
    },
    {
     "name": "stdout",
     "output_type": "stream",
     "text": [
      "Saved train 1875\n",
      "Saved train 1876\n",
      "Saved train 1877\n",
      "Saved train 1878\n",
      "Saved train 1879\n",
      "Saved train 1880\n"
     ]
    },
    {
     "name": "stderr",
     "output_type": "stream",
     "text": [
      "1891it [00:48, 39.91it/s]"
     ]
    },
    {
     "name": "stdout",
     "output_type": "stream",
     "text": [
      "Saved train 1881\n",
      "Saved train 1882\n",
      "Saved train 1883\n",
      "Saved train 1884\n",
      "Saved train 1885\n",
      "Saved train 1886\n",
      "Saved train 1887\n",
      "Saved train 1888\n",
      "Saved train 1889\n",
      "Saved train 1890\n"
     ]
    },
    {
     "name": "stderr",
     "output_type": "stream",
     "text": [
      "1896it [00:48, 30.65it/s]"
     ]
    },
    {
     "name": "stdout",
     "output_type": "stream",
     "text": [
      "Saved train 1891\n",
      "Saved train 1892\n",
      "Saved train 1893\n",
      "Saved train 1894\n",
      "Saved train 1895\n",
      "Saved train 1896\n",
      "Saved train 1897\n"
     ]
    },
    {
     "name": "stderr",
     "output_type": "stream",
     "text": [
      "1907it [00:49, 30.42it/s]"
     ]
    },
    {
     "name": "stdout",
     "output_type": "stream",
     "text": [
      "Saved train 1898\n",
      "Saved train 1899\n",
      "Saved train 1900\n",
      "Saved train 1901\n",
      "Saved train 1902\n",
      "Saved train 1903\n",
      "Saved train 1904\n",
      "Saved train 1905\n",
      "Saved train 1906\n",
      "Saved train 1907\n",
      "Saved train 1908\n"
     ]
    },
    {
     "name": "stderr",
     "output_type": "stream",
     "text": [
      "1911it [00:49, 25.31it/s]"
     ]
    },
    {
     "name": "stdout",
     "output_type": "stream",
     "text": [
      "Saved train 1909\n",
      "Saved train 1910\n",
      "Saved train 1911\n"
     ]
    },
    {
     "name": "stderr",
     "output_type": "stream",
     "text": [
      "1921it [00:49, 33.00it/s]"
     ]
    },
    {
     "name": "stdout",
     "output_type": "stream",
     "text": [
      "Saved train 1912\n",
      "Saved train 1913\n",
      "Saved train 1914\n",
      "Saved train 1915\n",
      "Saved train 1916\n",
      "Saved train 1917\n",
      "Saved train 1918\n",
      "Saved train 1919\n",
      "Saved train 1920\n",
      "Saved train 1921\n"
     ]
    },
    {
     "name": "stderr",
     "output_type": "stream",
     "text": [
      "1926it [00:49, 35.23it/s]"
     ]
    },
    {
     "name": "stdout",
     "output_type": "stream",
     "text": [
      "Saved train 1922\n",
      "Saved train 1923\n",
      "Saved train 1924\n",
      "Saved train 1925\n",
      "Saved train 1926\n",
      "Saved train 1927\n"
     ]
    },
    {
     "name": "stderr",
     "output_type": "stream",
     "text": [
      "1935it [00:49, 35.21it/s]"
     ]
    },
    {
     "name": "stdout",
     "output_type": "stream",
     "text": [
      "Saved train 1928\n",
      "Saved train 1929\n",
      "Saved train 1930\n",
      "Saved train 1931\n",
      "Saved train 1932\n",
      "Saved train 1933\n",
      "Saved train 1934\n",
      "Saved train 1935\n",
      "Saved train 1936\n"
     ]
    },
    {
     "name": "stderr",
     "output_type": "stream",
     "text": [
      "1940it [00:50, 37.30it/s]"
     ]
    },
    {
     "name": "stdout",
     "output_type": "stream",
     "text": [
      "Saved train 1937\n",
      "Saved train 1938\n",
      "Saved train 1939\n",
      "Saved train 1940\n",
      "Saved train 1941\n",
      "Saved train 1942\n"
     ]
    },
    {
     "name": "stderr",
     "output_type": "stream",
     "text": [
      "1949it [00:50, 35.73it/s]"
     ]
    },
    {
     "name": "stdout",
     "output_type": "stream",
     "text": [
      "Saved train 1943\n",
      "Saved train 1944\n",
      "Saved train 1945\n",
      "Saved train 1946\n",
      "Saved train 1947\n",
      "Saved train 1948\n",
      "Saved train 1949\n",
      "Saved train 1950\n",
      "Saved train 1951\n",
      "Saved train 1952\n"
     ]
    },
    {
     "name": "stderr",
     "output_type": "stream",
     "text": [
      "1959it [00:50, 38.63it/s]"
     ]
    },
    {
     "name": "stdout",
     "output_type": "stream",
     "text": [
      "Saved train 1953\n",
      "Saved train 1954\n",
      "Saved train 1955\n",
      "Saved train 1956\n",
      "Saved train 1957\n",
      "Saved train 1958\n",
      "Saved train 1959\n",
      "Saved train 1960\n",
      "Saved train 1961\n"
     ]
    },
    {
     "name": "stderr",
     "output_type": "stream",
     "text": [
      "1970it [00:50, 43.57it/s]"
     ]
    },
    {
     "name": "stdout",
     "output_type": "stream",
     "text": [
      "Saved train 1962\n",
      "Saved train 1963\n",
      "Saved train 1964\n",
      "Saved train 1965\n",
      "Saved train 1966\n",
      "Saved train 1967\n",
      "Saved train 1968\n",
      "Saved train 1969\n",
      "Saved train 1970\n",
      "Saved train 1971\n"
     ]
    },
    {
     "name": "stderr",
     "output_type": "stream",
     "text": [
      "1980it [00:51, 43.06it/s]"
     ]
    },
    {
     "name": "stdout",
     "output_type": "stream",
     "text": [
      "Saved train 1972\n",
      "Saved train 1973\n",
      "Saved train 1974\n",
      "Saved train 1975\n",
      "Saved train 1976\n",
      "Saved train 1977\n",
      "Saved train 1978\n",
      "Saved train 1979\n",
      "Saved train 1980\n"
     ]
    },
    {
     "name": "stderr",
     "output_type": "stream",
     "text": [
      "1990it [00:51, 43.45it/s]"
     ]
    },
    {
     "name": "stdout",
     "output_type": "stream",
     "text": [
      "Saved train 1981\n",
      "Saved train 1982\n",
      "Saved train 1983\n",
      "Saved train 1984\n",
      "Saved train 1985\n",
      "Saved train 1986\n",
      "Saved train 1987\n",
      "Saved train 1988\n",
      "Saved train 1989\n"
     ]
    },
    {
     "name": "stderr",
     "output_type": "stream",
     "text": [
      "1995it [00:51, 41.73it/s]"
     ]
    },
    {
     "name": "stdout",
     "output_type": "stream",
     "text": [
      "Saved train 1990\n",
      "Saved train 1991\n",
      "Saved train 1992\n",
      "Saved train 1993\n",
      "Saved train 1994\n",
      "Saved train 1995\n",
      "Saved train 1996\n"
     ]
    },
    {
     "name": "stderr",
     "output_type": "stream",
     "text": [
      "2006it [00:51, 40.12it/s]"
     ]
    },
    {
     "name": "stdout",
     "output_type": "stream",
     "text": [
      "Saved train 1997\n",
      "Saved train 1998\n",
      "Saved train 1999\n",
      "Saved train 2000\n",
      "Saved train 2001\n",
      "Saved train 2002\n",
      "Saved train 2003\n",
      "Saved train 2004\n",
      "Saved train 2005\n",
      "Saved train 2006\n",
      "Saved train 2007\n"
     ]
    },
    {
     "name": "stderr",
     "output_type": "stream",
     "text": [
      "2020it [00:51, 48.05it/s]"
     ]
    },
    {
     "name": "stdout",
     "output_type": "stream",
     "text": [
      "Saved train 2008\n",
      "Saved train 2009\n",
      "Saved train 2010\n",
      "Saved train 2011\n",
      "Saved train 2012\n",
      "Saved train 2013\n",
      "Saved train 2014\n",
      "Saved train 2015\n",
      "Saved train 2016\n",
      "Saved train 2017\n",
      "Saved train 2018\n",
      "Saved train 2019\n"
     ]
    },
    {
     "name": "stderr",
     "output_type": "stream",
     "text": [
      "2028it [00:52, 55.58it/s]"
     ]
    },
    {
     "name": "stdout",
     "output_type": "stream",
     "text": [
      "Saved train 2020\n",
      "Saved train 2021\n",
      "Saved train 2022\n",
      "Saved train 2023\n",
      "Saved train 2024\n",
      "Saved train 2025\n",
      "Saved train 2026\n",
      "Saved train 2027\n",
      "Saved train 2028\n",
      "Saved train 2029\n"
     ]
    },
    {
     "name": "stderr",
     "output_type": "stream",
     "text": [
      "2042it [00:52, 39.54it/s]"
     ]
    },
    {
     "name": "stdout",
     "output_type": "stream",
     "text": [
      "Saved train 2030\n",
      "Saved train 2031\n",
      "Saved train 2032\n",
      "Saved train 2033\n",
      "Saved train 2034\n",
      "Saved train 2035\n",
      "Saved train 2036\n",
      "Saved train 2037\n",
      "Saved train 2038\n",
      "Saved train 2039\n",
      "Saved train 2040\n",
      "Saved train 2041\n",
      "Saved train 2042\n",
      "Saved train 2043\n",
      "Saved train 2044\n"
     ]
    },
    {
     "name": "stderr",
     "output_type": "stream",
     "text": [
      "2054it [00:52, 43.99it/s]"
     ]
    },
    {
     "name": "stdout",
     "output_type": "stream",
     "text": [
      "Saved train 2045\n",
      "Saved train 2046\n",
      "Saved train 2047\n",
      "Saved train 2048\n",
      "Saved train 2049\n",
      "Saved train 2050\n",
      "Saved train 2051\n",
      "Saved train 2052\n",
      "Saved train 2053\n",
      "Saved train 2054\n"
     ]
    },
    {
     "name": "stderr",
     "output_type": "stream",
     "text": [
      "2060it [00:53, 38.61it/s]"
     ]
    },
    {
     "name": "stdout",
     "output_type": "stream",
     "text": [
      "Saved train 2055\n",
      "Saved train 2056\n",
      "Saved train 2057\n",
      "Saved train 2058\n",
      "Saved train 2059\n",
      "Saved train 2060\n"
     ]
    },
    {
     "name": "stderr",
     "output_type": "stream",
     "text": [
      "2068it [00:53, 44.73it/s]"
     ]
    },
    {
     "name": "stdout",
     "output_type": "stream",
     "text": [
      "Saved train 2061\n",
      "Saved train 2062\n",
      "Saved train 2063\n",
      "Saved train 2064\n",
      "Saved train 2065\n",
      "Saved train 2066\n",
      "Saved train 2067\n",
      "Saved train 2068\n",
      "Saved train 2069\n",
      "Saved train 2070\n",
      "Saved train 2071\n",
      "Saved train 2072\n",
      "Saved train 2073\n"
     ]
    },
    {
     "name": "stderr",
     "output_type": "stream",
     "text": [
      "2081it [00:53, 44.31it/s]"
     ]
    },
    {
     "name": "stdout",
     "output_type": "stream",
     "text": [
      "Saved train 2074\n",
      "Saved train 2075\n",
      "Saved train 2076\n",
      "Saved train 2077\n",
      "Saved train 2078\n",
      "Saved train 2079\n",
      "Saved train 2080\n",
      "Saved train 2081\n"
     ]
    },
    {
     "name": "stderr",
     "output_type": "stream",
     "text": [
      "2086it [00:53, 43.99it/s]"
     ]
    },
    {
     "name": "stdout",
     "output_type": "stream",
     "text": [
      "Saved train 2082\n",
      "Saved train 2083\n",
      "Saved train 2084\n",
      "Saved train 2085\n",
      "Saved train 2086\n",
      "Saved train 2087\n",
      "Saved train 2088\n",
      "Saved train 2089\n",
      "Saved train 2090\n",
      "Saved train 2091\n"
     ]
    },
    {
     "name": "stderr",
     "output_type": "stream",
     "text": [
      "2101it [00:54, 39.32it/s]"
     ]
    },
    {
     "name": "stdout",
     "output_type": "stream",
     "text": [
      "Saved train 2092\n",
      "Saved train 2093\n",
      "Saved train 2094\n",
      "Saved train 2095\n",
      "Saved train 2096\n",
      "Saved train 2097\n",
      "Saved train 2098\n",
      "Saved train 2099\n",
      "Saved train 2100\n",
      "Saved train 2101\n",
      "Saved train 2102\n",
      "Saved train 2103\n",
      "Saved train 2104\n",
      "Saved train 2105\n",
      "Saved train 2106\n",
      "Saved train 2107\n"
     ]
    },
    {
     "name": "stderr",
     "output_type": "stream",
     "text": [
      "2109it [00:54, 46.80it/s]"
     ]
    },
    {
     "name": "stdout",
     "output_type": "stream",
     "text": [
      "Saved train 2108\n",
      "Saved train 2109\n",
      "Saved train 2110\n",
      "Saved train 2111\n",
      "Saved train 2112\n",
      "Saved train 2113\n",
      "Saved train 2114\n"
     ]
    },
    {
     "name": "stderr",
     "output_type": "stream",
     "text": [
      "2123it [00:54, 47.87it/s]"
     ]
    },
    {
     "name": "stdout",
     "output_type": "stream",
     "text": [
      "Saved train 2115\n",
      "Saved train 2116\n",
      "Saved train 2117\n",
      "Saved train 2118\n",
      "Saved train 2119\n",
      "Saved train 2120\n",
      "Saved train 2121\n",
      "Saved train 2122\n",
      "Saved train 2123\n",
      "Saved train 2124\n",
      "Saved train 2125\n"
     ]
    },
    {
     "name": "stderr",
     "output_type": "stream",
     "text": [
      "2137it [00:54, 53.92it/s]"
     ]
    },
    {
     "name": "stdout",
     "output_type": "stream",
     "text": [
      "Saved train 2126\n",
      "Saved train 2127\n",
      "Saved train 2128\n",
      "Saved train 2129\n",
      "Saved train 2130\n",
      "Saved train 2131\n",
      "Saved train 2132\n",
      "Saved train 2133\n",
      "Saved train 2134\n",
      "Saved train 2135\n",
      "Saved train 2136\n",
      "Saved train 2137\n"
     ]
    },
    {
     "name": "stderr",
     "output_type": "stream",
     "text": [
      "2150it [00:54, 49.08it/s]"
     ]
    },
    {
     "name": "stdout",
     "output_type": "stream",
     "text": [
      "Saved train 2138\n",
      "Saved train 2139\n",
      "Saved train 2140\n",
      "Saved train 2141\n",
      "Saved train 2142\n",
      "Saved train 2143\n",
      "Saved train 2144\n",
      "Saved train 2145\n",
      "Saved train 2146\n",
      "Saved train 2147\n",
      "Saved train 2148\n",
      "Saved train 2149\n",
      "Saved train 2150\n",
      "Saved train 2151\n"
     ]
    },
    {
     "name": "stderr",
     "output_type": "stream",
     "text": [
      "2156it [00:55, 39.17it/s]\n"
     ]
    },
    {
     "name": "stdout",
     "output_type": "stream",
     "text": [
      "Saved train 2152\n",
      "Saved train 2153\n",
      "Saved train 2154\n",
      "Saved train 2155\n"
     ]
    },
    {
     "name": "stderr",
     "output_type": "stream",
     "text": [
      "5it [00:00, 45.35it/s]"
     ]
    },
    {
     "name": "stdout",
     "output_type": "stream",
     "text": [
      "Saved valid 0\n",
      "Saved valid 1\n",
      "Saved valid 2\n",
      "Saved valid 3\n",
      "Saved valid 4\n",
      "Saved valid 5\n",
      "Saved valid 6\n"
     ]
    },
    {
     "name": "stderr",
     "output_type": "stream",
     "text": [
      "18it [00:00, 40.72it/s]"
     ]
    },
    {
     "name": "stdout",
     "output_type": "stream",
     "text": [
      "Saved valid 7\n",
      "Saved valid 8\n",
      "Saved valid 9\n",
      "Saved valid 10\n",
      "Saved valid 11\n",
      "Saved valid 12\n",
      "Saved valid 13\n",
      "Saved valid 14\n",
      "Saved valid 15\n",
      "Saved valid 16\n",
      "Saved valid 17\n",
      "Saved valid 18\n",
      "Saved valid 19\n",
      "Saved valid 20\n",
      "Saved valid 21\n"
     ]
    },
    {
     "name": "stderr",
     "output_type": "stream",
     "text": [
      "29it [00:00, 35.67it/s]"
     ]
    },
    {
     "name": "stdout",
     "output_type": "stream",
     "text": [
      "Saved valid 22\n",
      "Saved valid 23\n",
      "Saved valid 24\n",
      "Saved valid 25\n",
      "Saved valid 26\n",
      "Saved valid 27\n",
      "Saved valid 28\n",
      "Saved valid 29\n"
     ]
    },
    {
     "name": "stderr",
     "output_type": "stream",
     "text": [
      "37it [00:00, 44.97it/s]"
     ]
    },
    {
     "name": "stdout",
     "output_type": "stream",
     "text": [
      "Saved valid 30\n",
      "Saved valid 31\n",
      "Saved valid 32\n",
      "Saved valid 33\n",
      "Saved valid 34\n",
      "Saved valid 35\n",
      "Saved valid 36\n",
      "Saved valid 37\n",
      "Saved valid 38\n",
      "Saved valid 39\n",
      "Saved valid 40\n"
     ]
    },
    {
     "name": "stderr",
     "output_type": "stream",
     "text": [
      "51it [00:01, 46.78it/s]"
     ]
    },
    {
     "name": "stdout",
     "output_type": "stream",
     "text": [
      "Saved valid 41\n",
      "Saved valid 42\n",
      "Saved valid 43\n",
      "Saved valid 44\n",
      "Saved valid 45\n",
      "Saved valid 46\n",
      "Saved valid 47\n",
      "Saved valid 48\n",
      "Saved valid 49\n",
      "Saved valid 50\n",
      "Saved valid 51\n",
      "Saved valid 52\n",
      "Saved valid 53\n"
     ]
    },
    {
     "name": "stderr",
     "output_type": "stream",
     "text": [
      "63it [00:01, 43.61it/s]"
     ]
    },
    {
     "name": "stdout",
     "output_type": "stream",
     "text": [
      "Saved valid 54\n",
      "Saved valid 55\n",
      "Saved valid 56\n",
      "Saved valid 57\n",
      "Saved valid 58\n",
      "Saved valid 59\n",
      "Saved valid 60\n",
      "Saved valid 61\n",
      "Saved valid 62\n"
     ]
    },
    {
     "name": "stderr",
     "output_type": "stream",
     "text": [
      "68it [00:01, 41.80it/s]"
     ]
    },
    {
     "name": "stdout",
     "output_type": "stream",
     "text": [
      "Saved valid 63\n",
      "Saved valid 64\n",
      "Saved valid 65\n",
      "Saved valid 66\n",
      "Saved valid 67\n",
      "Saved valid 68\n",
      "Saved valid 69\n",
      "Saved valid 70\n",
      "Saved valid 71\n",
      "Saved valid 72\n"
     ]
    },
    {
     "name": "stderr",
     "output_type": "stream",
     "text": [
      "83it [00:02, 43.80it/s]"
     ]
    },
    {
     "name": "stdout",
     "output_type": "stream",
     "text": [
      "Saved valid 73\n",
      "Saved valid 74\n",
      "Saved valid 75\n",
      "Saved valid 76\n",
      "Saved valid 77\n",
      "Saved valid 78\n",
      "Saved valid 79\n",
      "Saved valid 80\n",
      "Saved valid 81\n",
      "Saved valid 82\n",
      "Saved valid 83\n",
      "Saved valid 84\n"
     ]
    },
    {
     "name": "stderr",
     "output_type": "stream",
     "text": [
      "89it [00:02, 42.12it/s]"
     ]
    },
    {
     "name": "stdout",
     "output_type": "stream",
     "text": [
      "Saved valid 85\n",
      "Saved valid 86\n",
      "Saved valid 87\n",
      "Saved valid 88\n",
      "Saved valid 89\n",
      "Saved valid 90\n",
      "Saved valid 91\n",
      "Saved valid 92\n",
      "Saved valid 93\n",
      "Saved valid 94\n",
      "Saved valid 95\n"
     ]
    },
    {
     "name": "stderr",
     "output_type": "stream",
     "text": [
      "97it [00:02, 40.29it/s]"
     ]
    },
    {
     "name": "stdout",
     "output_type": "stream",
     "text": [
      "Saved valid 96\n"
     ]
    },
    {
     "name": "stderr",
     "output_type": "stream",
     "text": [
      "110it [00:02, 40.34it/s]"
     ]
    },
    {
     "name": "stdout",
     "output_type": "stream",
     "text": [
      "Saved valid 97\n",
      "Saved valid 98\n",
      "Saved valid 99\n",
      "Saved valid 100\n",
      "Saved valid 101\n",
      "Saved valid 102\n",
      "Saved valid 103\n",
      "Saved valid 104\n",
      "Saved valid 105\n",
      "Saved valid 106\n",
      "Saved valid 107\n",
      "Saved valid 108\n",
      "Saved valid 109\n",
      "Saved valid 110\n",
      "Saved valid 111\n",
      "Saved valid 112\n"
     ]
    },
    {
     "name": "stderr",
     "output_type": "stream",
     "text": [
      "118it [00:02, 47.92it/s]"
     ]
    },
    {
     "name": "stdout",
     "output_type": "stream",
     "text": [
      "Saved valid 113\n",
      "Saved valid 114\n",
      "Saved valid 115\n",
      "Saved valid 116\n",
      "Saved valid 117\n",
      "Saved valid 118\n",
      "Saved valid 119\n",
      "Saved valid 120\n",
      "Saved valid 121\n",
      "Saved valid 122\n",
      "Saved valid 123\n"
     ]
    },
    {
     "name": "stderr",
     "output_type": "stream",
     "text": [
      "132it [00:03, 45.66it/s]"
     ]
    },
    {
     "name": "stdout",
     "output_type": "stream",
     "text": [
      "Saved valid 124\n",
      "Saved valid 125\n",
      "Saved valid 126\n",
      "Saved valid 127\n",
      "Saved valid 128\n",
      "Saved valid 129\n",
      "Saved valid 130\n",
      "Saved valid 131\n",
      "Saved valid 132\n",
      "Saved valid 133\n",
      "Saved valid 134\n",
      "Saved valid 135\n",
      "Saved valid 136\n",
      "Saved valid 137\n",
      "Saved valid 138\n"
     ]
    },
    {
     "name": "stderr",
     "output_type": "stream",
     "text": [
      "140it [00:03, 52.40it/s]"
     ]
    },
    {
     "name": "stdout",
     "output_type": "stream",
     "text": [
      "Saved valid 139\n",
      "Saved valid 140\n",
      "Saved valid 141\n",
      "Saved valid 142\n",
      "Saved valid 143\n",
      "Saved valid 144\n",
      "Saved valid 145\n"
     ]
    },
    {
     "name": "stderr",
     "output_type": "stream",
     "text": [
      "155it [00:03, 47.69it/s]"
     ]
    },
    {
     "name": "stdout",
     "output_type": "stream",
     "text": [
      "Saved valid 146\n",
      "Saved valid 147\n",
      "Saved valid 148\n",
      "Saved valid 149\n",
      "Saved valid 150\n",
      "Saved valid 151\n",
      "Saved valid 152\n",
      "Saved valid 153\n",
      "Saved valid 154\n",
      "Saved valid 155\n",
      "Saved valid 156\n",
      "Saved valid 157\n",
      "Saved valid 158\n",
      "Saved valid 159\n",
      "Saved valid 160\n"
     ]
    },
    {
     "name": "stderr",
     "output_type": "stream",
     "text": [
      "162it [00:03, 51.24it/s]"
     ]
    },
    {
     "name": "stdout",
     "output_type": "stream",
     "text": [
      "Saved valid 161\n",
      "Saved valid 162\n",
      "Saved valid 163\n",
      "Saved valid 164\n"
     ]
    },
    {
     "name": "stderr",
     "output_type": "stream",
     "text": [
      "175it [00:04, 36.62it/s]"
     ]
    },
    {
     "name": "stdout",
     "output_type": "stream",
     "text": [
      "Saved valid 165\n",
      "Saved valid 166\n",
      "Saved valid 167\n",
      "Saved valid 168\n",
      "Saved valid 169\n",
      "Saved valid 170\n",
      "Saved valid 171\n",
      "Saved valid 172\n",
      "Saved valid 173\n",
      "Saved valid 174\n",
      "Saved valid 175\n",
      "Saved valid 176\n",
      "Saved valid 177\n",
      "Saved valid 178\n"
     ]
    },
    {
     "name": "stderr",
     "output_type": "stream",
     "text": [
      "184it [00:04, 45.53it/s]"
     ]
    },
    {
     "name": "stdout",
     "output_type": "stream",
     "text": [
      "Saved valid 179\n",
      "Saved valid 180\n",
      "Saved valid 181\n",
      "Saved valid 182\n",
      "Saved valid 183\n",
      "Saved valid 184\n",
      "Saved valid 185\n"
     ]
    },
    {
     "name": "stderr",
     "output_type": "stream",
     "text": [
      "197it [00:04, 41.11it/s]"
     ]
    },
    {
     "name": "stdout",
     "output_type": "stream",
     "text": [
      "Saved valid 186\n",
      "Saved valid 187\n",
      "Saved valid 188\n",
      "Saved valid 189\n",
      "Saved valid 190\n",
      "Saved valid 191\n",
      "Saved valid 192\n",
      "Saved valid 193\n",
      "Saved valid 194\n",
      "Saved valid 195\n",
      "Saved valid 196\n"
     ]
    },
    {
     "name": "stderr",
     "output_type": "stream",
     "text": [
      "207it [00:05, 42.26it/s]"
     ]
    },
    {
     "name": "stdout",
     "output_type": "stream",
     "text": [
      "Saved valid 197\n",
      "Saved valid 198\n",
      "Saved valid 199\n",
      "Saved valid 200\n",
      "Saved valid 201\n",
      "Saved valid 202\n",
      "Saved valid 203\n",
      "Saved valid 204\n",
      "Saved valid 205\n",
      "Saved valid 206\n",
      "Saved valid 207\n",
      "Saved valid 208\n",
      "Saved valid 209\n"
     ]
    },
    {
     "name": "stderr",
     "output_type": "stream",
     "text": [
      "212it [00:05, 41.14it/s]"
     ]
    },
    {
     "name": "stdout",
     "output_type": "stream",
     "text": [
      "Saved valid 210\n",
      "Saved valid 211\n",
      "Saved valid 212\n",
      "Saved valid 213\n"
     ]
    },
    {
     "name": "stderr",
     "output_type": "stream",
     "text": [
      "225it [00:05, 45.11it/s]"
     ]
    },
    {
     "name": "stdout",
     "output_type": "stream",
     "text": [
      "Saved valid 214\n",
      "Saved valid 215\n",
      "Saved valid 216\n",
      "Saved valid 217\n",
      "Saved valid 218\n",
      "Saved valid 219\n",
      "Saved valid 220\n",
      "Saved valid 221\n",
      "Saved valid 222\n",
      "Saved valid 223\n",
      "Saved valid 224\n",
      "Saved valid 225\n",
      "Saved valid 226\n"
     ]
    },
    {
     "name": "stderr",
     "output_type": "stream",
     "text": [
      "231it [00:05, 41.16it/s]"
     ]
    },
    {
     "name": "stdout",
     "output_type": "stream",
     "text": [
      "Saved valid 227\n",
      "Saved valid 228\n",
      "Saved valid 229\n",
      "Saved valid 230\n",
      "Saved valid 231\n"
     ]
    },
    {
     "name": "stderr",
     "output_type": "stream",
     "text": [
      "243it [00:05, 40.82it/s]"
     ]
    },
    {
     "name": "stdout",
     "output_type": "stream",
     "text": [
      "Saved valid 232\n",
      "Saved valid 233\n",
      "Saved valid 234\n",
      "Saved valid 235\n",
      "Saved valid 236\n",
      "Saved valid 237\n",
      "Saved valid 238\n",
      "Saved valid 239\n",
      "Saved valid 240\n",
      "Saved valid 241\n",
      "Saved valid 242\n",
      "Saved valid 243\n",
      "Saved valid 244\n"
     ]
    },
    {
     "name": "stderr",
     "output_type": "stream",
     "text": [
      "248it [00:06, 34.99it/s]"
     ]
    },
    {
     "name": "stdout",
     "output_type": "stream",
     "text": [
      "Saved valid 245\n",
      "Saved valid 246\n",
      "Saved valid 247\n",
      "Saved valid 248\n",
      "Saved valid 249\n",
      "Saved valid 250\n",
      "Saved valid 251\n",
      "Saved valid 252\n",
      "Saved valid 253\n",
      "Saved valid 254\n"
     ]
    },
    {
     "name": "stderr",
     "output_type": "stream",
     "text": [
      "256it [00:06, 37.64it/s]"
     ]
    },
    {
     "name": "stdout",
     "output_type": "stream",
     "text": [
      "Saved valid 255\n",
      "Saved valid 256\n",
      "Saved valid 257\n",
      "Saved valid 258\n",
      "Saved valid 259\n"
     ]
    },
    {
     "name": "stderr",
     "output_type": "stream",
     "text": [
      "269it [00:06, 40.30it/s]\n"
     ]
    },
    {
     "name": "stdout",
     "output_type": "stream",
     "text": [
      "Saved valid 260\n",
      "Saved valid 261\n",
      "Saved valid 262\n",
      "Saved valid 263\n",
      "Saved valid 264\n",
      "Saved valid 265\n",
      "Saved valid 266\n",
      "Saved valid 267\n",
      "Saved valid 268\n"
     ]
    },
    {
     "name": "stderr",
     "output_type": "stream",
     "text": [
      "0it [00:00, ?it/s]"
     ]
    },
    {
     "name": "stdout",
     "output_type": "stream",
     "text": [
      "Saved test 0\n",
      "Saved test 1\n"
     ]
    },
    {
     "name": "stderr",
     "output_type": "stream",
     "text": [
      "4it [00:00, 36.41it/s]"
     ]
    },
    {
     "name": "stdout",
     "output_type": "stream",
     "text": [
      "Saved test 2\n",
      "Saved test 3\n",
      "Saved test 4\n",
      "Saved test 5\n",
      "Saved test 6\n",
      "Saved test 7\n"
     ]
    },
    {
     "name": "stderr",
     "output_type": "stream",
     "text": [
      "9it [00:00, 31.09it/s]"
     ]
    },
    {
     "name": "stdout",
     "output_type": "stream",
     "text": [
      "Saved test 8\n"
     ]
    },
    {
     "name": "stderr",
     "output_type": "stream",
     "text": [
      "16it [00:00, 44.26it/s]"
     ]
    },
    {
     "name": "stdout",
     "output_type": "stream",
     "text": [
      "Saved test 9\n",
      "Saved test 10\n",
      "Saved test 11\n",
      "Saved test 12\n",
      "Saved test 13\n",
      "Saved test 14\n",
      "Saved test 15\n",
      "Saved test 16\n",
      "Saved test 17\n",
      "Saved test 18\n",
      "Saved test 19\n",
      "Saved test 20\n"
     ]
    },
    {
     "name": "stderr",
     "output_type": "stream",
     "text": [
      "22it [00:00, 48.27it/s]"
     ]
    },
    {
     "name": "stdout",
     "output_type": "stream",
     "text": [
      "Saved test 21\n",
      "Saved test 22\n",
      "Saved test 23\n",
      "Saved test 24\n",
      "Saved test 25\n",
      "Saved test 26\n"
     ]
    },
    {
     "name": "stderr",
     "output_type": "stream",
     "text": [
      "36it [00:00, 37.14it/s]"
     ]
    },
    {
     "name": "stdout",
     "output_type": "stream",
     "text": [
      "Saved test 27\n",
      "Saved test 28\n",
      "Saved test 29\n",
      "Saved test 30\n",
      "Saved test 31\n",
      "Saved test 32\n",
      "Saved test 33\n",
      "Saved test 34\n",
      "Saved test 35\n",
      "Saved test 36\n",
      "Saved test 37\n",
      "Saved test 38\n",
      "Saved test 39\n",
      "Saved test 40\n"
     ]
    },
    {
     "name": "stderr",
     "output_type": "stream",
     "text": [
      "50it [00:01, 44.65it/s]"
     ]
    },
    {
     "name": "stdout",
     "output_type": "stream",
     "text": [
      "Saved test 41\n",
      "Saved test 42\n",
      "Saved test 43\n",
      "Saved test 44\n",
      "Saved test 45\n",
      "Saved test 46\n",
      "Saved test 47\n",
      "Saved test 48\n",
      "Saved test 49\n",
      "Saved test 50\n",
      "Saved test 51\n",
      "Saved test 52\n",
      "Saved test 53\n",
      "Saved test 54\n",
      "Saved test 55\n",
      "Saved test 56\n"
     ]
    },
    {
     "name": "stderr",
     "output_type": "stream",
     "text": [
      "66it [00:01, 39.58it/s]"
     ]
    },
    {
     "name": "stdout",
     "output_type": "stream",
     "text": [
      "Saved test 57\n",
      "Saved test 58\n",
      "Saved test 59\n",
      "Saved test 60\n",
      "Saved test 61\n",
      "Saved test 62\n",
      "Saved test 63\n",
      "Saved test 64\n",
      "Saved test 65\n",
      "Saved test 66\n",
      "Saved test 67\n",
      "Saved test 68\n",
      "Saved test 69\n",
      "Saved test 70\n",
      "Saved test 71\n",
      "Saved test 72\n"
     ]
    },
    {
     "name": "stderr",
     "output_type": "stream",
     "text": [
      "74it [00:01, 47.07it/s]"
     ]
    },
    {
     "name": "stdout",
     "output_type": "stream",
     "text": [
      "Saved test 73\n",
      "Saved test 74\n",
      "Saved test 75\n",
      "Saved test 76\n",
      "Saved test 77\n",
      "Saved test 78\n",
      "Saved test 79\n"
     ]
    },
    {
     "name": "stderr",
     "output_type": "stream",
     "text": [
      "87it [00:02, 43.68it/s]"
     ]
    },
    {
     "name": "stdout",
     "output_type": "stream",
     "text": [
      "Saved test 80\n",
      "Saved test 81\n",
      "Saved test 82\n",
      "Saved test 83\n",
      "Saved test 84\n",
      "Saved test 85\n",
      "Saved test 86\n",
      "Saved test 87\n",
      "Saved test 88\n",
      "Saved test 89\n",
      "Saved test 90\n",
      "Saved test 91\n"
     ]
    },
    {
     "name": "stderr",
     "output_type": "stream",
     "text": [
      "102it [00:02, 51.68it/s]"
     ]
    },
    {
     "name": "stdout",
     "output_type": "stream",
     "text": [
      "Saved test 92\n",
      "Saved test 93\n",
      "Saved test 94\n",
      "Saved test 95\n",
      "Saved test 96\n",
      "Saved test 97\n",
      "Saved test 98\n",
      "Saved test 99\n",
      "Saved test 100\n",
      "Saved test 101\n",
      "Saved test 102\n",
      "Saved test 103\n",
      "Saved test 104\n",
      "Saved test 105\n"
     ]
    },
    {
     "name": "stderr",
     "output_type": "stream",
     "text": [
      "108it [00:02, 35.67it/s]"
     ]
    },
    {
     "name": "stdout",
     "output_type": "stream",
     "text": [
      "Saved test 106\n",
      "Saved test 107\n",
      "Saved test 108\n",
      "Saved test 109\n",
      "Saved test 110\n",
      "Saved test 111\n"
     ]
    },
    {
     "name": "stderr",
     "output_type": "stream",
     "text": [
      "122it [00:03, 42.36it/s]"
     ]
    },
    {
     "name": "stdout",
     "output_type": "stream",
     "text": [
      "Saved test 112\n",
      "Saved test 113\n",
      "Saved test 114\n",
      "Saved test 115\n",
      "Saved test 116\n",
      "Saved test 117\n",
      "Saved test 118\n",
      "Saved test 119\n",
      "Saved test 120\n",
      "Saved test 121\n",
      "Saved test 122\n",
      "Saved test 123\n",
      "Saved test 124\n",
      "Saved test 125\n",
      "Saved test 126\n"
     ]
    },
    {
     "name": "stderr",
     "output_type": "stream",
     "text": [
      "136it [00:03, 40.28it/s]"
     ]
    },
    {
     "name": "stdout",
     "output_type": "stream",
     "text": [
      "Saved test 127\n",
      "Saved test 128\n",
      "Saved test 129\n",
      "Saved test 130\n",
      "Saved test 131\n",
      "Saved test 132\n",
      "Saved test 133\n",
      "Saved test 134\n",
      "Saved test 135\n",
      "Saved test 136\n",
      "Saved test 137\n",
      "Saved test 138\n",
      "Saved test 139\n",
      "Saved test 140\n",
      "Saved test 141\n",
      "Saved test 142\n"
     ]
    },
    {
     "name": "stderr",
     "output_type": "stream",
     "text": [
      "144it [00:03, 47.77it/s]"
     ]
    },
    {
     "name": "stdout",
     "output_type": "stream",
     "text": [
      "Saved test 143\n",
      "Saved test 144\n"
     ]
    },
    {
     "name": "stderr",
     "output_type": "stream",
     "text": [
      "151it [00:03, 31.58it/s]"
     ]
    },
    {
     "name": "stdout",
     "output_type": "stream",
     "text": [
      "Saved test 145\n",
      "Saved test 146\n",
      "Saved test 147\n",
      "Saved test 148\n",
      "Saved test 149\n",
      "Saved test 150\n",
      "Saved test 151\n",
      "Saved test 152\n",
      "Saved test 153\n",
      "Saved test 154\n",
      "Saved test 155\n",
      "Saved test 156\n",
      "Saved test 157\n"
     ]
    },
    {
     "name": "stderr",
     "output_type": "stream",
     "text": [
      "159it [00:04, 38.49it/s]"
     ]
    },
    {
     "name": "stdout",
     "output_type": "stream",
     "text": [
      "Saved test 158\n",
      "Saved test 159\n",
      "Saved test 160\n",
      "Saved test 161\n",
      "Saved test 162\n"
     ]
    },
    {
     "name": "stderr",
     "output_type": "stream",
     "text": [
      "171it [00:04, 35.17it/s]"
     ]
    },
    {
     "name": "stdout",
     "output_type": "stream",
     "text": [
      "Saved test 163\n",
      "Saved test 164\n",
      "Saved test 165\n",
      "Saved test 166\n",
      "Saved test 167\n",
      "Saved test 168\n",
      "Saved test 169\n",
      "Saved test 170\n",
      "Saved test 171\n",
      "Saved test 172\n",
      "Saved test 173\n",
      "Saved test 174\n",
      "Saved test 175\n"
     ]
    },
    {
     "name": "stderr",
     "output_type": "stream",
     "text": [
      "185it [00:04, 47.37it/s]"
     ]
    },
    {
     "name": "stdout",
     "output_type": "stream",
     "text": [
      "Saved test 176\n",
      "Saved test 177\n",
      "Saved test 178\n",
      "Saved test 179\n",
      "Saved test 180\n",
      "Saved test 181\n",
      "Saved test 182\n",
      "Saved test 183\n",
      "Saved test 184\n",
      "Saved test 185\n",
      "Saved test 186\n",
      "Saved test 187\n"
     ]
    },
    {
     "name": "stderr",
     "output_type": "stream",
     "text": [
      "191it [00:04, 47.05it/s]"
     ]
    },
    {
     "name": "stdout",
     "output_type": "stream",
     "text": [
      "Saved test 188\n",
      "Saved test 189\n",
      "Saved test 190\n",
      "Saved test 191\n",
      "Saved test 192\n"
     ]
    },
    {
     "name": "stderr",
     "output_type": "stream",
     "text": [
      "206it [00:05, 45.81it/s]"
     ]
    },
    {
     "name": "stdout",
     "output_type": "stream",
     "text": [
      "Saved test 193\n",
      "Saved test 194\n",
      "Saved test 195\n",
      "Saved test 196\n",
      "Saved test 197\n",
      "Saved test 198\n",
      "Saved test 199\n",
      "Saved test 200\n",
      "Saved test 201\n",
      "Saved test 202\n",
      "Saved test 203\n",
      "Saved test 204\n",
      "Saved test 205\n",
      "Saved test 206\n",
      "Saved test 207\n",
      "Saved test 208\n",
      "Saved test 209\n"
     ]
    },
    {
     "name": "stderr",
     "output_type": "stream",
     "text": [
      "219it [00:05, 38.22it/s]"
     ]
    },
    {
     "name": "stdout",
     "output_type": "stream",
     "text": [
      "Saved test 210\n",
      "Saved test 211\n",
      "Saved test 212\n",
      "Saved test 213\n",
      "Saved test 214\n",
      "Saved test 215\n",
      "Saved test 216\n",
      "Saved test 217\n",
      "Saved test 218\n",
      "Saved test 219\n",
      "Saved test 220\n",
      "Saved test 221\n",
      "Saved test 222\n",
      "Saved test 223\n",
      "Saved test 224\n",
      "Saved test 225\n"
     ]
    },
    {
     "name": "stderr",
     "output_type": "stream",
     "text": [
      "235it [00:06, 36.36it/s]"
     ]
    },
    {
     "name": "stdout",
     "output_type": "stream",
     "text": [
      "Saved test 226\n",
      "Saved test 227\n",
      "Saved test 228\n",
      "Saved test 229\n",
      "Saved test 230\n",
      "Saved test 231\n",
      "Saved test 232\n",
      "Saved test 233\n",
      "Saved test 234\n",
      "Saved test 235\n",
      "Saved test 236\n",
      "Saved test 237\n",
      "Saved test 238\n",
      "Saved test 239\n",
      "Saved test 240\n",
      "Saved test 241\n",
      "Saved test 242\n"
     ]
    },
    {
     "name": "stderr",
     "output_type": "stream",
     "text": [
      "244it [00:06, 44.77it/s]"
     ]
    },
    {
     "name": "stdout",
     "output_type": "stream",
     "text": [
      "Saved test 243\n",
      "Saved test 244\n",
      "Saved test 245\n",
      "Saved test 246\n",
      "Saved test 247\n",
      "Saved test 248\n",
      "Saved test 249\n",
      "Saved test 250\n"
     ]
    },
    {
     "name": "stderr",
     "output_type": "stream",
     "text": [
      "259it [00:06, 39.11it/s]"
     ]
    },
    {
     "name": "stdout",
     "output_type": "stream",
     "text": [
      "Saved test 251\n",
      "Saved test 252\n",
      "Saved test 253\n",
      "Saved test 254\n",
      "Saved test 255\n",
      "Saved test 256\n",
      "Saved test 257\n",
      "Saved test 258\n",
      "Saved test 259\n",
      "Saved test 260\n",
      "Saved test 261\n"
     ]
    },
    {
     "name": "stderr",
     "output_type": "stream",
     "text": [
      "270it [00:07, 38.32it/s]\n"
     ]
    },
    {
     "name": "stdout",
     "output_type": "stream",
     "text": [
      "Saved test 262\n",
      "Saved test 263\n",
      "Saved test 264\n",
      "Saved test 265\n",
      "Saved test 266\n",
      "Saved test 267\n",
      "Saved test 268\n",
      "Saved test 269\n"
     ]
    },
    {
     "name": "stderr",
     "output_type": "stream",
     "text": [
      "7it [00:00, 66.55it/s]"
     ]
    },
    {
     "name": "stdout",
     "output_type": "stream",
     "text": [
      "Saved train 0\n",
      "Saved train 1\n",
      "Saved train 2\n",
      "Saved train 3\n",
      "Saved train 4\n",
      "Saved train 5\n",
      "Saved train 6\n",
      "Saved train 7\n",
      "Saved train 8\n",
      "Saved train 9\n",
      "Saved train 10\n",
      "Saved train 11\n",
      "Saved train 12\n",
      "Saved train 13\n",
      "Saved train 14\n"
     ]
    },
    {
     "name": "stderr",
     "output_type": "stream",
     "text": [
      "22it [00:00, 40.22it/s]"
     ]
    },
    {
     "name": "stdout",
     "output_type": "stream",
     "text": [
      "Saved train 15\n",
      "Saved train 16\n",
      "Saved train 17\n",
      "Saved train 18\n",
      "Saved train 19\n",
      "Saved train 20\n",
      "Saved train 21\n",
      "Saved train 22\n"
     ]
    },
    {
     "name": "stderr",
     "output_type": "stream",
     "text": [
      "27it [00:00, 40.87it/s]"
     ]
    },
    {
     "name": "stdout",
     "output_type": "stream",
     "text": [
      "Saved train 23\n",
      "Saved train 24\n",
      "Saved train 25\n",
      "Saved train 26\n",
      "Saved train 27\n",
      "Saved train 28\n",
      "Saved train 29\n",
      "Saved train 30\n",
      "Saved train 31\n"
     ]
    },
    {
     "name": "stderr",
     "output_type": "stream",
     "text": [
      "37it [00:00, 34.80it/s]"
     ]
    },
    {
     "name": "stdout",
     "output_type": "stream",
     "text": [
      "Saved train 32\n",
      "Saved train 33\n",
      "Saved train 34\n",
      "Saved train 35\n",
      "Saved train 36\n",
      "Saved train 37\n",
      "Saved train 38\n",
      "Saved train 39\n",
      "Saved train 40\n"
     ]
    },
    {
     "name": "stderr",
     "output_type": "stream",
     "text": [
      "43it [00:01, 36.17it/s]"
     ]
    },
    {
     "name": "stdout",
     "output_type": "stream",
     "text": [
      "Saved train 41\n",
      "Saved train 42\n",
      "Saved train 43\n",
      "Saved train 44\n",
      "Saved train 45\n",
      "Saved train 46\n",
      "Saved train 47\n"
     ]
    },
    {
     "name": "stderr",
     "output_type": "stream",
     "text": [
      "58it [00:01, 45.78it/s]"
     ]
    },
    {
     "name": "stdout",
     "output_type": "stream",
     "text": [
      "Saved train 48\n",
      "Saved train 49\n",
      "Saved train 50\n",
      "Saved train 51\n",
      "Saved train 52\n",
      "Saved train 53\n",
      "Saved train 54\n",
      "Saved train 55\n",
      "Saved train 56\n",
      "Saved train 57\n",
      "Saved train 58\n",
      "Saved train 59\n",
      "Saved train 60\n",
      "Saved train 61\n"
     ]
    },
    {
     "name": "stderr",
     "output_type": "stream",
     "text": [
      "70it [00:01, 49.03it/s]"
     ]
    },
    {
     "name": "stdout",
     "output_type": "stream",
     "text": [
      "Saved train 62\n",
      "Saved train 63\n",
      "Saved train 64\n",
      "Saved train 65\n",
      "Saved train 66\n",
      "Saved train 67\n",
      "Saved train 68\n",
      "Saved train 69\n",
      "Saved train 70\n",
      "Saved train 71\n",
      "Saved train 72\n",
      "Saved train 73\n",
      "Saved train 74\n"
     ]
    },
    {
     "name": "stderr",
     "output_type": "stream",
     "text": [
      "78it [00:01, 55.67it/s]"
     ]
    },
    {
     "name": "stdout",
     "output_type": "stream",
     "text": [
      "Saved train 75\n",
      "Saved train 76\n",
      "Saved train 77\n",
      "Saved train 78\n",
      "Saved train 79\n",
      "Saved train 80\n",
      "Saved train 81\n"
     ]
    },
    {
     "name": "stderr",
     "output_type": "stream",
     "text": [
      "89it [00:02, 38.61it/s]"
     ]
    },
    {
     "name": "stdout",
     "output_type": "stream",
     "text": [
      "Saved train 82\n",
      "Saved train 83\n",
      "Saved train 84\n",
      "Saved train 85\n",
      "Saved train 86\n",
      "Saved train 87\n",
      "Saved train 88\n",
      "Saved train 89\n",
      "Saved train 90\n",
      "Saved train 91\n",
      "Saved train 92\n",
      "Saved train 93\n"
     ]
    },
    {
     "name": "stderr",
     "output_type": "stream",
     "text": [
      "103it [00:02, 46.46it/s]"
     ]
    },
    {
     "name": "stdout",
     "output_type": "stream",
     "text": [
      "Saved train 94\n",
      "Saved train 95\n",
      "Saved train 96\n",
      "Saved train 97\n",
      "Saved train 98\n",
      "Saved train 99\n",
      "Saved train 100\n",
      "Saved train 101\n",
      "Saved train 102\n",
      "Saved train 103\n",
      "Saved train 104\n",
      "Saved train 105\n"
     ]
    },
    {
     "name": "stderr",
     "output_type": "stream",
     "text": [
      "118it [00:02, 47.53it/s]"
     ]
    },
    {
     "name": "stdout",
     "output_type": "stream",
     "text": [
      "Saved train 106\n",
      "Saved train 107\n",
      "Saved train 108\n",
      "Saved train 109\n",
      "Saved train 110\n",
      "Saved train 111\n",
      "Saved train 112\n",
      "Saved train 113\n",
      "Saved train 114\n",
      "Saved train 115\n",
      "Saved train 116\n",
      "Saved train 117\n",
      "Saved train 118\n",
      "Saved train 119\n",
      "Saved train 120\n",
      "Saved train 121\n"
     ]
    },
    {
     "name": "stderr",
     "output_type": "stream",
     "text": [
      "129it [00:03, 29.84it/s]"
     ]
    },
    {
     "name": "stdout",
     "output_type": "stream",
     "text": [
      "Saved train 122\n",
      "Saved train 123\n",
      "Saved train 124\n",
      "Saved train 125\n",
      "Saved train 126\n",
      "Saved train 127\n",
      "Saved train 128\n",
      "Saved train 129\n",
      "Saved train 130\n",
      "Saved train 131\n",
      "Saved train 132\n",
      "Saved train 133\n",
      "Saved train 134\n",
      "Saved train 135\n"
     ]
    },
    {
     "name": "stderr",
     "output_type": "stream",
     "text": [
      "147it [00:03, 48.01it/s]"
     ]
    },
    {
     "name": "stdout",
     "output_type": "stream",
     "text": [
      "Saved train 136\n",
      "Saved train 137\n",
      "Saved train 138\n",
      "Saved train 139\n",
      "Saved train 140\n",
      "Saved train 141\n",
      "Saved train 142\n",
      "Saved train 143\n",
      "Saved train 144\n",
      "Saved train 145\n",
      "Saved train 146\n",
      "Saved train 147\n",
      "Saved train 148\n",
      "Saved train 149\n",
      "Saved train 150\n",
      "Saved train 151\n"
     ]
    },
    {
     "name": "stderr",
     "output_type": "stream",
     "text": [
      "162it [00:04, 37.36it/s]"
     ]
    },
    {
     "name": "stdout",
     "output_type": "stream",
     "text": [
      "Saved train 152\n",
      "Saved train 153\n",
      "Saved train 154\n",
      "Saved train 155\n",
      "Saved train 156\n",
      "Saved train 157\n",
      "Saved train 158\n",
      "Saved train 159\n",
      "Saved train 160\n",
      "Saved train 161\n",
      "Saved train 162\n",
      "Saved train 163\n",
      "Saved train 164\n",
      "Saved train 165\n",
      "Saved train 166\n",
      "Saved train 167\n"
     ]
    },
    {
     "name": "stderr",
     "output_type": "stream",
     "text": [
      "170it [00:04, 44.68it/s]"
     ]
    },
    {
     "name": "stdout",
     "output_type": "stream",
     "text": [
      "Saved train 168\n",
      "Saved train 169\n"
     ]
    },
    {
     "name": "stderr",
     "output_type": "stream",
     "text": [
      "185it [00:04, 44.74it/s]"
     ]
    },
    {
     "name": "stdout",
     "output_type": "stream",
     "text": [
      "Saved train 170\n",
      "Saved train 171\n",
      "Saved train 172\n",
      "Saved train 173\n",
      "Saved train 174\n",
      "Saved train 175\n",
      "Saved train 176\n",
      "Saved train 177\n",
      "Saved train 178\n",
      "Saved train 179\n",
      "Saved train 180\n",
      "Saved train 181\n",
      "Saved train 182\n",
      "Saved train 183\n",
      "Saved train 184\n",
      "Saved train 185\n",
      "Saved train 186\n"
     ]
    },
    {
     "name": "stderr",
     "output_type": "stream",
     "text": [
      "192it [00:04, 42.70it/s]"
     ]
    },
    {
     "name": "stdout",
     "output_type": "stream",
     "text": [
      "Saved train 187\n",
      "Saved train 188\n",
      "Saved train 189\n",
      "Saved train 190\n",
      "Saved train 191\n",
      "Saved train 192\n",
      "Saved train 193\n",
      "Saved train 194\n",
      "Saved train 195\n"
     ]
    },
    {
     "name": "stderr",
     "output_type": "stream",
     "text": [
      "200it [00:04, 50.02it/s]"
     ]
    },
    {
     "name": "stdout",
     "output_type": "stream",
     "text": [
      "Saved train 196\n",
      "Saved train 197\n",
      "Saved train 198\n",
      "Saved train 199\n",
      "Saved train 200\n",
      "Saved train 201\n",
      "Saved train 202\n"
     ]
    },
    {
     "name": "stderr",
     "output_type": "stream",
     "text": [
      "207it [00:05, 44.38it/s]"
     ]
    },
    {
     "name": "stdout",
     "output_type": "stream",
     "text": [
      "Saved train 203\n",
      "Saved train 204\n",
      "Saved train 205\n",
      "Saved train 206\n",
      "Saved train 207\n",
      "Saved train 208\n",
      "Saved train 209\n",
      "Saved train 210\n",
      "Saved train 211\n",
      "Saved train 212\n"
     ]
    },
    {
     "name": "stderr",
     "output_type": "stream",
     "text": [
      "223it [00:05, 39.60it/s]"
     ]
    },
    {
     "name": "stdout",
     "output_type": "stream",
     "text": [
      "Saved train 213\n",
      "Saved train 214\n",
      "Saved train 215\n",
      "Saved train 216\n",
      "Saved train 217\n",
      "Saved train 218\n",
      "Saved train 219\n",
      "Saved train 220\n",
      "Saved train 221\n",
      "Saved train 222\n",
      "Saved train 223\n",
      "Saved train 224\n",
      "Saved train 225\n",
      "Saved train 226\n",
      "Saved train 227\n",
      "Saved train 228\n"
     ]
    },
    {
     "name": "stderr",
     "output_type": "stream",
     "text": [
      "231it [00:05, 46.53it/s]"
     ]
    },
    {
     "name": "stdout",
     "output_type": "stream",
     "text": [
      "Saved train 229\n",
      "Saved train 230\n",
      "Saved train 231\n",
      "Saved train 232\n",
      "Saved train 233\n",
      "Saved train 234\n",
      "Saved train 235\n"
     ]
    },
    {
     "name": "stderr",
     "output_type": "stream",
     "text": [
      "246it [00:06, 40.12it/s]"
     ]
    },
    {
     "name": "stdout",
     "output_type": "stream",
     "text": [
      "Saved train 236\n",
      "Saved train 237\n",
      "Saved train 238\n",
      "Saved train 239\n",
      "Saved train 240\n",
      "Saved train 241\n",
      "Saved train 242\n",
      "Saved train 243\n",
      "Saved train 244\n",
      "Saved train 245\n",
      "Saved train 246\n"
     ]
    },
    {
     "name": "stderr",
     "output_type": "stream",
     "text": [
      "254it [00:06, 46.90it/s]"
     ]
    },
    {
     "name": "stdout",
     "output_type": "stream",
     "text": [
      "Saved train 247\n",
      "Saved train 248\n",
      "Saved train 249\n",
      "Saved train 250\n",
      "Saved train 251\n",
      "Saved train 252\n",
      "Saved train 253\n",
      "Saved train 254\n",
      "Saved train 255\n",
      "Saved train 256\n",
      "Saved train 257\n",
      "Saved train 258\n"
     ]
    },
    {
     "name": "stderr",
     "output_type": "stream",
     "text": [
      "268it [00:06, 53.79it/s]"
     ]
    },
    {
     "name": "stdout",
     "output_type": "stream",
     "text": [
      "Saved train 259\n",
      "Saved train 260\n",
      "Saved train 261\n",
      "Saved train 262\n",
      "Saved train 263\n",
      "Saved train 264\n",
      "Saved train 265\n",
      "Saved train 266\n",
      "Saved train 267\n",
      "Saved train 268\n",
      "Saved train 269\n",
      "Saved train 270\n"
     ]
    },
    {
     "name": "stderr",
     "output_type": "stream",
     "text": [
      "275it [00:06, 38.71it/s]"
     ]
    },
    {
     "name": "stdout",
     "output_type": "stream",
     "text": [
      "Saved train 271\n",
      "Saved train 272\n",
      "Saved train 273\n",
      "Saved train 274\n"
     ]
    },
    {
     "name": "stderr",
     "output_type": "stream",
     "text": [
      "284it [00:06, 47.23it/s]"
     ]
    },
    {
     "name": "stdout",
     "output_type": "stream",
     "text": [
      "Saved train 275\n",
      "Saved train 276\n",
      "Saved train 277\n",
      "Saved train 278\n",
      "Saved train 279\n",
      "Saved train 280\n",
      "Saved train 281\n",
      "Saved train 282\n",
      "Saved train 283\n",
      "Saved train 284\n",
      "Saved train 285\n",
      "Saved train 286\n"
     ]
    },
    {
     "name": "stderr",
     "output_type": "stream",
     "text": [
      "290it [00:07, 39.65it/s]"
     ]
    },
    {
     "name": "stdout",
     "output_type": "stream",
     "text": [
      "Saved train 287\n",
      "Saved train 288\n",
      "Saved train 289\n",
      "Saved train 290\n",
      "Saved train 291\n",
      "Saved train 292\n",
      "Saved train 293\n",
      "Saved train 294\n",
      "Saved train 295\n"
     ]
    },
    {
     "name": "stderr",
     "output_type": "stream",
     "text": [
      "299it [00:07, 47.04it/s]"
     ]
    },
    {
     "name": "stdout",
     "output_type": "stream",
     "text": [
      "Saved train 296\n",
      "Saved train 297\n",
      "Saved train 298\n",
      "Saved train 299\n",
      "Saved train 300\n",
      "Saved train 301\n",
      "Saved train 302\n",
      "Saved train 303\n"
     ]
    },
    {
     "name": "stderr",
     "output_type": "stream",
     "text": [
      "313it [00:07, 41.52it/s]"
     ]
    },
    {
     "name": "stdout",
     "output_type": "stream",
     "text": [
      "Saved train 304\n",
      "Saved train 305\n",
      "Saved train 306\n",
      "Saved train 307\n",
      "Saved train 308\n",
      "Saved train 309\n",
      "Saved train 310\n",
      "Saved train 311\n",
      "Saved train 312\n",
      "Saved train 313\n",
      "Saved train 314\n",
      "Saved train 315\n",
      "Saved train 316\n",
      "Saved train 317\n",
      "Saved train 318\n"
     ]
    },
    {
     "name": "stderr",
     "output_type": "stream",
     "text": [
      "320it [00:07, 46.51it/s]"
     ]
    },
    {
     "name": "stdout",
     "output_type": "stream",
     "text": [
      "Saved train 319\n",
      "Saved train 320\n",
      "Saved train 321\n",
      "Saved train 322\n",
      "Saved train 323\n"
     ]
    },
    {
     "name": "stderr",
     "output_type": "stream",
     "text": [
      "334it [00:08, 35.46it/s]"
     ]
    },
    {
     "name": "stdout",
     "output_type": "stream",
     "text": [
      "Saved train 324\n",
      "Saved train 325\n",
      "Saved train 326\n",
      "Saved train 327\n",
      "Saved train 328\n",
      "Saved train 329\n",
      "Saved train 330\n",
      "Saved train 331\n",
      "Saved train 332\n",
      "Saved train 333\n",
      "Saved train 334\n",
      "Saved train 335\n",
      "Saved train 336\n",
      "Saved train 337\n"
     ]
    },
    {
     "name": "stderr",
     "output_type": "stream",
     "text": [
      "346it [00:08, 37.52it/s]"
     ]
    },
    {
     "name": "stdout",
     "output_type": "stream",
     "text": [
      "Saved train 338\n",
      "Saved train 339\n",
      "Saved train 340\n",
      "Saved train 341\n",
      "Saved train 342\n",
      "Saved train 343\n",
      "Saved train 344\n",
      "Saved train 345\n",
      "Saved train 346\n",
      "Saved train 347\n",
      "Saved train 348\n"
     ]
    },
    {
     "name": "stderr",
     "output_type": "stream",
     "text": [
      "359it [00:08, 44.60it/s]"
     ]
    },
    {
     "name": "stdout",
     "output_type": "stream",
     "text": [
      "Saved train 349\n",
      "Saved train 350\n",
      "Saved train 351\n",
      "Saved train 352\n",
      "Saved train 353\n",
      "Saved train 354\n",
      "Saved train 355\n",
      "Saved train 356\n",
      "Saved train 357\n",
      "Saved train 358\n",
      "Saved train 359\n",
      "Saved train 360\n",
      "Saved train 361\n",
      "Saved train 362\n",
      "Saved train 363\n"
     ]
    },
    {
     "name": "stderr",
     "output_type": "stream",
     "text": [
      "373it [00:09, 39.75it/s]"
     ]
    },
    {
     "name": "stdout",
     "output_type": "stream",
     "text": [
      "Saved train 364\n",
      "Saved train 365\n",
      "Saved train 366\n",
      "Saved train 367\n",
      "Saved train 368\n",
      "Saved train 369\n",
      "Saved train 370\n",
      "Saved train 371\n",
      "Saved train 372\n",
      "Saved train 373\n",
      "Saved train 374\n",
      "Saved train 375\n",
      "Saved train 376\n"
     ]
    },
    {
     "name": "stderr",
     "output_type": "stream",
     "text": [
      "386it [00:09, 38.43it/s]"
     ]
    },
    {
     "name": "stdout",
     "output_type": "stream",
     "text": [
      "Saved train 377\n",
      "Saved train 378\n",
      "Saved train 379\n",
      "Saved train 380\n",
      "Saved train 381\n",
      "Saved train 382\n",
      "Saved train 383\n",
      "Saved train 384\n",
      "Saved train 385\n",
      "Saved train 386\n",
      "Saved train 387\n",
      "Saved train 388\n"
     ]
    },
    {
     "name": "stderr",
     "output_type": "stream",
     "text": [
      "392it [00:09, 37.64it/s]"
     ]
    },
    {
     "name": "stdout",
     "output_type": "stream",
     "text": [
      "Saved train 389\n",
      "Saved train 390\n",
      "Saved train 391\n",
      "Saved train 392\n",
      "Saved train 393\n",
      "Saved train 394\n"
     ]
    },
    {
     "name": "stderr",
     "output_type": "stream",
     "text": [
      "405it [00:10, 36.73it/s]"
     ]
    },
    {
     "name": "stdout",
     "output_type": "stream",
     "text": [
      "Saved train 395\n",
      "Saved train 396\n",
      "Saved train 397\n",
      "Saved train 398\n",
      "Saved train 399\n",
      "Saved train 400\n",
      "Saved train 401\n",
      "Saved train 402\n",
      "Saved train 403\n",
      "Saved train 404\n",
      "Saved train 405\n",
      "Saved train 406\n",
      "Saved train 407\n",
      "Saved train 408\n"
     ]
    },
    {
     "name": "stderr",
     "output_type": "stream",
     "text": [
      "419it [00:10, 37.28it/s]"
     ]
    },
    {
     "name": "stdout",
     "output_type": "stream",
     "text": [
      "Saved train 409\n",
      "Saved train 410\n",
      "Saved train 411\n",
      "Saved train 412\n",
      "Saved train 413\n",
      "Saved train 414\n",
      "Saved train 415\n",
      "Saved train 416\n",
      "Saved train 417\n",
      "Saved train 418\n",
      "Saved train 419\n",
      "Saved train 420\n",
      "Saved train 421\n"
     ]
    },
    {
     "name": "stderr",
     "output_type": "stream",
     "text": [
      "425it [00:10, 36.62it/s]"
     ]
    },
    {
     "name": "stdout",
     "output_type": "stream",
     "text": [
      "Saved train 422\n",
      "Saved train 423\n",
      "Saved train 424\n",
      "Saved train 425\n",
      "Saved train 426\n",
      "Saved train 427\n",
      "Saved train 428\n",
      "Saved train 429\n"
     ]
    },
    {
     "name": "stderr",
     "output_type": "stream",
     "text": [
      "439it [00:11, 42.78it/s]"
     ]
    },
    {
     "name": "stdout",
     "output_type": "stream",
     "text": [
      "Saved train 430\n",
      "Saved train 431\n",
      "Saved train 432\n",
      "Saved train 433\n",
      "Saved train 434\n",
      "Saved train 435\n",
      "Saved train 436\n",
      "Saved train 437\n",
      "Saved train 438\n",
      "Saved train 439\n",
      "Saved train 440\n",
      "Saved train 441\n"
     ]
    },
    {
     "name": "stderr",
     "output_type": "stream",
     "text": [
      "445it [00:11, 35.95it/s]"
     ]
    },
    {
     "name": "stdout",
     "output_type": "stream",
     "text": [
      "Saved train 442\n",
      "Saved train 443\n",
      "Saved train 444\n",
      "Saved train 445\n",
      "Saved train 446\n",
      "Saved train 447\n",
      "Saved train 448\n"
     ]
    },
    {
     "name": "stderr",
     "output_type": "stream",
     "text": [
      "455it [00:11, 36.39it/s]"
     ]
    },
    {
     "name": "stdout",
     "output_type": "stream",
     "text": [
      "Saved train 449\n",
      "Saved train 450\n",
      "Saved train 451\n",
      "Saved train 452\n",
      "Saved train 453\n",
      "Saved train 454\n",
      "Saved train 455\n",
      "Saved train 456\n",
      "Saved train 457\n"
     ]
    },
    {
     "name": "stderr",
     "output_type": "stream",
     "text": [
      "460it [00:11, 32.17it/s]"
     ]
    },
    {
     "name": "stdout",
     "output_type": "stream",
     "text": [
      "Saved train 458\n",
      "Saved train 459\n",
      "Saved train 460\n",
      "Saved train 461\n",
      "Saved train 462\n"
     ]
    },
    {
     "name": "stderr",
     "output_type": "stream",
     "text": [
      "468it [00:12, 30.34it/s]"
     ]
    },
    {
     "name": "stdout",
     "output_type": "stream",
     "text": [
      "Saved train 463\n",
      "Saved train 464\n",
      "Saved train 465\n",
      "Saved train 466\n",
      "Saved train 467\n",
      "Saved train 468\n",
      "Saved train 469\n",
      "Saved train 470\n",
      "Saved train 471\n",
      "Saved train 472\n",
      "Saved train 473\n"
     ]
    },
    {
     "name": "stderr",
     "output_type": "stream",
     "text": [
      "475it [00:12, 38.33it/s]"
     ]
    },
    {
     "name": "stdout",
     "output_type": "stream",
     "text": [
      "Saved train 474\n",
      "Saved train 475\n",
      "Saved train 476\n"
     ]
    },
    {
     "name": "stderr",
     "output_type": "stream",
     "text": [
      "489it [00:12, 38.73it/s]"
     ]
    },
    {
     "name": "stdout",
     "output_type": "stream",
     "text": [
      "Saved train 477\n",
      "Saved train 478\n",
      "Saved train 479\n",
      "Saved train 480\n",
      "Saved train 481\n",
      "Saved train 482\n",
      "Saved train 483\n",
      "Saved train 484\n",
      "Saved train 485\n",
      "Saved train 486\n",
      "Saved train 487\n",
      "Saved train 488\n"
     ]
    },
    {
     "name": "stderr",
     "output_type": "stream",
     "text": [
      "494it [00:12, 34.62it/s]"
     ]
    },
    {
     "name": "stdout",
     "output_type": "stream",
     "text": [
      "Saved train 489\n",
      "Saved train 490\n",
      "Saved train 491\n",
      "Saved train 492\n",
      "Saved train 493\n",
      "Saved train 494\n",
      "Saved train 495\n",
      "Saved train 496\n",
      "Saved train 497\n"
     ]
    },
    {
     "name": "stderr",
     "output_type": "stream",
     "text": [
      "505it [00:13, 33.12it/s]"
     ]
    },
    {
     "name": "stdout",
     "output_type": "stream",
     "text": [
      "Saved train 498\n",
      "Saved train 499\n",
      "Saved train 500\n",
      "Saved train 501\n",
      "Saved train 502\n",
      "Saved train 503\n",
      "Saved train 504\n",
      "Saved train 505\n",
      "Saved train 506\n",
      "Saved train 507\n",
      "Saved train 508\n",
      "Saved train 509\n",
      "Saved train 510\n"
     ]
    },
    {
     "name": "stderr",
     "output_type": "stream",
     "text": [
      "520it [00:13, 35.05it/s]"
     ]
    },
    {
     "name": "stdout",
     "output_type": "stream",
     "text": [
      "Saved train 511\n",
      "Saved train 512\n",
      "Saved train 513\n",
      "Saved train 514\n",
      "Saved train 515\n",
      "Saved train 516\n",
      "Saved train 517\n",
      "Saved train 518\n",
      "Saved train 519\n",
      "Saved train 520\n",
      "Saved train 521\n",
      "Saved train 522\n",
      "Saved train 523\n"
     ]
    },
    {
     "name": "stderr",
     "output_type": "stream",
     "text": [
      "527it [00:13, 36.98it/s]"
     ]
    },
    {
     "name": "stdout",
     "output_type": "stream",
     "text": [
      "Saved train 524\n",
      "Saved train 525\n",
      "Saved train 526\n",
      "Saved train 527\n",
      "Saved train 528\n",
      "Saved train 529\n",
      "Saved train 530\n",
      "Saved train 531\n",
      "Saved train 532\n",
      "Saved train 533\n"
     ]
    },
    {
     "name": "stderr",
     "output_type": "stream",
     "text": [
      "544it [00:14, 42.23it/s]"
     ]
    },
    {
     "name": "stdout",
     "output_type": "stream",
     "text": [
      "Saved train 534\n",
      "Saved train 535\n",
      "Saved train 536\n",
      "Saved train 537\n",
      "Saved train 538\n",
      "Saved train 539\n",
      "Saved train 540\n",
      "Saved train 541\n",
      "Saved train 542\n",
      "Saved train 543\n"
     ]
    },
    {
     "name": "stderr",
     "output_type": "stream",
     "text": [
      "550it [00:14, 45.48it/s]"
     ]
    },
    {
     "name": "stdout",
     "output_type": "stream",
     "text": [
      "Saved train 544\n",
      "Saved train 545\n",
      "Saved train 546\n",
      "Saved train 547\n",
      "Saved train 548\n",
      "Saved train 549\n"
     ]
    },
    {
     "name": "stderr",
     "output_type": "stream",
     "text": [
      "562it [00:14, 43.40it/s]"
     ]
    },
    {
     "name": "stdout",
     "output_type": "stream",
     "text": [
      "Saved train 550\n",
      "Saved train 551\n",
      "Saved train 552\n",
      "Saved train 553\n",
      "Saved train 554\n",
      "Saved train 555\n",
      "Saved train 556\n",
      "Saved train 557\n",
      "Saved train 558\n",
      "Saved train 559\n",
      "Saved train 560\n",
      "Saved train 561\n"
     ]
    },
    {
     "name": "stderr",
     "output_type": "stream",
     "text": [
      "571it [00:14, 52.27it/s]"
     ]
    },
    {
     "name": "stdout",
     "output_type": "stream",
     "text": [
      "Saved train 562\n",
      "Saved train 563\n",
      "Saved train 564\n",
      "Saved train 565\n",
      "Saved train 566\n",
      "Saved train 567\n",
      "Saved train 568\n",
      "Saved train 569\n",
      "Saved train 570\n"
     ]
    },
    {
     "name": "stderr",
     "output_type": "stream",
     "text": [
      "586it [00:15, 44.35it/s]"
     ]
    },
    {
     "name": "stdout",
     "output_type": "stream",
     "text": [
      "Saved train 571\n",
      "Saved train 572\n",
      "Saved train 573\n",
      "Saved train 574\n",
      "Saved train 575\n",
      "Saved train 576\n",
      "Saved train 577\n",
      "Saved train 578\n",
      "Saved train 579\n",
      "Saved train 580\n",
      "Saved train 581\n",
      "Saved train 582\n",
      "Saved train 583\n",
      "Saved train 584\n",
      "Saved train 585\n",
      "Saved train 586\n",
      "Saved train 587\n",
      "Saved train 588\n"
     ]
    },
    {
     "name": "stderr",
     "output_type": "stream",
     "text": [
      "597it [00:15, 31.74it/s]"
     ]
    },
    {
     "name": "stdout",
     "output_type": "stream",
     "text": [
      "Saved train 589\n",
      "Saved train 590\n",
      "Saved train 591\n",
      "Saved train 592\n",
      "Saved train 593\n",
      "Saved train 594\n",
      "Saved train 595\n",
      "Saved train 596\n"
     ]
    },
    {
     "name": "stderr",
     "output_type": "stream",
     "text": [
      "611it [00:15, 38.78it/s]"
     ]
    },
    {
     "name": "stdout",
     "output_type": "stream",
     "text": [
      "Saved train 597\n",
      "Saved train 598\n",
      "Saved train 599\n",
      "Saved train 600\n",
      "Saved train 601\n",
      "Saved train 602\n",
      "Saved train 603\n",
      "Saved train 604\n",
      "Saved train 605\n",
      "Saved train 606\n",
      "Saved train 607\n",
      "Saved train 608\n",
      "Saved train 609\n",
      "Saved train 610\n",
      "Saved train 611\n",
      "Saved train 612\n",
      "Saved train 613\n",
      "Saved train 614\n"
     ]
    },
    {
     "name": "stderr",
     "output_type": "stream",
     "text": [
      "626it [00:16, 35.50it/s]"
     ]
    },
    {
     "name": "stdout",
     "output_type": "stream",
     "text": [
      "Saved train 615\n",
      "Saved train 616\n",
      "Saved train 617\n",
      "Saved train 618\n",
      "Saved train 619\n",
      "Saved train 620\n",
      "Saved train 621\n",
      "Saved train 622\n",
      "Saved train 623\n",
      "Saved train 624\n",
      "Saved train 625\n",
      "Saved train 626\n",
      "Saved train 627\n",
      "Saved train 628\n",
      "Saved train 629\n",
      "Saved train 630\n"
     ]
    },
    {
     "name": "stderr",
     "output_type": "stream",
     "text": [
      "635it [00:16, 43.94it/s]"
     ]
    },
    {
     "name": "stdout",
     "output_type": "stream",
     "text": [
      "Saved train 631\n",
      "Saved train 632\n",
      "Saved train 633\n",
      "Saved train 634\n",
      "Saved train 635\n",
      "Saved train 636\n",
      "Saved train 637\n",
      "Saved train 638\n"
     ]
    },
    {
     "name": "stderr",
     "output_type": "stream",
     "text": [
      "642it [00:16, 41.34it/s]"
     ]
    },
    {
     "name": "stdout",
     "output_type": "stream",
     "text": [
      "Saved train 639\n",
      "Saved train 640\n",
      "Saved train 641\n",
      "Saved train 642\n",
      "Saved train 643\n",
      "Saved train 644\n",
      "Saved train 645\n",
      "Saved train 646\n",
      "Saved train 647\n",
      "Saved train 648\n"
     ]
    },
    {
     "name": "stderr",
     "output_type": "stream",
     "text": [
      "658it [00:17, 46.52it/s]"
     ]
    },
    {
     "name": "stdout",
     "output_type": "stream",
     "text": [
      "Saved train 649\n",
      "Saved train 650\n",
      "Saved train 651\n",
      "Saved train 652\n",
      "Saved train 653\n",
      "Saved train 654\n",
      "Saved train 655\n",
      "Saved train 656\n",
      "Saved train 657\n",
      "Saved train 658\n",
      "Saved train 659\n"
     ]
    },
    {
     "name": "stderr",
     "output_type": "stream",
     "text": [
      "672it [00:17, 48.44it/s]"
     ]
    },
    {
     "name": "stdout",
     "output_type": "stream",
     "text": [
      "Saved train 660\n",
      "Saved train 661\n",
      "Saved train 662\n",
      "Saved train 663\n",
      "Saved train 664\n",
      "Saved train 665\n",
      "Saved train 666\n",
      "Saved train 667\n",
      "Saved train 668\n",
      "Saved train 669\n",
      "Saved train 670\n",
      "Saved train 671\n"
     ]
    },
    {
     "name": "stderr",
     "output_type": "stream",
     "text": [
      "678it [00:17, 46.59it/s]"
     ]
    },
    {
     "name": "stdout",
     "output_type": "stream",
     "text": [
      "Saved train 672\n",
      "Saved train 673\n",
      "Saved train 674\n",
      "Saved train 675\n",
      "Saved train 676\n",
      "Saved train 677\n",
      "Saved train 678\n",
      "Saved train 679\n",
      "Saved train 680\n",
      "Saved train 681\n"
     ]
    },
    {
     "name": "stderr",
     "output_type": "stream",
     "text": [
      "692it [00:18, 34.00it/s]"
     ]
    },
    {
     "name": "stdout",
     "output_type": "stream",
     "text": [
      "Saved train 682\n",
      "Saved train 683\n",
      "Saved train 684\n",
      "Saved train 685\n",
      "Saved train 686\n",
      "Saved train 687\n",
      "Saved train 688\n",
      "Saved train 689\n",
      "Saved train 690\n",
      "Saved train 691\n",
      "Saved train 692\n",
      "Saved train 693\n",
      "Saved train 694\n",
      "Saved train 695\n",
      "Saved train 696\n",
      "Saved train 697\n"
     ]
    },
    {
     "name": "stderr",
     "output_type": "stream",
     "text": [
      "710it [00:18, 50.53it/s]"
     ]
    },
    {
     "name": "stdout",
     "output_type": "stream",
     "text": [
      "Saved train 698\n",
      "Saved train 699\n",
      "Saved train 700\n",
      "Saved train 701\n",
      "Saved train 702\n",
      "Saved train 703\n",
      "Saved train 704\n",
      "Saved train 705\n",
      "Saved train 706\n",
      "Saved train 707\n",
      "Saved train 708\n",
      "Saved train 709\n",
      "Saved train 710\n",
      "Saved train 711\n",
      "Saved train 712\n",
      "Saved train 713\n"
     ]
    },
    {
     "name": "stderr",
     "output_type": "stream",
     "text": [
      "725it [00:18, 41.48it/s]"
     ]
    },
    {
     "name": "stdout",
     "output_type": "stream",
     "text": [
      "Saved train 714\n",
      "Saved train 715\n",
      "Saved train 716\n",
      "Saved train 717\n",
      "Saved train 718\n",
      "Saved train 719\n",
      "Saved train 720\n",
      "Saved train 721\n",
      "Saved train 722\n",
      "Saved train 723\n",
      "Saved train 724\n",
      "Saved train 725\n",
      "Saved train 726\n",
      "Saved train 727\n"
     ]
    },
    {
     "name": "stderr",
     "output_type": "stream",
     "text": [
      "739it [00:19, 50.30it/s]"
     ]
    },
    {
     "name": "stdout",
     "output_type": "stream",
     "text": [
      "Saved train 728\n",
      "Saved train 729\n",
      "Saved train 730\n",
      "Saved train 731\n",
      "Saved train 732\n",
      "Saved train 733\n",
      "Saved train 734\n",
      "Saved train 735\n",
      "Saved train 736\n",
      "Saved train 737\n",
      "Saved train 738\n",
      "Saved train 739\n",
      "Saved train 740\n"
     ]
    },
    {
     "name": "stderr",
     "output_type": "stream",
     "text": [
      "746it [00:19, 52.17it/s]"
     ]
    },
    {
     "name": "stdout",
     "output_type": "stream",
     "text": [
      "Saved train 741\n",
      "Saved train 742\n",
      "Saved train 743\n",
      "Saved train 744\n",
      "Saved train 745\n",
      "Saved train 746\n",
      "Saved train 747\n",
      "Saved train 748\n",
      "Saved train 749\n"
     ]
    },
    {
     "name": "stderr",
     "output_type": "stream",
     "text": [
      "762it [00:19, 41.24it/s]"
     ]
    },
    {
     "name": "stdout",
     "output_type": "stream",
     "text": [
      "Saved train 750\n",
      "Saved train 751\n",
      "Saved train 752\n",
      "Saved train 753\n",
      "Saved train 754\n",
      "Saved train 755\n",
      "Saved train 756\n",
      "Saved train 757\n",
      "Saved train 758\n",
      "Saved train 759\n",
      "Saved train 760\n",
      "Saved train 761\n",
      "Saved train 762\n",
      "Saved train 763\n",
      "Saved train 764\n",
      "Saved train 765\n",
      "Saved train 766\n"
     ]
    },
    {
     "name": "stderr",
     "output_type": "stream",
     "text": [
      "776it [00:20, 38.93it/s]"
     ]
    },
    {
     "name": "stdout",
     "output_type": "stream",
     "text": [
      "Saved train 767\n",
      "Saved train 768\n",
      "Saved train 769\n",
      "Saved train 770\n",
      "Saved train 771\n",
      "Saved train 772\n",
      "Saved train 773\n",
      "Saved train 774\n",
      "Saved train 775\n",
      "Saved train 776\n",
      "Saved train 777\n",
      "Saved train 778\n",
      "Saved train 779\n",
      "Saved train 780\n",
      "Saved train 781\n",
      "Saved train 782\n"
     ]
    },
    {
     "name": "stderr",
     "output_type": "stream",
     "text": [
      "791it [00:20, 46.60it/s]"
     ]
    },
    {
     "name": "stdout",
     "output_type": "stream",
     "text": [
      "Saved train 783\n",
      "Saved train 784\n",
      "Saved train 785\n",
      "Saved train 786\n",
      "Saved train 787\n",
      "Saved train 788\n",
      "Saved train 789\n",
      "Saved train 790\n",
      "Saved train 791\n",
      "Saved train 792\n",
      "Saved train 793\n",
      "Saved train 794\n"
     ]
    },
    {
     "name": "stderr",
     "output_type": "stream",
     "text": [
      "799it [00:20, 53.57it/s]"
     ]
    },
    {
     "name": "stdout",
     "output_type": "stream",
     "text": [
      "Saved train 795\n",
      "Saved train 796\n",
      "Saved train 797\n",
      "Saved train 798\n",
      "Saved train 799\n",
      "Saved train 800\n",
      "Saved train 801\n",
      "Saved train 802\n"
     ]
    },
    {
     "name": "stderr",
     "output_type": "stream",
     "text": [
      "812it [00:20, 40.75it/s]"
     ]
    },
    {
     "name": "stdout",
     "output_type": "stream",
     "text": [
      "Saved train 803\n",
      "Saved train 804\n",
      "Saved train 805\n",
      "Saved train 806\n",
      "Saved train 807\n",
      "Saved train 808\n",
      "Saved train 809\n",
      "Saved train 810\n",
      "Saved train 811\n",
      "Saved train 812\n",
      "Saved train 813\n",
      "Saved train 814\n",
      "Saved train 815\n"
     ]
    },
    {
     "name": "stderr",
     "output_type": "stream",
     "text": [
      "828it [00:21, 53.41it/s]"
     ]
    },
    {
     "name": "stdout",
     "output_type": "stream",
     "text": [
      "Saved train 816\n",
      "Saved train 817\n",
      "Saved train 818\n",
      "Saved train 819\n",
      "Saved train 820\n",
      "Saved train 821\n",
      "Saved train 822\n",
      "Saved train 823\n",
      "Saved train 824\n",
      "Saved train 825\n",
      "Saved train 826\n",
      "Saved train 827\n",
      "Saved train 828\n",
      "Saved train 829\n",
      "Saved train 830\n",
      "Saved train 831\n"
     ]
    },
    {
     "name": "stderr",
     "output_type": "stream",
     "text": [
      "836it [00:21, 51.44it/s]"
     ]
    },
    {
     "name": "stdout",
     "output_type": "stream",
     "text": [
      "Saved train 832\n",
      "Saved train 833\n",
      "Saved train 834\n",
      "Saved train 835\n"
     ]
    },
    {
     "name": "stderr",
     "output_type": "stream",
     "text": [
      "849it [00:21, 46.47it/s]"
     ]
    },
    {
     "name": "stdout",
     "output_type": "stream",
     "text": [
      "Saved train 836\n",
      "Saved train 837\n",
      "Saved train 838\n",
      "Saved train 839\n",
      "Saved train 840\n",
      "Saved train 841\n",
      "Saved train 842\n",
      "Saved train 843\n",
      "Saved train 844\n",
      "Saved train 845\n",
      "Saved train 846\n",
      "Saved train 847\n",
      "Saved train 848\n",
      "Saved train 849\n",
      "Saved train 850\n"
     ]
    },
    {
     "name": "stderr",
     "output_type": "stream",
     "text": [
      "856it [00:21, 48.19it/s]"
     ]
    },
    {
     "name": "stdout",
     "output_type": "stream",
     "text": [
      "Saved train 851\n",
      "Saved train 852\n",
      "Saved train 853\n",
      "Saved train 854\n",
      "Saved train 855\n",
      "Saved train 856\n",
      "Saved train 857\n",
      "Saved train 858\n",
      "Saved train 859\n",
      "Saved train 860\n"
     ]
    },
    {
     "name": "stderr",
     "output_type": "stream",
     "text": [
      "871it [00:22, 43.15it/s]"
     ]
    },
    {
     "name": "stdout",
     "output_type": "stream",
     "text": [
      "Saved train 861\n",
      "Saved train 862\n",
      "Saved train 863\n",
      "Saved train 864\n",
      "Saved train 865\n",
      "Saved train 866\n",
      "Saved train 867\n",
      "Saved train 868\n",
      "Saved train 869\n",
      "Saved train 870\n",
      "Saved train 871\n",
      "Saved train 872\n",
      "Saved train 873\n",
      "Saved train 874\n",
      "Saved train 875\n",
      "Saved train 876\n",
      "Saved train 877\n"
     ]
    },
    {
     "name": "stderr",
     "output_type": "stream",
     "text": [
      "879it [00:22, 50.49it/s]"
     ]
    },
    {
     "name": "stdout",
     "output_type": "stream",
     "text": [
      "Saved train 878\n",
      "Saved train 879\n",
      "Saved train 880\n"
     ]
    },
    {
     "name": "stderr",
     "output_type": "stream",
     "text": [
      "894it [00:22, 40.32it/s]"
     ]
    },
    {
     "name": "stdout",
     "output_type": "stream",
     "text": [
      "Saved train 881\n",
      "Saved train 882\n",
      "Saved train 883\n",
      "Saved train 884\n",
      "Saved train 885\n",
      "Saved train 886\n",
      "Saved train 887\n",
      "Saved train 888\n",
      "Saved train 889\n",
      "Saved train 890\n",
      "Saved train 891\n",
      "Saved train 892\n",
      "Saved train 893\n",
      "Saved train 894\n"
     ]
    },
    {
     "name": "stderr",
     "output_type": "stream",
     "text": [
      "900it [00:22, 43.29it/s]"
     ]
    },
    {
     "name": "stdout",
     "output_type": "stream",
     "text": [
      "Saved train 895\n",
      "Saved train 896\n",
      "Saved train 897\n",
      "Saved train 898\n",
      "Saved train 899\n",
      "Saved train 900\n",
      "Saved train 901\n",
      "Saved train 902\n",
      "Saved train 903\n",
      "Saved train 904\n",
      "Saved train 905\n"
     ]
    },
    {
     "name": "stderr",
     "output_type": "stream",
     "text": [
      "907it [00:23, 41.02it/s]"
     ]
    },
    {
     "name": "stdout",
     "output_type": "stream",
     "text": [
      "Saved train 906\n"
     ]
    },
    {
     "name": "stderr",
     "output_type": "stream",
     "text": [
      "921it [00:23, 37.70it/s]"
     ]
    },
    {
     "name": "stdout",
     "output_type": "stream",
     "text": [
      "Saved train 907\n",
      "Saved train 908\n",
      "Saved train 909\n",
      "Saved train 910\n",
      "Saved train 911\n",
      "Saved train 912\n",
      "Saved train 913\n",
      "Saved train 914\n",
      "Saved train 915\n",
      "Saved train 916\n",
      "Saved train 917\n",
      "Saved train 918\n",
      "Saved train 919\n",
      "Saved train 920\n",
      "Saved train 921\n",
      "Saved train 922\n"
     ]
    },
    {
     "name": "stderr",
     "output_type": "stream",
     "text": [
      "937it [00:23, 51.57it/s]"
     ]
    },
    {
     "name": "stdout",
     "output_type": "stream",
     "text": [
      "Saved train 923\n",
      "Saved train 924\n",
      "Saved train 925\n",
      "Saved train 926\n",
      "Saved train 927\n",
      "Saved train 928\n",
      "Saved train 929\n",
      "Saved train 930\n",
      "Saved train 931\n",
      "Saved train 932\n",
      "Saved train 933\n",
      "Saved train 934\n",
      "Saved train 935\n",
      "Saved train 936\n",
      "Saved train 937\n"
     ]
    },
    {
     "name": "stderr",
     "output_type": "stream",
     "text": [
      "952it [00:24, 54.23it/s]"
     ]
    },
    {
     "name": "stdout",
     "output_type": "stream",
     "text": [
      "Saved train 938\n",
      "Saved train 939\n",
      "Saved train 940\n",
      "Saved train 941\n",
      "Saved train 942\n",
      "Saved train 943\n",
      "Saved train 944\n",
      "Saved train 945\n",
      "Saved train 946\n",
      "Saved train 947\n",
      "Saved train 948\n",
      "Saved train 949\n",
      "Saved train 950\n",
      "Saved train 951\n",
      "Saved train 952\n",
      "Saved train 953\n"
     ]
    },
    {
     "name": "stderr",
     "output_type": "stream",
     "text": [
      "967it [00:24, 59.43it/s]"
     ]
    },
    {
     "name": "stdout",
     "output_type": "stream",
     "text": [
      "Saved train 954\n",
      "Saved train 955\n",
      "Saved train 956\n",
      "Saved train 957\n",
      "Saved train 958\n",
      "Saved train 959\n",
      "Saved train 960\n",
      "Saved train 961\n",
      "Saved train 962\n",
      "Saved train 963\n",
      "Saved train 964\n",
      "Saved train 965\n",
      "Saved train 966\n"
     ]
    },
    {
     "name": "stderr",
     "output_type": "stream",
     "text": [
      "982it [00:25, 34.87it/s]"
     ]
    },
    {
     "name": "stdout",
     "output_type": "stream",
     "text": [
      "Saved train 967\n",
      "Saved train 968\n",
      "Saved train 969\n",
      "Saved train 970\n",
      "Saved train 971\n",
      "Saved train 972\n",
      "Saved train 973\n",
      "Saved train 974\n",
      "Saved train 975\n",
      "Saved train 976\n",
      "Saved train 977\n",
      "Saved train 978\n",
      "Saved train 979\n",
      "Saved train 980\n",
      "Saved train 981\n"
     ]
    },
    {
     "name": "stderr",
     "output_type": "stream",
     "text": [
      "999it [00:25, 50.10it/s]"
     ]
    },
    {
     "name": "stdout",
     "output_type": "stream",
     "text": [
      "Saved train 982\n",
      "Saved train 983\n",
      "Saved train 984\n",
      "Saved train 985\n",
      "Saved train 986\n",
      "Saved train 987\n",
      "Saved train 988\n",
      "Saved train 989\n",
      "Saved train 990\n",
      "Saved train 991\n",
      "Saved train 992\n",
      "Saved train 993\n",
      "Saved train 994\n",
      "Saved train 995\n",
      "Saved train 996\n",
      "Saved train 997\n",
      "Saved train 998\n"
     ]
    },
    {
     "name": "stderr",
     "output_type": "stream",
     "text": [
      "1015it [00:25, 61.40it/s]"
     ]
    },
    {
     "name": "stdout",
     "output_type": "stream",
     "text": [
      "Saved train 999\n",
      "Saved train 1000\n",
      "Saved train 1001\n",
      "Saved train 1002\n",
      "Saved train 1003\n",
      "Saved train 1004\n",
      "Saved train 1005\n",
      "Saved train 1006\n",
      "Saved train 1007\n",
      "Saved train 1008\n",
      "Saved train 1009\n",
      "Saved train 1010\n",
      "Saved train 1011\n",
      "Saved train 1012\n",
      "Saved train 1013\n",
      "Saved train 1014\n",
      "Saved train 1015\n",
      "Saved train 1016\n",
      "Saved train 1017\n",
      "Saved train 1018\n"
     ]
    },
    {
     "name": "stderr",
     "output_type": "stream",
     "text": [
      "1023it [00:25, 44.32it/s]"
     ]
    },
    {
     "name": "stdout",
     "output_type": "stream",
     "text": [
      "Saved train 1019\n",
      "Saved train 1020\n",
      "Saved train 1021\n",
      "Saved train 1022\n",
      "Saved train 1023\n",
      "Saved train 1024\n",
      "Saved train 1025\n",
      "Saved train 1026\n",
      "Saved train 1027\n"
     ]
    },
    {
     "name": "stderr",
     "output_type": "stream",
     "text": [
      "1029it [00:25, 41.65it/s]"
     ]
    },
    {
     "name": "stdout",
     "output_type": "stream",
     "text": [
      "Saved train 1028\n",
      "Saved train 1029\n",
      "Saved train 1030\n",
      "Saved train 1031\n",
      "Saved train 1032\n",
      "Saved train 1033\n",
      "Saved train 1034\n"
     ]
    },
    {
     "name": "stderr",
     "output_type": "stream",
     "text": [
      "1041it [00:26, 39.55it/s]"
     ]
    },
    {
     "name": "stdout",
     "output_type": "stream",
     "text": [
      "Saved train 1035\n",
      "Saved train 1036\n",
      "Saved train 1037\n",
      "Saved train 1038\n",
      "Saved train 1039\n",
      "Saved train 1040\n",
      "Saved train 1041\n",
      "Saved train 1042\n",
      "Saved train 1043\n",
      "Saved train 1044\n"
     ]
    },
    {
     "name": "stderr",
     "output_type": "stream",
     "text": [
      "1047it [00:26, 32.26it/s]"
     ]
    },
    {
     "name": "stdout",
     "output_type": "stream",
     "text": [
      "Saved train 1045\n",
      "Saved train 1046\n",
      "Saved train 1047\n"
     ]
    },
    {
     "name": "stderr",
     "output_type": "stream",
     "text": [
      "1062it [00:26, 44.44it/s]"
     ]
    },
    {
     "name": "stdout",
     "output_type": "stream",
     "text": [
      "Saved train 1048\n",
      "Saved train 1049\n",
      "Saved train 1050\n",
      "Saved train 1051\n",
      "Saved train 1052\n",
      "Saved train 1053\n",
      "Saved train 1054\n",
      "Saved train 1055\n",
      "Saved train 1056\n",
      "Saved train 1057\n",
      "Saved train 1058\n",
      "Saved train 1059\n",
      "Saved train 1060\n",
      "Saved train 1061\n"
     ]
    },
    {
     "name": "stderr",
     "output_type": "stream",
     "text": [
      "1068it [00:26, 40.33it/s]"
     ]
    },
    {
     "name": "stdout",
     "output_type": "stream",
     "text": [
      "Saved train 1062\n",
      "Saved train 1063\n",
      "Saved train 1064\n",
      "Saved train 1065\n",
      "Saved train 1066\n",
      "Saved train 1067\n",
      "Saved train 1068\n",
      "Saved train 1069\n"
     ]
    },
    {
     "name": "stderr",
     "output_type": "stream",
     "text": [
      "1080it [00:27, 41.36it/s]"
     ]
    },
    {
     "name": "stdout",
     "output_type": "stream",
     "text": [
      "Saved train 1070\n",
      "Saved train 1071\n",
      "Saved train 1072\n",
      "Saved train 1073\n",
      "Saved train 1074\n",
      "Saved train 1075\n",
      "Saved train 1076\n",
      "Saved train 1077\n",
      "Saved train 1078\n",
      "Saved train 1079\n",
      "Saved train 1080\n",
      "Saved train 1081\n",
      "Saved train 1082\n",
      "Saved train 1083\n",
      "Saved train 1084\n"
     ]
    },
    {
     "name": "stderr",
     "output_type": "stream",
     "text": [
      "1087it [00:27, 38.82it/s]"
     ]
    },
    {
     "name": "stdout",
     "output_type": "stream",
     "text": [
      "Saved train 1085\n",
      "Saved train 1086\n"
     ]
    },
    {
     "name": "stderr",
     "output_type": "stream",
     "text": [
      "1101it [00:27, 44.48it/s]"
     ]
    },
    {
     "name": "stdout",
     "output_type": "stream",
     "text": [
      "Saved train 1087\n",
      "Saved train 1088\n",
      "Saved train 1089\n",
      "Saved train 1090\n",
      "Saved train 1091\n",
      "Saved train 1092\n",
      "Saved train 1093\n",
      "Saved train 1094\n",
      "Saved train 1095\n",
      "Saved train 1096\n",
      "Saved train 1097\n",
      "Saved train 1098\n",
      "Saved train 1099\n",
      "Saved train 1100\n",
      "Saved train 1101\n"
     ]
    },
    {
     "name": "stderr",
     "output_type": "stream",
     "text": [
      "1112it [00:28, 37.54it/s]"
     ]
    },
    {
     "name": "stdout",
     "output_type": "stream",
     "text": [
      "Saved train 1102\n",
      "Saved train 1103\n",
      "Saved train 1104\n",
      "Saved train 1105\n",
      "Saved train 1106\n",
      "Saved train 1107\n",
      "Saved train 1108\n",
      "Saved train 1109\n",
      "Saved train 1110\n",
      "Saved train 1111\n",
      "Saved train 1112\n",
      "Saved train 1113\n"
     ]
    },
    {
     "name": "stderr",
     "output_type": "stream",
     "text": [
      "1118it [00:28, 41.38it/s]"
     ]
    },
    {
     "name": "stdout",
     "output_type": "stream",
     "text": [
      "Saved train 1114\n",
      "Saved train 1115\n",
      "Saved train 1116\n",
      "Saved train 1117\n",
      "Saved train 1118\n",
      "Saved train 1119\n",
      "Saved train 1120\n",
      "Saved train 1121\n"
     ]
    },
    {
     "name": "stderr",
     "output_type": "stream",
     "text": [
      "1123it [00:28, 34.48it/s]"
     ]
    },
    {
     "name": "stdout",
     "output_type": "stream",
     "text": [
      "Saved train 1122\n",
      "Saved train 1123\n",
      "Saved train 1124\n",
      "Saved train 1125\n"
     ]
    },
    {
     "name": "stderr",
     "output_type": "stream",
     "text": [
      "1135it [00:28, 39.09it/s]"
     ]
    },
    {
     "name": "stdout",
     "output_type": "stream",
     "text": [
      "Saved train 1126\n",
      "Saved train 1127\n",
      "Saved train 1128\n",
      "Saved train 1129\n",
      "Saved train 1130\n",
      "Saved train 1131\n",
      "Saved train 1132\n",
      "Saved train 1133\n",
      "Saved train 1134\n",
      "Saved train 1135\n",
      "Saved train 1136\n",
      "Saved train 1137\n",
      "Saved train 1138\n",
      "Saved train 1139\n"
     ]
    },
    {
     "name": "stderr",
     "output_type": "stream",
     "text": [
      "1149it [00:29, 38.17it/s]"
     ]
    },
    {
     "name": "stdout",
     "output_type": "stream",
     "text": [
      "Saved train 1140\n",
      "Saved train 1141\n",
      "Saved train 1142\n",
      "Saved train 1143\n",
      "Saved train 1144\n",
      "Saved train 1145\n",
      "Saved train 1146\n",
      "Saved train 1147\n",
      "Saved train 1148\n",
      "Saved train 1149\n",
      "Saved train 1150\n",
      "Saved train 1151\n",
      "Saved train 1152\n",
      "Saved train 1153\n",
      "Saved train 1154\n",
      "Saved train 1155\n"
     ]
    },
    {
     "name": "stderr",
     "output_type": "stream",
     "text": [
      "1157it [00:29, 45.61it/s]"
     ]
    },
    {
     "name": "stdout",
     "output_type": "stream",
     "text": [
      "Saved train 1156\n"
     ]
    },
    {
     "name": "stderr",
     "output_type": "stream",
     "text": [
      "1171it [00:29, 40.16it/s]"
     ]
    },
    {
     "name": "stdout",
     "output_type": "stream",
     "text": [
      "Saved train 1157\n",
      "Saved train 1158\n",
      "Saved train 1159\n",
      "Saved train 1160\n",
      "Saved train 1161\n",
      "Saved train 1162\n",
      "Saved train 1163\n",
      "Saved train 1164\n",
      "Saved train 1165\n",
      "Saved train 1166\n",
      "Saved train 1167\n",
      "Saved train 1168\n",
      "Saved train 1169\n",
      "Saved train 1170\n",
      "Saved train 1171\n",
      "Saved train 1172\n"
     ]
    },
    {
     "name": "stderr",
     "output_type": "stream",
     "text": [
      "1177it [00:29, 39.36it/s]"
     ]
    },
    {
     "name": "stdout",
     "output_type": "stream",
     "text": [
      "Saved train 1173\n",
      "Saved train 1174\n",
      "Saved train 1175\n",
      "Saved train 1176\n",
      "Saved train 1177\n",
      "Saved train 1178\n",
      "Saved train 1179\n",
      "Saved train 1180\n",
      "Saved train 1181\n",
      "Saved train 1182\n"
     ]
    },
    {
     "name": "stderr",
     "output_type": "stream",
     "text": [
      "1185it [00:29, 47.02it/s]"
     ]
    },
    {
     "name": "stdout",
     "output_type": "stream",
     "text": [
      "Saved train 1183\n",
      "Saved train 1184\n",
      "Saved train 1185\n"
     ]
    },
    {
     "name": "stderr",
     "output_type": "stream",
     "text": [
      "1197it [00:30, 37.48it/s]"
     ]
    },
    {
     "name": "stdout",
     "output_type": "stream",
     "text": [
      "Saved train 1186\n",
      "Saved train 1187\n",
      "Saved train 1188\n",
      "Saved train 1189\n",
      "Saved train 1190\n",
      "Saved train 1191\n",
      "Saved train 1192\n",
      "Saved train 1193\n",
      "Saved train 1194\n",
      "Saved train 1195\n",
      "Saved train 1196\n",
      "Saved train 1197\n",
      "Saved train 1198\n",
      "Saved train 1199\n"
     ]
    },
    {
     "name": "stderr",
     "output_type": "stream",
     "text": [
      "1209it [00:30, 36.42it/s]"
     ]
    },
    {
     "name": "stdout",
     "output_type": "stream",
     "text": [
      "Saved train 1200\n",
      "Saved train 1201\n",
      "Saved train 1202\n",
      "Saved train 1203\n",
      "Saved train 1204\n",
      "Saved train 1205\n",
      "Saved train 1206\n",
      "Saved train 1207\n",
      "Saved train 1208\n"
     ]
    },
    {
     "name": "stderr",
     "output_type": "stream",
     "text": [
      "1222it [00:31, 39.55it/s]"
     ]
    },
    {
     "name": "stdout",
     "output_type": "stream",
     "text": [
      "Saved train 1209\n",
      "Saved train 1210\n",
      "Saved train 1211\n",
      "Saved train 1212\n",
      "Saved train 1213\n",
      "Saved train 1214\n",
      "Saved train 1215\n",
      "Saved train 1216\n",
      "Saved train 1217\n",
      "Saved train 1218\n",
      "Saved train 1219\n",
      "Saved train 1220\n",
      "Saved train 1221\n",
      "Saved train 1222\n"
     ]
    },
    {
     "name": "stderr",
     "output_type": "stream",
     "text": [
      "1235it [00:31, 38.97it/s]"
     ]
    },
    {
     "name": "stdout",
     "output_type": "stream",
     "text": [
      "Saved train 1223\n",
      "Saved train 1224\n",
      "Saved train 1225\n",
      "Saved train 1226\n",
      "Saved train 1227\n",
      "Saved train 1228\n",
      "Saved train 1229\n",
      "Saved train 1230\n",
      "Saved train 1231\n",
      "Saved train 1232\n",
      "Saved train 1233\n",
      "Saved train 1234\n",
      "Saved train 1235\n"
     ]
    },
    {
     "name": "stderr",
     "output_type": "stream",
     "text": [
      "1241it [00:31, 32.73it/s]"
     ]
    },
    {
     "name": "stdout",
     "output_type": "stream",
     "text": [
      "Saved train 1236\n",
      "Saved train 1237\n",
      "Saved train 1238\n",
      "Saved train 1239\n",
      "Saved train 1240\n",
      "Saved train 1241\n"
     ]
    },
    {
     "name": "stderr",
     "output_type": "stream",
     "text": [
      "1249it [00:31, 40.14it/s]"
     ]
    },
    {
     "name": "stdout",
     "output_type": "stream",
     "text": [
      "Saved train 1242\n",
      "Saved train 1243\n",
      "Saved train 1244\n",
      "Saved train 1245\n",
      "Saved train 1246\n",
      "Saved train 1247\n",
      "Saved train 1248\n",
      "Saved train 1249\n",
      "Saved train 1250\n"
     ]
    },
    {
     "name": "stderr",
     "output_type": "stream",
     "text": [
      "1263it [00:32, 45.61it/s]"
     ]
    },
    {
     "name": "stdout",
     "output_type": "stream",
     "text": [
      "Saved train 1251\n",
      "Saved train 1252\n",
      "Saved train 1253\n",
      "Saved train 1254\n",
      "Saved train 1255\n",
      "Saved train 1256\n",
      "Saved train 1257\n",
      "Saved train 1258\n",
      "Saved train 1259\n",
      "Saved train 1260\n",
      "Saved train 1261\n",
      "Saved train 1262\n"
     ]
    },
    {
     "name": "stderr",
     "output_type": "stream",
     "text": [
      "1269it [00:32, 33.84it/s]"
     ]
    },
    {
     "name": "stdout",
     "output_type": "stream",
     "text": [
      "Saved train 1263\n",
      "Saved train 1264\n",
      "Saved train 1265\n",
      "Saved train 1266\n",
      "Saved train 1267\n",
      "Saved train 1268\n",
      "Saved train 1269\n"
     ]
    },
    {
     "name": "stderr",
     "output_type": "stream",
     "text": [
      "1275it [00:32, 38.08it/s]"
     ]
    },
    {
     "name": "stdout",
     "output_type": "stream",
     "text": [
      "Saved train 1270\n",
      "Saved train 1271\n",
      "Saved train 1272\n",
      "Saved train 1273\n",
      "Saved train 1274\n",
      "Saved train 1275\n",
      "Saved train 1276\n",
      "Saved train 1277\n",
      "Saved train 1278\n"
     ]
    },
    {
     "name": "stderr",
     "output_type": "stream",
     "text": [
      "1288it [00:32, 39.86it/s]"
     ]
    },
    {
     "name": "stdout",
     "output_type": "stream",
     "text": [
      "Saved train 1279\n",
      "Saved train 1280\n",
      "Saved train 1281\n",
      "Saved train 1282\n",
      "Saved train 1283\n",
      "Saved train 1284\n",
      "Saved train 1285\n",
      "Saved train 1286\n",
      "Saved train 1287\n",
      "Saved train 1288\n",
      "Saved train 1289\n",
      "Saved train 1290\n",
      "Saved train 1291\n",
      "Saved train 1292\n",
      "Saved train 1293\n"
     ]
    },
    {
     "name": "stderr",
     "output_type": "stream",
     "text": [
      "1301it [00:33, 41.70it/s]"
     ]
    },
    {
     "name": "stdout",
     "output_type": "stream",
     "text": [
      "Saved train 1294\n",
      "Saved train 1295\n",
      "Saved train 1296\n",
      "Saved train 1297\n",
      "Saved train 1298\n",
      "Saved train 1299\n",
      "Saved train 1300\n",
      "Saved train 1301\n"
     ]
    },
    {
     "name": "stderr",
     "output_type": "stream",
     "text": [
      "1311it [00:33, 39.05it/s]"
     ]
    },
    {
     "name": "stdout",
     "output_type": "stream",
     "text": [
      "Saved train 1302\n",
      "Saved train 1303\n",
      "Saved train 1304\n",
      "Saved train 1305\n",
      "Saved train 1306\n",
      "Saved train 1307\n",
      "Saved train 1308\n",
      "Saved train 1309\n",
      "Saved train 1310\n"
     ]
    },
    {
     "name": "stderr",
     "output_type": "stream",
     "text": [
      "1319it [00:33, 47.56it/s]"
     ]
    },
    {
     "name": "stdout",
     "output_type": "stream",
     "text": [
      "Saved train 1311\n",
      "Saved train 1312\n",
      "Saved train 1313\n",
      "Saved train 1314\n",
      "Saved train 1315\n",
      "Saved train 1316\n",
      "Saved train 1317\n",
      "Saved train 1318\n",
      "Saved train 1319\n",
      "Saved train 1320\n",
      "Saved train 1321\n",
      "Saved train 1322\n"
     ]
    },
    {
     "name": "stderr",
     "output_type": "stream",
     "text": [
      "1331it [00:33, 42.76it/s]"
     ]
    },
    {
     "name": "stdout",
     "output_type": "stream",
     "text": [
      "Saved train 1323\n",
      "Saved train 1324\n",
      "Saved train 1325\n",
      "Saved train 1326\n",
      "Saved train 1327\n",
      "Saved train 1328\n",
      "Saved train 1329\n",
      "Saved train 1330\n",
      "Saved train 1331\n"
     ]
    },
    {
     "name": "stderr",
     "output_type": "stream",
     "text": [
      "1338it [00:33, 47.38it/s]"
     ]
    },
    {
     "name": "stdout",
     "output_type": "stream",
     "text": [
      "Saved train 1332\n",
      "Saved train 1333\n",
      "Saved train 1334\n",
      "Saved train 1335\n",
      "Saved train 1336\n",
      "Saved train 1337\n",
      "Saved train 1338\n",
      "Saved train 1339\n"
     ]
    },
    {
     "name": "stderr",
     "output_type": "stream",
     "text": [
      "1351it [00:34, 44.77it/s]"
     ]
    },
    {
     "name": "stdout",
     "output_type": "stream",
     "text": [
      "Saved train 1340\n",
      "Saved train 1341\n",
      "Saved train 1342\n",
      "Saved train 1343\n",
      "Saved train 1344\n",
      "Saved train 1345\n",
      "Saved train 1346\n",
      "Saved train 1347\n",
      "Saved train 1348\n",
      "Saved train 1349\n",
      "Saved train 1350\n"
     ]
    },
    {
     "name": "stderr",
     "output_type": "stream",
     "text": [
      "1356it [00:34, 38.51it/s]"
     ]
    },
    {
     "name": "stdout",
     "output_type": "stream",
     "text": [
      "Saved train 1351\n",
      "Saved train 1352\n",
      "Saved train 1353\n",
      "Saved train 1354\n",
      "Saved train 1355\n",
      "Saved train 1356\n",
      "Saved train 1357\n",
      "Saved train 1358\n",
      "Saved train 1359\n"
     ]
    },
    {
     "name": "stderr",
     "output_type": "stream",
     "text": [
      "1361it [00:34, 32.73it/s]"
     ]
    },
    {
     "name": "stdout",
     "output_type": "stream",
     "text": [
      "Saved train 1360\n",
      "Saved train 1361\n",
      "Saved train 1362\n",
      "Saved train 1363\n",
      "Saved train 1364\n"
     ]
    },
    {
     "name": "stderr",
     "output_type": "stream",
     "text": [
      "1374it [00:35, 38.54it/s]"
     ]
    },
    {
     "name": "stdout",
     "output_type": "stream",
     "text": [
      "Saved train 1365\n",
      "Saved train 1366\n",
      "Saved train 1367\n",
      "Saved train 1368\n",
      "Saved train 1369\n",
      "Saved train 1370\n",
      "Saved train 1371\n",
      "Saved train 1372\n",
      "Saved train 1373\n",
      "Saved train 1374\n",
      "Saved train 1375\n",
      "Saved train 1376\n"
     ]
    },
    {
     "name": "stderr",
     "output_type": "stream",
     "text": [
      "1387it [00:35, 40.41it/s]"
     ]
    },
    {
     "name": "stdout",
     "output_type": "stream",
     "text": [
      "Saved train 1377\n",
      "Saved train 1378\n",
      "Saved train 1379\n",
      "Saved train 1380\n",
      "Saved train 1381\n",
      "Saved train 1382\n",
      "Saved train 1383\n",
      "Saved train 1384\n",
      "Saved train 1385\n",
      "Saved train 1386\n",
      "Saved train 1387\n",
      "Saved train 1388\n",
      "Saved train 1389\n",
      "Saved train 1390\n",
      "Saved train 1391\n"
     ]
    },
    {
     "name": "stderr",
     "output_type": "stream",
     "text": [
      "1395it [00:35, 40.24it/s]"
     ]
    },
    {
     "name": "stdout",
     "output_type": "stream",
     "text": [
      "Saved train 1392\n",
      "Saved train 1393\n",
      "Saved train 1394\n",
      "Saved train 1395\n",
      "Saved train 1396\n"
     ]
    },
    {
     "name": "stderr",
     "output_type": "stream",
     "text": [
      "1400it [00:35, 40.10it/s]"
     ]
    },
    {
     "name": "stdout",
     "output_type": "stream",
     "text": [
      "Saved train 1397\n",
      "Saved train 1398\n",
      "Saved train 1399\n",
      "Saved train 1400\n",
      "Saved train 1401\n"
     ]
    },
    {
     "name": "stderr",
     "output_type": "stream",
     "text": [
      "1413it [00:35, 41.82it/s]"
     ]
    },
    {
     "name": "stdout",
     "output_type": "stream",
     "text": [
      "Saved train 1402\n",
      "Saved train 1403\n",
      "Saved train 1404\n",
      "Saved train 1405\n",
      "Saved train 1406\n",
      "Saved train 1407\n",
      "Saved train 1408\n",
      "Saved train 1409\n",
      "Saved train 1410\n",
      "Saved train 1411\n",
      "Saved train 1412\n",
      "Saved train 1413\n",
      "Saved train 1414\n",
      "Saved train 1415\n",
      "Saved train 1416\n"
     ]
    },
    {
     "name": "stderr",
     "output_type": "stream",
     "text": [
      "1421it [00:36, 49.19it/s]"
     ]
    },
    {
     "name": "stdout",
     "output_type": "stream",
     "text": [
      "Saved train 1417\n",
      "Saved train 1418\n",
      "Saved train 1419\n",
      "Saved train 1420\n",
      "Saved train 1421\n",
      "Saved train 1422\n"
     ]
    },
    {
     "name": "stderr",
     "output_type": "stream",
     "text": [
      "1435it [00:36, 47.85it/s]"
     ]
    },
    {
     "name": "stdout",
     "output_type": "stream",
     "text": [
      "Saved train 1423\n",
      "Saved train 1424\n",
      "Saved train 1425\n",
      "Saved train 1426\n",
      "Saved train 1427\n",
      "Saved train 1428\n",
      "Saved train 1429\n",
      "Saved train 1430\n",
      "Saved train 1431\n",
      "Saved train 1432\n",
      "Saved train 1433\n",
      "Saved train 1434\n",
      "Saved train 1435\n",
      "Saved train 1436\n",
      "Saved train 1437\n",
      "Saved train 1438\n"
     ]
    },
    {
     "name": "stderr",
     "output_type": "stream",
     "text": [
      "1443it [00:36, 54.62it/s]"
     ]
    },
    {
     "name": "stdout",
     "output_type": "stream",
     "text": [
      "Saved train 1439\n",
      "Saved train 1440\n",
      "Saved train 1441\n",
      "Saved train 1442\n",
      "Saved train 1443\n",
      "Saved train 1444\n",
      "Saved train 1445\n",
      "Saved train 1446\n",
      "Saved train 1447\n",
      "Saved train 1448\n"
     ]
    },
    {
     "name": "stderr",
     "output_type": "stream",
     "text": [
      "1458it [00:37, 37.48it/s]"
     ]
    },
    {
     "name": "stdout",
     "output_type": "stream",
     "text": [
      "Saved train 1449\n",
      "Saved train 1450\n",
      "Saved train 1451\n",
      "Saved train 1452\n",
      "Saved train 1453\n",
      "Saved train 1454\n",
      "Saved train 1455\n",
      "Saved train 1456\n",
      "Saved train 1457\n",
      "Saved train 1458\n",
      "Saved train 1459\n",
      "Saved train 1460\n",
      "Saved train 1461\n",
      "Saved train 1462\n",
      "Saved train 1463\n",
      "Saved train 1464\n"
     ]
    },
    {
     "name": "stderr",
     "output_type": "stream",
     "text": [
      "1475it [00:37, 51.43it/s]"
     ]
    },
    {
     "name": "stdout",
     "output_type": "stream",
     "text": [
      "Saved train 1465\n",
      "Saved train 1466\n",
      "Saved train 1467\n",
      "Saved train 1468\n",
      "Saved train 1469\n",
      "Saved train 1470\n",
      "Saved train 1471\n",
      "Saved train 1472\n",
      "Saved train 1473\n",
      "Saved train 1474\n",
      "Saved train 1475\n",
      "Saved train 1476\n",
      "Saved train 1477\n",
      "Saved train 1478\n"
     ]
    },
    {
     "name": "stderr",
     "output_type": "stream",
     "text": [
      "1482it [00:37, 54.20it/s]"
     ]
    },
    {
     "name": "stdout",
     "output_type": "stream",
     "text": [
      "Saved train 1479\n",
      "Saved train 1480\n",
      "Saved train 1481\n",
      "Saved train 1482\n",
      "Saved train 1483\n",
      "Saved train 1484\n",
      "Saved train 1485\n"
     ]
    },
    {
     "name": "stderr",
     "output_type": "stream",
     "text": [
      "1496it [00:37, 43.20it/s]"
     ]
    },
    {
     "name": "stdout",
     "output_type": "stream",
     "text": [
      "Saved train 1486\n",
      "Saved train 1487\n",
      "Saved train 1488\n",
      "Saved train 1489\n",
      "Saved train 1490\n",
      "Saved train 1491\n",
      "Saved train 1492\n",
      "Saved train 1493\n",
      "Saved train 1494\n",
      "Saved train 1495\n",
      "Saved train 1496\n",
      "Saved train 1497\n",
      "Saved train 1498\n",
      "Saved train 1499\n"
     ]
    },
    {
     "name": "stderr",
     "output_type": "stream",
     "text": [
      "1510it [00:38, 47.41it/s]"
     ]
    },
    {
     "name": "stdout",
     "output_type": "stream",
     "text": [
      "Saved train 1500\n",
      "Saved train 1501\n",
      "Saved train 1502\n",
      "Saved train 1503\n",
      "Saved train 1504\n",
      "Saved train 1505\n",
      "Saved train 1506\n",
      "Saved train 1507\n",
      "Saved train 1508\n",
      "Saved train 1509\n",
      "Saved train 1510\n"
     ]
    },
    {
     "name": "stderr",
     "output_type": "stream",
     "text": [
      "1516it [00:38, 45.76it/s]"
     ]
    },
    {
     "name": "stdout",
     "output_type": "stream",
     "text": [
      "Saved train 1511\n",
      "Saved train 1512\n",
      "Saved train 1513\n",
      "Saved train 1514\n",
      "Saved train 1515\n",
      "Saved train 1516\n"
     ]
    },
    {
     "name": "stderr",
     "output_type": "stream",
     "text": [
      "1530it [00:38, 36.12it/s]"
     ]
    },
    {
     "name": "stdout",
     "output_type": "stream",
     "text": [
      "Saved train 1517\n",
      "Saved train 1518\n",
      "Saved train 1519\n",
      "Saved train 1520\n",
      "Saved train 1521\n",
      "Saved train 1522\n",
      "Saved train 1523\n",
      "Saved train 1524\n",
      "Saved train 1525\n",
      "Saved train 1526\n",
      "Saved train 1527\n",
      "Saved train 1528\n",
      "Saved train 1529\n",
      "Saved train 1530\n",
      "Saved train 1531\n"
     ]
    },
    {
     "name": "stderr",
     "output_type": "stream",
     "text": [
      "1537it [00:38, 41.49it/s]"
     ]
    },
    {
     "name": "stdout",
     "output_type": "stream",
     "text": [
      "Saved train 1532\n",
      "Saved train 1533\n",
      "Saved train 1534\n",
      "Saved train 1535\n",
      "Saved train 1536\n",
      "Saved train 1537\n",
      "Saved train 1538\n",
      "Saved train 1539\n",
      "Saved train 1540\n",
      "Saved train 1541\n"
     ]
    },
    {
     "name": "stderr",
     "output_type": "stream",
     "text": [
      "1548it [00:39, 37.19it/s]"
     ]
    },
    {
     "name": "stdout",
     "output_type": "stream",
     "text": [
      "Saved train 1542\n",
      "Saved train 1543\n",
      "Saved train 1544\n",
      "Saved train 1545\n",
      "Saved train 1546\n",
      "Saved train 1547\n",
      "Saved train 1548\n",
      "Saved train 1549\n"
     ]
    },
    {
     "name": "stderr",
     "output_type": "stream",
     "text": [
      "1559it [00:39, 41.57it/s]"
     ]
    },
    {
     "name": "stdout",
     "output_type": "stream",
     "text": [
      "Saved train 1550\n",
      "Saved train 1551\n",
      "Saved train 1552\n",
      "Saved train 1553\n",
      "Saved train 1554\n",
      "Saved train 1555\n",
      "Saved train 1556\n",
      "Saved train 1557\n",
      "Saved train 1558\n",
      "Saved train 1559\n",
      "Saved train 1560\n"
     ]
    },
    {
     "name": "stderr",
     "output_type": "stream",
     "text": [
      "1564it [00:39, 32.72it/s]"
     ]
    },
    {
     "name": "stdout",
     "output_type": "stream",
     "text": [
      "Saved train 1561\n",
      "Saved train 1562\n",
      "Saved train 1563\n",
      "Saved train 1564\n",
      "Saved train 1565\n",
      "Saved train 1566\n",
      "Saved train 1567\n",
      "Saved train 1568\n",
      "Saved train 1569\n"
     ]
    },
    {
     "name": "stderr",
     "output_type": "stream",
     "text": [
      "1577it [00:40, 35.03it/s]"
     ]
    },
    {
     "name": "stdout",
     "output_type": "stream",
     "text": [
      "Saved train 1570\n",
      "Saved train 1571\n",
      "Saved train 1572\n",
      "Saved train 1573\n",
      "Saved train 1574\n",
      "Saved train 1575\n",
      "Saved train 1576\n",
      "Saved train 1577\n"
     ]
    },
    {
     "name": "stderr",
     "output_type": "stream",
     "text": [
      "1586it [00:40, 34.56it/s]"
     ]
    },
    {
     "name": "stdout",
     "output_type": "stream",
     "text": [
      "Saved train 1578\n",
      "Saved train 1579\n",
      "Saved train 1580\n",
      "Saved train 1581\n",
      "Saved train 1582\n",
      "Saved train 1583\n",
      "Saved train 1584\n",
      "Saved train 1585\n"
     ]
    },
    {
     "name": "stderr",
     "output_type": "stream",
     "text": [
      "1595it [00:40, 32.42it/s]"
     ]
    },
    {
     "name": "stdout",
     "output_type": "stream",
     "text": [
      "Saved train 1586\n",
      "Saved train 1587\n",
      "Saved train 1588\n",
      "Saved train 1589\n",
      "Saved train 1590\n",
      "Saved train 1591\n",
      "Saved train 1592\n",
      "Saved train 1593\n",
      "Saved train 1594\n",
      "Saved train 1595\n"
     ]
    },
    {
     "name": "stderr",
     "output_type": "stream",
     "text": [
      "1605it [00:40, 37.81it/s]"
     ]
    },
    {
     "name": "stdout",
     "output_type": "stream",
     "text": [
      "Saved train 1596\n",
      "Saved train 1597\n",
      "Saved train 1598\n",
      "Saved train 1599\n",
      "Saved train 1600\n",
      "Saved train 1601\n",
      "Saved train 1602\n",
      "Saved train 1603\n",
      "Saved train 1604\n",
      "Saved train 1605\n",
      "Saved train 1606\n",
      "Saved train 1607\n"
     ]
    },
    {
     "name": "stderr",
     "output_type": "stream",
     "text": [
      "1617it [00:41, 36.95it/s]"
     ]
    },
    {
     "name": "stdout",
     "output_type": "stream",
     "text": [
      "Saved train 1608\n",
      "Saved train 1609\n",
      "Saved train 1610\n",
      "Saved train 1611\n",
      "Saved train 1612\n",
      "Saved train 1613\n",
      "Saved train 1614\n",
      "Saved train 1615\n",
      "Saved train 1616\n",
      "Saved train 1617\n",
      "Saved train 1618\n",
      "Saved train 1619\n",
      "Saved train 1620\n"
     ]
    },
    {
     "name": "stderr",
     "output_type": "stream",
     "text": [
      "1627it [00:41, 32.73it/s]"
     ]
    },
    {
     "name": "stdout",
     "output_type": "stream",
     "text": [
      "Saved train 1621\n",
      "Saved train 1622\n",
      "Saved train 1623\n",
      "Saved train 1624\n",
      "Saved train 1625\n",
      "Saved train 1626\n"
     ]
    },
    {
     "name": "stderr",
     "output_type": "stream",
     "text": [
      "1632it [00:41, 34.84it/s]"
     ]
    },
    {
     "name": "stdout",
     "output_type": "stream",
     "text": [
      "Saved train 1627\n",
      "Saved train 1628\n",
      "Saved train 1629\n",
      "Saved train 1630\n",
      "Saved train 1631\n",
      "Saved train 1632\n"
     ]
    },
    {
     "name": "stderr",
     "output_type": "stream",
     "text": [
      "1636it [00:41, 28.75it/s]"
     ]
    },
    {
     "name": "stdout",
     "output_type": "stream",
     "text": [
      "Saved train 1633\n",
      "Saved train 1634\n",
      "Saved train 1635\n",
      "Saved train 1636\n",
      "Saved train 1637\n",
      "Saved train 1638\n",
      "Saved train 1639\n",
      "Saved train 1640\n",
      "Saved train 1641\n"
     ]
    },
    {
     "name": "stderr",
     "output_type": "stream",
     "text": [
      "1650it [00:42, 34.80it/s]"
     ]
    },
    {
     "name": "stdout",
     "output_type": "stream",
     "text": [
      "Saved train 1642\n",
      "Saved train 1643\n",
      "Saved train 1644\n",
      "Saved train 1645\n",
      "Saved train 1646\n",
      "Saved train 1647\n",
      "Saved train 1648\n",
      "Saved train 1649\n",
      "Saved train 1650\n",
      "Saved train 1651\n"
     ]
    },
    {
     "name": "stderr",
     "output_type": "stream",
     "text": [
      "1660it [00:42, 36.29it/s]"
     ]
    },
    {
     "name": "stdout",
     "output_type": "stream",
     "text": [
      "Saved train 1652\n",
      "Saved train 1653\n",
      "Saved train 1654\n",
      "Saved train 1655\n",
      "Saved train 1656\n",
      "Saved train 1657\n",
      "Saved train 1658\n",
      "Saved train 1659\n"
     ]
    },
    {
     "name": "stderr",
     "output_type": "stream",
     "text": [
      "1665it [00:42, 30.96it/s]"
     ]
    },
    {
     "name": "stdout",
     "output_type": "stream",
     "text": [
      "Saved train 1660\n",
      "Saved train 1661\n",
      "Saved train 1662\n",
      "Saved train 1663\n",
      "Saved train 1664\n",
      "Saved train 1665\n",
      "Saved train 1666\n",
      "Saved train 1667\n"
     ]
    },
    {
     "name": "stderr",
     "output_type": "stream",
     "text": [
      "1675it [00:43, 34.61it/s]"
     ]
    },
    {
     "name": "stdout",
     "output_type": "stream",
     "text": [
      "Saved train 1668\n",
      "Saved train 1669\n",
      "Saved train 1670\n",
      "Saved train 1671\n",
      "Saved train 1672\n",
      "Saved train 1673\n",
      "Saved train 1674\n",
      "Saved train 1675\n",
      "Saved train 1676\n",
      "Saved train 1677\n"
     ]
    },
    {
     "name": "stderr",
     "output_type": "stream",
     "text": [
      "1683it [00:43, 31.81it/s]"
     ]
    },
    {
     "name": "stdout",
     "output_type": "stream",
     "text": [
      "Saved train 1678\n",
      "Saved train 1679\n",
      "Saved train 1680\n",
      "Saved train 1681\n",
      "Saved train 1682\n",
      "Saved train 1683\n",
      "Saved train 1684\n",
      "Saved train 1685\n",
      "Saved train 1686\n",
      "Saved train 1687\n"
     ]
    },
    {
     "name": "stderr",
     "output_type": "stream",
     "text": [
      "1695it [00:43, 40.58it/s]"
     ]
    },
    {
     "name": "stdout",
     "output_type": "stream",
     "text": [
      "Saved train 1688\n",
      "Saved train 1689\n",
      "Saved train 1690\n",
      "Saved train 1691\n",
      "Saved train 1692\n",
      "Saved train 1693\n",
      "Saved train 1694\n",
      "Saved train 1695\n",
      "Saved train 1696\n",
      "Saved train 1697\n"
     ]
    },
    {
     "name": "stderr",
     "output_type": "stream",
     "text": [
      "1700it [00:43, 32.05it/s]"
     ]
    },
    {
     "name": "stdout",
     "output_type": "stream",
     "text": [
      "Saved train 1698\n",
      "Saved train 1699\n",
      "Saved train 1700\n",
      "Saved train 1701\n",
      "Saved train 1702\n",
      "Saved train 1703\n",
      "Saved train 1704\n",
      "Saved train 1705\n"
     ]
    },
    {
     "name": "stderr",
     "output_type": "stream",
     "text": [
      "1712it [00:44, 35.68it/s]"
     ]
    },
    {
     "name": "stdout",
     "output_type": "stream",
     "text": [
      "Saved train 1706\n",
      "Saved train 1707\n",
      "Saved train 1708\n",
      "Saved train 1709\n",
      "Saved train 1710\n",
      "Saved train 1711\n",
      "Saved train 1712\n",
      "Saved train 1713\n",
      "Saved train 1714\n",
      "Saved train 1715\n"
     ]
    },
    {
     "name": "stderr",
     "output_type": "stream",
     "text": [
      "1722it [00:44, 34.70it/s]"
     ]
    },
    {
     "name": "stdout",
     "output_type": "stream",
     "text": [
      "Saved train 1716\n",
      "Saved train 1717\n",
      "Saved train 1718\n",
      "Saved train 1719\n",
      "Saved train 1720\n",
      "Saved train 1721\n",
      "Saved train 1722\n",
      "Saved train 1723\n"
     ]
    },
    {
     "name": "stderr",
     "output_type": "stream",
     "text": [
      "1732it [00:44, 39.32it/s]"
     ]
    },
    {
     "name": "stdout",
     "output_type": "stream",
     "text": [
      "Saved train 1724\n",
      "Saved train 1725\n",
      "Saved train 1726\n",
      "Saved train 1727\n",
      "Saved train 1728\n",
      "Saved train 1729\n",
      "Saved train 1730\n",
      "Saved train 1731\n",
      "Saved train 1732\n"
     ]
    },
    {
     "name": "stderr",
     "output_type": "stream",
     "text": [
      "1737it [00:44, 37.00it/s]"
     ]
    },
    {
     "name": "stdout",
     "output_type": "stream",
     "text": [
      "Saved train 1733\n",
      "Saved train 1734\n",
      "Saved train 1735\n",
      "Saved train 1736\n",
      "Saved train 1737\n",
      "Saved train 1738\n",
      "Saved train 1739\n",
      "Saved train 1740\n",
      "Saved train 1741\n"
     ]
    },
    {
     "name": "stderr",
     "output_type": "stream",
     "text": [
      "1747it [00:45, 32.18it/s]"
     ]
    },
    {
     "name": "stdout",
     "output_type": "stream",
     "text": [
      "Saved train 1742\n",
      "Saved train 1743\n",
      "Saved train 1744\n",
      "Saved train 1745\n",
      "Saved train 1746\n",
      "Saved train 1747\n",
      "Saved train 1748\n"
     ]
    },
    {
     "name": "stderr",
     "output_type": "stream",
     "text": [
      "1759it [00:45, 42.34it/s]"
     ]
    },
    {
     "name": "stdout",
     "output_type": "stream",
     "text": [
      "Saved train 1749\n",
      "Saved train 1750\n",
      "Saved train 1751\n",
      "Saved train 1752\n",
      "Saved train 1753\n",
      "Saved train 1754\n",
      "Saved train 1755\n",
      "Saved train 1756\n",
      "Saved train 1757\n",
      "Saved train 1758\n"
     ]
    },
    {
     "name": "stderr",
     "output_type": "stream",
     "text": [
      "1769it [00:45, 43.89it/s]"
     ]
    },
    {
     "name": "stdout",
     "output_type": "stream",
     "text": [
      "Saved train 1759\n",
      "Saved train 1760\n",
      "Saved train 1761\n",
      "Saved train 1762\n",
      "Saved train 1763\n",
      "Saved train 1764\n",
      "Saved train 1765\n",
      "Saved train 1766\n",
      "Saved train 1767\n",
      "Saved train 1768\n",
      "Saved train 1769\n"
     ]
    },
    {
     "name": "stderr",
     "output_type": "stream",
     "text": [
      "1776it [00:45, 49.33it/s]"
     ]
    },
    {
     "name": "stdout",
     "output_type": "stream",
     "text": [
      "Saved train 1770\n",
      "Saved train 1771\n",
      "Saved train 1772\n",
      "Saved train 1773\n",
      "Saved train 1774\n",
      "Saved train 1775\n",
      "Saved train 1776\n",
      "Saved train 1777\n"
     ]
    },
    {
     "name": "stderr",
     "output_type": "stream",
     "text": [
      "1782it [00:45, 40.16it/s]"
     ]
    },
    {
     "name": "stdout",
     "output_type": "stream",
     "text": [
      "Saved train 1778\n",
      "Saved train 1779\n",
      "Saved train 1780\n",
      "Saved train 1781\n",
      "Saved train 1782\n",
      "Saved train 1783\n",
      "Saved train 1784\n",
      "Saved train 1785\n"
     ]
    },
    {
     "name": "stderr",
     "output_type": "stream",
     "text": [
      "1793it [00:46, 40.49it/s]"
     ]
    },
    {
     "name": "stdout",
     "output_type": "stream",
     "text": [
      "Saved train 1786\n",
      "Saved train 1787\n",
      "Saved train 1788\n",
      "Saved train 1789\n",
      "Saved train 1790\n",
      "Saved train 1791\n",
      "Saved train 1792\n",
      "Saved train 1793\n",
      "Saved train 1794\n",
      "Saved train 1795\n",
      "Saved train 1796\n"
     ]
    },
    {
     "name": "stderr",
     "output_type": "stream",
     "text": [
      "1805it [00:46, 44.48it/s]"
     ]
    },
    {
     "name": "stdout",
     "output_type": "stream",
     "text": [
      "Saved train 1797\n",
      "Saved train 1798\n",
      "Saved train 1799\n",
      "Saved train 1800\n",
      "Saved train 1801\n",
      "Saved train 1802\n",
      "Saved train 1803\n",
      "Saved train 1804\n",
      "Saved train 1805\n",
      "Saved train 1806\n",
      "Saved train 1807\n",
      "Saved train 1808\n"
     ]
    },
    {
     "name": "stderr",
     "output_type": "stream",
     "text": [
      "1810it [00:46, 44.11it/s]"
     ]
    },
    {
     "name": "stdout",
     "output_type": "stream",
     "text": [
      "Saved train 1809\n",
      "Saved train 1810\n",
      "Saved train 1811\n"
     ]
    },
    {
     "name": "stderr",
     "output_type": "stream",
     "text": [
      "1815it [00:46, 25.88it/s]"
     ]
    },
    {
     "name": "stdout",
     "output_type": "stream",
     "text": [
      "Saved train 1812\n",
      "Saved train 1813\n",
      "Saved train 1814\n",
      "Saved train 1815\n"
     ]
    },
    {
     "name": "stderr",
     "output_type": "stream",
     "text": [
      "1831it [00:47, 42.82it/s]"
     ]
    },
    {
     "name": "stdout",
     "output_type": "stream",
     "text": [
      "Saved train 1816\n",
      "Saved train 1817\n",
      "Saved train 1818\n",
      "Saved train 1819\n",
      "Saved train 1820\n",
      "Saved train 1821\n",
      "Saved train 1822\n",
      "Saved train 1823\n",
      "Saved train 1824\n",
      "Saved train 1825\n",
      "Saved train 1826\n",
      "Saved train 1827\n",
      "Saved train 1828\n",
      "Saved train 1829\n",
      "Saved train 1830\n",
      "Saved train 1831\n"
     ]
    },
    {
     "name": "stderr",
     "output_type": "stream",
     "text": [
      "1838it [00:47, 47.45it/s]"
     ]
    },
    {
     "name": "stdout",
     "output_type": "stream",
     "text": [
      "Saved train 1832\n",
      "Saved train 1833\n",
      "Saved train 1834\n",
      "Saved train 1835\n",
      "Saved train 1836\n",
      "Saved train 1837\n",
      "Saved train 1838\n",
      "Saved train 1839\n",
      "Saved train 1840\n",
      "Saved train 1841\n"
     ]
    },
    {
     "name": "stderr",
     "output_type": "stream",
     "text": [
      "1852it [00:47, 50.29it/s]"
     ]
    },
    {
     "name": "stdout",
     "output_type": "stream",
     "text": [
      "Saved train 1842\n",
      "Saved train 1843\n",
      "Saved train 1844\n",
      "Saved train 1845\n",
      "Saved train 1846\n",
      "Saved train 1847\n",
      "Saved train 1848\n",
      "Saved train 1849\n",
      "Saved train 1850\n",
      "Saved train 1851\n",
      "Saved train 1852\n",
      "Saved train 1853\n",
      "Saved train 1854\n",
      "Saved train 1855\n",
      "Saved train 1856\n"
     ]
    },
    {
     "name": "stderr",
     "output_type": "stream",
     "text": [
      "1866it [00:48, 36.74it/s]"
     ]
    },
    {
     "name": "stdout",
     "output_type": "stream",
     "text": [
      "Saved train 1857\n",
      "Saved train 1858\n",
      "Saved train 1859\n",
      "Saved train 1860\n",
      "Saved train 1861\n",
      "Saved train 1862\n",
      "Saved train 1863\n",
      "Saved train 1864\n",
      "Saved train 1865\n",
      "Saved train 1866\n",
      "Saved train 1867\n",
      "Saved train 1868\n",
      "Saved train 1869\n",
      "Saved train 1870\n",
      "Saved train 1871\n",
      "Saved train 1872\n"
     ]
    },
    {
     "name": "stderr",
     "output_type": "stream",
     "text": [
      "1874it [00:48, 44.50it/s]"
     ]
    },
    {
     "name": "stdout",
     "output_type": "stream",
     "text": [
      "Saved train 1873\n",
      "Saved train 1874\n",
      "Saved train 1875\n"
     ]
    },
    {
     "name": "stderr",
     "output_type": "stream",
     "text": [
      "1889it [00:48, 36.94it/s]"
     ]
    },
    {
     "name": "stdout",
     "output_type": "stream",
     "text": [
      "Saved train 1876\n",
      "Saved train 1877\n",
      "Saved train 1878\n",
      "Saved train 1879\n",
      "Saved train 1880\n",
      "Saved train 1881\n",
      "Saved train 1882\n",
      "Saved train 1883\n",
      "Saved train 1884\n",
      "Saved train 1885\n",
      "Saved train 1886\n",
      "Saved train 1887\n",
      "Saved train 1888\n",
      "Saved train 1889\n",
      "Saved train 1890\n",
      "Saved train 1891\n"
     ]
    },
    {
     "name": "stderr",
     "output_type": "stream",
     "text": [
      "1897it [00:48, 43.75it/s]"
     ]
    },
    {
     "name": "stdout",
     "output_type": "stream",
     "text": [
      "Saved train 1892\n",
      "Saved train 1893\n",
      "Saved train 1894\n",
      "Saved train 1895\n",
      "Saved train 1896\n",
      "Saved train 1897\n",
      "Saved train 1898\n",
      "Saved train 1899\n",
      "Saved train 1900\n",
      "Saved train 1901\n",
      "Saved train 1902\n"
     ]
    },
    {
     "name": "stderr",
     "output_type": "stream",
     "text": [
      "1912it [00:49, 45.03it/s]"
     ]
    },
    {
     "name": "stdout",
     "output_type": "stream",
     "text": [
      "Saved train 1903\n",
      "Saved train 1904\n",
      "Saved train 1905\n",
      "Saved train 1906\n",
      "Saved train 1907\n",
      "Saved train 1908\n",
      "Saved train 1909\n",
      "Saved train 1910\n",
      "Saved train 1911\n",
      "Saved train 1912\n",
      "Saved train 1913\n",
      "Saved train 1914\n",
      "Saved train 1915\n"
     ]
    },
    {
     "name": "stderr",
     "output_type": "stream",
     "text": [
      "1924it [00:49, 46.90it/s]"
     ]
    },
    {
     "name": "stdout",
     "output_type": "stream",
     "text": [
      "Saved train 1916\n",
      "Saved train 1917\n",
      "Saved train 1918\n",
      "Saved train 1919\n",
      "Saved train 1920\n",
      "Saved train 1921\n",
      "Saved train 1922\n",
      "Saved train 1923\n",
      "Saved train 1924\n",
      "Saved train 1925\n",
      "Saved train 1926\n",
      "Saved train 1927\n"
     ]
    },
    {
     "name": "stderr",
     "output_type": "stream",
     "text": [
      "1936it [00:49, 47.63it/s]"
     ]
    },
    {
     "name": "stdout",
     "output_type": "stream",
     "text": [
      "Saved train 1928\n",
      "Saved train 1929\n",
      "Saved train 1930\n",
      "Saved train 1931\n",
      "Saved train 1932\n",
      "Saved train 1933\n",
      "Saved train 1934\n",
      "Saved train 1935\n",
      "Saved train 1936\n",
      "Saved train 1937\n",
      "Saved train 1938\n"
     ]
    },
    {
     "name": "stderr",
     "output_type": "stream",
     "text": [
      "1952it [00:49, 59.30it/s]"
     ]
    },
    {
     "name": "stdout",
     "output_type": "stream",
     "text": [
      "Saved train 1939\n",
      "Saved train 1940\n",
      "Saved train 1941\n",
      "Saved train 1942\n",
      "Saved train 1943\n",
      "Saved train 1944\n",
      "Saved train 1945\n",
      "Saved train 1946\n",
      "Saved train 1947\n",
      "Saved train 1948\n",
      "Saved train 1949\n",
      "Saved train 1950\n",
      "Saved train 1951\n"
     ]
    },
    {
     "name": "stderr",
     "output_type": "stream",
     "text": [
      "1966it [00:50, 47.94it/s]"
     ]
    },
    {
     "name": "stdout",
     "output_type": "stream",
     "text": [
      "Saved train 1952\n",
      "Saved train 1953\n",
      "Saved train 1954\n",
      "Saved train 1955\n",
      "Saved train 1956\n",
      "Saved train 1957\n",
      "Saved train 1958\n",
      "Saved train 1959\n",
      "Saved train 1960\n",
      "Saved train 1961\n",
      "Saved train 1962\n",
      "Saved train 1963\n",
      "Saved train 1964\n",
      "Saved train 1965\n",
      "Saved train 1966\n"
     ]
    },
    {
     "name": "stderr",
     "output_type": "stream",
     "text": [
      "1972it [00:50, 39.39it/s]"
     ]
    },
    {
     "name": "stdout",
     "output_type": "stream",
     "text": [
      "Saved train 1967\n",
      "Saved train 1968\n",
      "Saved train 1969\n",
      "Saved train 1970\n",
      "Saved train 1971\n",
      "Saved train 1972\n",
      "Saved train 1973\n",
      "Saved train 1974\n",
      "Saved train 1975\n",
      "Saved train 1976\n",
      "Saved train 1977\n",
      "Saved train 1978\n"
     ]
    },
    {
     "name": "stderr",
     "output_type": "stream",
     "text": [
      "1988it [00:50, 43.15it/s]"
     ]
    },
    {
     "name": "stdout",
     "output_type": "stream",
     "text": [
      "Saved train 1979\n",
      "Saved train 1980\n",
      "Saved train 1981\n",
      "Saved train 1982\n",
      "Saved train 1983\n",
      "Saved train 1984\n",
      "Saved train 1985\n",
      "Saved train 1986\n",
      "Saved train 1987\n"
     ]
    },
    {
     "name": "stderr",
     "output_type": "stream",
     "text": [
      "1994it [00:51, 40.40it/s]"
     ]
    },
    {
     "name": "stdout",
     "output_type": "stream",
     "text": [
      "Saved train 1988\n",
      "Saved train 1989\n",
      "Saved train 1990\n",
      "Saved train 1991\n",
      "Saved train 1992\n",
      "Saved train 1993\n",
      "Saved train 1994\n",
      "Saved train 1995\n"
     ]
    },
    {
     "name": "stderr",
     "output_type": "stream",
     "text": [
      "1999it [00:51, 30.66it/s]"
     ]
    },
    {
     "name": "stdout",
     "output_type": "stream",
     "text": [
      "Saved train 1996\n",
      "Saved train 1997\n",
      "Saved train 1998\n",
      "Saved train 1999\n",
      "Saved train 2000\n",
      "Saved train 2001\n",
      "Saved train 2002\n",
      "Saved train 2003\n",
      "Saved train 2004\n",
      "Saved train 2005\n"
     ]
    },
    {
     "name": "stderr",
     "output_type": "stream",
     "text": [
      "2015it [00:51, 38.11it/s]"
     ]
    },
    {
     "name": "stdout",
     "output_type": "stream",
     "text": [
      "Saved train 2006\n",
      "Saved train 2007\n",
      "Saved train 2008\n",
      "Saved train 2009\n",
      "Saved train 2010\n",
      "Saved train 2011\n",
      "Saved train 2012\n",
      "Saved train 2013\n",
      "Saved train 2014\n",
      "Saved train 2015\n",
      "Saved train 2016\n"
     ]
    },
    {
     "name": "stderr",
     "output_type": "stream",
     "text": [
      "2025it [00:51, 40.45it/s]"
     ]
    },
    {
     "name": "stdout",
     "output_type": "stream",
     "text": [
      "Saved train 2017\n",
      "Saved train 2018\n",
      "Saved train 2019\n",
      "Saved train 2020\n",
      "Saved train 2021\n",
      "Saved train 2022\n",
      "Saved train 2023\n",
      "Saved train 2024\n",
      "Saved train 2025\n",
      "Saved train 2026\n",
      "Saved train 2027\n"
     ]
    },
    {
     "name": "stderr",
     "output_type": "stream",
     "text": [
      "2031it [00:52, 43.74it/s]"
     ]
    },
    {
     "name": "stdout",
     "output_type": "stream",
     "text": [
      "Saved train 2028\n",
      "Saved train 2029\n",
      "Saved train 2030\n",
      "Saved train 2031\n",
      "Saved train 2032\n",
      "Saved train 2033\n"
     ]
    },
    {
     "name": "stderr",
     "output_type": "stream",
     "text": [
      "2036it [00:52, 38.00it/s]"
     ]
    },
    {
     "name": "stdout",
     "output_type": "stream",
     "text": [
      "Saved train 2034\n",
      "Saved train 2035\n",
      "Saved train 2036\n",
      "Saved train 2037\n",
      "Saved train 2038\n"
     ]
    },
    {
     "name": "stderr",
     "output_type": "stream",
     "text": [
      "2041it [00:52, 33.22it/s]"
     ]
    },
    {
     "name": "stdout",
     "output_type": "stream",
     "text": [
      "Saved train 2039\n",
      "Saved train 2040\n",
      "Saved train 2041\n",
      "Saved train 2042\n",
      "Saved train 2043\n"
     ]
    },
    {
     "name": "stderr",
     "output_type": "stream",
     "text": [
      "2053it [00:52, 36.12it/s]"
     ]
    },
    {
     "name": "stdout",
     "output_type": "stream",
     "text": [
      "Saved train 2044\n",
      "Saved train 2045\n",
      "Saved train 2046\n",
      "Saved train 2047\n",
      "Saved train 2048\n",
      "Saved train 2049\n",
      "Saved train 2050\n",
      "Saved train 2051\n",
      "Saved train 2052\n",
      "Saved train 2053\n"
     ]
    },
    {
     "name": "stderr",
     "output_type": "stream",
     "text": [
      "2057it [00:52, 35.48it/s]"
     ]
    },
    {
     "name": "stdout",
     "output_type": "stream",
     "text": [
      "Saved train 2054\n",
      "Saved train 2055\n",
      "Saved train 2056\n",
      "Saved train 2057\n",
      "Saved train 2058\n"
     ]
    },
    {
     "name": "stderr",
     "output_type": "stream",
     "text": [
      "2069it [00:53, 36.32it/s]"
     ]
    },
    {
     "name": "stdout",
     "output_type": "stream",
     "text": [
      "Saved train 2059\n",
      "Saved train 2060\n",
      "Saved train 2061\n",
      "Saved train 2062\n",
      "Saved train 2063\n",
      "Saved train 2064\n",
      "Saved train 2065\n",
      "Saved train 2066\n",
      "Saved train 2067\n",
      "Saved train 2068\n",
      "Saved train 2069\n",
      "Saved train 2070\n",
      "Saved train 2071\n",
      "Saved train 2072\n",
      "Saved train 2073\n"
     ]
    },
    {
     "name": "stderr",
     "output_type": "stream",
     "text": [
      "2077it [00:53, 45.36it/s]"
     ]
    },
    {
     "name": "stdout",
     "output_type": "stream",
     "text": [
      "Saved train 2074\n",
      "Saved train 2075\n",
      "Saved train 2076\n",
      "Saved train 2077\n",
      "Saved train 2078\n"
     ]
    },
    {
     "name": "stderr",
     "output_type": "stream",
     "text": [
      "2088it [00:53, 36.70it/s]"
     ]
    },
    {
     "name": "stdout",
     "output_type": "stream",
     "text": [
      "Saved train 2079\n",
      "Saved train 2080\n",
      "Saved train 2081\n",
      "Saved train 2082\n",
      "Saved train 2083\n",
      "Saved train 2084\n",
      "Saved train 2085\n",
      "Saved train 2086\n",
      "Saved train 2087\n",
      "Saved train 2088\n",
      "Saved train 2089\n",
      "Saved train 2090\n",
      "Saved train 2091\n",
      "Saved train 2092\n"
     ]
    },
    {
     "name": "stderr",
     "output_type": "stream",
     "text": [
      "2102it [00:54, 36.35it/s]"
     ]
    },
    {
     "name": "stdout",
     "output_type": "stream",
     "text": [
      "Saved train 2093\n",
      "Saved train 2094\n",
      "Saved train 2095\n",
      "Saved train 2096\n",
      "Saved train 2097\n",
      "Saved train 2098\n",
      "Saved train 2099\n",
      "Saved train 2100\n",
      "Saved train 2101\n",
      "Saved train 2102\n",
      "Saved train 2103\n",
      "Saved train 2104\n",
      "Saved train 2105\n",
      "Saved train 2106\n",
      "Saved train 2107\n"
     ]
    },
    {
     "name": "stderr",
     "output_type": "stream",
     "text": [
      "2110it [00:54, 43.63it/s]"
     ]
    },
    {
     "name": "stdout",
     "output_type": "stream",
     "text": [
      "Saved train 2108\n",
      "Saved train 2109\n",
      "Saved train 2110\n",
      "Saved train 2111\n",
      "Saved train 2112\n",
      "Saved train 2113\n",
      "Saved train 2114\n"
     ]
    },
    {
     "name": "stderr",
     "output_type": "stream",
     "text": [
      "2124it [00:54, 34.38it/s]"
     ]
    },
    {
     "name": "stdout",
     "output_type": "stream",
     "text": [
      "Saved train 2115\n",
      "Saved train 2116\n",
      "Saved train 2117\n",
      "Saved train 2118\n",
      "Saved train 2119\n",
      "Saved train 2120\n",
      "Saved train 2121\n",
      "Saved train 2122\n",
      "Saved train 2123\n",
      "Saved train 2124\n",
      "Saved train 2125\n",
      "Saved train 2126\n",
      "Saved train 2127\n"
     ]
    },
    {
     "name": "stderr",
     "output_type": "stream",
     "text": [
      "2138it [00:55, 42.85it/s]"
     ]
    },
    {
     "name": "stdout",
     "output_type": "stream",
     "text": [
      "Saved train 2128\n",
      "Saved train 2129\n",
      "Saved train 2130\n",
      "Saved train 2131\n",
      "Saved train 2132\n",
      "Saved train 2133\n",
      "Saved train 2134\n",
      "Saved train 2135\n",
      "Saved train 2136\n",
      "Saved train 2137\n",
      "Saved train 2138\n",
      "Saved train 2139\n",
      "Saved train 2140\n"
     ]
    },
    {
     "name": "stderr",
     "output_type": "stream",
     "text": [
      "2144it [00:55, 45.93it/s]"
     ]
    },
    {
     "name": "stdout",
     "output_type": "stream",
     "text": [
      "Saved train 2141\n",
      "Saved train 2142\n",
      "Saved train 2143\n",
      "Saved train 2144\n",
      "Saved train 2145\n",
      "Saved train 2146\n",
      "Saved train 2147\n",
      "Saved train 2148\n"
     ]
    },
    {
     "name": "stderr",
     "output_type": "stream",
     "text": [
      "2156it [00:55, 38.62it/s]\n"
     ]
    },
    {
     "name": "stdout",
     "output_type": "stream",
     "text": [
      "Saved train 2149\n",
      "Saved train 2150\n",
      "Saved train 2151\n",
      "Saved train 2152\n",
      "Saved train 2153\n",
      "Saved train 2154\n",
      "Saved train 2155\n"
     ]
    },
    {
     "name": "stderr",
     "output_type": "stream",
     "text": [
      "6it [00:00, 58.72it/s]"
     ]
    },
    {
     "name": "stdout",
     "output_type": "stream",
     "text": [
      "Saved valid 0\n",
      "Saved valid 1\n",
      "Saved valid 2\n",
      "Saved valid 3\n",
      "Saved valid 4\n",
      "Saved valid 5\n"
     ]
    },
    {
     "name": "stderr",
     "output_type": "stream",
     "text": [
      "12it [00:00, 49.06it/s]"
     ]
    },
    {
     "name": "stdout",
     "output_type": "stream",
     "text": [
      "Saved valid 6\n",
      "Saved valid 7\n",
      "Saved valid 8\n",
      "Saved valid 9\n",
      "Saved valid 10\n",
      "Saved valid 11\n"
     ]
    },
    {
     "name": "stderr",
     "output_type": "stream",
     "text": [
      "21it [00:00, 62.63it/s]"
     ]
    },
    {
     "name": "stdout",
     "output_type": "stream",
     "text": [
      "Saved valid 12\n",
      "Saved valid 13\n",
      "Saved valid 14\n",
      "Saved valid 15\n",
      "Saved valid 16\n",
      "Saved valid 17\n",
      "Saved valid 18\n",
      "Saved valid 19\n",
      "Saved valid 20\n",
      "Saved valid 21\n"
     ]
    },
    {
     "name": "stderr",
     "output_type": "stream",
     "text": [
      "28it [00:00, 42.73it/s]"
     ]
    },
    {
     "name": "stdout",
     "output_type": "stream",
     "text": [
      "Saved valid 22\n",
      "Saved valid 23\n",
      "Saved valid 24\n",
      "Saved valid 25\n",
      "Saved valid 26\n",
      "Saved valid 27\n",
      "Saved valid 28\n",
      "Saved valid 29\n",
      "Saved valid 30\n",
      "Saved valid 31\n"
     ]
    },
    {
     "name": "stderr",
     "output_type": "stream",
     "text": [
      "41it [00:00, 49.46it/s]"
     ]
    },
    {
     "name": "stdout",
     "output_type": "stream",
     "text": [
      "Saved valid 32\n",
      "Saved valid 33\n",
      "Saved valid 34\n",
      "Saved valid 35\n",
      "Saved valid 36\n",
      "Saved valid 37\n",
      "Saved valid 38\n",
      "Saved valid 39\n",
      "Saved valid 40\n",
      "Saved valid 41\n",
      "Saved valid 42\n",
      "Saved valid 43\n"
     ]
    },
    {
     "name": "stderr",
     "output_type": "stream",
     "text": [
      "55it [00:01, 43.10it/s]"
     ]
    },
    {
     "name": "stdout",
     "output_type": "stream",
     "text": [
      "Saved valid 44\n",
      "Saved valid 45\n",
      "Saved valid 46\n",
      "Saved valid 47\n",
      "Saved valid 48\n",
      "Saved valid 49\n",
      "Saved valid 50\n",
      "Saved valid 51\n",
      "Saved valid 52\n",
      "Saved valid 53\n",
      "Saved valid 54\n",
      "Saved valid 55\n",
      "Saved valid 56\n",
      "Saved valid 57\n",
      "Saved valid 58\n",
      "Saved valid 59\n"
     ]
    },
    {
     "name": "stderr",
     "output_type": "stream",
     "text": [
      "72it [00:01, 57.65it/s]"
     ]
    },
    {
     "name": "stdout",
     "output_type": "stream",
     "text": [
      "Saved valid 60\n",
      "Saved valid 61\n",
      "Saved valid 62\n",
      "Saved valid 63\n",
      "Saved valid 64\n",
      "Saved valid 65\n",
      "Saved valid 66\n",
      "Saved valid 67\n",
      "Saved valid 68\n",
      "Saved valid 69\n",
      "Saved valid 70\n",
      "Saved valid 71\n",
      "Saved valid 72\n",
      "Saved valid 73\n",
      "Saved valid 74\n",
      "Saved valid 75\n",
      "Saved valid 76\n"
     ]
    },
    {
     "name": "stderr",
     "output_type": "stream",
     "text": [
      "86it [00:02, 35.32it/s]"
     ]
    },
    {
     "name": "stdout",
     "output_type": "stream",
     "text": [
      "Saved valid 77\n",
      "Saved valid 78\n",
      "Saved valid 79\n",
      "Saved valid 80\n",
      "Saved valid 81\n",
      "Saved valid 82\n",
      "Saved valid 83\n",
      "Saved valid 84\n",
      "Saved valid 85\n",
      "Saved valid 86\n",
      "Saved valid 87\n",
      "Saved valid 88\n",
      "Saved valid 89\n",
      "Saved valid 90\n"
     ]
    },
    {
     "name": "stderr",
     "output_type": "stream",
     "text": [
      "102it [00:02, 49.65it/s]"
     ]
    },
    {
     "name": "stdout",
     "output_type": "stream",
     "text": [
      "Saved valid 91\n",
      "Saved valid 92\n",
      "Saved valid 93\n",
      "Saved valid 94\n",
      "Saved valid 95\n",
      "Saved valid 96\n",
      "Saved valid 97\n",
      "Saved valid 98\n",
      "Saved valid 99\n",
      "Saved valid 100\n",
      "Saved valid 101\n",
      "Saved valid 102\n",
      "Saved valid 103\n",
      "Saved valid 104\n",
      "Saved valid 105\n",
      "Saved valid 106\n"
     ]
    },
    {
     "name": "stderr",
     "output_type": "stream",
     "text": [
      "109it [00:02, 40.39it/s]"
     ]
    },
    {
     "name": "stdout",
     "output_type": "stream",
     "text": [
      "Saved valid 107\n",
      "Saved valid 108\n",
      "Saved valid 109\n"
     ]
    },
    {
     "name": "stderr",
     "output_type": "stream",
     "text": [
      "117it [00:02, 41.66it/s]"
     ]
    },
    {
     "name": "stdout",
     "output_type": "stream",
     "text": [
      "Saved valid 110\n",
      "Saved valid 111\n",
      "Saved valid 112\n",
      "Saved valid 113\n",
      "Saved valid 114\n",
      "Saved valid 115\n",
      "Saved valid 116\n",
      "Saved valid 117\n",
      "Saved valid 118\n",
      "Saved valid 119\n"
     ]
    },
    {
     "name": "stderr",
     "output_type": "stream",
     "text": [
      "124it [00:02, 45.97it/s]"
     ]
    },
    {
     "name": "stdout",
     "output_type": "stream",
     "text": [
      "Saved valid 120\n",
      "Saved valid 121\n",
      "Saved valid 122\n",
      "Saved valid 123\n",
      "Saved valid 124\n",
      "Saved valid 125\n",
      "Saved valid 126\n"
     ]
    },
    {
     "name": "stderr",
     "output_type": "stream",
     "text": [
      "139it [00:03, 45.84it/s]"
     ]
    },
    {
     "name": "stdout",
     "output_type": "stream",
     "text": [
      "Saved valid 127\n",
      "Saved valid 128\n",
      "Saved valid 129\n",
      "Saved valid 130\n",
      "Saved valid 131\n",
      "Saved valid 132\n",
      "Saved valid 133\n",
      "Saved valid 134\n",
      "Saved valid 135\n",
      "Saved valid 136\n",
      "Saved valid 137\n",
      "Saved valid 138\n",
      "Saved valid 139\n",
      "Saved valid 140\n",
      "Saved valid 141\n",
      "Saved valid 142\n",
      "Saved valid 143\n",
      "Saved valid 144\n"
     ]
    },
    {
     "name": "stderr",
     "output_type": "stream",
     "text": [
      "154it [00:03, 38.51it/s]"
     ]
    },
    {
     "name": "stdout",
     "output_type": "stream",
     "text": [
      "Saved valid 145\n",
      "Saved valid 146\n",
      "Saved valid 147\n",
      "Saved valid 148\n",
      "Saved valid 149\n",
      "Saved valid 150\n",
      "Saved valid 151\n",
      "Saved valid 152\n",
      "Saved valid 153\n",
      "Saved valid 154\n",
      "Saved valid 155\n",
      "Saved valid 156\n",
      "Saved valid 157\n",
      "Saved valid 158\n",
      "Saved valid 159\n",
      "Saved valid 160\n"
     ]
    },
    {
     "name": "stderr",
     "output_type": "stream",
     "text": [
      "168it [00:04, 40.78it/s]"
     ]
    },
    {
     "name": "stdout",
     "output_type": "stream",
     "text": [
      "Saved valid 161\n",
      "Saved valid 162\n",
      "Saved valid 163\n",
      "Saved valid 164\n",
      "Saved valid 165\n",
      "Saved valid 166\n",
      "Saved valid 167\n",
      "Saved valid 168\n",
      "Saved valid 169\n"
     ]
    },
    {
     "name": "stderr",
     "output_type": "stream",
     "text": [
      "181it [00:04, 35.56it/s]"
     ]
    },
    {
     "name": "stdout",
     "output_type": "stream",
     "text": [
      "Saved valid 170\n",
      "Saved valid 171\n",
      "Saved valid 172\n",
      "Saved valid 173\n",
      "Saved valid 174\n",
      "Saved valid 175\n",
      "Saved valid 176\n",
      "Saved valid 177\n",
      "Saved valid 178\n",
      "Saved valid 179\n",
      "Saved valid 180\n",
      "Saved valid 181\n",
      "Saved valid 182\n",
      "Saved valid 183\n",
      "Saved valid 184\n",
      "Saved valid 185\n",
      "Saved valid 186\n"
     ]
    },
    {
     "name": "stderr",
     "output_type": "stream",
     "text": [
      "189it [00:04, 43.31it/s]"
     ]
    },
    {
     "name": "stdout",
     "output_type": "stream",
     "text": [
      "Saved valid 187\n",
      "Saved valid 188\n",
      "Saved valid 189\n",
      "Saved valid 190\n",
      "Saved valid 191\n",
      "Saved valid 192\n",
      "Saved valid 193\n"
     ]
    },
    {
     "name": "stderr",
     "output_type": "stream",
     "text": [
      "201it [00:04, 39.89it/s]"
     ]
    },
    {
     "name": "stdout",
     "output_type": "stream",
     "text": [
      "Saved valid 194\n",
      "Saved valid 195\n",
      "Saved valid 196\n",
      "Saved valid 197\n",
      "Saved valid 198\n",
      "Saved valid 199\n",
      "Saved valid 200\n",
      "Saved valid 201\n",
      "Saved valid 202\n",
      "Saved valid 203\n",
      "Saved valid 204\n"
     ]
    },
    {
     "name": "stderr",
     "output_type": "stream",
     "text": [
      "214it [00:05, 40.05it/s]"
     ]
    },
    {
     "name": "stdout",
     "output_type": "stream",
     "text": [
      "Saved valid 205\n",
      "Saved valid 206\n",
      "Saved valid 207\n",
      "Saved valid 208\n",
      "Saved valid 209\n",
      "Saved valid 210\n",
      "Saved valid 211\n",
      "Saved valid 212\n",
      "Saved valid 213\n",
      "Saved valid 214\n",
      "Saved valid 215\n",
      "Saved valid 216\n"
     ]
    },
    {
     "name": "stderr",
     "output_type": "stream",
     "text": [
      "219it [00:05, 36.84it/s]"
     ]
    },
    {
     "name": "stdout",
     "output_type": "stream",
     "text": [
      "Saved valid 217\n",
      "Saved valid 218\n",
      "Saved valid 219\n",
      "Saved valid 220\n",
      "Saved valid 221\n"
     ]
    },
    {
     "name": "stderr",
     "output_type": "stream",
     "text": [
      "233it [00:05, 40.30it/s]"
     ]
    },
    {
     "name": "stdout",
     "output_type": "stream",
     "text": [
      "Saved valid 222\n",
      "Saved valid 223\n",
      "Saved valid 224\n",
      "Saved valid 225\n",
      "Saved valid 226\n",
      "Saved valid 227\n",
      "Saved valid 228\n",
      "Saved valid 229\n",
      "Saved valid 230\n",
      "Saved valid 231\n",
      "Saved valid 232\n",
      "Saved valid 233\n",
      "Saved valid 234\n",
      "Saved valid 235\n",
      "Saved valid 236\n",
      "Saved valid 237\n",
      "Saved valid 238\n",
      "Saved valid 239\n"
     ]
    },
    {
     "name": "stderr",
     "output_type": "stream",
     "text": [
      "246it [00:06, 33.12it/s]"
     ]
    },
    {
     "name": "stdout",
     "output_type": "stream",
     "text": [
      "Saved valid 240\n",
      "Saved valid 241\n",
      "Saved valid 242\n",
      "Saved valid 243\n",
      "Saved valid 244\n",
      "Saved valid 245\n",
      "Saved valid 246\n",
      "Saved valid 247\n",
      "Saved valid 248\n",
      "Saved valid 249\n"
     ]
    },
    {
     "name": "stderr",
     "output_type": "stream",
     "text": [
      "254it [00:06, 41.39it/s]"
     ]
    },
    {
     "name": "stdout",
     "output_type": "stream",
     "text": [
      "Saved valid 250\n",
      "Saved valid 251\n",
      "Saved valid 252\n",
      "Saved valid 253\n",
      "Saved valid 254\n",
      "Saved valid 255\n",
      "Saved valid 256\n"
     ]
    },
    {
     "name": "stderr",
     "output_type": "stream",
     "text": [
      "269it [00:06, 39.90it/s]\n"
     ]
    },
    {
     "name": "stdout",
     "output_type": "stream",
     "text": [
      "Saved valid 257\n",
      "Saved valid 258\n",
      "Saved valid 259\n",
      "Saved valid 260\n",
      "Saved valid 261\n",
      "Saved valid 262\n",
      "Saved valid 263\n",
      "Saved valid 264\n",
      "Saved valid 265\n",
      "Saved valid 266\n",
      "Saved valid 267\n",
      "Saved valid 268\n"
     ]
    },
    {
     "name": "stderr",
     "output_type": "stream",
     "text": [
      "0it [00:00, ?it/s]"
     ]
    },
    {
     "name": "stdout",
     "output_type": "stream",
     "text": [
      "Saved test 0\n",
      "Saved test 1\n"
     ]
    },
    {
     "name": "stderr",
     "output_type": "stream",
     "text": [
      "11it [00:00, 58.55it/s]"
     ]
    },
    {
     "name": "stdout",
     "output_type": "stream",
     "text": [
      "Saved test 2\n",
      "Saved test 3\n",
      "Saved test 4\n",
      "Saved test 5\n",
      "Saved test 6\n",
      "Saved test 7\n",
      "Saved test 8\n",
      "Saved test 9\n",
      "Saved test 10\n",
      "Saved test 11\n",
      "Saved test 12\n",
      "Saved test 13\n"
     ]
    },
    {
     "name": "stderr",
     "output_type": "stream",
     "text": [
      "25it [00:00, 36.05it/s]"
     ]
    },
    {
     "name": "stdout",
     "output_type": "stream",
     "text": [
      "Saved test 14\n",
      "Saved test 15\n",
      "Saved test 16\n",
      "Saved test 17\n",
      "Saved test 18\n",
      "Saved test 19\n",
      "Saved test 20\n",
      "Saved test 21\n",
      "Saved test 22\n",
      "Saved test 23\n",
      "Saved test 24\n",
      "Saved test 25\n",
      "Saved test 26\n",
      "Saved test 27\n",
      "Saved test 28\n"
     ]
    },
    {
     "name": "stderr",
     "output_type": "stream",
     "text": [
      "33it [00:00, 44.35it/s]"
     ]
    },
    {
     "name": "stdout",
     "output_type": "stream",
     "text": [
      "Saved test 29\n",
      "Saved test 30\n",
      "Saved test 31\n",
      "Saved test 32\n",
      "Saved test 33\n",
      "Saved test 34\n",
      "Saved test 35\n",
      "Saved test 36\n",
      "Saved test 37\n",
      "Saved test 38\n",
      "Saved test 39\n"
     ]
    },
    {
     "name": "stderr",
     "output_type": "stream",
     "text": [
      "41it [00:00, 46.28it/s]"
     ]
    },
    {
     "name": "stdout",
     "output_type": "stream",
     "text": [
      "Saved test 40\n",
      "Saved test 41\n",
      "Saved test 42\n",
      "Saved test 43\n"
     ]
    },
    {
     "name": "stderr",
     "output_type": "stream",
     "text": [
      "55it [00:01, 44.36it/s]"
     ]
    },
    {
     "name": "stdout",
     "output_type": "stream",
     "text": [
      "Saved test 44\n",
      "Saved test 45\n",
      "Saved test 46\n",
      "Saved test 47\n",
      "Saved test 48\n",
      "Saved test 49\n",
      "Saved test 50\n",
      "Saved test 51\n",
      "Saved test 52\n",
      "Saved test 53\n",
      "Saved test 54\n",
      "Saved test 55\n",
      "Saved test 56\n"
     ]
    },
    {
     "name": "stderr",
     "output_type": "stream",
     "text": [
      "67it [00:01, 44.83it/s]"
     ]
    },
    {
     "name": "stdout",
     "output_type": "stream",
     "text": [
      "Saved test 57\n",
      "Saved test 58\n",
      "Saved test 59\n",
      "Saved test 60\n",
      "Saved test 61\n",
      "Saved test 62\n",
      "Saved test 63\n",
      "Saved test 64\n",
      "Saved test 65\n",
      "Saved test 66\n",
      "Saved test 67\n",
      "Saved test 68\n",
      "Saved test 69\n"
     ]
    },
    {
     "name": "stderr",
     "output_type": "stream",
     "text": [
      "73it [00:01, 46.26it/s]"
     ]
    },
    {
     "name": "stdout",
     "output_type": "stream",
     "text": [
      "Saved test 70\n",
      "Saved test 71\n",
      "Saved test 72\n",
      "Saved test 73\n",
      "Saved test 74\n"
     ]
    },
    {
     "name": "stderr",
     "output_type": "stream",
     "text": [
      "84it [00:02, 34.37it/s]"
     ]
    },
    {
     "name": "stdout",
     "output_type": "stream",
     "text": [
      "Saved test 75\n",
      "Saved test 76\n",
      "Saved test 77\n",
      "Saved test 78\n",
      "Saved test 79\n",
      "Saved test 80\n",
      "Saved test 81\n",
      "Saved test 82\n",
      "Saved test 83\n",
      "Saved test 84\n"
     ]
    },
    {
     "name": "stderr",
     "output_type": "stream",
     "text": [
      "97it [00:02, 45.40it/s]"
     ]
    },
    {
     "name": "stdout",
     "output_type": "stream",
     "text": [
      "Saved test 85\n",
      "Saved test 86\n",
      "Saved test 87\n",
      "Saved test 88\n",
      "Saved test 89\n",
      "Saved test 90\n",
      "Saved test 91\n",
      "Saved test 92\n",
      "Saved test 93\n",
      "Saved test 94\n",
      "Saved test 95\n",
      "Saved test 96\n",
      "Saved test 97\n",
      "Saved test 98\n"
     ]
    },
    {
     "name": "stderr",
     "output_type": "stream",
     "text": [
      "110it [00:02, 41.69it/s]"
     ]
    },
    {
     "name": "stdout",
     "output_type": "stream",
     "text": [
      "Saved test 99\n",
      "Saved test 100\n",
      "Saved test 101\n",
      "Saved test 102\n",
      "Saved test 103\n",
      "Saved test 104\n",
      "Saved test 105\n",
      "Saved test 106\n",
      "Saved test 107\n",
      "Saved test 108\n",
      "Saved test 109\n",
      "Saved test 110\n"
     ]
    },
    {
     "name": "stderr",
     "output_type": "stream",
     "text": [
      "120it [00:03, 35.55it/s]"
     ]
    },
    {
     "name": "stdout",
     "output_type": "stream",
     "text": [
      "Saved test 111\n",
      "Saved test 112\n",
      "Saved test 113\n",
      "Saved test 114\n",
      "Saved test 115\n",
      "Saved test 116\n",
      "Saved test 117\n",
      "Saved test 118\n",
      "Saved test 119\n",
      "Saved test 120\n",
      "Saved test 121\n",
      "Saved test 122\n",
      "Saved test 123\n",
      "Saved test 124\n",
      "Saved test 125\n",
      "Saved test 126\n"
     ]
    },
    {
     "name": "stderr",
     "output_type": "stream",
     "text": [
      "137it [00:03, 40.05it/s]"
     ]
    },
    {
     "name": "stdout",
     "output_type": "stream",
     "text": [
      "Saved test 127\n",
      "Saved test 128\n",
      "Saved test 129\n",
      "Saved test 130\n",
      "Saved test 131\n",
      "Saved test 132\n",
      "Saved test 133\n",
      "Saved test 134\n",
      "Saved test 135\n",
      "Saved test 136\n",
      "Saved test 137\n",
      "Saved test 138\n",
      "Saved test 139\n"
     ]
    },
    {
     "name": "stderr",
     "output_type": "stream",
     "text": [
      "151it [00:03, 40.38it/s]"
     ]
    },
    {
     "name": "stdout",
     "output_type": "stream",
     "text": [
      "Saved test 140\n",
      "Saved test 141\n",
      "Saved test 142\n",
      "Saved test 143\n",
      "Saved test 144\n",
      "Saved test 145\n",
      "Saved test 146\n",
      "Saved test 147\n",
      "Saved test 148\n",
      "Saved test 149\n",
      "Saved test 150\n",
      "Saved test 151\n"
     ]
    },
    {
     "name": "stderr",
     "output_type": "stream",
     "text": [
      "165it [00:04, 39.42it/s]"
     ]
    },
    {
     "name": "stdout",
     "output_type": "stream",
     "text": [
      "Saved test 152\n",
      "Saved test 153\n",
      "Saved test 154\n",
      "Saved test 155\n",
      "Saved test 156\n",
      "Saved test 157\n",
      "Saved test 158\n",
      "Saved test 159\n",
      "Saved test 160\n",
      "Saved test 161\n",
      "Saved test 162\n",
      "Saved test 163\n",
      "Saved test 164\n",
      "Saved test 165\n",
      "Saved test 166\n",
      "Saved test 167\n",
      "Saved test 168\n",
      "Saved test 169\n"
     ]
    },
    {
     "name": "stderr",
     "output_type": "stream",
     "text": [
      "179it [00:04, 37.57it/s]"
     ]
    },
    {
     "name": "stdout",
     "output_type": "stream",
     "text": [
      "Saved test 170\n",
      "Saved test 171\n",
      "Saved test 172\n",
      "Saved test 173\n",
      "Saved test 174\n",
      "Saved test 175\n",
      "Saved test 176\n",
      "Saved test 177\n",
      "Saved test 178\n",
      "Saved test 179\n",
      "Saved test 180\n",
      "Saved test 181\n",
      "Saved test 182\n"
     ]
    },
    {
     "name": "stderr",
     "output_type": "stream",
     "text": [
      "191it [00:05, 34.29it/s]"
     ]
    },
    {
     "name": "stdout",
     "output_type": "stream",
     "text": [
      "Saved test 183\n",
      "Saved test 184\n",
      "Saved test 185\n",
      "Saved test 186\n",
      "Saved test 187\n",
      "Saved test 188\n",
      "Saved test 189\n",
      "Saved test 190\n"
     ]
    },
    {
     "name": "stderr",
     "output_type": "stream",
     "text": [
      "196it [00:05, 33.29it/s]"
     ]
    },
    {
     "name": "stdout",
     "output_type": "stream",
     "text": [
      "Saved test 191\n",
      "Saved test 192\n",
      "Saved test 193\n",
      "Saved test 194\n",
      "Saved test 195\n",
      "Saved test 196\n",
      "Saved test 197\n",
      "Saved test 198\n",
      "Saved test 199\n"
     ]
    },
    {
     "name": "stderr",
     "output_type": "stream",
     "text": [
      "209it [00:05, 38.92it/s]"
     ]
    },
    {
     "name": "stdout",
     "output_type": "stream",
     "text": [
      "Saved test 200\n",
      "Saved test 201\n",
      "Saved test 202\n",
      "Saved test 203\n",
      "Saved test 204\n",
      "Saved test 205\n",
      "Saved test 206\n",
      "Saved test 207\n",
      "Saved test 208\n",
      "Saved test 209\n",
      "Saved test 210\n",
      "Saved test 211\n"
     ]
    },
    {
     "name": "stderr",
     "output_type": "stream",
     "text": [
      "214it [00:05, 36.42it/s]"
     ]
    },
    {
     "name": "stdout",
     "output_type": "stream",
     "text": [
      "Saved test 212\n",
      "Saved test 213\n",
      "Saved test 214\n",
      "Saved test 215\n",
      "Saved test 216\n",
      "Saved test 217\n",
      "Saved test 218\n",
      "Saved test 219\n"
     ]
    },
    {
     "name": "stderr",
     "output_type": "stream",
     "text": [
      "221it [00:06, 38.62it/s]"
     ]
    },
    {
     "name": "stdout",
     "output_type": "stream",
     "text": [
      "Saved test 220\n",
      "Saved test 221\n",
      "Saved test 222\n",
      "Saved test 223\n",
      "Saved test 224\n",
      "Saved test 225\n"
     ]
    },
    {
     "name": "stderr",
     "output_type": "stream",
     "text": [
      "235it [00:06, 41.00it/s]"
     ]
    },
    {
     "name": "stdout",
     "output_type": "stream",
     "text": [
      "Saved test 226\n",
      "Saved test 227\n",
      "Saved test 228\n",
      "Saved test 229\n",
      "Saved test 230\n",
      "Saved test 231\n",
      "Saved test 232\n",
      "Saved test 233\n",
      "Saved test 234\n",
      "Saved test 235\n"
     ]
    },
    {
     "name": "stderr",
     "output_type": "stream",
     "text": [
      "246it [00:06, 38.52it/s]"
     ]
    },
    {
     "name": "stdout",
     "output_type": "stream",
     "text": [
      "Saved test 236\n",
      "Saved test 237\n",
      "Saved test 238\n",
      "Saved test 239\n",
      "Saved test 240\n",
      "Saved test 241\n",
      "Saved test 242\n",
      "Saved test 243\n",
      "Saved test 244\n",
      "Saved test 245\n",
      "Saved test 246\n"
     ]
    },
    {
     "name": "stderr",
     "output_type": "stream",
     "text": [
      "252it [00:06, 39.59it/s]"
     ]
    },
    {
     "name": "stdout",
     "output_type": "stream",
     "text": [
      "Saved test 247\n",
      "Saved test 248\n",
      "Saved test 249\n",
      "Saved test 250\n",
      "Saved test 251\n",
      "Saved test 252\n",
      "Saved test 253\n",
      "Saved test 254\n",
      "Saved test 255\n"
     ]
    },
    {
     "name": "stderr",
     "output_type": "stream",
     "text": [
      "258it [00:07, 36.71it/s]"
     ]
    },
    {
     "name": "stdout",
     "output_type": "stream",
     "text": [
      "Saved test 256\n",
      "Saved test 257\n",
      "Saved test 258\n",
      "Saved test 259\n",
      "Saved test 260\n",
      "Saved test 261\n",
      "Saved test 262\n"
     ]
    },
    {
     "name": "stderr",
     "output_type": "stream",
     "text": [
      "270it [00:07, 36.99it/s]"
     ]
    },
    {
     "name": "stdout",
     "output_type": "stream",
     "text": [
      "Saved test 263\n",
      "Saved test 264\n",
      "Saved test 265\n",
      "Saved test 266\n",
      "Saved test 267\n",
      "Saved test 268\n",
      "Saved test 269\n",
      "Done\n"
     ]
    },
    {
     "name": "stderr",
     "output_type": "stream",
     "text": [
      "\n"
     ]
    }
   ],
   "source": [
    "# save imgs\n",
    "for i,img in tqdm.tqdm(enumerate(train_imgs)):\n",
    "    np.save(os.path.join(img_dir, \"train\", f\"{i}.npy\"), train_imgs[i])\n",
    "    print(f\"Saved train {i}\")\n",
    "for i,img in tqdm.tqdm(enumerate(valid_imgs)):\n",
    "    np.save(os.path.join(img_dir, \"valid\", f\"{i}.npy\"), valid_imgs[i])\n",
    "    print(f\"Saved valid {i}\")\n",
    "for i,img in tqdm.tqdm(enumerate(test_imgs)):\n",
    "    np.save(os.path.join(img_dir, \"test\", f\"{i}.npy\"), test_imgs[i])\n",
    "    print(f\"Saved test {i}\")\n",
    "\n",
    "# save masks\n",
    "for i,mask in tqdm.tqdm(enumerate(train_masks)):\n",
    "    np.save(os.path.join(mask_dir, \"train\", f\"{i}.npy\"), train_masks[i])\n",
    "    print(f\"Saved train {i}\")\n",
    "for i,mask in tqdm.tqdm(enumerate(valid_masks)):\n",
    "    np.save(os.path.join(mask_dir, \"valid\", f\"{i}.npy\"), valid_masks[i])\n",
    "    print(f\"Saved valid {i}\")\n",
    "for i,mask in tqdm.tqdm(enumerate(test_masks)):\n",
    "    np.save(os.path.join(mask_dir, \"test\", f\"{i}.npy\"), test_masks[i])\n",
    "    print(f\"Saved test {i}\")\n",
    "\n",
    "print(\"Done\")"
   ]
  },
  {
   "cell_type": "markdown",
   "metadata": {},
   "source": [
    "# Slice Data (smaller images)"
   ]
  },
  {
   "cell_type": "code",
   "execution_count": 1,
   "metadata": {},
   "outputs": [
    {
     "data": {
      "text/plain": [
       "' Section one 512 x 512 image into sixteen 128 x 128 tiles.'"
      ]
     },
     "execution_count": 1,
     "metadata": {},
     "output_type": "execute_result"
    }
   ],
   "source": [
    "\"\"\" Section one 512 x 512 image into sixteen 128 x 128 tiles.\"\"\""
   ]
  },
  {
   "cell_type": "code",
   "execution_count": 2,
   "metadata": {},
   "outputs": [],
   "source": [
    "import os\n",
    "\n",
    "old_dir = \"/Volumes/LaCie/select_dauer_data_512\"\n",
    "new_dir = \"/Volumes/LaCie/filtered_dauer_data_256\"\n",
    "\n",
    "# directory with the original images (full size)\n",
    "old_img_dir = os.path.join(old_dir, \"original\")\n",
    "old_mask_dir = os.path.join(old_dir, \"ground_truth\")\n",
    "# directory to save the new images (small size)\n",
    "new_img_dir = os.path.join(new_dir, \"original\")\n",
    "new_mask_dir = os.path.join(new_dir, \"ground_truth\")"
   ]
  },
  {
   "cell_type": "code",
   "execution_count": 36,
   "metadata": {},
   "outputs": [],
   "source": [
    "# Create new directories as needed\n",
    "if not os.path.exists(new_dir):\n",
    "    os.makedirs(new_dir)\n",
    "if not os.path.exists(new_img_dir):\n",
    "    os.makedirs(new_img_dir)\n",
    "if not os.path.exists(new_img_dir + \"/train\"):\n",
    "    os.makedirs(new_img_dir + \"/train\")\n",
    "if not os.path.exists(new_img_dir + \"/valid\"):\n",
    "    os.makedirs(new_img_dir + \"/valid\")\n",
    "if not os.path.exists(new_mask_dir):\n",
    "    os.makedirs(new_mask_dir)\n",
    "if not os.path.exists(new_mask_dir + \"/train\"):\n",
    "    os.makedirs(new_mask_dir + \"/train\")\n",
    "if not os.path.exists(new_mask_dir + \"/valid\"):\n",
    "    os.makedirs(new_mask_dir + \"/valid\")"
   ]
  },
  {
   "cell_type": "code",
   "execution_count": 8,
   "metadata": {},
   "outputs": [
    {
     "name": "stdout",
     "output_type": "stream",
     "text": [
      "2048 2048 512 512\n",
      "stride:128\n",
      "num new imgs: 4\n"
     ]
    }
   ],
   "source": [
    "img_paths_train = os.listdir(old_img_dir + \"/train\")\n",
    "mask_paths_train = os.listdir(old_mask_dir + \"/train\")\n",
    "img_paths_valid = os.listdir(old_img_dir + \"/test\")\n",
    "mask_paths_valid = os.listdir(old_mask_dir + \"/test\")\n",
    "print(len(img_paths_train), len(mask_paths_train), len(img_paths_valid), len(mask_paths_valid))\n",
    "\n",
    "old_height = 512\n",
    "\n",
    "# CHANGE ME\n",
    "new_height = 256 # new height of each tile\n",
    "# stride = 512 // new_height # stride to move the window\n",
    "stride = 512 // 4\n",
    "print(f\"stride:{stride}\")\n",
    "print(f\"num new imgs: {old_height // stride}\")"
   ]
  },
  {
   "cell_type": "code",
   "execution_count": 4,
   "metadata": {},
   "outputs": [
    {
     "name": "stdout",
     "output_type": "stream",
     "text": [
      "img_tile shape (3, 256, 256)\n",
      "mask_tile shape (3, 256, 256)\n",
      "width 0:256, height 0:256, 2\n",
      "saved\n",
      "img_tile shape (3, 256, 256)\n",
      "mask_tile shape (3, 256, 256)\n",
      "width 0:256, height 128:384, 2\n",
      "saved\n",
      "img_tile shape (3, 256, 256)\n",
      "mask_tile shape (3, 256, 256)\n",
      "width 0:256, height 256:512, 2\n",
      "saved\n",
      "img_tile shape (3, 256, 256)\n",
      "mask_tile shape (3, 256, 256)\n",
      "width 128:384, height 0:256, 2\n",
      "saved\n",
      "img_tile shape (3, 256, 256)\n",
      "mask_tile shape (3, 256, 256)\n",
      "width 128:384, height 128:384, 2\n",
      "saved\n",
      "img_tile shape (3, 256, 256)\n",
      "mask_tile shape (3, 256, 256)\n",
      "width 128:384, height 256:512, 1\n",
      "img_tile shape (3, 256, 256)\n",
      "mask_tile shape (3, 256, 256)\n",
      "width 256:512, height 0:256, 1\n",
      "img_tile shape (3, 256, 256)\n",
      "mask_tile shape (3, 256, 256)\n",
      "width 256:512, height 128:384, 1\n",
      "img_tile shape (3, 256, 256)\n",
      "mask_tile shape (3, 256, 256)\n",
      "width 256:512, height 256:512, 1\n"
     ]
    }
   ],
   "source": [
    "# sanity check\n",
    "import numpy as np\n",
    "\n",
    "k = 2\n",
    "fp = img_paths_train[k]\n",
    "img = np.load(old_img_dir + \"/train/\" + fp)\n",
    "mask = np.load(old_mask_dir + \"/train/\" + fp)\n",
    "\n",
    "# split the image into tiles\n",
    "for i in range(0, old_height, stride):\n",
    "    if i + new_height > old_height:\n",
    "        break\n",
    "    for j in range(0, old_height, stride):\n",
    "        if j+new_height > old_height:\n",
    "            break\n",
    "        img_tile = img[:, i:i+new_height, j:j+new_height]\n",
    "        mask_tile = mask[:, i:i+new_height, j:j+new_height]\n",
    "        print(\"img_tile shape\", img_tile.shape)\n",
    "        print(\"mask_tile shape\", mask_tile.shape)\n",
    "        # filter out black boxes\n",
    "        num_unique = len(np.unique(mask_tile))\n",
    "        print(f\"width {i}:{i+new_height}, height {j}:{j+new_height}, {num_unique}\")\n",
    "        if num_unique < 2:\n",
    "            continue\n",
    "        print(\"saved\")\n"
   ]
  },
  {
   "cell_type": "code",
   "execution_count": 38,
   "metadata": {},
   "outputs": [
    {
     "name": "stderr",
     "output_type": "stream",
     "text": [
      "  2%|▏         | 31/2048 [00:03<04:12,  7.98it/s]\n"
     ]
    },
    {
     "ename": "KeyboardInterrupt",
     "evalue": "",
     "output_type": "error",
     "traceback": [
      "\u001b[0;31m---------------------------------------------------------------------------\u001b[0m",
      "\u001b[0;31mKeyboardInterrupt\u001b[0m                         Traceback (most recent call last)",
      "Cell \u001b[0;32mIn[38], line 10\u001b[0m\n\u001b[1;32m      8\u001b[0m fp \u001b[38;5;241m=\u001b[39m img_paths_train[k]\n\u001b[1;32m      9\u001b[0m img \u001b[38;5;241m=\u001b[39m np\u001b[38;5;241m.\u001b[39mload(old_img_dir \u001b[38;5;241m+\u001b[39m \u001b[38;5;124m\"\u001b[39m\u001b[38;5;124m/train/\u001b[39m\u001b[38;5;124m\"\u001b[39m \u001b[38;5;241m+\u001b[39m fp)\n\u001b[0;32m---> 10\u001b[0m mask \u001b[38;5;241m=\u001b[39m \u001b[43mnp\u001b[49m\u001b[38;5;241;43m.\u001b[39;49m\u001b[43mload\u001b[49m\u001b[43m(\u001b[49m\u001b[43mold_mask_dir\u001b[49m\u001b[43m \u001b[49m\u001b[38;5;241;43m+\u001b[39;49m\u001b[43m \u001b[49m\u001b[38;5;124;43m\"\u001b[39;49m\u001b[38;5;124;43m/train/\u001b[39;49m\u001b[38;5;124;43m\"\u001b[39;49m\u001b[43m \u001b[49m\u001b[38;5;241;43m+\u001b[39;49m\u001b[43m \u001b[49m\u001b[43mfp\u001b[49m\u001b[43m)\u001b[49m\n\u001b[1;32m     12\u001b[0m \u001b[38;5;66;03m# split the image into tiles\u001b[39;00m\n\u001b[1;32m     13\u001b[0m \u001b[38;5;28;01mfor\u001b[39;00m i \u001b[38;5;129;01min\u001b[39;00m \u001b[38;5;28mrange\u001b[39m(\u001b[38;5;241m0\u001b[39m, old_height, stride):\n",
      "File \u001b[0;32m~/Documents/code/gapjncsegmentation/gapvenv/lib/python3.9/site-packages/numpy/lib/npyio.py:456\u001b[0m, in \u001b[0;36mload\u001b[0;34m(file, mmap_mode, allow_pickle, fix_imports, encoding, max_header_size)\u001b[0m\n\u001b[1;32m    453\u001b[0m         \u001b[38;5;28;01mreturn\u001b[39;00m \u001b[38;5;28mformat\u001b[39m\u001b[38;5;241m.\u001b[39mopen_memmap(file, mode\u001b[38;5;241m=\u001b[39mmmap_mode,\n\u001b[1;32m    454\u001b[0m                                   max_header_size\u001b[38;5;241m=\u001b[39mmax_header_size)\n\u001b[1;32m    455\u001b[0m     \u001b[38;5;28;01melse\u001b[39;00m:\n\u001b[0;32m--> 456\u001b[0m         \u001b[38;5;28;01mreturn\u001b[39;00m \u001b[38;5;28;43mformat\u001b[39;49m\u001b[38;5;241;43m.\u001b[39;49m\u001b[43mread_array\u001b[49m\u001b[43m(\u001b[49m\u001b[43mfid\u001b[49m\u001b[43m,\u001b[49m\u001b[43m \u001b[49m\u001b[43mallow_pickle\u001b[49m\u001b[38;5;241;43m=\u001b[39;49m\u001b[43mallow_pickle\u001b[49m\u001b[43m,\u001b[49m\n\u001b[1;32m    457\u001b[0m \u001b[43m                                 \u001b[49m\u001b[43mpickle_kwargs\u001b[49m\u001b[38;5;241;43m=\u001b[39;49m\u001b[43mpickle_kwargs\u001b[49m\u001b[43m,\u001b[49m\n\u001b[1;32m    458\u001b[0m \u001b[43m                                 \u001b[49m\u001b[43mmax_header_size\u001b[49m\u001b[38;5;241;43m=\u001b[39;49m\u001b[43mmax_header_size\u001b[49m\u001b[43m)\u001b[49m\n\u001b[1;32m    459\u001b[0m \u001b[38;5;28;01melse\u001b[39;00m:\n\u001b[1;32m    460\u001b[0m     \u001b[38;5;66;03m# Try a pickle\u001b[39;00m\n\u001b[1;32m    461\u001b[0m     \u001b[38;5;28;01mif\u001b[39;00m \u001b[38;5;129;01mnot\u001b[39;00m allow_pickle:\n",
      "File \u001b[0;32m~/Documents/code/gapjncsegmentation/gapvenv/lib/python3.9/site-packages/numpy/lib/format.py:809\u001b[0m, in \u001b[0;36mread_array\u001b[0;34m(fp, allow_pickle, pickle_kwargs, max_header_size)\u001b[0m\n\u001b[1;32m    806\u001b[0m \u001b[38;5;28;01melse\u001b[39;00m:\n\u001b[1;32m    807\u001b[0m     \u001b[38;5;28;01mif\u001b[39;00m isfileobj(fp):\n\u001b[1;32m    808\u001b[0m         \u001b[38;5;66;03m# We can use the fast fromfile() function.\u001b[39;00m\n\u001b[0;32m--> 809\u001b[0m         array \u001b[38;5;241m=\u001b[39m \u001b[43mnumpy\u001b[49m\u001b[38;5;241;43m.\u001b[39;49m\u001b[43mfromfile\u001b[49m\u001b[43m(\u001b[49m\u001b[43mfp\u001b[49m\u001b[43m,\u001b[49m\u001b[43m \u001b[49m\u001b[43mdtype\u001b[49m\u001b[38;5;241;43m=\u001b[39;49m\u001b[43mdtype\u001b[49m\u001b[43m,\u001b[49m\u001b[43m \u001b[49m\u001b[43mcount\u001b[49m\u001b[38;5;241;43m=\u001b[39;49m\u001b[43mcount\u001b[49m\u001b[43m)\u001b[49m\n\u001b[1;32m    810\u001b[0m     \u001b[38;5;28;01melse\u001b[39;00m:\n\u001b[1;32m    811\u001b[0m         \u001b[38;5;66;03m# This is not a real file. We have to read it the\u001b[39;00m\n\u001b[1;32m    812\u001b[0m         \u001b[38;5;66;03m# memory-intensive way.\u001b[39;00m\n\u001b[0;32m   (...)\u001b[0m\n\u001b[1;32m    820\u001b[0m         \u001b[38;5;66;03m# not correctly instantiate zero-width string dtypes; see\u001b[39;00m\n\u001b[1;32m    821\u001b[0m         \u001b[38;5;66;03m# https://github.com/numpy/numpy/pull/6430\u001b[39;00m\n\u001b[1;32m    822\u001b[0m         array \u001b[38;5;241m=\u001b[39m numpy\u001b[38;5;241m.\u001b[39mndarray(count, dtype\u001b[38;5;241m=\u001b[39mdtype)\n",
      "\u001b[0;31mKeyboardInterrupt\u001b[0m: "
     ]
    }
   ],
   "source": [
    "import numpy as np\n",
    "import tqdm\n",
    "\n",
    "# train set\n",
    "counter = 0 # for naming the new files\n",
    "num_imgs = len(img_paths_train)\n",
    "for k in tqdm.tqdm(range(num_imgs)):\n",
    "    fp = img_paths_train[k]\n",
    "    img = np.load(old_img_dir + \"/train/\" + fp)\n",
    "    mask = np.load(old_mask_dir + \"/train/\" + fp)\n",
    "    \n",
    "    # split the image into tiles\n",
    "    for i in range(0, old_height, stride):\n",
    "        if i+new_height >= old_height:\n",
    "            break\n",
    "        for j in range(0, old_height, stride):\n",
    "            if j+new_height >= old_height:\n",
    "                break\n",
    "            img_tile = img[:, i:i+new_height, j:j+new_height]\n",
    "            mask_tile = mask[:, i:i+new_height, j:j+new_height]\n",
    "            \n",
    "            # filter out black boxes\n",
    "            num_unique = len(np.unique(mask_tile))\n",
    "            if num_unique < 2:\n",
    "                continue\n",
    "            np.save(new_img_dir + \"/train/\" + str(counter) + \".npy\", img_tile)\n",
    "            np.save(new_mask_dir + \"/train/\" + str(counter) + \".npy\", mask_tile)\n",
    "            counter += 1"
   ]
  },
  {
   "cell_type": "code",
   "execution_count": 7,
   "metadata": {},
   "outputs": [
    {
     "name": "stdout",
     "output_type": "stream",
     "text": [
      "0\n"
     ]
    }
   ],
   "source": [
    "print(len(img_paths_valid))"
   ]
  },
  {
   "cell_type": "code",
   "execution_count": 10,
   "metadata": {},
   "outputs": [
    {
     "name": "stderr",
     "output_type": "stream",
     "text": [
      "100%|██████████| 512/512 [01:08<00:00,  7.52it/s]\n"
     ]
    }
   ],
   "source": [
    "import tqdm\n",
    "# train set\n",
    "counter = 0 # for naming the new files\n",
    "num_imgs = len(img_paths_valid)\n",
    "for k in tqdm.tqdm(range(num_imgs)):\n",
    "    fp = img_paths_valid[k]\n",
    "    img = np.load(old_img_dir + \"/test/\" + fp)\n",
    "    mask = np.load(old_mask_dir + \"/test/\" + fp)\n",
    "    \n",
    "    # split the image into tiles\n",
    "    for i in range(0, old_height, stride):\n",
    "        if i+new_height >= old_height:\n",
    "            break\n",
    "        for j in range(0, old_height, stride):\n",
    "            if j+new_height >= old_height:\n",
    "                break\n",
    "            img_tile = img[:, i:i+new_height, j:j+new_height]\n",
    "            mask_tile = mask[:, i:i+new_height, j:j+new_height]\n",
    "            \n",
    "            # filter out black boxes\n",
    "            num_unique = len(np.unique(mask_tile))\n",
    "            if num_unique < 2:\n",
    "                continue\n",
    "            np.save(new_img_dir + \"/valid/\" + str(counter) + \".npy\", img_tile)\n",
    "            np.save(new_mask_dir + \"/valid/\" + str(counter) + \".npy\", mask_tile)\n",
    "            counter += 1"
   ]
  }
 ],
 "metadata": {
  "kernelspec": {
   "display_name": "Python 3",
   "language": "python",
   "name": "python3"
  },
  "language_info": {
   "codemirror_mode": {
    "name": "ipython",
    "version": 3
   },
   "file_extension": ".py",
   "mimetype": "text/x-python",
   "name": "python",
   "nbconvert_exporter": "python",
   "pygments_lexer": "ipython3",
   "version": "3.9.6"
  }
 },
 "nbformat": 4,
 "nbformat_minor": 2
}
