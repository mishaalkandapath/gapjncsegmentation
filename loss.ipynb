{
 "cells": [
  {
   "cell_type": "code",
   "execution_count": null,
   "metadata": {},
   "outputs": [
    {
     "ename": "",
     "evalue": "",
     "output_type": "error",
     "traceback": [
      "\u001b[1;31mThe kernel failed to start due to the missing module '_sqlite3'. Consider installing this module.\n",
      "\u001b[1;31mClick <a href='https://aka.ms/kernelFailuresMissingModule'>here</a> for more info."
     ]
    }
   ],
   "source": [
    "import os\n",
    "import cv2\n",
    "import random\n",
    "import torch \n",
    "import torch.nn as nn\n",
    "import torch.nn.functional as F\n",
    "import torchvision.transforms as transforms\n",
    "import torchio as tio\n",
    "def calculate_alpha(train_dataset):\n",
    "    \"\"\" \n",
    "    Calculate the alpha values for the focal loss function.\n",
    "    The alpha values are inversely proportional to the class frequencies in the dataset.\n",
    "    \n",
    "    Ex. \n",
    "    class 0 has 90 samples and class 1 has 10 samples\n",
    "    class frequencies are 90/100 and 10/100\n",
    "    inverse class frequencies are 100/90 and 100/10\n",
    "    alpha is proportional to 100/90 and 100/10, so it can be set as [10/90, 90/90] or [0.11, 1]\n",
    "    \n",
    "    Args:\n",
    "    train_dataset (torch.utils.data.Dataset): the training dataset\n",
    "    \"\"\"\n",
    "    smushed_labels = None\n",
    "    for i in range(len(train_dataset)):\n",
    "        if i == 0:\n",
    "            depth, height, width = train_dataset[i][0].shape\n",
    "        if smushed_labels is None: smushed_labels = train_dataset[i][1].to(torch.int64)\n",
    "        else: smushed_labels = torch.concat([smushed_labels, train_dataset[i][1].to(torch.int64)])\n",
    "        print(f\"Processed {i+1}/{len(train_dataset)} images\", end=\"\\r\")\n",
    "    class_counts = torch.bincount(smushed_labels.flatten())\n",
    "    total_samples = len(train_dataset) * depth * height * width\n",
    "    \n",
    "    w1, w2 = 1/(class_counts[0]/total_samples), 1/(class_counts[1]/total_samples)\n",
    "    cls_weights = torch.Tensor([w1, w2/9])\n",
    "    return cls_weights"
   ]
  },
  {
   "cell_type": "code",
   "execution_count": null,
   "metadata": {},
   "outputs": [],
   "source": []
  }
 ],
 "metadata": {
  "kernelspec": {
   "display_name": "Python 3",
   "language": "python",
   "name": "python3"
  },
  "language_info": {
   "codemirror_mode": {
    "name": "ipython",
    "version": 3
   },
   "file_extension": ".py",
   "mimetype": "text/x-python",
   "name": "python",
   "nbconvert_exporter": "python",
   "pygments_lexer": "ipython3",
   "version": "3.9.6"
  },
  "orig_nbformat": 4
 },
 "nbformat": 4,
 "nbformat_minor": 2
}
