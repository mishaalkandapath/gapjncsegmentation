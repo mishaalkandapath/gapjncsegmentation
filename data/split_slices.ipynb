{
 "cells": [
  {
   "cell_type": "code",
   "execution_count": 31,
   "metadata": {},
   "outputs": [
    {
     "data": {
      "text/plain": [
       "' Section one 512 x 512 image into sixteen 128 x 128 tiles.'"
      ]
     },
     "execution_count": 31,
     "metadata": {},
     "output_type": "execute_result"
    }
   ],
   "source": [
    "\"\"\" Section one 512 x 512 image into sixteen 128 x 128 tiles.\"\"\""
   ]
  },
  {
   "cell_type": "code",
   "execution_count": 32,
   "metadata": {},
   "outputs": [],
   "source": [
    "import os\n",
    "# directory with the original images (full size)\n",
    "old_dir = \"small_data_3d\"\n",
    "old_img_dir = os.path.join(old_dir, \"original\")\n",
    "old_mask_dir = os.path.join(old_dir, \"ground_truth\")\n",
    "# directory to save the new images (small size)\n",
    "new_dir = \"tiniest_data_64\"\n",
    "new_img_dir = os.path.join(new_dir, \"original\")\n",
    "new_mask_dir = os.path.join(new_dir, \"ground_truth\")"
   ]
  },
  {
   "cell_type": "code",
   "execution_count": 33,
   "metadata": {},
   "outputs": [],
   "source": [
    "# Create new directories as needed\n",
    "if not os.path.exists(new_dir):\n",
    "    os.makedirs(new_dir)\n",
    "if not os.path.exists(new_img_dir):\n",
    "    os.makedirs(new_img_dir)\n",
    "if not os.path.exists(new_img_dir + \"/train\"):\n",
    "    os.makedirs(new_img_dir + \"/train\")\n",
    "if not os.path.exists(new_img_dir + \"/test\"):\n",
    "    os.makedirs(new_img_dir + \"/test\")\n",
    "if not os.path.exists(new_img_dir + \"/valid\"):\n",
    "    os.makedirs(new_img_dir + \"/valid\")\n",
    "    \n",
    "if not os.path.exists(new_mask_dir):\n",
    "    os.makedirs(new_mask_dir)\n",
    "if not os.path.exists(new_mask_dir + \"/train\"):\n",
    "    os.makedirs(new_mask_dir + \"/train\")\n",
    "if not os.path.exists(new_mask_dir + \"/test\"):\n",
    "    os.makedirs(new_mask_dir + \"/test\")\n",
    "if not os.path.exists(new_mask_dir + \"/valid\"):\n",
    "    os.makedirs(new_mask_dir + \"/valid\")"
   ]
  },
  {
   "cell_type": "code",
   "execution_count": 34,
   "metadata": {},
   "outputs": [],
   "source": [
    "# import numpy as np\n",
    "# fp = \"/Users/huayinluo/Documents/code/gapjncsegmentation/data/tiny_data_64/original/train/1.npy\"\n",
    "# tmp = np.load(fp)\n",
    "# tmp.shape"
   ]
  },
  {
   "cell_type": "code",
   "execution_count": 35,
   "metadata": {},
   "outputs": [
    {
     "name": "stdout",
     "output_type": "stream",
     "text": [
      "145 145 49 49\n"
     ]
    }
   ],
   "source": [
    "import cv2\n",
    "import numpy as np\n",
    "\n",
    "img_paths_train = os.listdir(old_img_dir + \"/train\")\n",
    "mask_paths_train = os.listdir(old_mask_dir + \"/train\")\n",
    "img_paths_test = os.listdir(old_img_dir + \"/test\")\n",
    "mask_paths_test = os.listdir(old_mask_dir + \"/test\")\n",
    "img_paths_valid = os.listdir(old_img_dir + \"/valid\")\n",
    "img_paths_valid = os.listdir(old_mask_dir + \"/valid\")\n",
    "\n",
    "print(len(img_paths_train), len(mask_paths_train), len(img_paths_test), len(mask_paths_test))\n",
    "num = 64 # size of the new images\n",
    "# split_height = 512//num # number of tiles in height\n",
    "split_height = 2 # for tiniest data only"
   ]
  },
  {
   "cell_type": "code",
   "execution_count": 36,
   "metadata": {},
   "outputs": [
    {
     "name": "stderr",
     "output_type": "stream",
     "text": [
      "100%|██████████| 4/4 [00:00<00:00, 90.42it/s]"
     ]
    },
    {
     "name": "stdout",
     "output_type": "stream",
     "text": [
      "16\n"
     ]
    },
    {
     "name": "stderr",
     "output_type": "stream",
     "text": [
      "\n"
     ]
    }
   ],
   "source": [
    "import tqdm\n",
    "counter = 0 # for naming the new files\n",
    "num_imgs = len(img_paths_train)\n",
    "num_imgs = 4\n",
    "for k in tqdm.tqdm(range(num_imgs)):\n",
    "    fp = img_paths_train[k]\n",
    "    img = np.load(old_img_dir + \"/train/\" + fp)\n",
    "    mask = np.load(old_mask_dir + \"/train/\" + fp)\n",
    "    \n",
    "    # split the image into 16 tiles\n",
    "    for i in range(split_height):\n",
    "        for j in range(split_height):\n",
    "            img_tile = img[:, i*num:(i+1)*num, j*num:(j+1)*num]\n",
    "            mask_tile = mask[:, i*num:(i+1)*num, j*num:(j+1)*num]\n",
    "            np.save(new_img_dir + \"/train/\" + str(counter) + \".npy\", img_tile)\n",
    "            np.save(new_mask_dir + \"/train/\" + str(counter) + \".npy\", mask_tile)\n",
    "            counter += 1\n",
    "print(counter)"
   ]
  },
  {
   "cell_type": "code",
   "execution_count": 37,
   "metadata": {},
   "outputs": [
    {
     "name": "stderr",
     "output_type": "stream",
     "text": [
      "100%|██████████| 2/2 [00:00<00:00, 91.62it/s]"
     ]
    },
    {
     "name": "stdout",
     "output_type": "stream",
     "text": [
      "Done with test set, counter is 8\n"
     ]
    },
    {
     "name": "stderr",
     "output_type": "stream",
     "text": [
      "\n"
     ]
    }
   ],
   "source": [
    "# do the same for the test set\n",
    "counter = 0 # for naming the new files\n",
    "num_imgs = len(img_paths_test)\n",
    "num_imgs = 2\n",
    "for k in tqdm.tqdm(range(num_imgs)):\n",
    "    fp = img_paths_test[k]\n",
    "    img = np.load(old_img_dir + \"/test/\" + fp)\n",
    "    mask = np.load(old_mask_dir + \"/test/\" + fp)\n",
    "    \n",
    "    # split the image into 16 tiles\n",
    "    for i in range(split_height):\n",
    "        for j in range(split_height):\n",
    "            img_tile = img[:, i*num:(i+1)*num, j*num:(j+1)*num]\n",
    "            mask_tile = mask[:, i*num:(i+1)*num, j*num:(j+1)*num]\n",
    "            np.save(new_img_dir + \"/test/\" + str(counter) + \".npy\", img_tile)\n",
    "            np.save(new_mask_dir + \"/test/\" + str(counter) + \".npy\", mask_tile)\n",
    "            counter += 1\n",
    "print(\"Done with test set, counter is\", counter)"
   ]
  },
  {
   "cell_type": "code",
   "execution_count": 38,
   "metadata": {},
   "outputs": [
    {
     "name": "stderr",
     "output_type": "stream",
     "text": [
      "100%|██████████| 2/2 [00:00<00:00, 94.89it/s]"
     ]
    },
    {
     "name": "stdout",
     "output_type": "stream",
     "text": [
      "counter: 8\n"
     ]
    },
    {
     "name": "stderr",
     "output_type": "stream",
     "text": [
      "\n"
     ]
    }
   ],
   "source": [
    "# repeat for the validation set\n",
    "counter = 0 # for naming the new files\n",
    "num_imgs = len(img_paths_valid)\n",
    "num_imgs = 2\n",
    "for k in tqdm.tqdm(range(num_imgs)):\n",
    "    fp = img_paths_valid[k]\n",
    "    img = np.load(old_img_dir + \"/valid/\" + fp)\n",
    "    mask = np.load(old_mask_dir + \"/valid/\" + fp)\n",
    "    \n",
    "    # split the image into 16 tiles\n",
    "    for i in range(split_height):\n",
    "        for j in range(split_height):\n",
    "            img_tile = img[:, i*num:(i+1)*num, j*num:(j+1)*num]\n",
    "            mask_tile = mask[:, i*num:(i+1)*num, j*num:(j+1)*num]\n",
    "            np.save(new_img_dir + \"/valid/\" + str(counter) + \".npy\", img_tile)\n",
    "            np.save(new_mask_dir + \"/valid/\" + str(counter) + \".npy\", mask_tile)\n",
    "            counter += 1\n",
    "print(\"counter:\", counter)"
   ]
  },
  {
   "cell_type": "code",
   "execution_count": null,
   "metadata": {},
   "outputs": [],
   "source": []
  },
  {
   "cell_type": "code",
   "execution_count": null,
   "metadata": {},
   "outputs": [],
   "source": []
  }
 ],
 "metadata": {
  "kernelspec": {
   "display_name": "gapvenv",
   "language": "python",
   "name": "python3"
  },
  "language_info": {
   "codemirror_mode": {
    "name": "ipython",
    "version": 3
   },
   "file_extension": ".py",
   "mimetype": "text/x-python",
   "name": "python",
   "nbconvert_exporter": "python",
   "pygments_lexer": "ipython3",
   "version": "3.9.6"
  }
 },
 "nbformat": 4,
 "nbformat_minor": 2
}
