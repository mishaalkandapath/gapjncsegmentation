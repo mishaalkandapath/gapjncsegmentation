{
 "cells": [
  {
   "cell_type": "code",
   "execution_count": 102,
   "metadata": {},
   "outputs": [],
   "source": [
    "import copy\n",
    "import tqdm\n",
    "import os\n",
    "import numpy as np\n",
    "import torchio as tio\n",
    "import cv2\n",
    "import matplotlib.pyplot as plt\n",
    "import argparse\n",
    "\n",
    "def get_colored_image(image, color_map=None):\n",
    "    # Define the default color map\n",
    "    if color_map is None:\n",
    "        color_map = {\n",
    "            0: [0, 0, 0],  # Black (TN)\n",
    "            1: [1, 0, 0],  # Red (FP) (pred only)\n",
    "            2: [0, 0, 1],  # Blue (FN) (double_mask only)\n",
    "            3: [0, 1, 0],  # Green (TP)\n",
    "        }\n",
    "    # Create an empty RGB image\n",
    "    if len(image.shape) < 3:\n",
    "        height, width = image.shape[0], image.shape[1]\n",
    "        colored_image = np.zeros((height, width, 3), dtype=np.float32) \n",
    "    else:\n",
    "        depth, height, width = image.shape[0], image.shape[1], image.shape[2]\n",
    "        colored_image = np.zeros((depth, height, width, 3), dtype=np.float32) \n",
    "    \n",
    "    # Map the pixel values to the corresponding colors\n",
    "    for value, color in color_map.items():\n",
    "        colored_image[image == value] = color\n",
    "    return colored_image\n",
    "\n",
    "def assemble_predictions(images_dir, preds_dir, gt_dir, start_s=0, start_y=0, start_x=0, end_s=6, end_y=8192, end_x=9216):\n",
    "    tile_depth=3\n",
    "    tile_width=512\n",
    "    tile_height=512\n",
    "    total_slices = ((end_s//tile_depth) * ((end_y-start_y)//tile_height )* ((end_x-start_x)//tile_width))\n",
    "    slice_num = 0\n",
    "    print(total_slices, \"total slices\")\n",
    "    for s in range(start_s, end_s, 3):\n",
    "        s_acc_img, s_acc_pred, s_acc_gt = [], [], []\n",
    "        for y in range(start_y, end_y, 512):\n",
    "            y_acc_img, y_acc_pred, y_acc_gt = [], [], []\n",
    "            for x in range(start_x, end_x, 512):\n",
    "                print(f\"Processing volume {s,y,x} | Progress:{slice_num+1}/{total_slices} {(slice_num)/total_slices}\", end=\"\\r\")\n",
    "                suffix = r\"z{}_y{}_x{}\".format(s, y, x)\n",
    "                \n",
    "                # load img\n",
    "                try:\n",
    "                    img_vol = np.load(os.path.join(images_dir, f\"{suffix}.npy\"))\n",
    "                except:\n",
    "                    img_vol = np.zeros((3, 512,512))\n",
    "                    print(\"no img\")\n",
    "                d, h, w = img_vol.shape\n",
    "                if (d < tile_depth) or (h < tile_height) or (w < tile_width):\n",
    "                    print(\"cropping since imgvol shape:\", img_vol.shape)\n",
    "                    img_vol = tio.CropOrPad((tile_depth, tile_height, tile_width))(torch.tensor(img_vol).unsqueeze(0))\n",
    "                \n",
    "                # load gt\n",
    "                try:\n",
    "                    gt_vol = np.load(os.path.join(gt_dir, f\"{suffix}.npy\"))\n",
    "                except:\n",
    "                    gt_vol = np.zeros((3,512,512))\n",
    "                    print(\"no gt\")\n",
    "                if (d < tile_depth) or (h < tile_height) or (w< tile_width):\n",
    "                    gt_vol = tio.CropOrPad((tile_depth, tile_height, tile_width))(gt_vol)\n",
    "                \n",
    "                # load pred\n",
    "                try:\n",
    "                    pred_vol = np.load(os.path.join(preds_dir, f\"{suffix}.npy\"))\n",
    "                    pred_vol = np.argmax(pred_vol[0], 0) \n",
    "                except:\n",
    "                    print(\"no pred vol\")\n",
    "                    pred_vol = np.zeros((3, 512,512))\n",
    "                if (d < tile_depth) or (h < tile_height) or (w < tile_width):\n",
    "                    pred_vol = tio.CropOrPad((tile_depth, tile_height, tile_width))(pred_vol)\n",
    "                    \n",
    "                small_3d_img = []\n",
    "                small_3d_pred = []\n",
    "                small_3d_gt = []\n",
    "                for k in range(3):\n",
    "                    img = img_vol[k]\n",
    "                    gt = gt_vol[k]\n",
    "                    pred = pred_vol[k]\n",
    "                    small_3d_img += [img]\n",
    "                    small_3d_gt += [gt]\n",
    "                    small_3d_pred += [pred]\n",
    "                    \n",
    "                small_3d_pred = np.array(small_3d_pred) # (tile depth, tile height, tile width)\n",
    "                small_3d_gt = np.array(small_3d_gt)\n",
    "                small_3d_img = np.array(small_3d_img)\n",
    "                    \n",
    "                y_acc_gt += [small_3d_gt]\n",
    "                y_acc_img += [small_3d_img]\n",
    "                y_acc_pred += [small_3d_pred]\n",
    "                slice_num+=1\n",
    "            print(f\"Processing volume {s,y,x} | Progress:{slice_num+1}/{total_slices} {(slice_num)/total_slices}\")\n",
    "            s_acc_img += [np.concatenate(y_acc_img, axis=2)]\n",
    "            s_acc_pred += [np.concatenate(y_acc_pred, axis=2)]\n",
    "            s_acc_gt += [np.concatenate(y_acc_gt, axis=2)]\n",
    "\n",
    "        new_img = np.concatenate(s_acc_img, axis=1)\n",
    "        new_pred = np.concatenate(s_acc_pred, axis=1)\n",
    "        new_gt = np.concatenate(s_acc_gt, axis=1)\n",
    "        \n",
    "        return new_img, new_pred, new_gt\n",
    "    \n",
    "def assemble_predictions_2d(images_dir, preds_dir, gt_dir, s=0, slice_depth=0, start_y=0, start_x=0, end_y=8192, end_x=9216):\n",
    "    tile_width=512\n",
    "    tile_height=512\n",
    "    total_slices = ((end_y-start_y)//tile_height )* ((end_x-start_x)//tile_width)\n",
    "    slice_num = 0\n",
    "    s_acc_img, s_acc_pred, s_acc_gt = [], [], []\n",
    "    for y in range(start_y, end_y, 512):\n",
    "        y_acc_img, y_acc_pred, y_acc_gt = [], [], [] # (512, entire width)\n",
    "        for x in range(start_x, end_x, 512):\n",
    "            print(f\"Processing volume {s,y,x} | Progress:{slice_num+1}/{total_slices} {(slice_num)/total_slices}\", end=\"\\r\")\n",
    "            pred_suffix= r\"z{}_y{}_x{}_{}\".format(s, y, x, slice_depth)\n",
    "            suffix = r\"z{}_y{}_x{}\".format(s, y, x)\n",
    "            \n",
    "            # get pred\n",
    "            fp=os.path.join(preds_dir, f\"{pred_suffix}.png\")\n",
    "            pred = cv2.imread(fp, cv2.COLOR_BGR2GRAY)\n",
    "            pred[pred!=0]=1\n",
    "\n",
    "            # get mask\n",
    "            mask_fp=os.path.join(gt_dir, f\"{suffix}.npy\")\n",
    "            mask = np.load(mask_fp)\n",
    "            mask = mask[slice_depth]\n",
    "\n",
    "            # get mask\n",
    "            img_fp=os.path.join(images_dir, f\"{suffix}.npy\")\n",
    "            img = np.load(img_fp)\n",
    "            img = img[slice_depth]\n",
    "                \n",
    "            y_acc_gt += [mask]\n",
    "            y_acc_img += [img]\n",
    "            y_acc_pred += [pred]\n",
    "            slice_num+=1\n",
    "        print(f\"Processing volume {s,y,x} | Progress:{slice_num+1}/{total_slices} {(slice_num)/total_slices}\")\n",
    "        s_acc_img += [np.concatenate(y_acc_img, axis=1)] # (entire height, entire width)\n",
    "        s_acc_pred += [np.concatenate(y_acc_pred, axis=1)]\n",
    "        s_acc_gt += [np.concatenate(y_acc_gt, axis=1)]\n",
    "        \n",
    "    new_img = np.concatenate(s_acc_img, axis=0)\n",
    "    new_pred = np.concatenate(s_acc_pred, axis=0)\n",
    "    new_gt = np.concatenate(s_acc_gt, axis=0)\n",
    "    \n",
    "    return new_img, new_pred, new_gt\n",
    "    "
   ]
  },
  {
   "cell_type": "markdown",
   "metadata": {},
   "source": [
    "# 2d"
   ]
  },
  {
   "cell_type": "code",
   "execution_count": 130,
   "metadata": {},
   "outputs": [],
   "source": [
    "pred_dir=\"/Volumes/LaCie/1072d_jun10/binarypreds\"\n",
    "mask_dir=\"/Volumes/LaCie/zhenlab/gjsegmentation/gj_test_datasets/100_110_3x512x512/ground_truth\"\n",
    "img_dir=\"/Volumes/LaCie/zhenlab/gjsegmentation/gj_test_datasets/100_110_3x512x512/original\"\n",
    "save_dir=\"/Volumes/LaCie/2dvis\"\n",
    "if not os.path.exists(save_dir):\n",
    "    os.makedirs(save_dir)\n",
    "    print(\"made save dir\", save_dir)"
   ]
  },
  {
   "cell_type": "code",
   "execution_count": 131,
   "metadata": {},
   "outputs": [
    {
     "name": "stdout",
     "output_type": "stream",
     "text": [
      "Processing volume (6, 1536, 6656) | Progress:12/110 0.19090909090909091\n",
      "Processing volume (6, 2048, 6656) | Progress:23/110 0.29090909090909092\n",
      "Processing volume (6, 2560, 6656) | Progress:34/110 0.39090909090909095\n",
      "Processing volume (6, 3072, 6656) | Progress:45/110 0.49090909090909093\n",
      "Processing volume (6, 3584, 6656) | Progress:56/110 0.59090909090909093\n",
      "Processing volume (6, 4096, 6656) | Progress:67/110 0.6909090909090909\n",
      "Processing volume (6, 4608, 6656) | Progress:78/110 0.7909090909090909\n",
      "Processing volume (6, 5120, 4608) | Progress:84/110 0.7545454545454545\r"
     ]
    }
   ],
   "source": [
    "# stich together preds\n",
    "import time\n",
    "start = time.time()\n",
    "start_x, end_x = 1536, 7168\n",
    "start_y, end_y = 1536, 6656\n",
    "# start_x, end_x = 1536, 2560\n",
    "# start_y, end_y = 1536, 2560\n",
    "s=0\n",
    "slice_depth=1\n",
    "new_img, new_pred, new_gt = assemble_predictions_2d(img_dir, pred_dir, mask_dir, start_x=start_x,end_x=end_x,start_y=start_y,end_y=end_y,s=s, slice_depth=slice_depth)\n",
    "print(time.time()-start)\n",
    "print(\"shape\", new_img.shape, new_pred.shape, new_gt.shape)"
   ]
  },
  {
   "cell_type": "code",
   "execution_count": 126,
   "metadata": {},
   "outputs": [
    {
     "name": "stdout",
     "output_type": "stream",
     "text": [
      "(array([ 0.,  2.,  3.,  5.,  7.,  9., 11., 15.]), array([28424095,    35640,     2413,    13662,    36490,   113514,\n",
      "         203397,     6629]))\n"
     ]
    }
   ],
   "source": [
    "print(np.unique(new_gt, return_counts=True))\n",
    "binary_mask = new_gt.copy()\n",
    "binary_mask[binary_mask!=0]=1"
   ]
  },
  {
   "cell_type": "code",
   "execution_count": 127,
   "metadata": {},
   "outputs": [],
   "source": [
    "combined_volume = np.asarray((binary_mask * 2 + new_pred))\n",
    "vals, counts = np.unique(combined_volume, return_counts=True)\n",
    "color_combined_volume = get_colored_image(combined_volume)"
   ]
  },
  {
   "cell_type": "code",
   "execution_count": 128,
   "metadata": {},
   "outputs": [
    {
     "name": "stdout",
     "output_type": "stream",
     "text": [
      "[28362977    61118   253247   158498]\n",
      "158498 61118 253247 158498\n",
      "0.7217051580941279 0.3849421365165333\n"
     ]
    }
   ],
   "source": [
    "print(counts)\n",
    "print(len(counts))\n",
    "tn, fp, fn, tp = counts\n",
    "precision = tp/(tp+fp)\n",
    "recall = tp/(tp+fn)\n",
    "print(tp, fp, fn, tp)\n",
    "print(precision, recall)"
   ]
  },
  {
   "cell_type": "code",
   "execution_count": 129,
   "metadata": {},
   "outputs": [
    {
     "data": {
      "image/png": "[encoded data removed]",
      "text/plain": [
       "<Figure size 640x480 with 1 Axes>"
      ]
     },
     "metadata": {},
     "output_type": "display_data"
    }
   ],
   "source": [
    "plt.imshow(color_combined_volume)\n",
    "plt.savefig(os.path.join(save_dir, f\"comb_slice{s}_{slice_depth}.png\"), dpi=800)"
   ]
  },
  {
   "cell_type": "markdown",
   "metadata": {},
   "source": [
    "## testing"
   ]
  },
  {
   "cell_type": "code",
   "execution_count": 57,
   "metadata": {},
   "outputs": [
    {
     "name": "stdout",
     "output_type": "stream",
     "text": [
      "loaded pred\n",
      "loaded mask\n",
      "loaded img\n"
     ]
    }
   ],
   "source": [
    "import os\n",
    "s,y,x=0,5632,4608\n",
    "depth = 0 # (0, 1, or 2)\n",
    "vol_depth=512\n",
    "\n",
    "# get pred\n",
    "suffix = r\"z{}_y{}_x{}_{}\".format(s, y, x, depth)\n",
    "fp=os.path.join(pred_dir, f\"{suffix}.png\")\n",
    "pred = cv2.imread(fp, cv2.COLOR_BGR2GRAY)\n",
    "pred[pred!=0]=1\n",
    "print(\"loaded pred\")\n",
    "\n",
    "# get mask\n",
    "suffix = r\"z{}_y{}_x{}\".format(s+(vol_depth*depth), y, x)\n",
    "mask_fp=os.path.join(mask_dir, f\"{suffix}.npy\")\n",
    "mask = np.load(mask_fp)\n",
    "mask = mask[depth]\n",
    "binary_mask = mask.copy()\n",
    "binary_mask[mask!=0]=1\n",
    "print(\"loaded mask\")\n",
    "\n",
    "# get mask\n",
    "img_fp=os.path.join(img_dir, f\"{suffix}.npy\")\n",
    "img = np.load(img_fp)\n",
    "img = img[depth]\n",
    "print(\"loaded img\")"
   ]
  },
  {
   "cell_type": "code",
   "execution_count": null,
   "metadata": {},
   "outputs": [],
   "source": []
  },
  {
   "cell_type": "code",
   "execution_count": 59,
   "metadata": {},
   "outputs": [
    {
     "name": "stdout",
     "output_type": "stream",
     "text": [
      "0.8302134646962234 0.41599473424387035\n"
     ]
    }
   ],
   "source": [
    "combined_volume = np.asarray((binary_mask * 2 + pred))\n",
    "vals, counts = np.unique(combined_volume, return_counts=True)\n",
    "tn, fp, fn, tp = counts\n",
    "precision = tp/(tp+fp)\n",
    "recall = tp/(tp+fn)\n",
    "print(precision, recall)"
   ]
  },
  {
   "cell_type": "code",
   "execution_count": 60,
   "metadata": {},
   "outputs": [],
   "source": [
    "color_combined_volume = get_colored_image(combined_volume)"
   ]
  },
  {
   "cell_type": "code",
   "execution_count": 54,
   "metadata": {},
   "outputs": [
    {
     "data": {
      "text/plain": [
       "<matplotlib.image.AxesImage at 0x298491d30>"
      ]
     },
     "execution_count": 54,
     "metadata": {},
     "output_type": "execute_result"
    },
    {
     "data": {
      "image/png": "[encoded data removed]",
      "text/plain": [
       "<Figure size 640x480 with 1 Axes>"
      ]
     },
     "metadata": {},
     "output_type": "display_data"
    }
   ],
   "source": [
    "plt.imshow(color_combined_volume)\n",
    "plt.savefig(os.path.join(save_dir, f\"comb_slice{s}.png\"))"
   ]
  },
  {
   "cell_type": "code",
   "execution_count": null,
   "metadata": {},
   "outputs": [],
   "source": []
  },
  {
   "cell_type": "markdown",
   "metadata": {},
   "source": [
    "# 3D"
   ]
  },
  {
   "cell_type": "code",
   "execution_count": 4,
   "metadata": {},
   "outputs": [
    {
     "name": "stdout",
     "output_type": "stream",
     "text": [
      "/Volumes/LaCie/getpreds1072dtmp/binarypreds/\n",
      "/Volumes/LaCie/savetmp/\n",
      "showimg True\n",
      "uselines True\n"
     ]
    }
   ],
   "source": [
    "# parser = argparse.ArgumentParser(description=\"Get evaluation metrics for the model\")\n",
    "# parser.add_argument(\"--save_dir\", type=str, required=True, help=\"Path to the model file\")\n",
    "# parser.add_argument(\"--data_dir\", type=str, required=True, help=\"Path to the data directory\")\n",
    "# parser.add_argument(\"--use_lines\", type=bool, default=False, help=\"Path to the results directory\")\n",
    "# parser.add_argument(\"--show_img\", type=bool, default=False, help=\"Whether this is train, test, or valid folder\")\n",
    "# parser.add_argument(\"--alpha\", type=float, default=0.4, help=\"Whether this is train, test, or valid folder\")\n",
    "# parser.add_argument(\"--line_width\", type=int, default=3, help=\"Whether this is train, test, or valid folder\")\n",
    "# args = parser.parse_args()\n",
    "# constants\n",
    "data_dir=\"/Volumes/LaCie/getpreds1072dtmp/binarypreds/\"\n",
    "save_dir=\"/Volumes/LaCie/savetmp/\"\n",
    "if not os.path.exists(save_dir):\n",
    "    os.makedirs(save_dir)\n",
    "# img_dir=os.path.join(data_dir, \"original\")\n",
    "# gt_dir=os.path.join(data_dir, \"ground_truth\")\n",
    "img_dir=\"/Volumes/LaCie/zhenlab/gjsegmentation/gj_test_datasets/100_110_3x512x512/original\"\n",
    "gt_dir=\"/Volumes/LaCie/zhenlab/gjsegmentation/gj_test_datasets/100_110_3x512x512/ground_truth\"\n",
    "pred_dir=os.path.join(data_dir, \"pred\")\n",
    "use_lines = True\n",
    "show_img = True\n",
    "alpha = 0.4\n",
    "line_width = 2\n",
    "yellow = [255, 255, 0]\n",
    "print(data_dir)\n",
    "print(save_dir)\n",
    "print(\"showimg\", show_img)\n",
    "print(\"uselines\", use_lines)"
   ]
  },
  {
   "cell_type": "code",
   "execution_count": 10,
   "metadata": {},
   "outputs": [
    {
     "name": "stdout",
     "output_type": "stream",
     "text": [
      "(array([0], dtype=uint8), array([786432]))\n"
     ]
    },
    {
     "data": {
      "text/plain": [
       "<matplotlib.image.AxesImage at 0x29a9a3d60>"
      ]
     },
     "execution_count": 10,
     "metadata": {},
     "output_type": "execute_result"
    },
    {
     "data": {
      "image/png": "[encoded data removed]",
      "text/plain": [
       "<Figure size 640x480 with 1 Axes>"
      ]
     },
     "metadata": {},
     "output_type": "display_data"
    }
   ],
   "source": [
    "import os\n",
    "fp=\"/Volumes/LaCie/getpreds1072dtmp/probpreds/z3_y1536_x2048_1.png\"\n",
    "img = cv2.imread(fp)\n",
    "print(np.unique(img, return_counts=True))\n",
    "plt.imshow(img)"
   ]
  },
  {
   "cell_type": "code",
   "execution_count": 3,
   "metadata": {},
   "outputs": [
    {
     "name": "stdout",
     "output_type": "stream",
     "text": [
      "576 total slices\n",
      "no pred volvolume (0, 0, 0) | Progress:1/576 0.0\n",
      "no pred volvolume (0, 0, 512) | Progress:2/576 0.001736111111111111\n",
      "no pred volvolume (0, 0, 1024) | Progress:3/576 0.003472222222222222\n",
      "no pred volvolume (0, 0, 1536) | Progress:4/576 0.005208333333333333\n",
      "no pred volvolume (0, 0, 2048) | Progress:5/576 0.006944444444444444\n",
      "no pred volvolume (0, 0, 2560) | Progress:6/576 0.008680555555555556\n",
      "no imgsing volume (0, 0, 3072) | Progress:7/576 0.010416666666666666\n",
      "no pred vol\n",
      "no pred volvolume (0, 0, 3584) | Progress:8/576 0.012152777777777778\n",
      "no pred volvolume (0, 0, 4096) | Progress:9/576 0.013888888888888888\n",
      "no pred volvolume (0, 0, 4608) | Progress:10/576 0.015625\n",
      "no pred volvolume (0, 0, 5120) | Progress:11/576 0.017361111111111112\n",
      "no pred volvolume (0, 0, 5632) | Progress:12/576 0.019097222222222224\n",
      "no pred volvolume (0, 0, 6144) | Progress:13/576 0.020833333333333332\n",
      "Processing volume (0, 0, 6656) | Progress:14/576 0.022569444444444444\r"
     ]
    }
   ],
   "source": [
    "# stich together preds\n",
    "import time\n",
    "start = time.time()\n",
    "start_x, end_x = 1024, 8192\n",
    "start_y, end_y = 1536, 6656\n",
    "start_z, end_z = 0, 3\n",
    "new_img, new_pred, new_gt = assemble_predictions(img_dir, pred_dir, gt_dir, start_x=start_x,end_x=end_x,start_y=start_y,end_y=end_y,start_s=start_z,end_s=end_z)\n",
    "print(time.time()-start)\n",
    "volume_depth = new_img.shape[0]\n",
    "print(\"shape\", new_img.shape, new_pred.shape, new_gt.shape)"
   ]
  },
  {
   "cell_type": "code",
   "execution_count": 4,
   "metadata": {},
   "outputs": [
    {
     "name": "stdout",
     "output_type": "stream",
     "text": [
      "[ 0.  2.  3.  5.  7.  9. 11. 15.] [225378465    109443      5077     17941    123448    279749    541864\n",
      "     36429]\n"
     ]
    }
   ],
   "source": [
    "unique_gt_labels, unique_gt_counts = np.unique(new_gt, return_counts=True)\n",
    "print(unique_gt_labels, unique_gt_counts)"
   ]
  },
  {
   "cell_type": "code",
   "execution_count": 11,
   "metadata": {},
   "outputs": [
    {
     "name": "stdout",
     "output_type": "stream",
     "text": [
      "(array([0., 1., 2., 3.]), array([225494435,    153931,    549933,    294117]))\n",
      "(array([0., 1., 2., 3.]), array([75168184,    59019,   167645,   102624]))\n",
      "(array([0., 1., 2., 3.]), array([75158128,    56511,   180369,   102464]))\n",
      "(array([0., 1., 2., 3.]), array([75168123,    38401,   201919,    89029]))\n",
      "Saved slice 0\n",
      "Saved slice 1\n",
      "Saved slice 2\n"
     ]
    }
   ],
   "source": [
    "# save by confidence\n",
    "height, width = new_img.shape[1], new_img.shape[2]\n",
    "binary_gt = new_gt.copy()\n",
    "label=\"all_with_muscle_justpred\"\n",
    "binary_gt[binary_gt != 0] = 1 # all labels are positive labels\n",
    "combined_volume = np.asarray((binary_gt * 2 + new_pred))\n",
    "print(np.unique(combined_volume, return_counts=True))\n",
    "print(np.unique(combined_volume[0], return_counts=True))\n",
    "print(np.unique(combined_volume[1], return_counts=True))\n",
    "print(np.unique(combined_volume[2], return_counts=True))\n",
    "color_combined_volume = get_colored_image(combined_volume)\n",
    "show_img = False\n",
    "use_lines = False\n",
    "if show_img:\n",
    "    for k in range(volume_depth):\n",
    "        print(f\"Saved {k}\")\n",
    "        fig = plt.figure(num=1)\n",
    "        if use_lines:\n",
    "            lined_img = new_img[k].copy()\n",
    "            lined_img = (lined_img - np.min(lined_img))/(np.max(lined_img)-np.min(lined_img))\n",
    "            lined_img = np.stack((lined_img,) * 3, axis=-1)\n",
    "            for y in range(0, height, 512):\n",
    "                lined_img[y:y+line_width, :] = yellow\n",
    "            for x in range(0, width, 512):\n",
    "                lined_img[:, x:x+line_width] = yellow\n",
    "            plt.imshow(lined_img)\n",
    "        else:\n",
    "            plt.imshow(new_img[k], cmap='gray')\n",
    "        plt.imshow(color_combined_volume[k], alpha=alpha)\n",
    "        plt.savefig(save_dir + f\"{label}_slice{k}.png\", dpi=800)\n",
    "        plt.close(\"all\")\n",
    "else:\n",
    "    for k in range(volume_depth):\n",
    "        plt.imsave(save_dir + f\"{label}_slice{k}.png\", color_combined_volume[k], cmap=\"gray\")\n",
    "        print(f\"Saved slice {k}\")\n"
   ]
  },
  {
   "cell_type": "code",
   "execution_count": 7,
   "metadata": {},
   "outputs": [
    {
     "name": "stdout",
     "output_type": "stream",
     "text": [
      "(array([0., 1., 2., 3.]), array([225179202,    199263,    746460,    367491]))\n",
      "(array([0., 1., 2., 3.]), array([75062030,    79468,   237316,   118658]))\n",
      "(array([0., 1., 2., 3.]), array([75056743,    64233,   245661,   130835]))\n",
      "(array([0., 1., 2., 3.]), array([75060429,    55562,   263483,   117998]))\n"
     ]
    }
   ],
   "source": []
  },
  {
   "cell_type": "code",
   "execution_count": 7,
   "metadata": {},
   "outputs": [
    {
     "name": "stdout",
     "output_type": "stream",
     "text": [
      "Saved 0\n"
     ]
    },
    {
     "name": "stderr",
     "output_type": "stream",
     "text": [
      "Clipping input data to the valid range for imshow with RGB data ([0..1] for floats or [0..255] for integers).\n"
     ]
    },
    {
     "name": "stdout",
     "output_type": "stream",
     "text": [
      "Saved 1\n"
     ]
    },
    {
     "name": "stderr",
     "output_type": "stream",
     "text": [
      "Clipping input data to the valid range for imshow with RGB data ([0..1] for floats or [0..255] for integers).\n"
     ]
    },
    {
     "name": "stdout",
     "output_type": "stream",
     "text": [
      "Saved 2\n"
     ]
    },
    {
     "name": "stderr",
     "output_type": "stream",
     "text": [
      "Clipping input data to the valid range for imshow with RGB data ([0..1] for floats or [0..255] for integers).\n"
     ]
    }
   ],
   "source": [
    "# save by confidence\n",
    "height, width = new_img.shape[1], new_img.shape[2]\n",
    "no_muscle_gt = new_gt.copy()\n",
    "label=\"all_without_muscle\"\n",
    "no_muscle_gt[no_muscle_gt == 2] = 0 # omit muscle-muscle gj\n",
    "no_muscle_gt[no_muscle_gt != 0] = 1 # all labels are positive labels\n",
    "combined_volume = np.asarray((no_muscle_gt * 2 + new_pred))\n",
    "color_combined_volume = get_colored_image(combined_volume)\n",
    "show_img = True\n",
    "use_lines = True\n",
    "if show_img:\n",
    "    for k in range(volume_depth):\n",
    "        print(f\"Saved {k}\")\n",
    "        fig = plt.figure(num=1)\n",
    "        if use_lines:\n",
    "            lined_img = new_img[k].copy()\n",
    "            lined_img = (lined_img - np.min(lined_img))/(np.max(lined_img)-np.min(lined_img))\n",
    "            lined_img = np.stack((lined_img,) * 3, axis=-1)\n",
    "            for y in range(0, height, 512):\n",
    "                lined_img[y:y+line_width, :] = yellow\n",
    "            for x in range(0, width, 512):\n",
    "                lined_img[:, x:x+line_width] = yellow\n",
    "            plt.imshow(lined_img)\n",
    "        else:\n",
    "            plt.imshow(new_img[k], cmap='gray')\n",
    "        plt.imshow(color_combined_volume[k], alpha=alpha)\n",
    "        plt.savefig(save_dir + f\"{label}_slice{k}.png\", dpi=800)\n",
    "        plt.close(\"all\")\n",
    "else:\n",
    "    for k in range(volume_depth):\n",
    "        plt.imsave(save_dir + f\"{label}_slice{k}.png\", color_combined_volume[k], cmap=\"gray\")\n",
    "        print(f\"Saved slice {k}\")\n"
   ]
  },
  {
   "cell_type": "code",
   "execution_count": null,
   "metadata": {},
   "outputs": [],
   "source": [
    "no_muscle_gt = new_gt.copy()"
   ]
  },
  {
   "cell_type": "code",
   "execution_count": 8,
   "metadata": {},
   "outputs": [
    {
     "name": "stdout",
     "output_type": "stream",
     "text": [
      "Saved 0\n"
     ]
    },
    {
     "name": "stderr",
     "output_type": "stream",
     "text": [
      "Clipping input data to the valid range for imshow with RGB data ([0..1] for floats or [0..255] for integers).\n"
     ]
    },
    {
     "name": "stdout",
     "output_type": "stream",
     "text": [
      "Saved 1\n"
     ]
    },
    {
     "name": "stderr",
     "output_type": "stream",
     "text": [
      "Clipping input data to the valid range for imshow with RGB data ([0..1] for floats or [0..255] for integers).\n"
     ]
    },
    {
     "name": "stdout",
     "output_type": "stream",
     "text": [
      "Saved 2\n"
     ]
    },
    {
     "name": "stderr",
     "output_type": "stream",
     "text": [
      "Clipping input data to the valid range for imshow with RGB data ([0..1] for floats or [0..255] for integers).\n"
     ]
    }
   ],
   "source": [
    "# save by confidence\n",
    "height, width = new_img.shape[1], new_img.shape[2]\n",
    "confidence_gt = new_gt.copy()\n",
    "label=\"confidence_over_11\"\n",
    "threshold_confidence = 11 # (only keep confidence 4 and 5)\n",
    "# confidence_gt[confidence_gt == 2] = 0 # omit muscle-muscle g\n",
    "confidence_gt[confidence_gt < threshold_confidence] = 0 # \n",
    "confidence_gt[confidence_gt >= threshold_confidence] = 1\n",
    "combined_volume = np.asarray((confidence_gt * 2 + new_pred))\n",
    "color_combined_volume = get_colored_image(combined_volume)\n",
    "show_img = True\n",
    "use_lines = True\n",
    "if show_img:\n",
    "    for k in range(volume_depth):\n",
    "        print(f\"Saved {k}\")\n",
    "        fig = plt.figure(num=1)\n",
    "        if use_lines:\n",
    "            lined_img = new_img[k].copy()\n",
    "            lined_img = (lined_img - np.min(lined_img))/(np.max(lined_img)-np.min(lined_img))\n",
    "            lined_img = np.stack((lined_img,) * 3, axis=-1)\n",
    "            for y in range(0, height, 512):\n",
    "                lined_img[y:y+line_width, :] = yellow\n",
    "            for x in range(0, width, 512):\n",
    "                lined_img[:, x:x+line_width] = yellow\n",
    "            plt.imshow(lined_img)\n",
    "        else:\n",
    "            plt.imshow(new_img[k], cmap='gray')\n",
    "        plt.imshow(color_combined_volume[k], alpha=alpha)\n",
    "        plt.savefig(save_dir + f\"combwithimg_confidence{label}_slice{k}.png\", dpi=800)\n",
    "        plt.close(\"all\")\n",
    "else:\n",
    "    for k in range(volume_depth):\n",
    "        plt.imsave(save_dir + f\"comb_confidence{label}_slice{k}.png\", color_combined_volume[k], cmap=\"gray\")\n",
    "        print(f\"Saved slice {k}\")\n"
   ]
  },
  {
   "cell_type": "code",
   "execution_count": null,
   "metadata": {},
   "outputs": [],
   "source": []
  },
  {
   "cell_type": "code",
   "execution_count": null,
   "metadata": {},
   "outputs": [],
   "source": []
  },
  {
   "cell_type": "code",
   "execution_count": null,
   "metadata": {},
   "outputs": [],
   "source": []
  },
  {
   "cell_type": "code",
   "execution_count": null,
   "metadata": {},
   "outputs": [],
   "source": [
    "# save by confidence\n",
    "height, width = new_img.shape[1], new_img.shape[2]\n",
    "confidence_gt = new_gt.copy()\n",
    "confidence_gt[confidence_gt != label] = 0\n",
    "confidence_gt[confidence_gt == label] = 1\n",
    "combined_volume = np.asarray((confidence_gt * 2 + new_pred))\n",
    "color_combined_volume = get_colored_image(combined_volume)\n",
    "if show_img:\n",
    "    for k in range(volume_depth):\n",
    "        print(f\"Saved {k}\")\n",
    "        fig = plt.figure(num=1)\n",
    "        if use_lines:\n",
    "            lined_img = new_img[k].copy()\n",
    "            lined_img = (lined_img - np.min(lined_img))/(np.max(lined_img)-np.min(lined_img))\n",
    "            lined_img = np.stack((lined_img,) * 3, axis=-1)\n",
    "            for y in range(0, height, 512):\n",
    "                lined_img[y:y+line_width, :] = yellow\n",
    "            for x in range(0, width, 512):\n",
    "                lined_img[:, x:x+line_width] = yellow\n",
    "            plt.imshow(lined_img)\n",
    "        else:\n",
    "            plt.imshow(new_img[k], cmap='gray')\n",
    "        plt.imshow(color_combined_volume[k], alpha=alpha)\n",
    "        plt.savefig(save_dir + f\"combwithimg_confidence{str(int(label))}_slice{k}.png\", dpi=800)\n",
    "        plt.close(\"all\")\n",
    "else:\n",
    "    for k in range(volume_depth):\n",
    "        plt.imsave(save_dir + f\"comb_confidence{str(int(label))}_slice{k}.png\", color_combined_volume[k], cmap=\"gray\")\n",
    "        print(f\"Saved slice {k}\")\n",
    "\n",
    "\n",
    "# save with all labels\n",
    "binary_gt = new_gt.copy()\n",
    "binary_gt[binary_gt != 0] = 1\n",
    "combined_volume = np.asarray((binary_gt * 2 + new_pred))\n",
    "color_combined_volume = get_colored_image(combined_volume)\n",
    "if show_img:\n",
    "for k in range(volume_depth):\n",
    "    print(f\"Saved {k}\")\n",
    "    fig = plt.figure(num=1)\n",
    "    if use_lines:\n",
    "        lined_img = new_img[k].copy()\n",
    "        lined_img = (lined_img - np.min(lined_img))/(np.max(lined_img)-np.min(lined_img))\n",
    "        lined_img = np.stack((lined_img,) * 3, axis=-1)\n",
    "        for y in range(0, height, 512):\n",
    "            lined_img[y:y+line_width, :] = yellow\n",
    "        for x in range(0, width, 512):\n",
    "            lined_img[:, x:x+line_width] = yellow\n",
    "        plt.imshow(lined_img)\n",
    "    else:\n",
    "        plt.imshow(new_img[k], cmap='gray')\n",
    "    plt.imshow(color_combined_volume[k], alpha=alpha)\n",
    "    plt.savefig(save_dir + f\"combwithimg_slice{k}.png\", dpi=800)\n",
    "    plt.close(\"all\")\n",
    "else:\n",
    "for k in range(volume_depth):\n",
    "    plt.imsave(save_dir + f\"comb_slice{k}.png\", color_combined_volume[k], cmap=\"gray\")\n",
    "    print(f\"Saved slice {k}\")\n"
   ]
  },
  {
   "cell_type": "code",
   "execution_count": 16,
   "metadata": {},
   "outputs": [
    {
     "name": "stdout",
     "output_type": "stream",
     "text": [
      "(512, 512, 3)\n"
     ]
    },
    {
     "data": {
      "text/plain": [
       "<matplotlib.image.AxesImage at 0x1493a4ee0>"
      ]
     },
     "execution_count": 16,
     "metadata": {},
     "output_type": "execute_result"
    },
    {
     "data": {
      "image/png": "[encoded data removed]",
      "text/plain": [
       "<Figure size 640x480 with 1 Axes>"
      ]
     },
     "metadata": {},
     "output_type": "display_data"
    }
   ],
   "source": [
    "colored_gt = np.stack((gt_vol[0],)*3, axis=-1)\n",
    "print(colored_gt.shape)\n",
    "plt.imshow(colored_gt)"
   ]
  },
  {
   "cell_type": "code",
   "execution_count": 17,
   "metadata": {},
   "outputs": [],
   "source": [
    "tile_depth, tile_width, tile_height = 3, 512, 512"
   ]
  },
  {
   "cell_type": "code",
   "execution_count": 18,
   "metadata": {},
   "outputs": [],
   "source": [
    "import copy\n",
    "import tqdm\n",
    "import torchio as tio\n",
    "def assemble_predictions(images_dir, preds_dir, gt_dir, overlay=True):\n",
    "    # superimpose the predictions on the image \n",
    "    red = (0, 0, 255) # FP\n",
    "    green = (0, 255, 0) #TP\n",
    "    blue = (255, 0, 0) #FN\n",
    "\n",
    "    preds_colors = [green, red, blue]\n",
    "\n",
    "    # magenta:\n",
    "    # magenta = (255, 0, 255) #conf 5\n",
    "    # cyan = (255, 255, 0) #conf 4\n",
    "    # brown = (0, 255, 255) #conf 3\n",
    "    # orange = (0, 165, 255) #conf 2\n",
    "    # light_blue = (255, 165, 0) #conf 1\n",
    "    conf5 = (255, 0, 255) #conf 5\n",
    "    conf4 = (255, 255, 0) #conf 4\n",
    "    conf3 = (0, 255, 255) #conf 3\n",
    "    conf2 = (0, 165, 255) #conf 2\n",
    "    conf1 = (255, 165, 0) #conf 1\n",
    "\n",
    "    gt_colors = [conf1, conf2, conf3, conf4, conf5]\n",
    "    end_s = 6\n",
    "    end_y = 8192\n",
    "    end_x = 9216\n",
    "    start_y=0\n",
    "    start_x=0\n",
    "    total_slices = ((end_s//3) * ((end_y-start_y)//512 )* ((end_x-start_x)//512))\n",
    "    slice_num = 0\n",
    "    print(total_slices, \"total slices\")\n",
    "    for s in range(0, end_s, 3):\n",
    "        s_acc_img, s_acc_pred, s_acc_gt = [], [], []\n",
    "        for y in range(start_y, end_y, 512):\n",
    "            y_acc_img, y_acc_pred, y_acc_gt = [], [], []\n",
    "            for x in range(start_x, end_x, 512):\n",
    "                print(f\"Processing volume {s,y,x} | Progress:{slice_num+1}/{total_slices} {(slice_num)/total_slices}\", end=\"\\r\")\n",
    "                suffix = r\"z{}_y{}_x{}\".format(s, y, x)\n",
    "                \n",
    "                # load img\n",
    "                try:\n",
    "                    img_vol = np.load(os.path.join(images_dir, f\"{suffix}.npy\"))\n",
    "                except:\n",
    "                    img_vol = np.zeros((3, 512,512))\n",
    "                    print(\"no img\")\n",
    "                d, h, w = img_vol.shape\n",
    "                if (d < tile_depth) or (h < tile_height) or (w < tile_width):\n",
    "                    print(\"cropping since imgvol shape:\", img_vol.shape)\n",
    "                    img_vol = tio.CropOrPad((tile_depth, tile_height, tile_width))(torch.tensor(img_vol).unsqueeze(0))\n",
    "                \n",
    "                # load gt\n",
    "                try:\n",
    "                    gt_vol = np.load(os.path.join(gt_dir, f\"{suffix}.npy\"))\n",
    "                except:\n",
    "                    gt_vol = np.zeros((3,512,512))\n",
    "                    print(\"no gt\")\n",
    "                if (d < tile_depth) or (h < tile_height) or (w< tile_width):\n",
    "                    gt_vol = tio.CropOrPad((tile_depth, tile_height, tile_width))(gt_vol)\n",
    "                \n",
    "                # load pred\n",
    "                try:\n",
    "                    pred_vol = np.load(os.path.join(preds_dir, f\"{suffix}.npy\"))\n",
    "                    pred_vol = np.argmax(pred_vol[0], 0) \n",
    "                except:\n",
    "                    print(\"no pred vol\")\n",
    "                    pred_vol = np.zeros((3, 512,512))\n",
    "                if (d < tile_depth) or (h < tile_height) or (w < tile_width):\n",
    "                    pred_vol = tio.CropOrPad((tile_depth, tile_height, tile_width))(pred_vol)\n",
    "                    \n",
    "                small_3d_img = []\n",
    "                small_3d_pred = []\n",
    "                small_3d_gt = []\n",
    "                for k in range(3):\n",
    "                    img = img_vol[k]\n",
    "                    gt = gt_vol[k]\n",
    "                    pred = pred_vol[k]\n",
    "                    small_3d_img += [img]\n",
    "                    small_3d_gt += [gt]\n",
    "                    small_3d_pred += [pred]\n",
    "                    \n",
    "                small_3d_pred = np.array(small_3d_pred)\n",
    "                small_3d_gt = np.array(small_3d_gt)\n",
    "                small_3d_img = np.array(small_3d_img)\n",
    "                    \n",
    "                y_acc_gt += [small_3d_gt]\n",
    "                y_acc_img += [small_3d_img]\n",
    "                y_acc_pred += [small_3d_pred]\n",
    "                slice_num+=1\n",
    "            print(f\"Processing volume {s,y,x} | Progress:{slice_num+1}/{total_slices} {(slice_num)/total_slices}\")\n",
    "            s_acc_img += [np.concatenate(y_acc_img, axis=2)]\n",
    "            s_acc_pred += [np.concatenate(y_acc_pred, axis=2)]\n",
    "            s_acc_gt += [np.concatenate(y_acc_gt, axis=2)]\n",
    "\n",
    "        new_img = np.concatenate(s_acc_img, axis=1)\n",
    "        new_pred = np.concatenate(s_acc_pred, axis=1)\n",
    "        new_gt = np.concatenate(s_acc_gt, axis=1)\n",
    "        \n",
    "        return new_img, new_pred, new_gt"
   ]
  },
  {
   "cell_type": "code",
   "execution_count": 19,
   "metadata": {},
   "outputs": [
    {
     "name": "stdout",
     "output_type": "stream",
     "text": [
      "576 total slices\n",
      "Processing volume (0, 0, 8704) | Progress:19/576 0.031253888888888888\n",
      "Processing volume (0, 512, 8704) | Progress:37/576 0.062563888888888896\n",
      "Processing volume (0, 1024, 8704) | Progress:55/576 0.09375388888888898\n",
      "Processing volume (0, 1536, 8704) | Progress:73/576 0.12526388888888898\n",
      "Processing volume (0, 2048, 8704) | Progress:91/576 0.15625388888888896\n",
      "Processing volume (0, 2560, 8704) | Progress:109/576 0.18756388888888896\n",
      "Processing volume (0, 3072, 8704) | Progress:127/576 0.21875388888888896\n",
      "Processing volume (0, 3584, 8704) | Progress:145/576 0.25826388888888896\n",
      "Processing volume (0, 4096, 8704) | Progress:163/576 0.2812538888888889\n",
      "Processing volume (0, 4608, 8704) | Progress:181/576 0.3125638888888889\n",
      "no imgsing volume (0, 5120, 0) | Progress:181/576 0.3125\n",
      "no gt\n",
      "no pred vol\n",
      "no imgsing volume (0, 5120, 512) | Progress:182/576 0.3142361111111111\n",
      "no gt\n",
      "no pred vol\n",
      "no imgsing volume (0, 5120, 1024) | Progress:183/576 0.3159722222222222\n",
      "no gt\n",
      "no pred vol\n",
      "no imgsing volume (0, 5120, 1536) | Progress:184/576 0.3177083333333333\n",
      "no gt\n",
      "no pred vol\n",
      "no imgsing volume (0, 5120, 2048) | Progress:185/576 0.3194444444444444\n",
      "no gt\n",
      "no pred vol\n",
      "no imgsing volume (0, 5120, 2560) | Progress:186/576 0.3211805555555556\n",
      "no gt\n",
      "no pred vol\n",
      "no imgsing volume (0, 5120, 3072) | Progress:187/576 0.3229166666666667\n",
      "no gt\n",
      "no pred vol\n",
      "no imgsing volume (0, 5120, 3584) | Progress:188/576 0.3246527777777778\n",
      "no gt\n",
      "no pred vol\n",
      "no imgsing volume (0, 5120, 4096) | Progress:189/576 0.3263888888888889\n",
      "no gt\n",
      "no pred vol\n",
      "no imgsing volume (0, 5120, 4608) | Progress:190/576 0.328125\n",
      "no gt\n",
      "no pred vol\n",
      "no imgsing volume (0, 5120, 5120) | Progress:191/576 0.3298611111111111\n",
      "no gt\n",
      "no pred vol\n",
      "no imgsing volume (0, 5120, 5632) | Progress:192/576 0.3315972222222222\n",
      "no gt\n",
      "no pred vol\n",
      "no imgsing volume (0, 5120, 6144) | Progress:193/576 0.3333333333333333\n",
      "no gt\n",
      "no pred vol\n",
      "no imgsing volume (0, 5120, 6656) | Progress:194/576 0.3350694444444444\n",
      "no gt\n",
      "no pred vol\n",
      "no imgsing volume (0, 5120, 7168) | Progress:195/576 0.3368055555555556\n",
      "no gt\n",
      "no pred vol\n",
      "no imgsing volume (0, 5120, 7680) | Progress:196/576 0.3385416666666667\n",
      "no gt\n",
      "no pred vol\n",
      "no imgsing volume (0, 5120, 8192) | Progress:197/576 0.3402777777777778\n",
      "no gt\n",
      "no pred vol\n",
      "no imgsing volume (0, 5120, 8704) | Progress:198/576 0.3420138888888889\n",
      "no gt\n",
      "no pred vol\n",
      "Processing volume (0, 5120, 8704) | Progress:199/576 0.34375\n",
      "no imgsing volume (0, 5632, 0) | Progress:199/576 0.34375\n",
      "no gt\n",
      "no pred vol\n",
      "no imgsing volume (0, 5632, 512) | Progress:200/576 0.3454861111111111\n",
      "no gt\n",
      "no pred vol\n",
      "no imgsing volume (0, 5632, 1024) | Progress:201/576 0.3472222222222222\n",
      "no gt\n",
      "no pred vol\n",
      "no imgsing volume (0, 5632, 1536) | Progress:202/576 0.3489583333333333\n",
      "no gt\n",
      "no pred vol\n",
      "no imgsing volume (0, 5632, 2048) | Progress:203/576 0.3506944444444444\n",
      "no gt\n",
      "no pred vol\n",
      "no imgsing volume (0, 5632, 2560) | Progress:204/576 0.3524305555555556\n",
      "no gt\n",
      "no pred vol\n",
      "no imgsing volume (0, 5632, 3072) | Progress:205/576 0.3541666666666667\n",
      "no gt\n",
      "no pred vol\n",
      "no imgsing volume (0, 5632, 3584) | Progress:206/576 0.3559027777777778\n",
      "no gt\n",
      "no pred vol\n",
      "no imgsing volume (0, 5632, 4096) | Progress:207/576 0.3576388888888889\n",
      "no gt\n",
      "no pred vol\n",
      "no imgsing volume (0, 5632, 4608) | Progress:208/576 0.359375\n",
      "no gt\n",
      "no pred vol\n",
      "no imgsing volume (0, 5632, 5120) | Progress:209/576 0.3611111111111111\n",
      "no gt\n",
      "no pred vol\n",
      "no imgsing volume (0, 5632, 5632) | Progress:210/576 0.3628472222222222\n",
      "no gt\n",
      "no pred vol\n",
      "no imgsing volume (0, 5632, 6144) | Progress:211/576 0.3645833333333333\n",
      "no gt\n",
      "no pred vol\n",
      "no imgsing volume (0, 5632, 6656) | Progress:212/576 0.3663194444444444\n",
      "no gt\n",
      "no pred vol\n",
      "no imgsing volume (0, 5632, 7168) | Progress:213/576 0.3680555555555556\n",
      "no gt\n",
      "no pred vol\n",
      "no imgsing volume (0, 5632, 7680) | Progress:214/576 0.3697916666666667\n",
      "no gt\n",
      "no pred vol\n",
      "no imgsing volume (0, 5632, 8192) | Progress:215/576 0.3715277777777778\n",
      "no gt\n",
      "no pred vol\n",
      "no imgsing volume (0, 5632, 8704) | Progress:216/576 0.3732638888888889\n",
      "no gt\n",
      "no pred vol\n",
      "Processing volume (0, 5632, 8704) | Progress:217/576 0.375\n",
      "no imgsing volume (0, 6144, 0) | Progress:217/576 0.375\n",
      "no gt\n",
      "no pred vol\n",
      "no imgsing volume (0, 6144, 512) | Progress:218/576 0.3767361111111111\n",
      "no gt\n",
      "no pred vol\n",
      "no imgsing volume (0, 6144, 1024) | Progress:219/576 0.3784722222222222\n",
      "no gt\n",
      "no pred vol\n",
      "no imgsing volume (0, 6144, 1536) | Progress:220/576 0.3802083333333333\n",
      "no gt\n",
      "no pred vol\n",
      "no imgsing volume (0, 6144, 2048) | Progress:221/576 0.3819444444444444\n",
      "no gt\n",
      "no pred vol\n",
      "no imgsing volume (0, 6144, 2560) | Progress:222/576 0.3836805555555556\n",
      "no gt\n",
      "no pred vol\n",
      "no imgsing volume (0, 6144, 3072) | Progress:223/576 0.3854166666666667\n",
      "no gt\n",
      "no pred vol\n",
      "no imgsing volume (0, 6144, 3584) | Progress:224/576 0.3871527777777778\n",
      "no gt\n",
      "no pred vol\n",
      "no imgsing volume (0, 6144, 4096) | Progress:225/576 0.3888888888888889\n",
      "no gt\n",
      "no pred vol\n",
      "no imgsing volume (0, 6144, 4608) | Progress:226/576 0.390625\n",
      "no gt\n",
      "no pred vol\n",
      "no imgsing volume (0, 6144, 5120) | Progress:227/576 0.3923611111111111\n",
      "no gt\n",
      "no pred vol\n",
      "no imgsing volume (0, 6144, 5632) | Progress:228/576 0.3940972222222222\n",
      "no gt\n",
      "no pred vol\n",
      "no imgsing volume (0, 6144, 6144) | Progress:229/576 0.3958333333333333\n",
      "no gt\n",
      "no pred vol\n",
      "no imgsing volume (0, 6144, 6656) | Progress:230/576 0.3975694444444444\n",
      "no gt\n",
      "no pred vol\n",
      "no imgsing volume (0, 6144, 7168) | Progress:231/576 0.3993055555555556\n",
      "no gt\n",
      "no pred vol\n",
      "no imgsing volume (0, 6144, 7680) | Progress:232/576 0.4010416666666667\n",
      "no gt\n",
      "no pred vol\n",
      "no imgsing volume (0, 6144, 8192) | Progress:233/576 0.4027777777777778\n",
      "no gt\n",
      "no pred vol\n",
      "no imgsing volume (0, 6144, 8704) | Progress:234/576 0.4045138888888889\n",
      "no gt\n",
      "no pred vol\n",
      "Processing volume (0, 6144, 8704) | Progress:235/576 0.40625\n",
      "no imgsing volume (0, 6656, 0) | Progress:235/576 0.40625\n",
      "no gt\n",
      "no pred vol\n",
      "no imgsing volume (0, 6656, 512) | Progress:236/576 0.4079861111111111\n",
      "no gt\n",
      "no pred vol\n",
      "no imgsing volume (0, 6656, 1024) | Progress:237/576 0.4097222222222222\n",
      "no gt\n",
      "no pred vol\n",
      "no imgsing volume (0, 6656, 1536) | Progress:238/576 0.4114583333333333\n",
      "no gt\n",
      "no pred vol\n",
      "no imgsing volume (0, 6656, 2048) | Progress:239/576 0.4131944444444444\n",
      "no gt\n",
      "no pred vol\n",
      "no imgsing volume (0, 6656, 2560) | Progress:240/576 0.4149305555555556\n",
      "no gt\n",
      "no pred vol\n",
      "no imgsing volume (0, 6656, 3072) | Progress:241/576 0.4166666666666667\n",
      "no gt\n",
      "no pred vol\n",
      "no imgsing volume (0, 6656, 3584) | Progress:242/576 0.4184027777777778\n",
      "no gt\n",
      "no pred vol\n",
      "no imgsing volume (0, 6656, 4096) | Progress:243/576 0.4201388888888889\n",
      "no gt\n",
      "no pred vol\n",
      "no imgsing volume (0, 6656, 4608) | Progress:244/576 0.421875\n",
      "no gt\n",
      "no pred vol\n",
      "no imgsing volume (0, 6656, 5120) | Progress:245/576 0.4236111111111111\n",
      "no gt\n",
      "no pred vol\n",
      "no imgsing volume (0, 6656, 5632) | Progress:246/576 0.4253472222222222\n",
      "no gt\n",
      "no pred vol\n",
      "no imgsing volume (0, 6656, 6144) | Progress:247/576 0.4270833333333333\n",
      "no gt\n",
      "no pred vol\n",
      "no imgsing volume (0, 6656, 6656) | Progress:248/576 0.4288194444444444\n",
      "no gt\n",
      "no pred vol\n",
      "no imgsing volume (0, 6656, 7168) | Progress:249/576 0.4305555555555556\n",
      "no gt\n",
      "no pred vol\n",
      "no imgsing volume (0, 6656, 7680) | Progress:250/576 0.4322916666666667\n",
      "no gt\n",
      "no pred vol\n",
      "no imgsing volume (0, 6656, 8192) | Progress:251/576 0.4340277777777778\n",
      "no gt\n",
      "no pred vol\n",
      "no imgsing volume (0, 6656, 8704) | Progress:252/576 0.4357638888888889\n",
      "no gt\n",
      "no pred vol\n",
      "Processing volume (0, 6656, 8704) | Progress:253/576 0.4375\n",
      "no imgsing volume (0, 7168, 0) | Progress:253/576 0.4375\n",
      "no gt\n",
      "no pred vol\n",
      "no imgsing volume (0, 7168, 512) | Progress:254/576 0.4392361111111111\n",
      "no gt\n",
      "no pred vol\n",
      "no imgsing volume (0, 7168, 1024) | Progress:255/576 0.4409722222222222\n",
      "no gt\n",
      "no pred vol\n",
      "no imgsing volume (0, 7168, 1536) | Progress:256/576 0.4427083333333333\n",
      "no gt\n",
      "no pred vol\n",
      "no imgsing volume (0, 7168, 2048) | Progress:257/576 0.4444444444444444\n",
      "no gt\n",
      "no pred vol\n",
      "no imgsing volume (0, 7168, 2560) | Progress:258/576 0.4461805555555556\n",
      "no gt\n",
      "no pred vol\n",
      "no imgsing volume (0, 7168, 3072) | Progress:259/576 0.4479166666666667\n",
      "no gt\n",
      "no pred vol\n",
      "no imgsing volume (0, 7168, 3584) | Progress:260/576 0.4496527777777778\n",
      "no gt\n",
      "no pred vol\n",
      "no imgsing volume (0, 7168, 4096) | Progress:261/576 0.4513888888888889\n",
      "no gt\n",
      "no pred vol\n",
      "no imgsing volume (0, 7168, 4608) | Progress:262/576 0.453125\n",
      "no gt\n",
      "no pred vol\n",
      "no imgsing volume (0, 7168, 5120) | Progress:263/576 0.4548611111111111\n",
      "no gt\n",
      "no pred vol\n",
      "no imgsing volume (0, 7168, 5632) | Progress:264/576 0.4565972222222222\n",
      "no gt\n",
      "no pred vol\n",
      "no imgsing volume (0, 7168, 6144) | Progress:265/576 0.4583333333333333\n",
      "no gt\n",
      "no pred vol\n",
      "no imgsing volume (0, 7168, 6656) | Progress:266/576 0.4600694444444444\n",
      "no gt\n",
      "no pred vol\n",
      "no imgsing volume (0, 7168, 7168) | Progress:267/576 0.4618055555555556\n",
      "no gt\n",
      "no pred vol\n",
      "no imgsing volume (0, 7168, 7680) | Progress:268/576 0.4635416666666667\n",
      "no gt\n",
      "no pred vol\n",
      "no imgsing volume (0, 7168, 8192) | Progress:269/576 0.4652777777777778\n",
      "no gt\n",
      "no pred vol\n",
      "no imgsing volume (0, 7168, 8704) | Progress:270/576 0.4670138888888889\n",
      "no gt\n",
      "no pred vol\n",
      "Processing volume (0, 7168, 8704) | Progress:271/576 0.46875\n",
      "no imgsing volume (0, 7680, 0) | Progress:271/576 0.46875\n",
      "no gt\n",
      "no pred vol\n",
      "no imgsing volume (0, 7680, 512) | Progress:272/576 0.4704861111111111\n",
      "no gt\n",
      "no pred vol\n",
      "no imgsing volume (0, 7680, 1024) | Progress:273/576 0.4722222222222222\n",
      "no gt\n",
      "no pred vol\n",
      "no imgsing volume (0, 7680, 1536) | Progress:274/576 0.4739583333333333\n",
      "no gt\n",
      "no pred vol\n",
      "no imgsing volume (0, 7680, 2048) | Progress:275/576 0.4756944444444444\n",
      "no gt\n",
      "no pred vol\n",
      "no imgsing volume (0, 7680, 2560) | Progress:276/576 0.4774305555555556\n",
      "no gt\n",
      "no pred vol\n",
      "no imgsing volume (0, 7680, 3072) | Progress:277/576 0.4791666666666667\n",
      "no gt\n",
      "no pred vol\n",
      "no imgsing volume (0, 7680, 3584) | Progress:278/576 0.4809027777777778\n",
      "no gt\n",
      "no pred vol\n",
      "no imgsing volume (0, 7680, 4096) | Progress:279/576 0.4826388888888889\n",
      "no gt\n",
      "no pred vol\n",
      "no imgsing volume (0, 7680, 4608) | Progress:280/576 0.484375\n",
      "no gt\n",
      "no pred vol\n",
      "no imgsing volume (0, 7680, 5120) | Progress:281/576 0.4861111111111111\n",
      "no gt\n",
      "no pred vol\n",
      "no imgsing volume (0, 7680, 5632) | Progress:282/576 0.4878472222222222\n",
      "no gt\n",
      "no pred vol\n",
      "no imgsing volume (0, 7680, 6144) | Progress:283/576 0.4895833333333333\n",
      "no gt\n",
      "no pred vol\n",
      "no imgsing volume (0, 7680, 6656) | Progress:284/576 0.4913194444444444\n",
      "no gt\n",
      "no pred vol\n",
      "no imgsing volume (0, 7680, 7168) | Progress:285/576 0.4930555555555556\n",
      "no gt\n",
      "no pred vol\n",
      "no imgsing volume (0, 7680, 7680) | Progress:286/576 0.4947916666666667\n",
      "no gt\n",
      "no pred vol\n",
      "no imgsing volume (0, 7680, 8192) | Progress:287/576 0.4965277777777778\n",
      "no gt\n",
      "no pred vol\n",
      "no imgsing volume (0, 7680, 8704) | Progress:288/576 0.4982638888888889\n",
      "no gt\n",
      "no pred vol\n",
      "Processing volume (0, 7680, 8704) | Progress:289/576 0.5\n",
      "shape (3, 8192, 9216) (3, 8192, 9216) (3, 8192, 9216)\n"
     ]
    }
   ],
   "source": [
    "from tqdm import tqdm \n",
    "new_img, new_pred, new_gt = assemble_predictions(img_dir, pred_dir, gt_dir)\n",
    "print(\"shape\", new_img.shape, new_pred.shape, new_gt.shape)"
   ]
  },
  {
   "cell_type": "code",
   "execution_count": 8,
   "metadata": {},
   "outputs": [
    {
     "data": {
      "text/plain": [
       "<matplotlib.image.AxesImage at 0x17fe1e850>"
      ]
     },
     "execution_count": 8,
     "metadata": {},
     "output_type": "execute_result"
    },
    {
     "data": {
      "image/png": "[encoded data removed]",
      "text/plain": [
       "<Figure size 640x480 with 1 Axes>"
      ]
     },
     "metadata": {},
     "output_type": "display_data"
    }
   ],
   "source": [
    "plt.imshow(new_pred[0], cmap=\"gray\")"
   ]
  },
  {
   "cell_type": "code",
   "execution_count": 20,
   "metadata": {},
   "outputs": [
    {
     "name": "stdout",
     "output_type": "stream",
     "text": [
      "(array([0., 1.]), array([225648366,    844050]))\n"
     ]
    }
   ],
   "source": [
    "binary_gt = new_gt.copy()\n",
    "binary_gt[binary_gt != 0] = 1\n",
    "print(np.unique(binary_gt, return_counts=True))"
   ]
  },
  {
   "cell_type": "code",
   "execution_count": 22,
   "metadata": {},
   "outputs": [
    {
     "name": "stdout",
     "output_type": "stream",
     "text": [
      "(3, 8192, 9216) (3, 8192, 9216) (3, 8192, 9216)\n",
      "Saved slice 0\n",
      "Saved slice 1\n",
      "Saved slice 2\n"
     ]
    },
    {
     "ename": "IndexError",
     "evalue": "index 3 is out of bounds for axis 0 with size 3",
     "output_type": "error",
     "traceback": [
      "\u001b[0;31m---------------------------------------------------------------------------\u001b[0m",
      "\u001b[0;31mIndexError\u001b[0m                                Traceback (most recent call last)",
      "Cell \u001b[0;32mIn[22], line 9\u001b[0m\n\u001b[1;32m      7\u001b[0m \u001b[38;5;28mprint\u001b[39m(new_img\u001b[38;5;241m.\u001b[39mshape, new_pred\u001b[38;5;241m.\u001b[39mshape, new_gt\u001b[38;5;241m.\u001b[39mshape)\n\u001b[1;32m      8\u001b[0m \u001b[38;5;28;01mfor\u001b[39;00m k \u001b[38;5;129;01min\u001b[39;00m \u001b[38;5;28mrange\u001b[39m(\u001b[38;5;241m6\u001b[39m):\n\u001b[0;32m----> 9\u001b[0m     cv2\u001b[38;5;241m.\u001b[39mimwrite(save_dir \u001b[38;5;241m+\u001b[39m suffix \u001b[38;5;241m+\u001b[39m \u001b[38;5;124mf\u001b[39m\u001b[38;5;124m\"\u001b[39m\u001b[38;5;124m_img_slice\u001b[39m\u001b[38;5;132;01m{\u001b[39;00mk\u001b[38;5;132;01m}\u001b[39;00m\u001b[38;5;124m.png\u001b[39m\u001b[38;5;124m\"\u001b[39m, \u001b[43mnew_img\u001b[49m\u001b[43m[\u001b[49m\u001b[43mk\u001b[49m\u001b[43m]\u001b[49m)\n\u001b[1;32m     10\u001b[0m     plt\u001b[38;5;241m.\u001b[39mimsave(save_dir \u001b[38;5;241m+\u001b[39m suffix \u001b[38;5;241m+\u001b[39m \u001b[38;5;124mf\u001b[39m\u001b[38;5;124m\"\u001b[39m\u001b[38;5;124m_pred_slice\u001b[39m\u001b[38;5;132;01m{\u001b[39;00mk\u001b[38;5;132;01m}\u001b[39;00m\u001b[38;5;124m.png\u001b[39m\u001b[38;5;124m\"\u001b[39m, new_pred[k], cmap\u001b[38;5;241m=\u001b[39m\u001b[38;5;124m\"\u001b[39m\u001b[38;5;124mgray\u001b[39m\u001b[38;5;124m\"\u001b[39m)\n\u001b[1;32m     11\u001b[0m     plt\u001b[38;5;241m.\u001b[39mimsave(save_dir \u001b[38;5;241m+\u001b[39m suffix \u001b[38;5;241m+\u001b[39m \u001b[38;5;124mf\u001b[39m\u001b[38;5;124m\"\u001b[39m\u001b[38;5;124m_gt_slice\u001b[39m\u001b[38;5;132;01m{\u001b[39;00mk\u001b[38;5;132;01m}\u001b[39;00m\u001b[38;5;124m.png\u001b[39m\u001b[38;5;124m\"\u001b[39m, new_gt[k], cmap\u001b[38;5;241m=\u001b[39m\u001b[38;5;124m\"\u001b[39m\u001b[38;5;124mgray\u001b[39m\u001b[38;5;124m\"\u001b[39m)\n",
      "\u001b[0;31mIndexError\u001b[0m: index 3 is out of bounds for axis 0 with size 3"
     ]
    }
   ],
   "source": [
    "# save separate\n",
    "save_dir = \"/Volumes/LaCie/gapjnc92/\"\n",
    "if not os.path.exists(save_dir):\n",
    "    os.makedirs(save_dir)\n",
    "if not os.path.isdir(save_dir):\n",
    "    os.mkdir(save_dir)\n",
    "print(new_img.shape, new_pred.shape, new_gt.shape)\n",
    "for k in range(6):\n",
    "    cv2.imwrite(save_dir + suffix + f\"_img_slice{k}.png\", new_img[k])\n",
    "    plt.imsave(save_dir + suffix + f\"_pred_slice{k}.png\", new_pred[k], cmap=\"gray\")\n",
    "    plt.imsave(save_dir + suffix + f\"_gt_slice{k}.png\", new_gt[k], cmap=\"gray\")\n",
    "    print(f\"Saved slice {k}\")"
   ]
  },
  {
   "cell_type": "code",
   "execution_count": 26,
   "metadata": {},
   "outputs": [],
   "source": [
    "def get_colored_image(image, color_map=None):\n",
    "    # Define the default color map\n",
    "    if color_map is None:\n",
    "        color_map = {\n",
    "            0: [0, 0, 0],  # Black (TN)\n",
    "            1: [1, 0, 0],  # Red (FP) (pred only)\n",
    "            2: [0, 0, 1],  # Blue (FN) (double_mask only)\n",
    "            3: [0, 1, 0],  # Green (TP)\n",
    "        }\n",
    "    # Create an empty RGB image\n",
    "    depth, height, width = image.shape[0], image.shape[1], image.shape[2]\n",
    "    colored_image = np.zeros((depth, height, width, 3), dtype=np.float32) \n",
    "    \n",
    "    # Map the pixel values to the corresponding colors\n",
    "    for value, color in color_map.items():\n",
    "        colored_image[image == value] = color\n",
    "    return colored_image"
   ]
  },
  {
   "cell_type": "code",
   "execution_count": 27,
   "metadata": {},
   "outputs": [
    {
     "name": "stdout",
     "output_type": "stream",
     "text": [
      "(array([0., 1., 2., 3.]), array([225387173,    256744,    657195,    191304]))\n"
     ]
    }
   ],
   "source": [
    "combined_volume = np.asarray((binary_gt[1] * 2 + new_pred))\n",
    "color_combined_volume = get_colored_image(combined_volume)\n",
    "print(np.unique(combined_volume, return_counts=True))"
   ]
  },
  {
   "cell_type": "code",
   "execution_count": 25,
   "metadata": {},
   "outputs": [
    {
     "name": "stdout",
     "output_type": "stream",
     "text": [
      "Saved slice 0\n",
      "Saved slice 1\n",
      "Saved slice 2\n"
     ]
    },
    {
     "ename": "IndexError",
     "evalue": "index 3 is out of bounds for axis 0 with size 3",
     "output_type": "error",
     "traceback": [
      "\u001b[0;31m---------------------------------------------------------------------------\u001b[0m",
      "\u001b[0;31mIndexError\u001b[0m                                Traceback (most recent call last)",
      "Cell \u001b[0;32mIn[25], line 6\u001b[0m\n\u001b[1;32m      4\u001b[0m     os\u001b[38;5;241m.\u001b[39mmakedirs(save_dir)\n\u001b[1;32m      5\u001b[0m \u001b[38;5;28;01mfor\u001b[39;00m k \u001b[38;5;129;01min\u001b[39;00m \u001b[38;5;28mrange\u001b[39m(\u001b[38;5;241m6\u001b[39m):\n\u001b[0;32m----> 6\u001b[0m     plt\u001b[38;5;241m.\u001b[39mimsave(save_dir \u001b[38;5;241m+\u001b[39m suffix \u001b[38;5;241m+\u001b[39m \u001b[38;5;124mf\u001b[39m\u001b[38;5;124m\"\u001b[39m\u001b[38;5;124m_comb_slice\u001b[39m\u001b[38;5;132;01m{\u001b[39;00mk\u001b[38;5;132;01m}\u001b[39;00m\u001b[38;5;124m.png\u001b[39m\u001b[38;5;124m\"\u001b[39m, \u001b[43mcolor_combined_volume\u001b[49m\u001b[43m[\u001b[49m\u001b[43mk\u001b[49m\u001b[43m]\u001b[49m, cmap\u001b[38;5;241m=\u001b[39m\u001b[38;5;124m\"\u001b[39m\u001b[38;5;124mgray\u001b[39m\u001b[38;5;124m\"\u001b[39m)\n\u001b[1;32m      7\u001b[0m     \u001b[38;5;28mprint\u001b[39m(\u001b[38;5;124mf\u001b[39m\u001b[38;5;124m\"\u001b[39m\u001b[38;5;124mSaved slice \u001b[39m\u001b[38;5;132;01m{\u001b[39;00mk\u001b[38;5;132;01m}\u001b[39;00m\u001b[38;5;124m\"\u001b[39m)\n",
      "\u001b[0;31mIndexError\u001b[0m: index 3 is out of bounds for axis 0 with size 3"
     ]
    }
   ],
   "source": [
    "# save separate\n",
    "save_dir = \"/Volumes/LaCie/gapjnc92/combined_two\"\n",
    "if not os.path.exists(save_dir):\n",
    "    os.makedirs(save_dir)\n",
    "for k in range(3):\n",
    "    plt.imsave(save_dir + suffix + f\"_comb_slice{k}.png\", color_combined_volume[k], cmap=\"gray\")\n",
    "    print(f\"Saved slice {k}\")"
   ]
  },
  {
   "cell_type": "code",
   "execution_count": 12,
   "metadata": {},
   "outputs": [
    {
     "data": {
      "text/plain": [
       "(3, 8192, 9216, 3)"
      ]
     },
     "execution_count": 12,
     "metadata": {},
     "output_type": "execute_result"
    }
   ],
   "source": [
    "color_combined_volume.shape"
   ]
  },
  {
   "cell_type": "code",
   "execution_count": 28,
   "metadata": {},
   "outputs": [
    {
     "name": "stdout",
     "output_type": "stream",
     "text": [
      "Saved 0\n",
      "Saved 1\n",
      "Saved 2\n"
     ]
    }
   ],
   "source": [
    "# save combined\n",
    "save_dir = \"/Volumes/LaCie/gapjnc92/combined_two/\"\n",
    "if not os.path.exists(save_dir):\n",
    "    os.makedirs(save_dir)\n",
    "if not os.path.isdir(save_dir):\n",
    "    os.mkdir(save_dir)\n",
    "use_lines = False\n",
    "alpha = 0.4\n",
    "yellow = [255, 255, 0]\n",
    "line_width = 3\n",
    "height, width = new_img.shape[1], new_img.shape[2]\n",
    "for k in range(3):\n",
    "    print(f\"Saved {k}\")\n",
    "    fig = plt.figure(num=1)\n",
    "    if use_lines:\n",
    "        lined_img = new_img[k].copy()\n",
    "        lined_img = (lined_img - np.min(lined_img))/(np.max(lined_img)-np.min(lined_img))\n",
    "        lined_img = np.stack((lined_img,) * 3, axis=-1)\n",
    "\n",
    "        for y in range(0, height, 512):\n",
    "            lined_img[y:y+line_width, :] = yellow\n",
    "        for x in range(0, width, 512):\n",
    "            lined_img[:, x:x+line_width] = yellow\n",
    "        plt.imshow(lined_img)\n",
    "    else:\n",
    "        plt.imshow(new_img[k], cmap='gray')\n",
    "    plt.imshow(color_combined_volume[k], alpha=alpha)\n",
    "    plt.savefig(save_dir + f\"tmp{k}.png\", dpi=800)\n",
    "    plt.close(\"all\")"
   ]
  },
  {
   "cell_type": "code",
   "execution_count": 34,
   "metadata": {},
   "outputs": [
    {
     "name": "stdout",
     "output_type": "stream",
     "text": [
      "Saved 0\n"
     ]
    },
    {
     "name": "stderr",
     "output_type": "stream",
     "text": [
      "Clipping input data to the valid range for imshow with RGB data ([0..1] for floats or [0..255] for integers).\n"
     ]
    },
    {
     "name": "stdout",
     "output_type": "stream",
     "text": [
      "Saved 1\n"
     ]
    },
    {
     "name": "stderr",
     "output_type": "stream",
     "text": [
      "Clipping input data to the valid range for imshow with RGB data ([0..1] for floats or [0..255] for integers).\n"
     ]
    },
    {
     "ename": "",
     "evalue": "",
     "output_type": "error",
     "traceback": [
      "\u001b[1;31mThe Kernel crashed while executing code in the current cell or a previous cell. \n",
      "\u001b[1;31mPlease review the code in the cell(s) to identify a possible cause of the failure. \n",
      "\u001b[1;31mClick <a href='https://aka.ms/vscodeJupyterKernelCrash'>here</a> for more info. \n",
      "\u001b[1;31mView Jupyter <a href='command:jupyter.viewOutput'>log</a> for further details."
     ]
    }
   ],
   "source": [
    "# save combined\n",
    "save_dir = \"/Volumes/LaCie/gapjnc16/combined/\"\n",
    "if not os.path.exists(save_dir):\n",
    "    os.makedirs(save_dir)\n",
    "if not os.path.isdir(save_dir):\n",
    "    os.mkdir(save_dir)\n",
    "use_lines = True\n",
    "alpha = 0.4\n",
    "yellow = [255, 255, 0]\n",
    "line_width = 3\n",
    "height, width = new_img.shape[1], new_img.shape[2]\n",
    "for k in range(3):\n",
    "    print(f\"Saved {k}\")\n",
    "    fig = plt.figure(num=1)\n",
    "    if use_lines:\n",
    "        lined_img = new_img[k].copy()\n",
    "        lined_img = (lined_img - np.min(lined_img))/(np.max(lined_img)-np.min(lined_img))\n",
    "        lined_img = np.stack((lined_img,) * 3, axis=-1)\n",
    "\n",
    "        for y in range(0, height, 512):\n",
    "            lined_img[y:y+line_width, :] = yellow\n",
    "        for x in range(0, width, 512):\n",
    "            lined_img[:, x:x+line_width] = yellow\n",
    "        plt.imshow(lined_img)\n",
    "    else:\n",
    "        plt.imshow(new_img[k], cmap='gray')\n",
    "    plt.imshow(color_combined_volume[k], alpha=alpha)\n",
    "    plt.savefig(save_dir + f\"tmp{k}.png\", dpi=800)\n",
    "    plt.close(\"all\")"
   ]
  },
  {
   "cell_type": "code",
   "execution_count": null,
   "metadata": {},
   "outputs": [],
   "source": []
  }
 ],
 "metadata": {
  "kernelspec": {
   "display_name": "gapvenv",
   "language": "python",
   "name": "python3"
  },
  "language_info": {
   "codemirror_mode": {
    "name": "ipython",
    "version": 3
   },
   "file_extension": ".py",
   "mimetype": "text/x-python",
   "name": "python",
   "nbconvert_exporter": "python",
   "pygments_lexer": "ipython3",
   "version": "3.9.6"
  }
 },
 "nbformat": 4,
 "nbformat_minor": 2
}
