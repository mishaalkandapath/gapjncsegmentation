version https://git-lfs.github.com/spec/v1
oid sha256:8cdcc6ae9cf742e13d9f5e3316d4e9a113aed7cd87434c2d2f9ed10bf2fc7062
size 645687
