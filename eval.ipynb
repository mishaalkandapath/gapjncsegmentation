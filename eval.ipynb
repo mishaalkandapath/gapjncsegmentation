{
 "cells": [
  {
   "cell_type": "code",
   "execution_count": 1,
   "metadata": {},
   "outputs": [],
   "source": [
    "import cv2\n",
    "import numpy as np\n",
    "import random\n",
    "\n",
    "def center_img(img):\n",
    "    # Convert to grayscale\n",
    "    gray = cv2.cvtColor(img, cv2.COLOR_BGR2GRAY)\n",
    "    out = np.zeros_like(gray, dtype=np.uint32)\n",
    "\n",
    "    # Apply thresholding\n",
    "    _, thresh = cv2.threshold(gray, 40, 255, cv2.THRESH_BINARY)\n",
    "\n",
    "    # Find contours\n",
    "    contours, _ = cv2.findContours(thresh, cv2.RETR_LIST, cv2.CHAIN_APPROX_SIMPLE)\n",
    "\n",
    "    # Calculate center of each contour\n",
    "    centers = []\n",
    "    for i, cnt in enumerate(contours):\n",
    "        M = cv2.moments(cnt)\n",
    "        if M['m00'] != 0:\n",
    "            cx = int(M['m10'] / M['m00'])\n",
    "            cy = int(M['m01'] / M['m00'])\n",
    "            # print(cx, cy)\n",
    "            # img = cv2.circle(img, (cx, cy), 15, (0, 255, 0), 10)\n",
    "            centers.append((cx, cy))\n",
    "            color = random.randint(0, 255)\n",
    "            # while color in done:\n",
    "            #     color = random.randint(0, 255)\n",
    "            # done.add(color)\n",
    "            gray = cv2.drawContours(gray, contours, i, color=30, thickness=-1)\n",
    "            out[gray == 30] = i+1\n",
    "            gray[gray == 30] = 1\n",
    "            assert not np.count_nonzero(gray == 30)\n",
    "    return centers, out\n",
    "\n",
    "\n",
    "def entity_recall(gt_contour, pred):\n",
    "    contours = np.unique(gt_contour)\n",
    "    contours = contours[contours != 0]\n",
    "    num_right = 0\n",
    "    for i , cnt in enumerate(contours):\n",
    "        num = np.count_nonzero(gt_contour == cnt)\n",
    "        num_intersect = np.count_nonzero(pred[gt_contour == cnt] == 255)\n",
    "        if num_intersect/num >= 0.5: \n",
    "            num_right +=1\n",
    "    return num_right/len(contours)"
   ]
  },
  {
   "cell_type": "code",
   "execution_count": null,
   "metadata": {},
   "outputs": [],
   "source": [
    "# slices 100-110\n"
   ]
  }
 ],
 "metadata": {
  "kernelspec": {
   "display_name": "gapvenv",
   "language": "python",
   "name": "python3"
  },
  "language_info": {
   "codemirror_mode": {
    "name": "ipython",
    "version": 3
   },
   "file_extension": ".py",
   "mimetype": "text/x-python",
   "name": "python",
   "nbconvert_exporter": "python",
   "pygments_lexer": "ipython3",
   "version": "3.9.6"
  }
 },
 "nbformat": 4,
 "nbformat_minor": 2
}
