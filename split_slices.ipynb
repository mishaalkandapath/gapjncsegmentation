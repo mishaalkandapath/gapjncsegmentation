{
 "cells": [
  {
   "cell_type": "code",
   "execution_count": 6,
   "metadata": {},
   "outputs": [
    {
     "data": {
      "text/plain": [
       "' Section one 512 x 512 image into sixteen 128 x 128 tiles.'"
      ]
     },
     "execution_count": 6,
     "metadata": {},
     "output_type": "execute_result"
    }
   ],
   "source": [
    "\"\"\" Section one 512 x 512 image into sixteen 128 x 128 tiles.\"\"\""
   ]
  },
  {
   "cell_type": "code",
   "execution_count": 1,
   "metadata": {},
   "outputs": [],
   "source": [
    "import os\n",
    "old_dir = \"small_data_3d\"\n",
    "old_img_dir = \"small_data_3d/original\"\n",
    "old_mask_dir = \"small_data_3d/ground_truth\"\n",
    "\n",
    "new_dir = \"small_data_256\"\n",
    "new_img_dir = os.path.join(new_dir, \"original\")\n",
    "new_mask_dir = os.path.join(new_dir, \"ground_truth\")"
   ]
  },
  {
   "cell_type": "code",
   "execution_count": 2,
   "metadata": {},
   "outputs": [],
   "source": [
    "\n",
    "if not os.path.exists(new_dir):\n",
    "    os.makedirs(new_dir)\n",
    "if not os.path.exists(new_img_dir):\n",
    "    os.makedirs(new_img_dir)\n",
    "if not os.path.exists(new_img_dir + \"/train\"):\n",
    "    os.makedirs(new_img_dir + \"/train\")\n",
    "if not os.path.exists(new_img_dir + \"/test\"):\n",
    "    os.makedirs(new_img_dir + \"/test\")\n",
    "if not os.path.exists(new_img_dir + \"/valid\"):\n",
    "    os.makedirs(new_img_dir + \"/valid\")\n",
    "    \n",
    "if not os.path.exists(new_mask_dir):\n",
    "    os.makedirs(new_mask_dir)\n",
    "if not os.path.exists(new_mask_dir + \"/train\"):\n",
    "    os.makedirs(new_mask_dir + \"/train\")\n",
    "if not os.path.exists(new_mask_dir + \"/test\"):\n",
    "    os.makedirs(new_mask_dir + \"/test\")\n",
    "if not os.path.exists(new_mask_dir + \"/valid\"):\n",
    "    os.makedirs(new_mask_dir + \"/valid\")"
   ]
  },
  {
   "cell_type": "code",
   "execution_count": 4,
   "metadata": {},
   "outputs": [
    {
     "data": {
      "text/plain": [
       "580"
      ]
     },
     "execution_count": 4,
     "metadata": {},
     "output_type": "execute_result"
    }
   ],
   "source": [
    "len(os.listdir(new_img_dir + \"/train\"))"
   ]
  },
  {
   "cell_type": "code",
   "execution_count": 5,
   "metadata": {},
   "outputs": [
    {
     "name": "stdout",
     "output_type": "stream",
     "text": [
      "145 145 49 49\n"
     ]
    }
   ],
   "source": [
    "import cv2\n",
    "import numpy as np\n",
    "\n",
    "img_paths_train = os.listdir(old_img_dir + \"/train\")\n",
    "mask_paths_train = os.listdir(old_mask_dir + \"/train\")\n",
    "img_paths_test = os.listdir(old_img_dir + \"/test\")\n",
    "mask_paths_test = os.listdir(old_mask_dir + \"/test\")\n",
    "img_paths_valid = os.listdir(old_img_dir + \"/valid\")\n",
    "img_paths_valid = os.listdir(old_mask_dir + \"/valid\")\n",
    "print(len(img_paths_train), len(mask_paths_train), len(img_paths_test), len(mask_paths_test))\n",
    "num = 256\n",
    "split_height = 512//num"
   ]
  },
  {
   "cell_type": "code",
   "execution_count": 12,
   "metadata": {},
   "outputs": [
    {
     "name": "stderr",
     "output_type": "stream",
     "text": [
      "100%|██████████| 145/145 [00:26<00:00,  5.40it/s]"
     ]
    },
    {
     "name": "stdout",
     "output_type": "stream",
     "text": [
      "580\n"
     ]
    },
    {
     "name": "stderr",
     "output_type": "stream",
     "text": [
      "\n"
     ]
    }
   ],
   "source": [
    "import tqdm\n",
    "counter = 0 # for naming the new files\n",
    "for k in tqdm.tqdm(range(len(img_paths_train))):\n",
    "    fp = img_paths_train[k]\n",
    "    img = np.load(old_img_dir + \"/train/\" + fp)\n",
    "    mask = np.load(old_mask_dir + \"/train/\" + fp)\n",
    "    \n",
    "    # split the image into 16 tiles\n",
    "    for i in range(split_height):\n",
    "        for j in range(split_height):\n",
    "            img_tile = img[:, i*num:(i+1)*num, j*num:(j+1)*num]\n",
    "            mask_tile = mask[:, i*num:(i+1)*num, j*num:(j+1)*num]\n",
    "            np.save(new_img_dir + \"/train/\" + str(counter) + \".npy\", img_tile)\n",
    "            np.save(new_mask_dir + \"/train/\" + str(counter) + \".npy\", mask_tile)\n",
    "            counter += 1\n",
    "print(counter)"
   ]
  },
  {
   "cell_type": "code",
   "execution_count": 11,
   "metadata": {},
   "outputs": [
    {
     "name": "stderr",
     "output_type": "stream",
     "text": [
      "100%|██████████| 49/49 [00:08<00:00,  5.79it/s]"
     ]
    },
    {
     "name": "stdout",
     "output_type": "stream",
     "text": [
      "Done with test set, counter is 196\n"
     ]
    },
    {
     "name": "stderr",
     "output_type": "stream",
     "text": [
      "\n"
     ]
    }
   ],
   "source": [
    "# do the same for the test set\n",
    "counter = 0 # for naming the new files\n",
    "for k in tqdm.tqdm(range(len(img_paths_test))):\n",
    "    fp = img_paths_test[k]\n",
    "    img = np.load(old_img_dir + \"/test/\" + fp)\n",
    "    mask = np.load(old_mask_dir + \"/test/\" + fp)\n",
    "    \n",
    "    # split the image into 16 tiles\n",
    "    for i in range(split_height):\n",
    "        for j in range(split_height):\n",
    "            img_tile = img[:, i*num:(i+1)*num, j*num:(j+1)*num]\n",
    "            mask_tile = mask[:, i*num:(i+1)*num, j*num:(j+1)*num]\n",
    "            np.save(new_img_dir + \"/test/\" + str(counter) + \".npy\", img_tile)\n",
    "            np.save(new_mask_dir + \"/test/\" + str(counter) + \".npy\", mask_tile)\n",
    "            counter += 1\n",
    "print(\"Done with test set, counter is\", counter)"
   ]
  },
  {
   "cell_type": "code",
   "execution_count": 13,
   "metadata": {},
   "outputs": [
    {
     "name": "stderr",
     "output_type": "stream",
     "text": [
      "  4%|▍         | 2/49 [00:00<00:06,  6.82it/s]"
     ]
    },
    {
     "name": "stdout",
     "output_type": "stream",
     "text": [
      "counter: 16\n",
      "counter: 32\n"
     ]
    },
    {
     "name": "stderr",
     "output_type": "stream",
     "text": [
      "  8%|▊         | 4/49 [00:00<00:06,  6.72it/s]"
     ]
    },
    {
     "name": "stdout",
     "output_type": "stream",
     "text": [
      "counter: 48\n",
      "counter: 64\n"
     ]
    },
    {
     "name": "stderr",
     "output_type": "stream",
     "text": [
      " 12%|█▏        | 6/49 [00:00<00:06,  7.04it/s]"
     ]
    },
    {
     "name": "stdout",
     "output_type": "stream",
     "text": [
      "counter: 80\n",
      "counter: 96\n"
     ]
    },
    {
     "name": "stderr",
     "output_type": "stream",
     "text": [
      " 16%|█▋        | 8/49 [00:01<00:05,  6.87it/s]"
     ]
    },
    {
     "name": "stdout",
     "output_type": "stream",
     "text": [
      "counter: 112\n",
      "counter: 128\n"
     ]
    },
    {
     "name": "stderr",
     "output_type": "stream",
     "text": [
      " 20%|██        | 10/49 [00:01<00:05,  6.52it/s]"
     ]
    },
    {
     "name": "stdout",
     "output_type": "stream",
     "text": [
      "counter: 144\n",
      "counter: 160\n"
     ]
    },
    {
     "name": "stderr",
     "output_type": "stream",
     "text": [
      " 24%|██▍       | 12/49 [00:01<00:05,  6.49it/s]"
     ]
    },
    {
     "name": "stdout",
     "output_type": "stream",
     "text": [
      "counter: 176\n",
      "counter: 192\n"
     ]
    },
    {
     "name": "stderr",
     "output_type": "stream",
     "text": [
      " 29%|██▊       | 14/49 [00:02<00:05,  6.42it/s]"
     ]
    },
    {
     "name": "stdout",
     "output_type": "stream",
     "text": [
      "counter: 208\n",
      "counter: 224\n"
     ]
    },
    {
     "name": "stderr",
     "output_type": "stream",
     "text": [
      " 29%|██▊       | 14/49 [00:02<00:05,  6.32it/s]\n"
     ]
    },
    {
     "ename": "KeyboardInterrupt",
     "evalue": "",
     "output_type": "error",
     "traceback": [
      "\u001b[0;31m---------------------------------------------------------------------------\u001b[0m",
      "\u001b[0;31mKeyboardInterrupt\u001b[0m                         Traceback (most recent call last)",
      "Cell \u001b[0;32mIn[13], line 14\u001b[0m\n\u001b[1;32m     12\u001b[0m         mask_tile \u001b[38;5;241m=\u001b[39m mask[:, i\u001b[38;5;241m*\u001b[39mnum:(i\u001b[38;5;241m+\u001b[39m\u001b[38;5;241m1\u001b[39m)\u001b[38;5;241m*\u001b[39mnum, j\u001b[38;5;241m*\u001b[39mnum:(j\u001b[38;5;241m+\u001b[39m\u001b[38;5;241m1\u001b[39m)\u001b[38;5;241m*\u001b[39mnum]\n\u001b[1;32m     13\u001b[0m         np\u001b[38;5;241m.\u001b[39msave(new_img_dir \u001b[38;5;241m+\u001b[39m \u001b[38;5;124m\"\u001b[39m\u001b[38;5;124m/valid/\u001b[39m\u001b[38;5;124m\"\u001b[39m \u001b[38;5;241m+\u001b[39m \u001b[38;5;28mstr\u001b[39m(counter) \u001b[38;5;241m+\u001b[39m \u001b[38;5;124m\"\u001b[39m\u001b[38;5;124m.npy\u001b[39m\u001b[38;5;124m\"\u001b[39m, img_tile)\n\u001b[0;32m---> 14\u001b[0m         \u001b[43mnp\u001b[49m\u001b[38;5;241;43m.\u001b[39;49m\u001b[43msave\u001b[49m\u001b[43m(\u001b[49m\u001b[43mnew_mask_dir\u001b[49m\u001b[43m \u001b[49m\u001b[38;5;241;43m+\u001b[39;49m\u001b[43m \u001b[49m\u001b[38;5;124;43m\"\u001b[39;49m\u001b[38;5;124;43m/valid/\u001b[39;49m\u001b[38;5;124;43m\"\u001b[39;49m\u001b[43m \u001b[49m\u001b[38;5;241;43m+\u001b[39;49m\u001b[43m \u001b[49m\u001b[38;5;28;43mstr\u001b[39;49m\u001b[43m(\u001b[49m\u001b[43mcounter\u001b[49m\u001b[43m)\u001b[49m\u001b[43m \u001b[49m\u001b[38;5;241;43m+\u001b[39;49m\u001b[43m \u001b[49m\u001b[38;5;124;43m\"\u001b[39;49m\u001b[38;5;124;43m.npy\u001b[39;49m\u001b[38;5;124;43m\"\u001b[39;49m\u001b[43m,\u001b[49m\u001b[43m \u001b[49m\u001b[43mmask_tile\u001b[49m\u001b[43m)\u001b[49m\n\u001b[1;32m     15\u001b[0m         counter \u001b[38;5;241m+\u001b[39m\u001b[38;5;241m=\u001b[39m \u001b[38;5;241m1\u001b[39m\n\u001b[1;32m     16\u001b[0m \u001b[38;5;28mprint\u001b[39m(\u001b[38;5;124m\"\u001b[39m\u001b[38;5;124mcounter:\u001b[39m\u001b[38;5;124m\"\u001b[39m, counter)\n",
      "File \u001b[0;32m~/Documents/code/gapjncsegmentation/gapvenv/lib/python3.9/site-packages/numpy/lib/npyio.py:546\u001b[0m, in \u001b[0;36msave\u001b[0;34m(file, arr, allow_pickle, fix_imports)\u001b[0m\n\u001b[1;32m    544\u001b[0m \u001b[38;5;28;01mwith\u001b[39;00m file_ctx \u001b[38;5;28;01mas\u001b[39;00m fid:\n\u001b[1;32m    545\u001b[0m     arr \u001b[38;5;241m=\u001b[39m np\u001b[38;5;241m.\u001b[39masanyarray(arr)\n\u001b[0;32m--> 546\u001b[0m     \u001b[38;5;28;43mformat\u001b[39;49m\u001b[38;5;241;43m.\u001b[39;49m\u001b[43mwrite_array\u001b[49m\u001b[43m(\u001b[49m\u001b[43mfid\u001b[49m\u001b[43m,\u001b[49m\u001b[43m \u001b[49m\u001b[43marr\u001b[49m\u001b[43m,\u001b[49m\u001b[43m \u001b[49m\u001b[43mallow_pickle\u001b[49m\u001b[38;5;241;43m=\u001b[39;49m\u001b[43mallow_pickle\u001b[49m\u001b[43m,\u001b[49m\n\u001b[1;32m    547\u001b[0m \u001b[43m                       \u001b[49m\u001b[43mpickle_kwargs\u001b[49m\u001b[38;5;241;43m=\u001b[39;49m\u001b[38;5;28;43mdict\u001b[39;49m\u001b[43m(\u001b[49m\u001b[43mfix_imports\u001b[49m\u001b[38;5;241;43m=\u001b[39;49m\u001b[43mfix_imports\u001b[49m\u001b[43m)\u001b[49m\u001b[43m)\u001b[49m\n",
      "File \u001b[0;32m~/Documents/code/gapjncsegmentation/gapvenv/lib/python3.9/site-packages/numpy/lib/format.py:730\u001b[0m, in \u001b[0;36mwrite_array\u001b[0;34m(fp, array, version, allow_pickle, pickle_kwargs)\u001b[0m\n\u001b[1;32m    728\u001b[0m \u001b[38;5;28;01melse\u001b[39;00m:\n\u001b[1;32m    729\u001b[0m     \u001b[38;5;28;01mif\u001b[39;00m isfileobj(fp):\n\u001b[0;32m--> 730\u001b[0m         \u001b[43marray\u001b[49m\u001b[38;5;241;43m.\u001b[39;49m\u001b[43mtofile\u001b[49m\u001b[43m(\u001b[49m\u001b[43mfp\u001b[49m\u001b[43m)\u001b[49m\n\u001b[1;32m    731\u001b[0m     \u001b[38;5;28;01melse\u001b[39;00m:\n\u001b[1;32m    732\u001b[0m         \u001b[38;5;28;01mfor\u001b[39;00m chunk \u001b[38;5;129;01min\u001b[39;00m numpy\u001b[38;5;241m.\u001b[39mnditer(\n\u001b[1;32m    733\u001b[0m                 array, flags\u001b[38;5;241m=\u001b[39m[\u001b[38;5;124m'\u001b[39m\u001b[38;5;124mexternal_loop\u001b[39m\u001b[38;5;124m'\u001b[39m, \u001b[38;5;124m'\u001b[39m\u001b[38;5;124mbuffered\u001b[39m\u001b[38;5;124m'\u001b[39m, \u001b[38;5;124m'\u001b[39m\u001b[38;5;124mzerosize_ok\u001b[39m\u001b[38;5;124m'\u001b[39m],\n\u001b[1;32m    734\u001b[0m                 buffersize\u001b[38;5;241m=\u001b[39mbuffersize, order\u001b[38;5;241m=\u001b[39m\u001b[38;5;124m'\u001b[39m\u001b[38;5;124mC\u001b[39m\u001b[38;5;124m'\u001b[39m):\n",
      "\u001b[0;31mKeyboardInterrupt\u001b[0m: "
     ]
    }
   ],
   "source": [
    "# repeat for the validation set\n",
    "counter = 0 # for naming the new files\n",
    "for k in tqdm.tqdm(range(len(img_paths_valid))):\n",
    "    fp = img_paths_valid[k]\n",
    "    img = np.load(old_img_dir + \"/valid/\" + fp)\n",
    "    mask = np.load(old_mask_dir + \"/valid/\" + fp)\n",
    "    \n",
    "    # split the image into 16 tiles\n",
    "    for i in range(split_height):\n",
    "        for j in range(split_height):\n",
    "            img_tile = img[:, i*num:(i+1)*num, j*num:(j+1)*num]\n",
    "            mask_tile = mask[:, i*num:(i+1)*num, j*num:(j+1)*num]\n",
    "            np.save(new_img_dir + \"/valid/\" + str(counter) + \".npy\", img_tile)\n",
    "            np.save(new_mask_dir + \"/valid/\" + str(counter) + \".npy\", mask_tile)\n",
    "            counter += 1\n",
    "print(\"counter:\", counter)"
   ]
  },
  {
   "cell_type": "code",
   "execution_count": null,
   "metadata": {},
   "outputs": [],
   "source": []
  },
  {
   "cell_type": "code",
   "execution_count": null,
   "metadata": {},
   "outputs": [],
   "source": []
  }
 ],
 "metadata": {
  "kernelspec": {
   "display_name": "gapvenv",
   "language": "python",
   "name": "python3"
  },
  "language_info": {
   "codemirror_mode": {
    "name": "ipython",
    "version": 3
   },
   "file_extension": ".py",
   "mimetype": "text/x-python",
   "name": "python",
   "nbconvert_exporter": "python",
   "pygments_lexer": "ipython3",
   "version": "3.9.6"
  }
 },
 "nbformat": 4,
 "nbformat_minor": 2
}
