{
 "cells": [
  {
   "cell_type": "code",
<<<<<<< HEAD
   "execution_count": 6,
=======
   "execution_count": 31,
>>>>>>> refs/remotes/origin/dense-cell
   "metadata": {},
   "outputs": [
    {
     "data": {
      "text/plain": [
       "' Section one 512 x 512 image into sixteen 128 x 128 tiles.'"
      ]
     },
<<<<<<< HEAD
     "execution_count": 6,
=======
     "execution_count": 31,
>>>>>>> refs/remotes/origin/dense-cell
     "metadata": {},
     "output_type": "execute_result"
    }
   ],
   "source": [
    "\"\"\" Section one 512 x 512 image into sixteen 128 x 128 tiles.\"\"\""
   ]
  },
  {
   "cell_type": "code",
<<<<<<< HEAD
   "execution_count": 1,
=======
   "execution_count": 32,
>>>>>>> refs/remotes/origin/dense-cell
   "metadata": {},
   "outputs": [],
   "source": [
    "import os\n",
    "# directory with the original images (full size)\n",
    "old_dir = \"small_data_3d\"\n",
    "old_img_dir = os.path.join(old_dir, \"original\")\n",
    "old_mask_dir = os.path.join(old_dir, \"ground_truth\")\n",
    "# directory to save the new images (small size)\n",
<<<<<<< HEAD
    "new_dir = \"tiniest_data\"\n",
=======
    "new_dir = \"tiniest_data_64\"\n",
>>>>>>> refs/remotes/origin/dense-cell
    "new_img_dir = os.path.join(new_dir, \"original\")\n",
    "new_mask_dir = os.path.join(new_dir, \"ground_truth\")"
   ]
  },
  {
   "cell_type": "code",
<<<<<<< HEAD
   "execution_count": 2,
=======
   "execution_count": 33,
>>>>>>> refs/remotes/origin/dense-cell
   "metadata": {},
   "outputs": [],
   "source": [
    "# Create new directories as needed\n",
    "if not os.path.exists(new_dir):\n",
    "    os.makedirs(new_dir)\n",
    "if not os.path.exists(new_img_dir):\n",
    "    os.makedirs(new_img_dir)\n",
    "if not os.path.exists(new_img_dir + \"/train\"):\n",
    "    os.makedirs(new_img_dir + \"/train\")\n",
    "if not os.path.exists(new_img_dir + \"/test\"):\n",
    "    os.makedirs(new_img_dir + \"/test\")\n",
    "if not os.path.exists(new_img_dir + \"/valid\"):\n",
    "    os.makedirs(new_img_dir + \"/valid\")\n",
    "    \n",
    "if not os.path.exists(new_mask_dir):\n",
    "    os.makedirs(new_mask_dir)\n",
    "if not os.path.exists(new_mask_dir + \"/train\"):\n",
    "    os.makedirs(new_mask_dir + \"/train\")\n",
    "if not os.path.exists(new_mask_dir + \"/test\"):\n",
    "    os.makedirs(new_mask_dir + \"/test\")\n",
    "if not os.path.exists(new_mask_dir + \"/valid\"):\n",
    "    os.makedirs(new_mask_dir + \"/valid\")"
   ]
  },
  {
   "cell_type": "code",
<<<<<<< HEAD
   "execution_count": 7,
   "metadata": {},
   "outputs": [
    {
     "data": {
      "text/plain": [
       "(5, 64, 64)"
      ]
     },
     "execution_count": 7,
     "metadata": {},
     "output_type": "execute_result"
    }
   ],
   "source": [
    "import numpy as np\n",
    "fp = \"/Users/huayinluo/Documents/code/gapjncsegmentation/tiniest_data/original/train/1.npy\"\n",
    "tmp = np.load(fp)\n",
    "tmp.shape"
=======
   "execution_count": 34,
   "metadata": {},
   "outputs": [],
   "source": [
    "# import numpy as np\n",
    "# fp = \"/Users/huayinluo/Documents/code/gapjncsegmentation/data/tiny_data_64/original/train/1.npy\"\n",
    "# tmp = np.load(fp)\n",
    "# tmp.shape"
>>>>>>> refs/remotes/origin/dense-cell
   ]
  },
  {
   "cell_type": "code",
<<<<<<< HEAD
   "execution_count": 5,
=======
   "execution_count": 35,
>>>>>>> refs/remotes/origin/dense-cell
   "metadata": {},
   "outputs": [
    {
     "name": "stdout",
     "output_type": "stream",
     "text": [
      "145 145 49 49\n"
     ]
    }
   ],
   "source": [
    "import cv2\n",
    "import numpy as np\n",
    "\n",
    "img_paths_train = os.listdir(old_img_dir + \"/train\")\n",
    "mask_paths_train = os.listdir(old_mask_dir + \"/train\")\n",
    "img_paths_test = os.listdir(old_img_dir + \"/test\")\n",
    "mask_paths_test = os.listdir(old_mask_dir + \"/test\")\n",
    "img_paths_valid = os.listdir(old_img_dir + \"/valid\")\n",
    "img_paths_valid = os.listdir(old_mask_dir + \"/valid\")\n",
    "\n",
    "print(len(img_paths_train), len(mask_paths_train), len(img_paths_test), len(mask_paths_test))\n",
<<<<<<< HEAD
    "num = 256 # size of the new images\n",
    "split_height = 512//num # number of tiles in height"
=======
    "num = 64 # size of the new images\n",
    "# split_height = 512//num # number of tiles in height\n",
    "split_height = 2 # for tiniest data only"
>>>>>>> refs/remotes/origin/dense-cell
   ]
  },
  {
   "cell_type": "code",
<<<<<<< HEAD
   "execution_count": 12,
=======
   "execution_count": 36,
>>>>>>> refs/remotes/origin/dense-cell
   "metadata": {},
   "outputs": [
    {
     "name": "stderr",
     "output_type": "stream",
     "text": [
<<<<<<< HEAD
      "100%|██████████| 145/145 [00:26<00:00,  5.40it/s]"
=======
      "100%|██████████| 4/4 [00:00<00:00, 90.42it/s]"
>>>>>>> refs/remotes/origin/dense-cell
     ]
    },
    {
     "name": "stdout",
     "output_type": "stream",
     "text": [
<<<<<<< HEAD
      "580\n"
=======
      "16\n"
>>>>>>> refs/remotes/origin/dense-cell
     ]
    },
    {
     "name": "stderr",
     "output_type": "stream",
     "text": [
      "\n"
     ]
    }
   ],
   "source": [
    "import tqdm\n",
    "counter = 0 # for naming the new files\n",
<<<<<<< HEAD
    "for k in tqdm.tqdm(range(len(img_paths_train))):\n",
=======
    "num_imgs = len(img_paths_train)\n",
    "num_imgs = 4\n",
    "for k in tqdm.tqdm(range(num_imgs)):\n",
>>>>>>> refs/remotes/origin/dense-cell
    "    fp = img_paths_train[k]\n",
    "    img = np.load(old_img_dir + \"/train/\" + fp)\n",
    "    mask = np.load(old_mask_dir + \"/train/\" + fp)\n",
    "    \n",
    "    # split the image into 16 tiles\n",
    "    for i in range(split_height):\n",
    "        for j in range(split_height):\n",
    "            img_tile = img[:, i*num:(i+1)*num, j*num:(j+1)*num]\n",
    "            mask_tile = mask[:, i*num:(i+1)*num, j*num:(j+1)*num]\n",
    "            np.save(new_img_dir + \"/train/\" + str(counter) + \".npy\", img_tile)\n",
    "            np.save(new_mask_dir + \"/train/\" + str(counter) + \".npy\", mask_tile)\n",
    "            counter += 1\n",
    "print(counter)"
   ]
  },
  {
   "cell_type": "code",
<<<<<<< HEAD
   "execution_count": 11,
=======
   "execution_count": 37,
>>>>>>> refs/remotes/origin/dense-cell
   "metadata": {},
   "outputs": [
    {
     "name": "stderr",
     "output_type": "stream",
     "text": [
<<<<<<< HEAD
      "100%|██████████| 49/49 [00:08<00:00,  5.79it/s]"
=======
      "100%|██████████| 2/2 [00:00<00:00, 91.62it/s]"
>>>>>>> refs/remotes/origin/dense-cell
     ]
    },
    {
     "name": "stdout",
     "output_type": "stream",
     "text": [
<<<<<<< HEAD
      "Done with test set, counter is 196\n"
=======
      "Done with test set, counter is 8\n"
>>>>>>> refs/remotes/origin/dense-cell
     ]
    },
    {
     "name": "stderr",
     "output_type": "stream",
     "text": [
      "\n"
     ]
    }
   ],
   "source": [
    "# do the same for the test set\n",
    "counter = 0 # for naming the new files\n",
<<<<<<< HEAD
    "for k in tqdm.tqdm(range(len(img_paths_test))):\n",
=======
    "num_imgs = len(img_paths_test)\n",
    "num_imgs = 2\n",
    "for k in tqdm.tqdm(range(num_imgs)):\n",
>>>>>>> refs/remotes/origin/dense-cell
    "    fp = img_paths_test[k]\n",
    "    img = np.load(old_img_dir + \"/test/\" + fp)\n",
    "    mask = np.load(old_mask_dir + \"/test/\" + fp)\n",
    "    \n",
    "    # split the image into 16 tiles\n",
    "    for i in range(split_height):\n",
    "        for j in range(split_height):\n",
    "            img_tile = img[:, i*num:(i+1)*num, j*num:(j+1)*num]\n",
    "            mask_tile = mask[:, i*num:(i+1)*num, j*num:(j+1)*num]\n",
    "            np.save(new_img_dir + \"/test/\" + str(counter) + \".npy\", img_tile)\n",
    "            np.save(new_mask_dir + \"/test/\" + str(counter) + \".npy\", mask_tile)\n",
    "            counter += 1\n",
    "print(\"Done with test set, counter is\", counter)"
   ]
  },
  {
   "cell_type": "code",
<<<<<<< HEAD
   "execution_count": 14,
=======
   "execution_count": 38,
>>>>>>> refs/remotes/origin/dense-cell
   "metadata": {},
   "outputs": [
    {
     "name": "stderr",
     "output_type": "stream",
     "text": [
<<<<<<< HEAD
      "100%|██████████| 49/49 [00:08<00:00,  5.65it/s]"
=======
      "100%|██████████| 2/2 [00:00<00:00, 94.89it/s]"
>>>>>>> refs/remotes/origin/dense-cell
     ]
    },
    {
     "name": "stdout",
     "output_type": "stream",
     "text": [
<<<<<<< HEAD
      "counter: 196\n"
=======
      "counter: 8\n"
>>>>>>> refs/remotes/origin/dense-cell
     ]
    },
    {
     "name": "stderr",
     "output_type": "stream",
     "text": [
      "\n"
     ]
    }
   ],
   "source": [
    "# repeat for the validation set\n",
    "counter = 0 # for naming the new files\n",
<<<<<<< HEAD
    "for k in tqdm.tqdm(range(len(img_paths_valid))):\n",
=======
    "num_imgs = len(img_paths_valid)\n",
    "num_imgs = 2\n",
    "for k in tqdm.tqdm(range(num_imgs)):\n",
>>>>>>> refs/remotes/origin/dense-cell
    "    fp = img_paths_valid[k]\n",
    "    img = np.load(old_img_dir + \"/valid/\" + fp)\n",
    "    mask = np.load(old_mask_dir + \"/valid/\" + fp)\n",
    "    \n",
    "    # split the image into 16 tiles\n",
    "    for i in range(split_height):\n",
    "        for j in range(split_height):\n",
    "            img_tile = img[:, i*num:(i+1)*num, j*num:(j+1)*num]\n",
    "            mask_tile = mask[:, i*num:(i+1)*num, j*num:(j+1)*num]\n",
    "            np.save(new_img_dir + \"/valid/\" + str(counter) + \".npy\", img_tile)\n",
    "            np.save(new_mask_dir + \"/valid/\" + str(counter) + \".npy\", mask_tile)\n",
    "            counter += 1\n",
    "print(\"counter:\", counter)"
   ]
  },
  {
   "cell_type": "code",
   "execution_count": null,
   "metadata": {},
   "outputs": [],
   "source": []
  },
  {
   "cell_type": "code",
   "execution_count": null,
   "metadata": {},
   "outputs": [],
   "source": []
  }
 ],
 "metadata": {
  "kernelspec": {
   "display_name": "gapvenv",
   "language": "python",
   "name": "python3"
  },
  "language_info": {
   "codemirror_mode": {
    "name": "ipython",
    "version": 3
   },
   "file_extension": ".py",
   "mimetype": "text/x-python",
   "name": "python",
   "nbconvert_exporter": "python",
   "pygments_lexer": "ipython3",
   "version": "3.9.6"
  }
 },
 "nbformat": 4,
 "nbformat_minor": 2
}
